{
 "cells": [
  {
   "cell_type": "code",
   "execution_count": 10,
   "id": "c31124c4",
   "metadata": {},
   "outputs": [],
   "source": [
    "import glob\n",
    "import random\n",
    "import subprocess\n",
    "\n",
    "import matplotlib.pyplot as plt\n",
    "import numpy as np\n",
    "import pandas as pd\n",
    "import seaborn as sns\n",
    "import tqdm\n",
    "from rdkit import Chem, SimDivFilters\n",
    "from rdkit.Chem import AllChem, DataStructs, Draw\n",
    "from sklearn import metrics\n",
    "from sklearn.metrics import auc, precision_recall_curve, roc_auc_score"
   ]
  },
  {
   "cell_type": "markdown",
   "id": "a32a0cdf",
   "metadata": {},
   "source": [
    "# First collect the data we'll be working with and validation sets"
   ]
  },
  {
   "cell_type": "code",
   "execution_count": 3,
   "id": "6256f4dd",
   "metadata": {},
   "outputs": [
    {
     "data": {
      "text/html": [
       "<div>\n",
       "<style scoped>\n",
       "    .dataframe tbody tr th:only-of-type {\n",
       "        vertical-align: middle;\n",
       "    }\n",
       "\n",
       "    .dataframe tbody tr th {\n",
       "        vertical-align: top;\n",
       "    }\n",
       "\n",
       "    .dataframe thead th {\n",
       "        text-align: right;\n",
       "    }\n",
       "</style>\n",
       "<table border=\"1\" class=\"dataframe\">\n",
       "  <thead>\n",
       "    <tr style=\"text-align: right;\">\n",
       "      <th></th>\n",
       "      <th>Name</th>\n",
       "      <th>SMILES</th>\n",
       "      <th>hit</th>\n",
       "    </tr>\n",
       "  </thead>\n",
       "  <tbody>\n",
       "    <tr>\n",
       "      <th>0</th>\n",
       "      <td>BRD-K93123848</td>\n",
       "      <td>Cn1c(nc2cc(ccc12)Oc1ccnc(c1)-c1ncc([nH]1)C(F)(...</td>\n",
       "      <td>1.0</td>\n",
       "    </tr>\n",
       "    <tr>\n",
       "      <th>1</th>\n",
       "      <td>BRD-K30309936</td>\n",
       "      <td>C[C@H]1CCCCO[C@H](CN(C)Cc2ccc(cc2)C(F)(F)F)[C@...</td>\n",
       "      <td>1.0</td>\n",
       "    </tr>\n",
       "    <tr>\n",
       "      <th>2</th>\n",
       "      <td>TRIMETHADIONE</td>\n",
       "      <td>CN1C(=O)OC(C)(C)C1=O</td>\n",
       "      <td>1.0</td>\n",
       "    </tr>\n",
       "    <tr>\n",
       "      <th>3</th>\n",
       "      <td>BRD-K76424103</td>\n",
       "      <td>C[C@]1([C@@H](N(Cc2ccccc2)C(=O)c2ccccc21)c1ccc...</td>\n",
       "      <td>1.0</td>\n",
       "    </tr>\n",
       "    <tr>\n",
       "      <th>4</th>\n",
       "      <td>BRD-K65130196</td>\n",
       "      <td>CC(C)(C)NCCCCOc1ccc(cc1C(C)(C)C)Cl</td>\n",
       "      <td>1.0</td>\n",
       "    </tr>\n",
       "    <tr>\n",
       "      <th>...</th>\n",
       "      <td>...</td>\n",
       "      <td>...</td>\n",
       "      <td>...</td>\n",
       "    </tr>\n",
       "    <tr>\n",
       "      <th>30962</th>\n",
       "      <td>BRD-K24978625</td>\n",
       "      <td>N[C@@H]1CC[C@@H](CCn2cc(nn2)C2CCCCC2)O[C@H]1CO</td>\n",
       "      <td>0.0</td>\n",
       "    </tr>\n",
       "    <tr>\n",
       "      <th>30963</th>\n",
       "      <td>BRD-K16976282</td>\n",
       "      <td>C[C@H]1CCCCO[C@H](CN(C)S(=O)(=O)C)[C@@H](C)CN(...</td>\n",
       "      <td>0.0</td>\n",
       "    </tr>\n",
       "    <tr>\n",
       "      <th>30964</th>\n",
       "      <td>BRD-K53638538</td>\n",
       "      <td>O[C@@H]1CCCC[C@H]1O</td>\n",
       "      <td>0.0</td>\n",
       "    </tr>\n",
       "    <tr>\n",
       "      <th>30965</th>\n",
       "      <td>BRD-K77119472</td>\n",
       "      <td>CO[C@@H]1CN(C)C(=O)c2cc(ccc2OC[C@H](C)N(C[C@@H...</td>\n",
       "      <td>0.0</td>\n",
       "    </tr>\n",
       "    <tr>\n",
       "      <th>30966</th>\n",
       "      <td>BRD-K65833888</td>\n",
       "      <td>C[C@@H]1CN([C@H](C)CO)C(=O)Cc2cc(ccc2O[C@H]1CN...</td>\n",
       "      <td>0.0</td>\n",
       "    </tr>\n",
       "  </tbody>\n",
       "</table>\n",
       "<p>30967 rows × 3 columns</p>\n",
       "</div>"
      ],
      "text/plain": [
       "                Name                                             SMILES  hit\n",
       "0      BRD-K93123848  Cn1c(nc2cc(ccc12)Oc1ccnc(c1)-c1ncc([nH]1)C(F)(...  1.0\n",
       "1      BRD-K30309936  C[C@H]1CCCCO[C@H](CN(C)Cc2ccc(cc2)C(F)(F)F)[C@...  1.0\n",
       "2      TRIMETHADIONE                               CN1C(=O)OC(C)(C)C1=O  1.0\n",
       "3      BRD-K76424103  C[C@]1([C@@H](N(Cc2ccccc2)C(=O)c2ccccc21)c1ccc...  1.0\n",
       "4      BRD-K65130196                 CC(C)(C)NCCCCOc1ccc(cc1C(C)(C)C)Cl  1.0\n",
       "...              ...                                                ...  ...\n",
       "30962  BRD-K24978625     N[C@@H]1CC[C@@H](CCn2cc(nn2)C2CCCCC2)O[C@H]1CO  0.0\n",
       "30963  BRD-K16976282  C[C@H]1CCCCO[C@H](CN(C)S(=O)(=O)C)[C@@H](C)CN(...  0.0\n",
       "30964  BRD-K53638538                                O[C@@H]1CCCC[C@H]1O  0.0\n",
       "30965  BRD-K77119472  CO[C@@H]1CN(C)C(=O)c2cc(ccc2OC[C@H](C)N(C[C@@H...  0.0\n",
       "30966  BRD-K65833888  C[C@@H]1CN([C@H](C)CO)C(=O)Cc2cc(ccc2O[C@H]1CN...  0.0\n",
       "\n",
       "[30967 rows x 3 columns]"
      ]
     },
     "execution_count": 3,
     "metadata": {},
     "output_type": "execute_result"
    }
   ],
   "source": [
    "# lets use the 37K+PK data as our training data\n",
    "df = pd.read_csv(\"../data/data_prep_for_ml/data_prep_for_ml_pk_37k_screen/TRAIN_03_19_2022.csv\")\n",
    "\n",
    "# we'll hold out a random set from here for testing - 20% test set will be sufficient since it is random and class balanced\n",
    "# so for testing, use '../data/TEST_03_19_2022.csv'\n",
    "\n",
    "# we'll also test on all the validation molecules we have predicted on since their scaffolds are quite different- easy,med,hard,molport\n",
    "# so for testing, use '../data/cleaned_easy_med_hard_val_sets_800k_10_03_2022.csv'\n",
    "df"
   ]
  },
  {
   "cell_type": "markdown",
   "id": "f64436a6",
   "metadata": {},
   "source": [
    "# Let's split into sets where we have different proportions of positive:negative data"
   ]
  },
  {
   "cell_type": "code",
   "execution_count": 6,
   "id": "c69c1b8e",
   "metadata": {},
   "outputs": [
    {
     "name": "stdout",
     "output_type": "stream",
     "text": [
      "num pos:  1017.0\n",
      "number of neg to test: [508, 1017, 2034, 4068, 8136, 16272, 29950]\n"
     ]
    },
    {
     "name": "stderr",
     "output_type": "stream",
     "text": [
      "100%|███████████████████████████████████| 29950/29950 [00:04<00:00, 6375.54it/s]\n"
     ]
    },
    {
     "name": "stdout",
     "output_type": "stream",
     "text": [
      "testing negative of #: 508\n"
     ]
    },
    {
     "data": {
      "image/png": "[encoded data removed]",
      "text/plain": [
       "<Figure size 432x288 with 1 Axes>"
      ]
     },
     "metadata": {
      "needs_background": "light"
     },
     "output_type": "display_data"
    },
    {
     "name": "stdout",
     "output_type": "stream",
     "text": [
      "testing negative of #: 1017\n"
     ]
    },
    {
     "data": {
      "image/png": "[encoded data removed]",
      "text/plain": [
       "<Figure size 432x288 with 1 Axes>"
      ]
     },
     "metadata": {
      "needs_background": "light"
     },
     "output_type": "display_data"
    },
    {
     "name": "stdout",
     "output_type": "stream",
     "text": [
      "testing negative of #: 2034\n"
     ]
    },
    {
     "data": {
      "image/png": "[encoded data removed]",
      "text/plain": [
       "<Figure size 432x288 with 1 Axes>"
      ]
     },
     "metadata": {
      "needs_background": "light"
     },
     "output_type": "display_data"
    },
    {
     "name": "stdout",
     "output_type": "stream",
     "text": [
      "testing negative of #: 4068\n"
     ]
    },
    {
     "data": {
      "image/png": "[encoded data removed]",
      "text/plain": [
       "<Figure size 432x288 with 1 Axes>"
      ]
     },
     "metadata": {
      "needs_background": "light"
     },
     "output_type": "display_data"
    },
    {
     "name": "stdout",
     "output_type": "stream",
     "text": [
      "testing negative of #: 8136\n"
     ]
    },
    {
     "data": {
      "image/png": "[encoded data removed]",
      "text/plain": [
       "<Figure size 432x288 with 1 Axes>"
      ]
     },
     "metadata": {
      "needs_background": "light"
     },
     "output_type": "display_data"
    },
    {
     "name": "stdout",
     "output_type": "stream",
     "text": [
      "testing negative of #: 16272\n"
     ]
    },
    {
     "data": {
      "image/png": "[encoded data removed]",
      "text/plain": [
       "<Figure size 432x288 with 1 Axes>"
      ]
     },
     "metadata": {
      "needs_background": "light"
     },
     "output_type": "display_data"
    },
    {
     "name": "stdout",
     "output_type": "stream",
     "text": [
      "testing negative of #: 29950\n"
     ]
    }
   ],
   "source": [
    "pos = sum(df[\"hit\"])\n",
    "print(\"num pos: \", pos)\n",
    "\n",
    "num_neg = [pos / 2, pos, pos * 2, pos * 4, pos * 8, pos * 16, len(df) - pos]\n",
    "num_neg = [int(x) for x in num_neg]\n",
    "print(\"number of neg to test:\", num_neg)\n",
    "\n",
    "out_dir = \"../out/experiment_to_test_different_negative_datasets/\"\n",
    "\n",
    "# preprocess some pos and neg dfs and fp lists for later processing\n",
    "negative_options = df[df[\"hit\"] == 0.0]\n",
    "positive_options = df[df[\"hit\"] == 1.0]\n",
    "\n",
    "all_neg_fps = [Chem.RDKFingerprint(Chem.MolFromSmiles(smi)) for smi in list(negative_options[\"SMILES\"])]\n",
    "all_pos_fps = [Chem.RDKFingerprint(Chem.MolFromSmiles(smi)) for smi in list(positive_options[\"SMILES\"])]\n",
    "\n",
    "# preprocess sorted indices for second method of selection (most similar to positive)\n",
    "tan_sims_from_all_neg_to_pos = [\n",
    "    max(DataStructs.BulkTanimotoSimilarity(query_fp, all_pos_fps)) for query_fp in tqdm.tqdm(all_neg_fps)\n",
    "]\n",
    "sorted_indices_most_similar = np.argsort(\n",
    "    [1.0 - x for x in tan_sims_from_all_neg_to_pos]\n",
    ")  # subtract from 1 so we argsort in most similar to least similar\n",
    "\n",
    "\n",
    "for i in num_neg:\n",
    "    print(\"testing negative of #: \" + str(i))\n",
    "\n",
    "    # build negative sets in different ways\n",
    "    #### First way: random!\n",
    "    rand_neg = negative_options.sample(n=i, replace=False)\n",
    "    rand = pd.concat([rand_neg, positive_options]).sample(frac=1)  # add to pos and shuffle\n",
    "    rand.to_csv(out_dir + \"random_N=\" + str(i) + \".csv\", index=False)\n",
    "\n",
    "    if i == len(df) - pos:\n",
    "        break  # no need to compute multiple sets for the largest\n",
    "\n",
    "    #### Second way: most similar to positive\n",
    "    set_of_sorted_similar_indices = sorted_indices_most_similar[0:i]\n",
    "    similar_neg = negative_options.iloc[set_of_sorted_similar_indices, :]\n",
    "    similar = pd.concat([similar_neg, positive_options]).sample(frac=1)  # add to pos and shuffle\n",
    "    similar.to_csv(out_dir + \"similar_N=\" + str(i) + \".csv\", index=False)\n",
    "\n",
    "    # for proof that it's kinda random:\n",
    "    dist_hist = []\n",
    "    for i in range(len(set_of_sorted_similar_indices)):\n",
    "        for j in range(i + 1, len(set_of_sorted_similar_indices)):\n",
    "            dist_hist.append(\n",
    "                DataStructs.TanimotoSimilarity(\n",
    "                    all_neg_fps[set_of_sorted_similar_indices[i]],\n",
    "                    all_neg_fps[set_of_sorted_similar_indices[j]],\n",
    "                )\n",
    "            )\n",
    "    plt.hist(dist_hist, label=\"random\")\n",
    "\n",
    "    #### Third way: most diverse - use  MaxMin algorithm (Ashton, M. et. al., Quant. Struct.-Act. Relat., 21 (2002), 598-604).\n",
    "    #### http://rdkit.blogspot.com/2014/08/picking-diverse-compounds-from-large.html\n",
    "    #### takes a ton of time for larger Ns\n",
    "    mmp = SimDivFilters.MaxMinPicker()\n",
    "    diverse_indices = mmp.LazyBitVectorPick(all_neg_fps, len(all_neg_fps), i)\n",
    "    diverse_neg = negative_options.iloc[diverse_indices, :]\n",
    "    diverse = pd.concat([diverse_neg, positive_options]).sample(frac=1)  # add to pos and shuffle\n",
    "    diverse.to_csv(out_dir + \"diverse_N=\" + str(i) + \".csv\", index=False)\n",
    "\n",
    "    # for proof that it's diverse:\n",
    "    dist_hist = []\n",
    "    for i in range(len(diverse_indices)):\n",
    "        for j in range(i + 1, len(diverse_indices)):\n",
    "            dist_hist.append(\n",
    "                DataStructs.TanimotoSimilarity(all_neg_fps[diverse_indices[i]], all_neg_fps[diverse_indices[j]])\n",
    "            )\n",
    "    plt.hist(dist_hist, label=\"diverse\")\n",
    "    plt.legend()\n",
    "    plt.show()"
   ]
  },
  {
   "cell_type": "markdown",
   "id": "977c2522",
   "metadata": {},
   "source": [
    "# Prep script to train models on these different datasets"
   ]
  },
  {
   "cell_type": "code",
   "execution_count": 7,
   "id": "16daffa8",
   "metadata": {},
   "outputs": [],
   "source": [
    "bash_dir = \"experiment_to_test_diff_neg_datasets_train_models.sh\"\n",
    "for i in num_neg:\n",
    "    for j in [\"random\", \"similar\", \"diverse\"]:\n",
    "        if i == len(df) - pos and j != \"random\":\n",
    "            continue\n",
    "        clean_name = j + \"_N=\" + str(i)\n",
    "        fold = \"models/experiment_with_diff_neg_datasets/\" + clean_name + \"/\"\n",
    "        mk_folder_command = \"mkdir \" + fold\n",
    "        train_command = (\n",
    "            \"chemprop_train --dropout 0.1 --hidden_size 500 --ffn_num_layers 2 --depth 3 --metric prc-auc --extra_metrics auc --save_dir \"\n",
    "            + fold\n",
    "            + \" --data_path out/experiment_to_test_different_negative_datasets/\"\n",
    "            + clean_name\n",
    "            + \".csv --dataset_type classification --features_generator rdkit_2d_normalized --no_features_scaling --num_folds 5 --ensemble_size 2 --split_type scaffold_balanced --split_sizes 0.8 0.1 0.1 --smiles_columns SMILES --target_columns hit --gpu 0\"\n",
    "        )\n",
    "\n",
    "        file1 = open(bash_dir, \"a\")\n",
    "        file1.write(mk_folder_command + \"; \" + train_command)\n",
    "        file1.write(\"\\n\")\n",
    "        file1.close()"
   ]
  },
  {
   "cell_type": "markdown",
   "id": "81f2adf7",
   "metadata": {},
   "source": [
    "# Use different neg dataset models to predict on 20% random test set + external val set"
   ]
  },
  {
   "cell_type": "code",
   "execution_count": 19,
   "id": "purple-finnish",
   "metadata": {
    "scrolled": false
   },
   "outputs": [
    {
     "name": "stdout",
     "output_type": "stream",
     "text": [
      "similar_N=508 TEST_03_19_2022.csv\n",
      "diverse_N=508 cleaned_easy_med_hard_val_sets_800k_10_03_2022.csv\n",
      "diverse_N=508 TEST_03_19_2022.csv\n",
      "random_N=1017 cleaned_easy_med_hard_val_sets_800k_10_03_2022.csv\n",
      "random_N=1017 TEST_03_19_2022.csv\n",
      "similar_N=1017 cleaned_easy_med_hard_val_sets_800k_10_03_2022.csv\n",
      "similar_N=1017 TEST_03_19_2022.csv\n",
      "diverse_N=1017 cleaned_easy_med_hard_val_sets_800k_10_03_2022.csv\n",
      "diverse_N=1017 TEST_03_19_2022.csv\n",
      "random_N=2034 cleaned_easy_med_hard_val_sets_800k_10_03_2022.csv\n",
      "random_N=2034 TEST_03_19_2022.csv\n",
      "similar_N=2034 cleaned_easy_med_hard_val_sets_800k_10_03_2022.csv\n",
      "similar_N=2034 TEST_03_19_2022.csv\n",
      "diverse_N=2034 cleaned_easy_med_hard_val_sets_800k_10_03_2022.csv\n",
      "diverse_N=2034 TEST_03_19_2022.csv\n",
      "random_N=4068 cleaned_easy_med_hard_val_sets_800k_10_03_2022.csv\n",
      "random_N=4068 TEST_03_19_2022.csv\n",
      "similar_N=4068 cleaned_easy_med_hard_val_sets_800k_10_03_2022.csv\n",
      "similar_N=4068 TEST_03_19_2022.csv\n",
      "diverse_N=4068 cleaned_easy_med_hard_val_sets_800k_10_03_2022.csv\n",
      "diverse_N=4068 TEST_03_19_2022.csv\n",
      "random_N=8136 cleaned_easy_med_hard_val_sets_800k_10_03_2022.csv\n",
      "random_N=8136 TEST_03_19_2022.csv\n",
      "similar_N=8136 cleaned_easy_med_hard_val_sets_800k_10_03_2022.csv\n",
      "similar_N=8136 TEST_03_19_2022.csv\n",
      "diverse_N=8136 cleaned_easy_med_hard_val_sets_800k_10_03_2022.csv\n",
      "diverse_N=8136 TEST_03_19_2022.csv\n",
      "random_N=16272 cleaned_easy_med_hard_val_sets_800k_10_03_2022.csv\n",
      "random_N=16272 TEST_03_19_2022.csv\n",
      "similar_N=16272 cleaned_easy_med_hard_val_sets_800k_10_03_2022.csv\n",
      "similar_N=16272 TEST_03_19_2022.csv\n",
      "diverse_N=16272 cleaned_easy_med_hard_val_sets_800k_10_03_2022.csv\n",
      "diverse_N=16272 TEST_03_19_2022.csv\n"
     ]
    }
   ],
   "source": [
    "activate_command = \"conda activate chemprop; \"\n",
    "out_path = \"../melis_gonorrhea/out/experiment_to_test_different_negative_datasets/\"\n",
    "num_neg = [508, 1017, 2034, 4068, 8136, 16272, 29950]\n",
    "for i in num_neg:\n",
    "    for j in [\"random\", \"similar\", \"diverse\"]:\n",
    "        for data_name, data in zip(\n",
    "            [\"external_val\", \"20%_random_test\"],\n",
    "            [\n",
    "                \"cleaned_easy_med_hard_val_sets_800k_10_03_2022.csv\",\n",
    "                \"TEST_03_19_2022.csv\",\n",
    "            ],\n",
    "        ):\n",
    "            clean_name = j + \"_N=\" + str(i)\n",
    "            try:\n",
    "                testdf = pd.read_csv(\n",
    "                    \"../out/experiment_to_test_different_negative_datasets/pred_\"\n",
    "                    + data_name\n",
    "                    + \"_\"\n",
    "                    + clean_name\n",
    "                    + \".csv\"\n",
    "                )\n",
    "                continue  # already exists\n",
    "            except:\n",
    "                print(clean_name, data)\n",
    "                run_command = (\n",
    "                    \"python predict.py --test_path \"\n",
    "                    + out_path\n",
    "                    + data\n",
    "                    + \" --checkpoint_dir ../melis_gonorrhea/models/controls_with_diff_neg_datasets/\"\n",
    "                    + clean_name\n",
    "                    + \"/ --preds_path \"\n",
    "                    + out_path\n",
    "                    + \"pred_\"\n",
    "                    + data_name\n",
    "                    + \"_\"\n",
    "                    + clean_name\n",
    "                    + \".csv --features_generator rdkit_2d_normalized --no_features_scaling --smiles_column SMILES --ensemble_variance --gpu 0\"\n",
    "                )\n",
    "                full_command = activate_command + run_command\n",
    "                test = subprocess.run(full_command, cwd=\"../../chemprop/\", shell=True, capture_output=True)"
   ]
  },
  {
   "cell_type": "markdown",
   "id": "87e1cc24",
   "metadata": {},
   "source": [
    "# Quantify predictions"
   ]
  },
  {
   "cell_type": "code",
   "execution_count": 11,
   "id": "f1067edf",
   "metadata": {},
   "outputs": [],
   "source": [
    "def modeleval(y_true, y_pred, name=\"\"):\n",
    "\n",
    "    # Compute auROC\n",
    "    auroc = float(roc_auc_score(y_true, y_pred))\n",
    "\n",
    "    # Compute Precision-Recall\n",
    "    precision, recall, thresholds = precision_recall_curve(y_true, y_pred)\n",
    "    pr = float(auc(recall, precision))\n",
    "\n",
    "    return (auroc, pr)"
   ]
  },
  {
   "cell_type": "code",
   "execution_count": 12,
   "id": "c4bdecd3",
   "metadata": {},
   "outputs": [],
   "source": [
    "data_dir = \"../out/experiment_to_test_different_negative_datasets/\"\n",
    "columns = [\"N\", \"Data Selection\", \"Test Set\", \"Metric\", \"Value\"]\n",
    "results = pd.DataFrame(columns=columns)\n",
    "num_neg = [508, 1017, 2034, 4068, 8136, 16272, 29950]\n",
    "\n",
    "for i in num_neg:\n",
    "    for j in [\"random\", \"similar\", \"diverse\"]:\n",
    "        for data_name, data in zip(\n",
    "            [\"external_val\", \"20%_random_test\"],\n",
    "            [\n",
    "                \"cleaned_easy_med_hard_val_sets_800k_10_03_2022.csv\",\n",
    "                \"TEST_03_19_2022.csv\",\n",
    "            ],\n",
    "        ):\n",
    "            clean_name = j + \"_N=\" + str(i)\n",
    "\n",
    "            true = pd.read_csv(data_dir + data)\n",
    "            true = list(true[\"hit\"])\n",
    "\n",
    "            try:\n",
    "                test = pd.read_csv(data_dir + \"pred_\" + data_name + \"_\" + clean_name + \".csv\")\n",
    "            except:\n",
    "                continue\n",
    "            test = list(test[\"hit\"])\n",
    "\n",
    "            roc, pr = modeleval(true, test)\n",
    "            row1 = [i, j, data_name, \"auROC\", roc]\n",
    "            row2 = [i, j, data_name, \"auPR\", pr]\n",
    "            new = pd.DataFrame([row1, row2], columns=columns)\n",
    "            results = pd.concat([results, new])"
   ]
  },
  {
   "cell_type": "code",
   "execution_count": 16,
   "id": "885a4b31",
   "metadata": {},
   "outputs": [
    {
     "data": {
      "image/png": "[encoded data removed]",
      "text/plain": [
       "<Figure size 864x576 with 4 Axes>"
      ]
     },
     "metadata": {
      "needs_background": "light"
     },
     "output_type": "display_data"
    }
   ],
   "source": [
    "results = results.reset_index(drop=True)\n",
    "order = [\"random\", \"similar\", \"diverse\"]\n",
    "palette = dict(zip(order, [\"grey\", \"lightsteelblue\", \"royalblue\"]))\n",
    "g = sns.FacetGrid(\n",
    "    results,\n",
    "    row=\"Metric\",\n",
    "    col=\"Test Set\",\n",
    "    sharey=True,\n",
    "    height=4,\n",
    "    aspect=1.5,\n",
    "    margin_titles=True,\n",
    ")\n",
    "g.map(\n",
    "    sns.lineplot,\n",
    "    \"N\",\n",
    "    \"Value\",\n",
    "    \"Data Selection\",\n",
    "    marker=\"o\",\n",
    "    dashes=True,\n",
    "    hue_order=order,\n",
    "    palette=palette,\n",
    ")\n",
    "\n",
    "for ax in g.axes_dict.values():\n",
    "    ax.spines[\"right\"].set_visible(False)\n",
    "    ax.spines[\"top\"].set_visible(False)\n",
    "g.set(xscale=\"log\")\n",
    "g.set(xticks=num_neg)\n",
    "g.set(xticklabels=num_neg)\n",
    "plt.legend()\n",
    "plt.tight_layout()\n",
    "plt.show()"
   ]
  }
 ],
 "metadata": {
  "kernelspec": {
   "display_name": "chemprop010821",
   "language": "python",
   "name": "chemprop010821"
  },
  "language_info": {
   "codemirror_mode": {
    "name": "ipython",
    "version": 3
   },
   "file_extension": ".py",
   "mimetype": "text/x-python",
   "name": "python",
   "nbconvert_exporter": "python",
   "pygments_lexer": "ipython3",
   "version": "3.8.6"
  }
 },
 "nbformat": 4,
 "nbformat_minor": 5
}
