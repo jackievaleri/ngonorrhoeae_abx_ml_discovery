{
 "cells": [
  {
   "cell_type": "code",
   "execution_count": 1,
   "id": "179d549c",
   "metadata": {},
   "outputs": [],
   "source": [
    "import subprocess\n",
    "\n",
    "import matplotlib\n",
    "import matplotlib.pyplot as plt\n",
    "import numpy as np\n",
    "import pandas as pd\n",
    "import rdkit\n",
    "from matplotlib import rc\n",
    "from rdkit import Chem, DataStructs\n",
    "from rdkit.Chem import AllChem"
   ]
  },
  {
   "cell_type": "code",
   "execution_count": null,
   "id": "73647ae4",
   "metadata": {},
   "outputs": [],
   "source": [
    "df = pd.read_csv(\"../data/\")\n",
    "\n",
    "scos = list(df[\"hit_inh\"])\n",
    "\n",
    "clean_inh = []\n",
    "clean_kill = []\n",
    "for sco in list(df[\"hit_inh\"]):\n",
    "    try:\n",
    "        clean_inh.append(float(sco))\n",
    "    except:\n",
    "        continue\n",
    "for sco in list(df[\"hit_kill\"]):\n",
    "    try:\n",
    "        clean_kill.append(float(sco))\n",
    "    except:\n",
    "        continue\n",
    "\n",
    "df = pd.DataFrame(clean_inh, columns=[\"scores\"])\n",
    "df = df.sort_values(by=\"scores\", ascending=False)\n",
    "df[\"rank\"] = range(0, len(df))\n",
    "inhscos = list(df[\"scores\"])\n",
    "inhrank = list(df[\"rank\"])\n",
    "\n",
    "df = pd.DataFrame(clean_kill, columns=[\"scores\"])\n",
    "df = df.sort_values(by=\"scores\", ascending=False)\n",
    "df[\"rank\"] = range(0, len(df))\n",
    "killscos = list(df[\"scores\"])\n",
    "killrank = list(df[\"rank\"])"
   ]
  }
 ],
 "metadata": {
  "kernelspec": {
   "display_name": "chemprop",
   "language": "python",
   "name": "chemprop"
  },
  "language_info": {
   "codemirror_mode": {
    "name": "ipython",
    "version": 3
   },
   "file_extension": ".py",
   "mimetype": "text/x-python",
   "name": "python",
   "nbconvert_exporter": "python",
   "pygments_lexer": "ipython3",
   "version": "3.8.12"
  }
 },
 "nbformat": 4,
 "nbformat_minor": 5
}
