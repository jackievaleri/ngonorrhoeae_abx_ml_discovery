{
 "cells": [
  {
   "cell_type": "code",
   "execution_count": 1,
   "id": "17de0264",
   "metadata": {},
   "outputs": [],
   "source": [
    "import pandas as pd\n",
    "import glob as glob"
   ]
  },
  {
   "cell_type": "markdown",
   "id": "cc9d18ef",
   "metadata": {},
   "source": [
    "# HO script for PK model alone"
   ]
  },
  {
   "cell_type": "code",
   "execution_count": 3,
   "id": "997c90b7",
   "metadata": {},
   "outputs": [],
   "source": [
    "bash_dir = '04_hyperopt_pk_screen_11152021.sh'\n",
    "\n",
    "prefix = 'chemprop_train '\n",
    "suffix = ' --data_path data/TRAIN_11_15_2021.csv --dataset_type classification --features_path data/TRAIN_11_15_2021.npz --no_features_scaling --num_folds 3 --ensemble_size 1 --split_type scaffold_balanced --split_sizes 0.8 0.1 0.1 --smiles_columns SMILES --target_columns hit --metric prc-auc --extra_metrics auc'\n",
    "\n",
    "initlr = [1e-3, 1e-4]\n",
    "dropout = [0.1, 0.2, 0.3, 0.4]\n",
    "hiddensize = [300,500,700,1000,1200,1500]\n",
    "ffnnumlayers = [1,2,3]\n",
    "depth = [3,4,5]\n",
    "\n",
    "model_dir = 0\n",
    "for l in initlr:\n",
    "    for d in dropout:\n",
    "        for h in hiddensize:\n",
    "            for f in ffnnumlayers:\n",
    "                for de in depth:\n",
    "                    command = 'mkdir pk_screen_models_11152021/' + str(model_dir) + '; ' + prefix + '--init_lr ' + str(l) + ' --dropout ' + str(d) + ' --hidden_size ' + str(h) + ' --ffn_num_layers ' + str(f) + ' --depth ' + str(de) + ' --save_dir models/' + str(model_dir) + suffix\n",
    "                    model_dir = model_dir + 1\n",
    "                    file1 = open(bash_dir,\"a\") \n",
    "                    file1.write(command)\n",
    "                    file1.write('\\n')\n",
    "                    file1.close()"
   ]
  },
  {
   "cell_type": "markdown",
   "id": "da5cb37d",
   "metadata": {},
   "source": [
    "# For all other GNNs, use bayesian optimization"
   ]
  },
  {
   "cell_type": "code",
   "execution_count": null,
   "id": "a4c29f5b",
   "metadata": {},
   "outputs": [],
   "source": []
  }
 ],
 "metadata": {
  "kernelspec": {
   "display_name": "chemprop",
   "language": "python",
   "name": "chemprop"
  },
  "language_info": {
   "codemirror_mode": {
    "name": "ipython",
    "version": 3
   },
   "file_extension": ".py",
   "mimetype": "text/x-python",
   "name": "python",
   "nbconvert_exporter": "python",
   "pygments_lexer": "ipython3",
   "version": "3.8.12"
  }
 },
 "nbformat": 4,
 "nbformat_minor": 5
}
