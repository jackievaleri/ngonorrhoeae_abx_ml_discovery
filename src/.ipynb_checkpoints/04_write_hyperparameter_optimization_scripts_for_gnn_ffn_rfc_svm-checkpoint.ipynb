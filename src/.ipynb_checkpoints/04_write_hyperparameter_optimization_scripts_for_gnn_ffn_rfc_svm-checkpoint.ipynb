{
 "cells": [
  {
   "cell_type": "code",
   "execution_count": 1,
   "id": "17de0264",
   "metadata": {},
   "outputs": [],
   "source": [
    "import pandas as pd\n",
    "import glob as glob"
   ]
  },
  {
   "cell_type": "markdown",
   "id": "cc9d18ef",
   "metadata": {},
   "source": [
    "# HO script for PK model alone"
   ]
  },
  {
   "cell_type": "code",
   "execution_count": 2,
   "id": "88957e09",
   "metadata": {},
   "outputs": [],
   "source": [
    "data_path = 'data/data_prep_for_ml/data_prep_for_ml_pk_screen/'\n",
    "model_path = 'models/pk_screen_models_11152021/'"
   ]
  },
  {
   "cell_type": "code",
   "execution_count": 3,
   "id": "997c90b7",
   "metadata": {},
   "outputs": [],
   "source": [
    "bash_dir = '04_hyperopt_pk_screen_11152021.sh'\n",
    "\n",
    "prefix = 'chemprop_train '\n",
    "suffix = ' --data_path ' + data_path + 'TRAIN_11_15_2021.csv --dataset_type classification --features_path ' + data_path + 'TRAIN_11_15_2021.npz --no_features_scaling --num_folds 3 --ensemble_size 1 --split_type scaffold_balanced --split_sizes 0.8 0.1 0.1 --smiles_columns SMILES --target_columns hit --metric prc-auc --extra_metrics auc'\n",
    "\n",
    "initlr = [1e-3, 1e-4]\n",
    "dropout = [0.1, 0.2, 0.3, 0.4]\n",
    "hiddensize = [300,500,700,1000,1200,1500]\n",
    "ffnnumlayers = [1,2,3]\n",
    "depth = [3,4,5]\n",
    "\n",
    "model_dir = 0\n",
    "for l in initlr:\n",
    "    for d in dropout:\n",
    "        for h in hiddensize:\n",
    "            for f in ffnnumlayers:\n",
    "                for de in depth:\n",
    "                    command = 'mkdir ' + model_path + str(model_dir) + '; ' + prefix + '--init_lr ' + str(l) + ' --dropout ' + str(d) + ' --hidden_size ' + str(h) + ' --ffn_num_layers ' + str(f) + ' --depth ' + str(de) + ' --save_dir ' + model_path + str(model_dir) + suffix\n",
    "                    model_dir = model_dir + 1\n",
    "                    file1 = open(bash_dir,\"a\") \n",
    "                    file1.write(command)\n",
    "                    file1.write('\\n')\n",
    "                    file1.close()"
   ]
  },
  {
   "cell_type": "markdown",
   "id": "da5cb37d",
   "metadata": {},
   "source": [
    "# For all other GNNs, use bayesian optimization"
   ]
  },
  {
   "cell_type": "markdown",
   "id": "85d40f0d",
   "metadata": {},
   "source": [
    "# HO script for RFCs on fingerprints"
   ]
  },
  {
   "cell_type": "code",
   "execution_count": 4,
   "id": "b011ebea",
   "metadata": {},
   "outputs": [],
   "source": [
    "data_path = '../ngonorrhoeae_abx_ml_discovery/data/data_prep_for_ml/data_prep_for_ml_pk_37k_screen/'\n",
    "model_path = '../ngonorrhoeae_abx_ml_discovery/models/other_models/rfc_hyperopt_pk_37k/'"
   ]
  },
  {
   "cell_type": "code",
   "execution_count": 5,
   "id": "eeab688a",
   "metadata": {},
   "outputs": [],
   "source": [
    "bash_dir = '04_hyperopt_rfc_pk_37k.sh'\n",
    "\n",
    "prefix = 'python sklearn_train.py '\n",
    "suffix = ' --data_path ' + data_path + 'TRAIN_03_19_2022.csv --num_folds 3 --dataset_type classification --features_path ' + data_path + 'TRAIN_03_19_2022.npz  --no_features_scaling --split_type scaffold_balanced --split_sizes 0.8 0.1 0.1 --smiles_columns SMILES --target_columns hit --model_type random_forest --metric prc-auc --extra_metrics auc'\n",
    "\n",
    "numbits = [512, 1024, 2048, 4096]\n",
    "radius = [2, 3, 4, 5, 6]\n",
    "classweight = ['balanced']\n",
    "numtrees = [50, 100, 250, 500, 750, 1000, 2000, 3000]\n",
    "\n",
    "file1 = open(bash_dir,\"a\") \n",
    "file1.write('cd ../../chemprop/; mkdir ' + model_path + ' ')\n",
    "file1.write('\\n')\n",
    "file1.close()\n",
    "\n",
    "model_dir = 0\n",
    "for l in numbits:\n",
    "    for d in radius:\n",
    "        for h in classweight:\n",
    "            for f in numtrees:\n",
    "                command = 'mkdir ' + model_path + str(model_dir) + '; ' + prefix + '--num_bits ' + str(l) + ' --radius ' + str(d) + ' --class_weight ' + str(h) + ' --num_trees ' + str(f) + ' --save_dir ' + model_path + str(model_dir) + suffix\n",
    "                model_dir = model_dir + 1\n",
    "                file1 = open(bash_dir,\"a\") \n",
    "                file1.write(command)\n",
    "                file1.write('\\n')\n",
    "                file1.close()"
   ]
  },
  {
   "cell_type": "markdown",
   "id": "5a5a3895",
   "metadata": {},
   "source": [
    "# HO script for SVMs on fingerprints"
   ]
  },
  {
   "cell_type": "code",
   "execution_count": 6,
   "id": "e4a4243a",
   "metadata": {},
   "outputs": [],
   "source": [
    "data_path = '../ngonorrhoeae_abx_ml_discovery/data/data_prep_for_ml/data_prep_for_ml_pk_37k_screen/'\n",
    "model_path = '../ngonorrhoeae_abx_ml_discovery/models/other_models/svm_hyperopt_pk_37k/'"
   ]
  },
  {
   "cell_type": "code",
   "execution_count": 7,
   "id": "b3b6f0bd",
   "metadata": {},
   "outputs": [],
   "source": [
    "bash_dir = '04_hyperopt_svm_pk_37k.sh'\n",
    "\n",
    "prefix = 'python sklearn_train.py '\n",
    "suffix = ' --data_path ' + data_path + 'TRAIN_03_19_2022.csv --num_folds 3 --dataset_type classification --features_path ' + data_path + 'TRAIN_03_19_2022.npz  --no_features_scaling --split_type scaffold_balanced --split_sizes 0.8 0.1 0.1 --smiles_columns SMILES --target_columns hit --model_type svm --metric prc-auc --extra_metrics auc'\n",
    "\n",
    "numbits = [512, 1024, 2048, 4096]\n",
    "radius = [2, 3, 4, 5, 6]\n",
    "classweight = ['balanced']\n",
    "\n",
    "file1 = open(bash_dir,\"a\") \n",
    "file1.write('cd ../../chemprop/; mkdir ' + model_path + ' ')\n",
    "file1.write('\\n')\n",
    "file1.close()\n",
    "\n",
    "model_dir = 0\n",
    "for l in numbits:\n",
    "    for d in radius:\n",
    "        for h in classweight:\n",
    "            command = 'mkdir ' + model_path + str(model_dir) + '; ' + prefix + '--num_bits ' + str(l) + ' --radius ' + str(d) + ' --class_weight ' + str(h) + ' --save_dir ' + model_path + str(model_dir) + suffix\n",
    "            model_dir = model_dir + 1\n",
    "            file1 = open(bash_dir,\"a\") \n",
    "            file1.write(command)\n",
    "            file1.write('\\n')\n",
    "            file1.close()"
   ]
  },
  {
   "cell_type": "markdown",
   "id": "944acf12",
   "metadata": {},
   "source": [
    "# HO script for FFNs on fingerprints"
   ]
  },
  {
   "cell_type": "code",
   "execution_count": 10,
   "id": "9ea068cc",
   "metadata": {},
   "outputs": [],
   "source": [
    "data_path = '../ngonorrhoeae_abx_ml_discovery/data/data_prep_for_ml/data_prep_for_ml_pk_37k_screen/'\n",
    "model_path = '../ngonorrhoeae_abx_ml_discovery/models/other_models/ffn_hyperopt_pk_37k/'"
   ]
  },
  {
   "cell_type": "code",
   "execution_count": 11,
   "id": "fd83247b",
   "metadata": {},
   "outputs": [],
   "source": [
    "bash_dir = '04_hyperopt_ffn_pk_37k.sh'\n",
    "\n",
    "prefix = 'python train.py '\n",
    "suffix = ' --data_path ' + data_path + 'TRAIN_03_19_2022.csv --num_folds 3 --dataset_type classification --features_generator morgan --no_features_scaling --split_type scaffold_balanced --split_sizes 0.8 0.1 0.1 --smiles_columns SMILES --target_columns hit --depth 0 --features_only --metric prc-auc --extra_metrics auc'\n",
    "\n",
    "hidden_size = [500, 1000, 1500, 2000, 2500, 3000]\n",
    "ffn_num_layers = [1, 2, 3, 4]\n",
    "dropout = [0.1, 0.15, 0.2, 0.25, 0.3, 0.35, 0.4]\n",
    "\n",
    "file1 = open(bash_dir,\"a\") \n",
    "file1.write('cd ../../chemprop/; mkdir ' + model_path + ' ')\n",
    "file1.write('\\n')\n",
    "file1.close()\n",
    "\n",
    "model_dir = 0\n",
    "for h in hidden_size:\n",
    "    for f in ffn_num_layers:\n",
    "        for dr in dropout:\n",
    "            command = prefix + ' --hidden_size ' + str(h) + ' --ffn_num_layers ' + str(f) + ' --dropout ' + str(dr) + ' --save_dir ' + model_path + str(model_dir) + suffix\n",
    "            model_dir = model_dir + 1\n",
    "            file1 = open(bash_dir,\"a\") \n",
    "            file1.write(command)\n",
    "            file1.write('\\n')\n",
    "            file1.close()"
   ]
  }
 ],
 "metadata": {
  "kernelspec": {
   "display_name": "chemprop",
   "language": "python",
   "name": "chemprop"
  },
  "language_info": {
   "codemirror_mode": {
    "name": "ipython",
    "version": 3
   },
   "file_extension": ".py",
   "mimetype": "text/x-python",
   "name": "python",
   "nbconvert_exporter": "python",
   "pygments_lexer": "ipython3",
   "version": "3.8.12"
  }
 },
 "nbformat": 4,
 "nbformat_minor": 5
}
