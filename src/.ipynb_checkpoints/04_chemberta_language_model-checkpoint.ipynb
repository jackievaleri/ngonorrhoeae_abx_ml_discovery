{
 "cells": [
  {
   "cell_type": "markdown",
   "metadata": {},
   "source": [
    "# Installation instructions\n",
    "\n",
    "- `conda create --name=chemberta`\n",
    "- `conda activate chemberta`\n",
    "- `conda install pip`\n",
    "- `pip install --pre deepchem`\n",
    "- `git clone https://github.com/NVIDIA/apex`\n",
    "- `pip install wandb`\n",
    "- `pip install transformers==4.25.1 --no-cache-dir`\n",
    "- `pip install simpletransformers --no-cache-dir`\n",
    "- `pip install torch torchvision torchaudio`\n",
    "- `pip install -v --no-cache-dir apex/`\n",
    "- `conda deactivate`\n",
    "- `python -m ipykernel install --user --name=chemberta`\n",
    "\n",
    "Then I made the wandb folder manually: `mkdir home/jackievaleri8/.config/wandb/`. You may need to use root and change permissions of .config/wandb/ directory depending on your permissions structures. Finally, run `wandb login` and you should use your wandb authorization key by following instructions provided. This allows you to use deepchem with wandb.\n",
    "\n",
    "- OS: Ubuntu 18.04.6 LTS (GNU/Linux 5.4.0-1104-gcp x86_64). \n",
    "- Machine type: n1-highmem-8\n",
    "- CPU platform: Intel Haswell\n",
    "- Architecture: x86/64\n",
    "- GPUs: 1 x NVIDIA T4"
   ]
  },
  {
   "cell_type": "code",
   "execution_count": 1,
   "metadata": {},
   "outputs": [
    {
     "name": "stderr",
     "output_type": "stream",
     "text": [
      "RDKit WARNING: [12:20:24] Enabling RDKit 2019.09.3 jupyter extensions\n",
      "Skipped loading some Tensorflow models, missing a dependency. No module named 'tensorflow'\n",
      "Skipped loading modules with pytorch-geometric dependency, missing a dependency. No module named 'torch_geometric'\n",
      "Skipped loading modules with pytorch-geometric dependency, missing a dependency. cannot import name 'DMPNN' from 'deepchem.models.torch_models' (/home/jackievaleri8/anaconda3/lib/python3.8/site-packages/deepchem/models/torch_models/__init__.py)\n",
      "Skipped loading modules with pytorch-lightning dependency, missing a dependency. No module named 'pytorch_lightning'\n",
      "Skipped loading some Jax models, missing a dependency. No module named 'jax'\n"
     ]
    }
   ],
   "source": [
    "import logging\n",
    "import os\n",
    "\n",
    "import deepchem as dc\n",
    "import pandas as pd\n",
    "import sklearn\n",
    "import torch\n",
    "from apex import amp\n",
    "from rdkit import Chem\n",
    "from simpletransformers.classification import ClassificationModel\n",
    "from sklearn.metrics import auc, precision_recall_curve, roc_auc_score\n",
    "from transformers import AutoModelWithLMHead, AutoTokenizer, pipeline"
   ]
  },
  {
   "cell_type": "code",
   "execution_count": 2,
   "metadata": {},
   "outputs": [
    {
     "name": "stdout",
     "output_type": "stream",
     "text": [
      "Thu Jun  1 12:20:29 2023       \r\n",
      "+-----------------------------------------------------------------------------+\r\n",
      "| NVIDIA-SMI 525.85.12    Driver Version: 525.85.12    CUDA Version: 12.0     |\r\n",
      "|-------------------------------+----------------------+----------------------+\r\n",
      "| GPU  Name        Persistence-M| Bus-Id        Disp.A | Volatile Uncorr. ECC |\r\n",
      "| Fan  Temp  Perf  Pwr:Usage/Cap|         Memory-Usage | GPU-Util  Compute M. |\r\n",
      "|                               |                      |               MIG M. |\r\n",
      "|===============================+======================+======================|\r\n",
      "|   0  Tesla T4            Off  | 00000000:00:04.0 Off |                    0 |\r\n",
      "| N/A   61C    P0    29W /  70W |      2MiB / 15360MiB |      7%      Default |\r\n",
      "|                               |                      |                  N/A |\r\n",
      "+-------------------------------+----------------------+----------------------+\r\n",
      "                                                                               \r\n",
      "+-----------------------------------------------------------------------------+\r\n",
      "| Processes:                                                                  |\r\n",
      "|  GPU   GI   CI        PID   Type   Process name                  GPU Memory |\r\n",
      "|        ID   ID                                                   Usage      |\r\n",
      "|=============================================================================|\r\n",
      "|  No running processes found                                                 |\r\n",
      "+-----------------------------------------------------------------------------+\r\n"
     ]
    }
   ],
   "source": [
    "!nvidia-smi # should show your nvidia output"
   ]
  },
  {
   "cell_type": "code",
   "execution_count": 3,
   "metadata": {},
   "outputs": [
    {
     "data": {
      "text/plain": [
       "True"
      ]
     },
     "execution_count": 3,
     "metadata": {},
     "output_type": "execute_result"
    }
   ],
   "source": [
    "torch.cuda.is_available()  # must be true"
   ]
  },
  {
   "cell_type": "markdown",
   "metadata": {
    "colab_type": "text",
    "id": "teDLOtldQd2K"
   },
   "source": [
    "# Load in dataset to fine-tune ChemBERTa with"
   ]
  },
  {
   "cell_type": "code",
   "execution_count": 4,
   "metadata": {
    "scrolled": false
   },
   "outputs": [
    {
     "data": {
      "text/plain": [
       "<DiskDataset X.shape: (38680, 200), y.shape: (38680, 1), w.shape: (38680, 1), task_names: ['hit']>"
      ]
     },
     "execution_count": 4,
     "metadata": {},
     "output_type": "execute_result"
    }
   ],
   "source": [
    "featurizer = (\n",
    "    dc.feat.RDKitDescriptors()\n",
    ")  # just use a random descriptor - we are featurizing this to make use of DeepChem's scaffold split function!\n",
    "tasks = [\"hit\"]\n",
    "input_file = \"../data/data_prep_for_ml/data_prep_for_ml_pk_37k_screen/FULL_03_19_2022.csv\"\n",
    "loader = dc.data.CSVLoader(tasks=tasks, feature_field=\"SMILES\", featurizer=featurizer)\n",
    "dataset = loader.create_dataset(input_file)\n",
    "dataset"
   ]
  },
  {
   "cell_type": "markdown",
   "metadata": {},
   "source": [
    "# Helper functions"
   ]
  },
  {
   "cell_type": "code",
   "execution_count": 5,
   "metadata": {},
   "outputs": [],
   "source": [
    "def rework_data_for_chemberta(dataset):\n",
    "    df = dataset.to_dataframe()\n",
    "    df = df[[\"ids\", \"y\"]]\n",
    "    df.columns = [\"smiles\", \"label\"]\n",
    "    return df\n",
    "\n",
    "\n",
    "# evaluate each prediction\n",
    "\n",
    "\n",
    "def modeleval(y_true, y_pred, name=\"\"):\n",
    "\n",
    "    y_true = [int(x) for x in y_true]\n",
    "    y_pred = [float(x) for x in y_pred]\n",
    "\n",
    "    # compute auroc\n",
    "    auroc = float(roc_auc_score(y_true, y_pred))\n",
    "\n",
    "    # compute precision-Recall\n",
    "    precision, recall, thresholds = precision_recall_curve(y_true, y_pred)\n",
    "    pr = float(auc(recall, precision))\n",
    "\n",
    "    return (auroc, pr)"
   ]
  },
  {
   "cell_type": "markdown",
   "metadata": {},
   "source": [
    "# Train models"
   ]
  },
  {
   "cell_type": "code",
   "execution_count": 6,
   "metadata": {},
   "outputs": [],
   "source": [
    "NUM_FOLDS = 20\n",
    "NUM_EPOCHS = 5\n",
    "save_dir = \"../models/other_models/chemberta_pk_37k/random_split_chemberta_models/\""
   ]
  },
  {
   "cell_type": "code",
   "execution_count": 7,
   "metadata": {},
   "outputs": [
    {
     "name": "stdout",
     "output_type": "stream",
     "text": [
      "Seed: 0\n"
     ]
    },
    {
     "name": "stderr",
     "output_type": "stream",
     "text": [
      "/home/jackievaleri8/anaconda3/lib/python3.8/site-packages/transformers/models/auto/modeling_auto.py:1177: FutureWarning: The class `AutoModelWithLMHead` is deprecated and will be removed in a future version. Please use `AutoModelForCausalLM` for causal language models, `AutoModelForMaskedLM` for masked language models and `AutoModelForSeq2SeqLM` for encoder-decoder models.\n",
      "  warnings.warn(\n",
      "Some weights of the model checkpoint at seyonec/ChemBERTa-zinc-base-v1 were not used when initializing RobertaForSequenceClassification: ['roberta.pooler.dense.weight', 'lm_head.dense.bias', 'lm_head.decoder.bias', 'lm_head.dense.weight', 'lm_head.layer_norm.bias', 'roberta.pooler.dense.bias', 'lm_head.layer_norm.weight', 'lm_head.decoder.weight', 'lm_head.bias']\n",
      "- This IS expected if you are initializing RobertaForSequenceClassification from the checkpoint of a model trained on another task or with another architecture (e.g. initializing a BertForSequenceClassification model from a BertForPreTraining model).\n",
      "- This IS NOT expected if you are initializing RobertaForSequenceClassification from the checkpoint of a model that you expect to be exactly identical (initializing a BertForSequenceClassification model from a BertForSequenceClassification model).\n",
      "Some weights of RobertaForSequenceClassification were not initialized from the model checkpoint at seyonec/ChemBERTa-zinc-base-v1 and are newly initialized: ['classifier.out_proj.bias', 'classifier.out_proj.weight', 'classifier.dense.weight', 'classifier.dense.bias']\n",
      "You should probably TRAIN this model on a down-stream task to be able to use it for predictions and inference.\n",
      "/home/jackievaleri8/anaconda3/lib/python3.8/site-packages/simpletransformers/classification/classification_model.py:612: UserWarning: Dataframe headers not specified. Falling back to using column 0 as text and column 1 as labels.\n",
      "  warnings.warn(\n",
      "INFO:simpletransformers.classification.classification_utils: Converting to features started. Cache is not used.\n",
      "INFO:simpletransformers.classification.classification_utils: Saving features into cached file cache_dir/cached_train_roberta_128_2_2\n"
     ]
    },
    {
     "data": {
      "application/vnd.jupyter.widget-view+json": {
       "model_id": "cb00ae4e9d17406fa2f8000b8a386541",
       "version_major": 2,
       "version_minor": 0
      },
      "text/plain": [
       "Epoch:   0%|          | 0/5 [00:00<?, ?it/s]"
      ]
     },
     "metadata": {},
     "output_type": "display_data"
    },
    {
     "data": {
      "application/vnd.jupyter.widget-view+json": {
       "model_id": "9a77d6bf68e74e77ab20271b9b8b2b26",
       "version_major": 2,
       "version_minor": 0
      },
      "text/plain": [
       "Running Epoch 0 of 5:   0%|          | 0/619 [00:00<?, ?it/s]"
      ]
     },
     "metadata": {},
     "output_type": "display_data"
    },
    {
     "data": {
      "application/vnd.jupyter.widget-view+json": {
       "model_id": "e446866e9470453c8805ae0926c6c60b",
       "version_major": 2,
       "version_minor": 0
      },
      "text/plain": [
       "Running Epoch 1 of 5:   0%|          | 0/619 [00:00<?, ?it/s]"
      ]
     },
     "metadata": {},
     "output_type": "display_data"
    },
    {
     "data": {
      "application/vnd.jupyter.widget-view+json": {
       "model_id": "7b9f5112d7b3402f8bf98e52a37bb51a",
       "version_major": 2,
       "version_minor": 0
      },
      "text/plain": [
       "Running Epoch 2 of 5:   0%|          | 0/619 [00:00<?, ?it/s]"
      ]
     },
     "metadata": {},
     "output_type": "display_data"
    },
    {
     "data": {
      "application/vnd.jupyter.widget-view+json": {
       "model_id": "04d0abc8cb5b467bb58cfdd4d7567aa1",
       "version_major": 2,
       "version_minor": 0
      },
      "text/plain": [
       "Running Epoch 3 of 5:   0%|          | 0/619 [00:00<?, ?it/s]"
      ]
     },
     "metadata": {},
     "output_type": "display_data"
    },
    {
     "data": {
      "application/vnd.jupyter.widget-view+json": {
       "model_id": "c0fd94e12f09482f8ffdb99e482d9576",
       "version_major": 2,
       "version_minor": 0
      },
      "text/plain": [
       "Running Epoch 4 of 5:   0%|          | 0/619 [00:00<?, ?it/s]"
      ]
     },
     "metadata": {},
     "output_type": "display_data"
    },
    {
     "name": "stderr",
     "output_type": "stream",
     "text": [
      "INFO:simpletransformers.classification.classification_model: Training of roberta model complete. Saved to chemberta/random_split_chemberta_models/0/.\n",
      "/home/jackievaleri8/anaconda3/lib/python3.8/site-packages/simpletransformers/classification/classification_model.py:1454: UserWarning: Dataframe headers not specified. Falling back to using column 0 as text and column 1 as labels.\n",
      "  warnings.warn(\n",
      "INFO:simpletransformers.classification.classification_utils: Converting to features started. Cache is not used.\n",
      "INFO:simpletransformers.classification.classification_utils: Saving features into cached file cache_dir/cached_dev_roberta_128_2_2\n"
     ]
    },
    {
     "data": {
      "application/vnd.jupyter.widget-view+json": {
       "model_id": "9972778ad9364d8381f76fd5893b2600",
       "version_major": 2,
       "version_minor": 0
      },
      "text/plain": [
       "Running Evaluation:   0%|          | 0/484 [00:00<?, ?it/s]"
      ]
     },
     "metadata": {},
     "output_type": "display_data"
    },
    {
     "name": "stderr",
     "output_type": "stream",
     "text": [
      "INFO:simpletransformers.classification.classification_model:{'mcc': 0.37271048726985334, 'tp': 40, 'tn': 3690, 'fp': 33, 'fn': 105, 'auroc': 0.9078162771958098, 'auprc': 0.46490776457564753, 'acc': 0.9643226473629782, 'eval_loss': 0.127030973807593}\n",
      "INFO:deepchem.splits.splitters:Computing train/valid/test indices\n",
      "INFO:deepchem.data.datasets:Constructing selection output shard 1\n",
      "INFO:deepchem.data.datasets:Selecting from input shard 1/5 for selection output shard 1\n",
      "INFO:deepchem.data.datasets:Selecting from input shard 2/5 for selection output shard 1\n",
      "INFO:deepchem.data.datasets:Selecting from input shard 3/5 for selection output shard 1\n",
      "INFO:deepchem.data.datasets:Selecting from input shard 4/5 for selection output shard 1\n",
      "INFO:deepchem.data.datasets:Selecting from input shard 5/5 for selection output shard 1\n",
      "INFO:deepchem.data.datasets:Constructing selection output shard 2\n",
      "INFO:deepchem.data.datasets:Selecting from input shard 1/5 for selection output shard 2\n",
      "INFO:deepchem.data.datasets:Selecting from input shard 2/5 for selection output shard 2\n",
      "INFO:deepchem.data.datasets:Selecting from input shard 3/5 for selection output shard 2\n",
      "INFO:deepchem.data.datasets:Selecting from input shard 4/5 for selection output shard 2\n",
      "INFO:deepchem.data.datasets:Selecting from input shard 5/5 for selection output shard 2\n"
     ]
    },
    {
     "name": "stdout",
     "output_type": "stream",
     "text": [
      "Fold: 0\n",
      "Test auROC: 0.9050200524234256\n",
      "Test auPR: 0.4606870451841162\n",
      "Seed: 1\n"
     ]
    },
    {
     "name": "stderr",
     "output_type": "stream",
     "text": [
      "INFO:deepchem.data.datasets:Constructing selection output shard 3\n",
      "INFO:deepchem.data.datasets:Selecting from input shard 1/5 for selection output shard 3\n",
      "INFO:deepchem.data.datasets:Selecting from input shard 2/5 for selection output shard 3\n",
      "INFO:deepchem.data.datasets:Selecting from input shard 3/5 for selection output shard 3\n",
      "INFO:deepchem.data.datasets:Selecting from input shard 4/5 for selection output shard 3\n",
      "INFO:deepchem.data.datasets:Selecting from input shard 5/5 for selection output shard 3\n",
      "INFO:deepchem.data.datasets:Constructing selection output shard 4\n",
      "INFO:deepchem.data.datasets:Selecting from input shard 1/5 for selection output shard 4\n",
      "INFO:deepchem.data.datasets:Selecting from input shard 2/5 for selection output shard 4\n",
      "INFO:deepchem.data.datasets:Selecting from input shard 3/5 for selection output shard 4\n",
      "INFO:deepchem.data.datasets:Selecting from input shard 4/5 for selection output shard 4\n",
      "INFO:deepchem.data.datasets:Selecting from input shard 5/5 for selection output shard 4\n",
      "INFO:deepchem.data.datasets:TIMING: dataset construction took 0.472 s\n",
      "INFO:deepchem.data.datasets:Loading dataset from disk.\n",
      "INFO:deepchem.data.datasets:Constructing selection output shard 1\n",
      "INFO:deepchem.data.datasets:Selecting from input shard 1/5 for selection output shard 1\n",
      "INFO:deepchem.data.datasets:Selecting from input shard 2/5 for selection output shard 1\n",
      "INFO:deepchem.data.datasets:Selecting from input shard 3/5 for selection output shard 1\n",
      "INFO:deepchem.data.datasets:Selecting from input shard 4/5 for selection output shard 1\n",
      "INFO:deepchem.data.datasets:Selecting from input shard 5/5 for selection output shard 1\n",
      "INFO:deepchem.data.datasets:TIMING: dataset construction took 0.070 s\n",
      "INFO:deepchem.data.datasets:Loading dataset from disk.\n",
      "INFO:deepchem.data.datasets:Constructing selection output shard 1\n",
      "INFO:deepchem.data.datasets:Selecting from input shard 1/5 for selection output shard 1\n",
      "INFO:deepchem.data.datasets:Selecting from input shard 2/5 for selection output shard 1\n",
      "INFO:deepchem.data.datasets:Selecting from input shard 3/5 for selection output shard 1\n",
      "INFO:deepchem.data.datasets:Selecting from input shard 4/5 for selection output shard 1\n",
      "INFO:deepchem.data.datasets:Selecting from input shard 5/5 for selection output shard 1\n",
      "INFO:deepchem.data.datasets:TIMING: dataset construction took 0.070 s\n",
      "INFO:deepchem.data.datasets:Loading dataset from disk.\n",
      "/home/jackievaleri8/anaconda3/lib/python3.8/site-packages/transformers/models/auto/modeling_auto.py:1177: FutureWarning: The class `AutoModelWithLMHead` is deprecated and will be removed in a future version. Please use `AutoModelForCausalLM` for causal language models, `AutoModelForMaskedLM` for masked language models and `AutoModelForSeq2SeqLM` for encoder-decoder models.\n",
      "  warnings.warn(\n",
      "Some weights of the model checkpoint at seyonec/ChemBERTa-zinc-base-v1 were not used when initializing RobertaForSequenceClassification: ['roberta.pooler.dense.weight', 'lm_head.dense.bias', 'lm_head.decoder.bias', 'lm_head.dense.weight', 'lm_head.layer_norm.bias', 'roberta.pooler.dense.bias', 'lm_head.layer_norm.weight', 'lm_head.decoder.weight', 'lm_head.bias']\n",
      "- This IS expected if you are initializing RobertaForSequenceClassification from the checkpoint of a model trained on another task or with another architecture (e.g. initializing a BertForSequenceClassification model from a BertForPreTraining model).\n",
      "- This IS NOT expected if you are initializing RobertaForSequenceClassification from the checkpoint of a model that you expect to be exactly identical (initializing a BertForSequenceClassification model from a BertForSequenceClassification model).\n",
      "Some weights of RobertaForSequenceClassification were not initialized from the model checkpoint at seyonec/ChemBERTa-zinc-base-v1 and are newly initialized: ['classifier.out_proj.bias', 'classifier.out_proj.weight', 'classifier.dense.weight', 'classifier.dense.bias']\n",
      "You should probably TRAIN this model on a down-stream task to be able to use it for predictions and inference.\n",
      "/home/jackievaleri8/anaconda3/lib/python3.8/site-packages/simpletransformers/classification/classification_model.py:612: UserWarning: Dataframe headers not specified. Falling back to using column 0 as text and column 1 as labels.\n",
      "  warnings.warn(\n",
      "INFO:simpletransformers.classification.classification_utils: Converting to features started. Cache is not used.\n",
      "INFO:simpletransformers.classification.classification_utils: Saving features into cached file cache_dir/cached_train_roberta_128_2_2\n"
     ]
    },
    {
     "data": {
      "application/vnd.jupyter.widget-view+json": {
       "model_id": "417bafc25960415ea501876c964f5a0f",
       "version_major": 2,
       "version_minor": 0
      },
      "text/plain": [
       "Epoch:   0%|          | 0/5 [00:00<?, ?it/s]"
      ]
     },
     "metadata": {},
     "output_type": "display_data"
    },
    {
     "data": {
      "application/vnd.jupyter.widget-view+json": {
       "model_id": "c190c8a35a794bd99f4ad09838f04c56",
       "version_major": 2,
       "version_minor": 0
      },
      "text/plain": [
       "Running Epoch 0 of 5:   0%|          | 0/619 [00:00<?, ?it/s]"
      ]
     },
     "metadata": {},
     "output_type": "display_data"
    },
    {
     "data": {
      "application/vnd.jupyter.widget-view+json": {
       "model_id": "6979f951c12f4de5bc4fc35ab78c5e51",
       "version_major": 2,
       "version_minor": 0
      },
      "text/plain": [
       "Running Epoch 1 of 5:   0%|          | 0/619 [00:00<?, ?it/s]"
      ]
     },
     "metadata": {},
     "output_type": "display_data"
    },
    {
     "data": {
      "application/vnd.jupyter.widget-view+json": {
       "model_id": "33fa006fe2a44e5c9f20d5a0176737f9",
       "version_major": 2,
       "version_minor": 0
      },
      "text/plain": [
       "Running Epoch 2 of 5:   0%|          | 0/619 [00:00<?, ?it/s]"
      ]
     },
     "metadata": {},
     "output_type": "display_data"
    },
    {
     "data": {
      "application/vnd.jupyter.widget-view+json": {
       "model_id": "7e6589db730c465cab9dc592692f4d3e",
       "version_major": 2,
       "version_minor": 0
      },
      "text/plain": [
       "Running Epoch 3 of 5:   0%|          | 0/619 [00:00<?, ?it/s]"
      ]
     },
     "metadata": {},
     "output_type": "display_data"
    },
    {
     "data": {
      "application/vnd.jupyter.widget-view+json": {
       "model_id": "b21882898b9d4c41b4a19333aea7143b",
       "version_major": 2,
       "version_minor": 0
      },
      "text/plain": [
       "Running Epoch 4 of 5:   0%|          | 0/619 [00:00<?, ?it/s]"
      ]
     },
     "metadata": {},
     "output_type": "display_data"
    },
    {
     "name": "stderr",
     "output_type": "stream",
     "text": [
      "INFO:simpletransformers.classification.classification_model: Training of roberta model complete. Saved to chemberta/random_split_chemberta_models/1/.\n",
      "/home/jackievaleri8/anaconda3/lib/python3.8/site-packages/simpletransformers/classification/classification_model.py:1454: UserWarning: Dataframe headers not specified. Falling back to using column 0 as text and column 1 as labels.\n",
      "  warnings.warn(\n",
      "INFO:simpletransformers.classification.classification_utils: Converting to features started. Cache is not used.\n",
      "INFO:simpletransformers.classification.classification_utils: Saving features into cached file cache_dir/cached_dev_roberta_128_2_2\n"
     ]
    },
    {
     "data": {
      "application/vnd.jupyter.widget-view+json": {
       "model_id": "faaf97b51c9b46178308f910776e3551",
       "version_major": 2,
       "version_minor": 0
      },
      "text/plain": [
       "Running Evaluation:   0%|          | 0/484 [00:00<?, ?it/s]"
      ]
     },
     "metadata": {},
     "output_type": "display_data"
    },
    {
     "name": "stderr",
     "output_type": "stream",
     "text": [
      "INFO:simpletransformers.classification.classification_model:{'mcc': 0.36622957479551815, 'tp': 34, 'tn': 3718, 'fp': 36, 'fn': 80, 'auroc': 0.8652069371617643, 'auprc': 0.3464761662074834, 'acc': 0.9700103412616339, 'eval_loss': 0.12489294565536758}\n",
      "INFO:deepchem.splits.splitters:Computing train/valid/test indices\n",
      "INFO:deepchem.data.datasets:Constructing selection output shard 1\n",
      "INFO:deepchem.data.datasets:Selecting from input shard 1/5 for selection output shard 1\n",
      "INFO:deepchem.data.datasets:Selecting from input shard 2/5 for selection output shard 1\n",
      "INFO:deepchem.data.datasets:Selecting from input shard 3/5 for selection output shard 1\n",
      "INFO:deepchem.data.datasets:Selecting from input shard 4/5 for selection output shard 1\n",
      "INFO:deepchem.data.datasets:Selecting from input shard 5/5 for selection output shard 1\n",
      "INFO:deepchem.data.datasets:Constructing selection output shard 2\n",
      "INFO:deepchem.data.datasets:Selecting from input shard 1/5 for selection output shard 2\n",
      "INFO:deepchem.data.datasets:Selecting from input shard 2/5 for selection output shard 2\n",
      "INFO:deepchem.data.datasets:Selecting from input shard 3/5 for selection output shard 2\n",
      "INFO:deepchem.data.datasets:Selecting from input shard 4/5 for selection output shard 2\n",
      "INFO:deepchem.data.datasets:Selecting from input shard 5/5 for selection output shard 2\n"
     ]
    },
    {
     "name": "stdout",
     "output_type": "stream",
     "text": [
      "Fold: 1\n",
      "Test auROC: 0.8690811672227985\n",
      "Test auPR: 0.33447046583201445\n",
      "Seed: 2\n"
     ]
    },
    {
     "name": "stderr",
     "output_type": "stream",
     "text": [
      "INFO:deepchem.data.datasets:Constructing selection output shard 3\n",
      "INFO:deepchem.data.datasets:Selecting from input shard 1/5 for selection output shard 3\n",
      "INFO:deepchem.data.datasets:Selecting from input shard 2/5 for selection output shard 3\n",
      "INFO:deepchem.data.datasets:Selecting from input shard 3/5 for selection output shard 3\n",
      "INFO:deepchem.data.datasets:Selecting from input shard 4/5 for selection output shard 3\n",
      "INFO:deepchem.data.datasets:Selecting from input shard 5/5 for selection output shard 3\n",
      "INFO:deepchem.data.datasets:Constructing selection output shard 4\n",
      "INFO:deepchem.data.datasets:Selecting from input shard 1/5 for selection output shard 4\n",
      "INFO:deepchem.data.datasets:Selecting from input shard 2/5 for selection output shard 4\n",
      "INFO:deepchem.data.datasets:Selecting from input shard 3/5 for selection output shard 4\n",
      "INFO:deepchem.data.datasets:Selecting from input shard 4/5 for selection output shard 4\n",
      "INFO:deepchem.data.datasets:Selecting from input shard 5/5 for selection output shard 4\n",
      "INFO:deepchem.data.datasets:TIMING: dataset construction took 0.458 s\n",
      "INFO:deepchem.data.datasets:Loading dataset from disk.\n",
      "INFO:deepchem.data.datasets:Constructing selection output shard 1\n",
      "INFO:deepchem.data.datasets:Selecting from input shard 1/5 for selection output shard 1\n",
      "INFO:deepchem.data.datasets:Selecting from input shard 2/5 for selection output shard 1\n",
      "INFO:deepchem.data.datasets:Selecting from input shard 3/5 for selection output shard 1\n",
      "INFO:deepchem.data.datasets:Selecting from input shard 4/5 for selection output shard 1\n",
      "INFO:deepchem.data.datasets:Selecting from input shard 5/5 for selection output shard 1\n",
      "INFO:deepchem.data.datasets:TIMING: dataset construction took 0.071 s\n",
      "INFO:deepchem.data.datasets:Loading dataset from disk.\n",
      "INFO:deepchem.data.datasets:Constructing selection output shard 1\n",
      "INFO:deepchem.data.datasets:Selecting from input shard 1/5 for selection output shard 1\n",
      "INFO:deepchem.data.datasets:Selecting from input shard 2/5 for selection output shard 1\n",
      "INFO:deepchem.data.datasets:Selecting from input shard 3/5 for selection output shard 1\n",
      "INFO:deepchem.data.datasets:Selecting from input shard 4/5 for selection output shard 1\n",
      "INFO:deepchem.data.datasets:Selecting from input shard 5/5 for selection output shard 1\n",
      "INFO:deepchem.data.datasets:TIMING: dataset construction took 0.071 s\n",
      "INFO:deepchem.data.datasets:Loading dataset from disk.\n",
      "/home/jackievaleri8/anaconda3/lib/python3.8/site-packages/transformers/models/auto/modeling_auto.py:1177: FutureWarning: The class `AutoModelWithLMHead` is deprecated and will be removed in a future version. Please use `AutoModelForCausalLM` for causal language models, `AutoModelForMaskedLM` for masked language models and `AutoModelForSeq2SeqLM` for encoder-decoder models.\n",
      "  warnings.warn(\n",
      "Some weights of the model checkpoint at seyonec/ChemBERTa-zinc-base-v1 were not used when initializing RobertaForSequenceClassification: ['roberta.pooler.dense.weight', 'lm_head.dense.bias', 'lm_head.decoder.bias', 'lm_head.dense.weight', 'lm_head.layer_norm.bias', 'roberta.pooler.dense.bias', 'lm_head.layer_norm.weight', 'lm_head.decoder.weight', 'lm_head.bias']\n",
      "- This IS expected if you are initializing RobertaForSequenceClassification from the checkpoint of a model trained on another task or with another architecture (e.g. initializing a BertForSequenceClassification model from a BertForPreTraining model).\n",
      "- This IS NOT expected if you are initializing RobertaForSequenceClassification from the checkpoint of a model that you expect to be exactly identical (initializing a BertForSequenceClassification model from a BertForSequenceClassification model).\n",
      "Some weights of RobertaForSequenceClassification were not initialized from the model checkpoint at seyonec/ChemBERTa-zinc-base-v1 and are newly initialized: ['classifier.out_proj.bias', 'classifier.out_proj.weight', 'classifier.dense.weight', 'classifier.dense.bias']\n",
      "You should probably TRAIN this model on a down-stream task to be able to use it for predictions and inference.\n",
      "/home/jackievaleri8/anaconda3/lib/python3.8/site-packages/simpletransformers/classification/classification_model.py:612: UserWarning: Dataframe headers not specified. Falling back to using column 0 as text and column 1 as labels.\n",
      "  warnings.warn(\n",
      "INFO:simpletransformers.classification.classification_utils: Converting to features started. Cache is not used.\n",
      "INFO:simpletransformers.classification.classification_utils: Saving features into cached file cache_dir/cached_train_roberta_128_2_2\n"
     ]
    },
    {
     "data": {
      "application/vnd.jupyter.widget-view+json": {
       "model_id": "cd1f42ddb181400aad0b3002f4c3a9ad",
       "version_major": 2,
       "version_minor": 0
      },
      "text/plain": [
       "Epoch:   0%|          | 0/5 [00:00<?, ?it/s]"
      ]
     },
     "metadata": {},
     "output_type": "display_data"
    },
    {
     "data": {
      "application/vnd.jupyter.widget-view+json": {
       "model_id": "4a8870c93db844a7b4b65fa63a3c3ba1",
       "version_major": 2,
       "version_minor": 0
      },
      "text/plain": [
       "Running Epoch 0 of 5:   0%|          | 0/619 [00:00<?, ?it/s]"
      ]
     },
     "metadata": {},
     "output_type": "display_data"
    },
    {
     "data": {
      "application/vnd.jupyter.widget-view+json": {
       "model_id": "0b4d8373d7074d2e85a67f3ce152bdd2",
       "version_major": 2,
       "version_minor": 0
      },
      "text/plain": [
       "Running Epoch 1 of 5:   0%|          | 0/619 [00:00<?, ?it/s]"
      ]
     },
     "metadata": {},
     "output_type": "display_data"
    },
    {
     "data": {
      "application/vnd.jupyter.widget-view+json": {
       "model_id": "ed659a7d97474449b935de6651dd0a85",
       "version_major": 2,
       "version_minor": 0
      },
      "text/plain": [
       "Running Epoch 2 of 5:   0%|          | 0/619 [00:00<?, ?it/s]"
      ]
     },
     "metadata": {},
     "output_type": "display_data"
    },
    {
     "data": {
      "application/vnd.jupyter.widget-view+json": {
       "model_id": "e534b141805f42d4b500057d93d87581",
       "version_major": 2,
       "version_minor": 0
      },
      "text/plain": [
       "Running Epoch 3 of 5:   0%|          | 0/619 [00:00<?, ?it/s]"
      ]
     },
     "metadata": {},
     "output_type": "display_data"
    },
    {
     "data": {
      "application/vnd.jupyter.widget-view+json": {
       "model_id": "e1bef33cf0f849b087e5c08cf5c60179",
       "version_major": 2,
       "version_minor": 0
      },
      "text/plain": [
       "Running Epoch 4 of 5:   0%|          | 0/619 [00:00<?, ?it/s]"
      ]
     },
     "metadata": {},
     "output_type": "display_data"
    },
    {
     "name": "stderr",
     "output_type": "stream",
     "text": [
      "INFO:simpletransformers.classification.classification_model: Training of roberta model complete. Saved to chemberta/random_split_chemberta_models/2/.\n",
      "/home/jackievaleri8/anaconda3/lib/python3.8/site-packages/simpletransformers/classification/classification_model.py:1454: UserWarning: Dataframe headers not specified. Falling back to using column 0 as text and column 1 as labels.\n",
      "  warnings.warn(\n",
      "INFO:simpletransformers.classification.classification_utils: Converting to features started. Cache is not used.\n",
      "INFO:simpletransformers.classification.classification_utils: Saving features into cached file cache_dir/cached_dev_roberta_128_2_2\n"
     ]
    },
    {
     "data": {
      "application/vnd.jupyter.widget-view+json": {
       "model_id": "0eee970054974af0ba9c1cf87293c407",
       "version_major": 2,
       "version_minor": 0
      },
      "text/plain": [
       "Running Evaluation:   0%|          | 0/484 [00:00<?, ?it/s]"
      ]
     },
     "metadata": {},
     "output_type": "display_data"
    },
    {
     "name": "stderr",
     "output_type": "stream",
     "text": [
      "INFO:simpletransformers.classification.classification_model:{'mcc': 0.4084672010819655, 'tp': 36, 'tn': 3728, 'fp': 31, 'fn': 73, 'auroc': 0.8791707242068577, 'auprc': 0.3747526504238062, 'acc': 0.9731127197518097, 'eval_loss': 0.11321900083013803}\n",
      "INFO:deepchem.splits.splitters:Computing train/valid/test indices\n",
      "INFO:deepchem.data.datasets:Constructing selection output shard 1\n",
      "INFO:deepchem.data.datasets:Selecting from input shard 1/5 for selection output shard 1\n",
      "INFO:deepchem.data.datasets:Selecting from input shard 2/5 for selection output shard 1\n",
      "INFO:deepchem.data.datasets:Selecting from input shard 3/5 for selection output shard 1\n",
      "INFO:deepchem.data.datasets:Selecting from input shard 4/5 for selection output shard 1\n",
      "INFO:deepchem.data.datasets:Selecting from input shard 5/5 for selection output shard 1\n",
      "INFO:deepchem.data.datasets:Constructing selection output shard 2\n",
      "INFO:deepchem.data.datasets:Selecting from input shard 1/5 for selection output shard 2\n",
      "INFO:deepchem.data.datasets:Selecting from input shard 2/5 for selection output shard 2\n",
      "INFO:deepchem.data.datasets:Selecting from input shard 3/5 for selection output shard 2\n",
      "INFO:deepchem.data.datasets:Selecting from input shard 4/5 for selection output shard 2\n",
      "INFO:deepchem.data.datasets:Selecting from input shard 5/5 for selection output shard 2\n"
     ]
    },
    {
     "name": "stdout",
     "output_type": "stream",
     "text": [
      "Fold: 2\n",
      "Test auROC: 0.8732278006789821\n",
      "Test auPR: 0.3735426870203861\n",
      "Seed: 3\n"
     ]
    },
    {
     "name": "stderr",
     "output_type": "stream",
     "text": [
      "INFO:deepchem.data.datasets:Constructing selection output shard 3\n",
      "INFO:deepchem.data.datasets:Selecting from input shard 1/5 for selection output shard 3\n",
      "INFO:deepchem.data.datasets:Selecting from input shard 2/5 for selection output shard 3\n",
      "INFO:deepchem.data.datasets:Selecting from input shard 3/5 for selection output shard 3\n",
      "INFO:deepchem.data.datasets:Selecting from input shard 4/5 for selection output shard 3\n",
      "INFO:deepchem.data.datasets:Selecting from input shard 5/5 for selection output shard 3\n",
      "INFO:deepchem.data.datasets:Constructing selection output shard 4\n",
      "INFO:deepchem.data.datasets:Selecting from input shard 1/5 for selection output shard 4\n",
      "INFO:deepchem.data.datasets:Selecting from input shard 2/5 for selection output shard 4\n",
      "INFO:deepchem.data.datasets:Selecting from input shard 3/5 for selection output shard 4\n",
      "INFO:deepchem.data.datasets:Selecting from input shard 4/5 for selection output shard 4\n",
      "INFO:deepchem.data.datasets:Selecting from input shard 5/5 for selection output shard 4\n",
      "INFO:deepchem.data.datasets:TIMING: dataset construction took 0.469 s\n",
      "INFO:deepchem.data.datasets:Loading dataset from disk.\n",
      "INFO:deepchem.data.datasets:Constructing selection output shard 1\n",
      "INFO:deepchem.data.datasets:Selecting from input shard 1/5 for selection output shard 1\n",
      "INFO:deepchem.data.datasets:Selecting from input shard 2/5 for selection output shard 1\n",
      "INFO:deepchem.data.datasets:Selecting from input shard 3/5 for selection output shard 1\n",
      "INFO:deepchem.data.datasets:Selecting from input shard 4/5 for selection output shard 1\n",
      "INFO:deepchem.data.datasets:Selecting from input shard 5/5 for selection output shard 1\n",
      "INFO:deepchem.data.datasets:TIMING: dataset construction took 0.072 s\n",
      "INFO:deepchem.data.datasets:Loading dataset from disk.\n",
      "INFO:deepchem.data.datasets:Constructing selection output shard 1\n",
      "INFO:deepchem.data.datasets:Selecting from input shard 1/5 for selection output shard 1\n",
      "INFO:deepchem.data.datasets:Selecting from input shard 2/5 for selection output shard 1\n",
      "INFO:deepchem.data.datasets:Selecting from input shard 3/5 for selection output shard 1\n",
      "INFO:deepchem.data.datasets:Selecting from input shard 4/5 for selection output shard 1\n",
      "INFO:deepchem.data.datasets:Selecting from input shard 5/5 for selection output shard 1\n",
      "INFO:deepchem.data.datasets:TIMING: dataset construction took 0.073 s\n",
      "INFO:deepchem.data.datasets:Loading dataset from disk.\n",
      "/home/jackievaleri8/anaconda3/lib/python3.8/site-packages/transformers/models/auto/modeling_auto.py:1177: FutureWarning: The class `AutoModelWithLMHead` is deprecated and will be removed in a future version. Please use `AutoModelForCausalLM` for causal language models, `AutoModelForMaskedLM` for masked language models and `AutoModelForSeq2SeqLM` for encoder-decoder models.\n",
      "  warnings.warn(\n",
      "Some weights of the model checkpoint at seyonec/ChemBERTa-zinc-base-v1 were not used when initializing RobertaForSequenceClassification: ['roberta.pooler.dense.weight', 'lm_head.dense.bias', 'lm_head.decoder.bias', 'lm_head.dense.weight', 'lm_head.layer_norm.bias', 'roberta.pooler.dense.bias', 'lm_head.layer_norm.weight', 'lm_head.decoder.weight', 'lm_head.bias']\n",
      "- This IS expected if you are initializing RobertaForSequenceClassification from the checkpoint of a model trained on another task or with another architecture (e.g. initializing a BertForSequenceClassification model from a BertForPreTraining model).\n",
      "- This IS NOT expected if you are initializing RobertaForSequenceClassification from the checkpoint of a model that you expect to be exactly identical (initializing a BertForSequenceClassification model from a BertForSequenceClassification model).\n",
      "Some weights of RobertaForSequenceClassification were not initialized from the model checkpoint at seyonec/ChemBERTa-zinc-base-v1 and are newly initialized: ['classifier.out_proj.bias', 'classifier.out_proj.weight', 'classifier.dense.weight', 'classifier.dense.bias']\n",
      "You should probably TRAIN this model on a down-stream task to be able to use it for predictions and inference.\n",
      "/home/jackievaleri8/anaconda3/lib/python3.8/site-packages/simpletransformers/classification/classification_model.py:612: UserWarning: Dataframe headers not specified. Falling back to using column 0 as text and column 1 as labels.\n",
      "  warnings.warn(\n",
      "INFO:simpletransformers.classification.classification_utils: Converting to features started. Cache is not used.\n",
      "INFO:simpletransformers.classification.classification_utils: Saving features into cached file cache_dir/cached_train_roberta_128_2_2\n"
     ]
    },
    {
     "data": {
      "application/vnd.jupyter.widget-view+json": {
       "model_id": "7807eca1bec64632a2497bf6cf12ae92",
       "version_major": 2,
       "version_minor": 0
      },
      "text/plain": [
       "Epoch:   0%|          | 0/5 [00:00<?, ?it/s]"
      ]
     },
     "metadata": {},
     "output_type": "display_data"
    },
    {
     "data": {
      "application/vnd.jupyter.widget-view+json": {
       "model_id": "e573277d19c14f7592d40be10acb9f52",
       "version_major": 2,
       "version_minor": 0
      },
      "text/plain": [
       "Running Epoch 0 of 5:   0%|          | 0/619 [00:00<?, ?it/s]"
      ]
     },
     "metadata": {},
     "output_type": "display_data"
    },
    {
     "data": {
      "application/vnd.jupyter.widget-view+json": {
       "model_id": "2b648ee2a40e4a759ec8b0ba9e30b4f8",
       "version_major": 2,
       "version_minor": 0
      },
      "text/plain": [
       "Running Epoch 1 of 5:   0%|          | 0/619 [00:00<?, ?it/s]"
      ]
     },
     "metadata": {},
     "output_type": "display_data"
    },
    {
     "data": {
      "application/vnd.jupyter.widget-view+json": {
       "model_id": "c411735974ad40bfa9e03dd940699253",
       "version_major": 2,
       "version_minor": 0
      },
      "text/plain": [
       "Running Epoch 2 of 5:   0%|          | 0/619 [00:00<?, ?it/s]"
      ]
     },
     "metadata": {},
     "output_type": "display_data"
    },
    {
     "data": {
      "application/vnd.jupyter.widget-view+json": {
       "model_id": "198c9649d45b45928238bb4651e57fe6",
       "version_major": 2,
       "version_minor": 0
      },
      "text/plain": [
       "Running Epoch 3 of 5:   0%|          | 0/619 [00:00<?, ?it/s]"
      ]
     },
     "metadata": {},
     "output_type": "display_data"
    },
    {
     "data": {
      "application/vnd.jupyter.widget-view+json": {
       "model_id": "0288f7dc439449bbbf1c89da6cd846ff",
       "version_major": 2,
       "version_minor": 0
      },
      "text/plain": [
       "Running Epoch 4 of 5:   0%|          | 0/619 [00:00<?, ?it/s]"
      ]
     },
     "metadata": {},
     "output_type": "display_data"
    },
    {
     "name": "stderr",
     "output_type": "stream",
     "text": [
      "INFO:simpletransformers.classification.classification_model: Training of roberta model complete. Saved to chemberta/random_split_chemberta_models/3/.\n",
      "/home/jackievaleri8/anaconda3/lib/python3.8/site-packages/simpletransformers/classification/classification_model.py:1454: UserWarning: Dataframe headers not specified. Falling back to using column 0 as text and column 1 as labels.\n",
      "  warnings.warn(\n",
      "INFO:simpletransformers.classification.classification_utils: Converting to features started. Cache is not used.\n",
      "INFO:simpletransformers.classification.classification_utils: Saving features into cached file cache_dir/cached_dev_roberta_128_2_2\n"
     ]
    },
    {
     "data": {
      "application/vnd.jupyter.widget-view+json": {
       "model_id": "3ad2f0fe98b34af3b57749da9aa55f67",
       "version_major": 2,
       "version_minor": 0
      },
      "text/plain": [
       "Running Evaluation:   0%|          | 0/484 [00:00<?, ?it/s]"
      ]
     },
     "metadata": {},
     "output_type": "display_data"
    },
    {
     "name": "stderr",
     "output_type": "stream",
     "text": [
      "INFO:simpletransformers.classification.classification_model:{'mcc': 0.41646871257630363, 'tp': 37, 'tn': 3723, 'fp': 25, 'fn': 83, 'auroc': 0.8699884382781928, 'auprc': 0.4014741286060472, 'acc': 0.9720785935884177, 'eval_loss': 0.12369345599585328}\n",
      "INFO:deepchem.splits.splitters:Computing train/valid/test indices\n",
      "INFO:deepchem.data.datasets:Constructing selection output shard 1\n",
      "INFO:deepchem.data.datasets:Selecting from input shard 1/5 for selection output shard 1\n",
      "INFO:deepchem.data.datasets:Selecting from input shard 2/5 for selection output shard 1\n",
      "INFO:deepchem.data.datasets:Selecting from input shard 3/5 for selection output shard 1\n",
      "INFO:deepchem.data.datasets:Selecting from input shard 4/5 for selection output shard 1\n",
      "INFO:deepchem.data.datasets:Selecting from input shard 5/5 for selection output shard 1\n",
      "INFO:deepchem.data.datasets:Constructing selection output shard 2\n",
      "INFO:deepchem.data.datasets:Selecting from input shard 1/5 for selection output shard 2\n",
      "INFO:deepchem.data.datasets:Selecting from input shard 2/5 for selection output shard 2\n",
      "INFO:deepchem.data.datasets:Selecting from input shard 3/5 for selection output shard 2\n",
      "INFO:deepchem.data.datasets:Selecting from input shard 4/5 for selection output shard 2\n",
      "INFO:deepchem.data.datasets:Selecting from input shard 5/5 for selection output shard 2\n"
     ]
    },
    {
     "name": "stdout",
     "output_type": "stream",
     "text": [
      "Fold: 3\n",
      "Test auROC: 0.8671280238349341\n",
      "Test auPR: 0.39591215829509263\n",
      "Seed: 4\n"
     ]
    },
    {
     "name": "stderr",
     "output_type": "stream",
     "text": [
      "INFO:deepchem.data.datasets:Constructing selection output shard 3\n",
      "INFO:deepchem.data.datasets:Selecting from input shard 1/5 for selection output shard 3\n",
      "INFO:deepchem.data.datasets:Selecting from input shard 2/5 for selection output shard 3\n",
      "INFO:deepchem.data.datasets:Selecting from input shard 3/5 for selection output shard 3\n",
      "INFO:deepchem.data.datasets:Selecting from input shard 4/5 for selection output shard 3\n",
      "INFO:deepchem.data.datasets:Selecting from input shard 5/5 for selection output shard 3\n",
      "INFO:deepchem.data.datasets:Constructing selection output shard 4\n",
      "INFO:deepchem.data.datasets:Selecting from input shard 1/5 for selection output shard 4\n",
      "INFO:deepchem.data.datasets:Selecting from input shard 2/5 for selection output shard 4\n",
      "INFO:deepchem.data.datasets:Selecting from input shard 3/5 for selection output shard 4\n",
      "INFO:deepchem.data.datasets:Selecting from input shard 4/5 for selection output shard 4\n",
      "INFO:deepchem.data.datasets:Selecting from input shard 5/5 for selection output shard 4\n",
      "INFO:deepchem.data.datasets:TIMING: dataset construction took 0.471 s\n",
      "INFO:deepchem.data.datasets:Loading dataset from disk.\n",
      "INFO:deepchem.data.datasets:Constructing selection output shard 1\n",
      "INFO:deepchem.data.datasets:Selecting from input shard 1/5 for selection output shard 1\n",
      "INFO:deepchem.data.datasets:Selecting from input shard 2/5 for selection output shard 1\n",
      "INFO:deepchem.data.datasets:Selecting from input shard 3/5 for selection output shard 1\n",
      "INFO:deepchem.data.datasets:Selecting from input shard 4/5 for selection output shard 1\n",
      "INFO:deepchem.data.datasets:Selecting from input shard 5/5 for selection output shard 1\n",
      "INFO:deepchem.data.datasets:TIMING: dataset construction took 0.073 s\n",
      "INFO:deepchem.data.datasets:Loading dataset from disk.\n",
      "INFO:deepchem.data.datasets:Constructing selection output shard 1\n",
      "INFO:deepchem.data.datasets:Selecting from input shard 1/5 for selection output shard 1\n",
      "INFO:deepchem.data.datasets:Selecting from input shard 2/5 for selection output shard 1\n",
      "INFO:deepchem.data.datasets:Selecting from input shard 3/5 for selection output shard 1\n",
      "INFO:deepchem.data.datasets:Selecting from input shard 4/5 for selection output shard 1\n",
      "INFO:deepchem.data.datasets:Selecting from input shard 5/5 for selection output shard 1\n",
      "INFO:deepchem.data.datasets:TIMING: dataset construction took 0.072 s\n",
      "INFO:deepchem.data.datasets:Loading dataset from disk.\n",
      "/home/jackievaleri8/anaconda3/lib/python3.8/site-packages/transformers/models/auto/modeling_auto.py:1177: FutureWarning: The class `AutoModelWithLMHead` is deprecated and will be removed in a future version. Please use `AutoModelForCausalLM` for causal language models, `AutoModelForMaskedLM` for masked language models and `AutoModelForSeq2SeqLM` for encoder-decoder models.\n",
      "  warnings.warn(\n",
      "Some weights of the model checkpoint at seyonec/ChemBERTa-zinc-base-v1 were not used when initializing RobertaForSequenceClassification: ['roberta.pooler.dense.weight', 'lm_head.dense.bias', 'lm_head.decoder.bias', 'lm_head.dense.weight', 'lm_head.layer_norm.bias', 'roberta.pooler.dense.bias', 'lm_head.layer_norm.weight', 'lm_head.decoder.weight', 'lm_head.bias']\n",
      "- This IS expected if you are initializing RobertaForSequenceClassification from the checkpoint of a model trained on another task or with another architecture (e.g. initializing a BertForSequenceClassification model from a BertForPreTraining model).\n",
      "- This IS NOT expected if you are initializing RobertaForSequenceClassification from the checkpoint of a model that you expect to be exactly identical (initializing a BertForSequenceClassification model from a BertForSequenceClassification model).\n",
      "Some weights of RobertaForSequenceClassification were not initialized from the model checkpoint at seyonec/ChemBERTa-zinc-base-v1 and are newly initialized: ['classifier.out_proj.bias', 'classifier.out_proj.weight', 'classifier.dense.weight', 'classifier.dense.bias']\n",
      "You should probably TRAIN this model on a down-stream task to be able to use it for predictions and inference.\n",
      "/home/jackievaleri8/anaconda3/lib/python3.8/site-packages/simpletransformers/classification/classification_model.py:612: UserWarning: Dataframe headers not specified. Falling back to using column 0 as text and column 1 as labels.\n",
      "  warnings.warn(\n",
      "INFO:simpletransformers.classification.classification_utils: Converting to features started. Cache is not used.\n",
      "INFO:simpletransformers.classification.classification_utils: Saving features into cached file cache_dir/cached_train_roberta_128_2_2\n"
     ]
    },
    {
     "data": {
      "application/vnd.jupyter.widget-view+json": {
       "model_id": "aef35d9aaf184c89b40ca40b3165deba",
       "version_major": 2,
       "version_minor": 0
      },
      "text/plain": [
       "Epoch:   0%|          | 0/5 [00:00<?, ?it/s]"
      ]
     },
     "metadata": {},
     "output_type": "display_data"
    },
    {
     "data": {
      "application/vnd.jupyter.widget-view+json": {
       "model_id": "f0854a4217d447669211377c516e2fa3",
       "version_major": 2,
       "version_minor": 0
      },
      "text/plain": [
       "Running Epoch 0 of 5:   0%|          | 0/619 [00:00<?, ?it/s]"
      ]
     },
     "metadata": {},
     "output_type": "display_data"
    },
    {
     "data": {
      "application/vnd.jupyter.widget-view+json": {
       "model_id": "398d09b4916a4d0d849e626f61262246",
       "version_major": 2,
       "version_minor": 0
      },
      "text/plain": [
       "Running Epoch 1 of 5:   0%|          | 0/619 [00:00<?, ?it/s]"
      ]
     },
     "metadata": {},
     "output_type": "display_data"
    },
    {
     "data": {
      "application/vnd.jupyter.widget-view+json": {
       "model_id": "38a175cd6f694b46b842f4b9989e95ed",
       "version_major": 2,
       "version_minor": 0
      },
      "text/plain": [
       "Running Epoch 2 of 5:   0%|          | 0/619 [00:00<?, ?it/s]"
      ]
     },
     "metadata": {},
     "output_type": "display_data"
    },
    {
     "data": {
      "application/vnd.jupyter.widget-view+json": {
       "model_id": "ff2e78de8e934440abf0eb89ff3568ab",
       "version_major": 2,
       "version_minor": 0
      },
      "text/plain": [
       "Running Epoch 3 of 5:   0%|          | 0/619 [00:00<?, ?it/s]"
      ]
     },
     "metadata": {},
     "output_type": "display_data"
    },
    {
     "data": {
      "application/vnd.jupyter.widget-view+json": {
       "model_id": "9d046ea4a456421cb4a5db1a7f471e9d",
       "version_major": 2,
       "version_minor": 0
      },
      "text/plain": [
       "Running Epoch 4 of 5:   0%|          | 0/619 [00:00<?, ?it/s]"
      ]
     },
     "metadata": {},
     "output_type": "display_data"
    },
    {
     "name": "stderr",
     "output_type": "stream",
     "text": [
      "INFO:simpletransformers.classification.classification_model: Training of roberta model complete. Saved to chemberta/random_split_chemberta_models/4/.\n",
      "/home/jackievaleri8/anaconda3/lib/python3.8/site-packages/simpletransformers/classification/classification_model.py:1454: UserWarning: Dataframe headers not specified. Falling back to using column 0 as text and column 1 as labels.\n",
      "  warnings.warn(\n",
      "INFO:simpletransformers.classification.classification_utils: Converting to features started. Cache is not used.\n",
      "INFO:simpletransformers.classification.classification_utils: Saving features into cached file cache_dir/cached_dev_roberta_128_2_2\n"
     ]
    },
    {
     "data": {
      "application/vnd.jupyter.widget-view+json": {
       "model_id": "31e8d77290114a859678e321fc6ed292",
       "version_major": 2,
       "version_minor": 0
      },
      "text/plain": [
       "Running Evaluation:   0%|          | 0/484 [00:00<?, ?it/s]"
      ]
     },
     "metadata": {},
     "output_type": "display_data"
    },
    {
     "name": "stderr",
     "output_type": "stream",
     "text": [
      "INFO:simpletransformers.classification.classification_model:{'mcc': 0.4044098154174005, 'tp': 33, 'tn': 3737, 'fp': 28, 'fn': 70, 'auroc': 0.9038435255740791, 'auprc': 0.37977385772597, 'acc': 0.9746639089968976, 'eval_loss': 0.10158972817757898}\n",
      "INFO:deepchem.splits.splitters:Computing train/valid/test indices\n",
      "INFO:deepchem.data.datasets:Constructing selection output shard 1\n",
      "INFO:deepchem.data.datasets:Selecting from input shard 1/5 for selection output shard 1\n",
      "INFO:deepchem.data.datasets:Selecting from input shard 2/5 for selection output shard 1\n",
      "INFO:deepchem.data.datasets:Selecting from input shard 3/5 for selection output shard 1\n",
      "INFO:deepchem.data.datasets:Selecting from input shard 4/5 for selection output shard 1\n",
      "INFO:deepchem.data.datasets:Selecting from input shard 5/5 for selection output shard 1\n",
      "INFO:deepchem.data.datasets:Constructing selection output shard 2\n",
      "INFO:deepchem.data.datasets:Selecting from input shard 1/5 for selection output shard 2\n",
      "INFO:deepchem.data.datasets:Selecting from input shard 2/5 for selection output shard 2\n",
      "INFO:deepchem.data.datasets:Selecting from input shard 3/5 for selection output shard 2\n",
      "INFO:deepchem.data.datasets:Selecting from input shard 4/5 for selection output shard 2\n",
      "INFO:deepchem.data.datasets:Selecting from input shard 5/5 for selection output shard 2\n"
     ]
    },
    {
     "name": "stdout",
     "output_type": "stream",
     "text": [
      "Fold: 4\n",
      "Test auROC: 0.9015188437189752\n",
      "Test auPR: 0.37348241510872265\n",
      "Seed: 5\n"
     ]
    },
    {
     "name": "stderr",
     "output_type": "stream",
     "text": [
      "INFO:deepchem.data.datasets:Constructing selection output shard 3\n",
      "INFO:deepchem.data.datasets:Selecting from input shard 1/5 for selection output shard 3\n",
      "INFO:deepchem.data.datasets:Selecting from input shard 2/5 for selection output shard 3\n",
      "INFO:deepchem.data.datasets:Selecting from input shard 3/5 for selection output shard 3\n",
      "INFO:deepchem.data.datasets:Selecting from input shard 4/5 for selection output shard 3\n",
      "INFO:deepchem.data.datasets:Selecting from input shard 5/5 for selection output shard 3\n",
      "INFO:deepchem.data.datasets:Constructing selection output shard 4\n",
      "INFO:deepchem.data.datasets:Selecting from input shard 1/5 for selection output shard 4\n",
      "INFO:deepchem.data.datasets:Selecting from input shard 2/5 for selection output shard 4\n",
      "INFO:deepchem.data.datasets:Selecting from input shard 3/5 for selection output shard 4\n",
      "INFO:deepchem.data.datasets:Selecting from input shard 4/5 for selection output shard 4\n",
      "INFO:deepchem.data.datasets:Selecting from input shard 5/5 for selection output shard 4\n",
      "INFO:deepchem.data.datasets:TIMING: dataset construction took 0.468 s\n",
      "INFO:deepchem.data.datasets:Loading dataset from disk.\n",
      "INFO:deepchem.data.datasets:Constructing selection output shard 1\n",
      "INFO:deepchem.data.datasets:Selecting from input shard 1/5 for selection output shard 1\n",
      "INFO:deepchem.data.datasets:Selecting from input shard 2/5 for selection output shard 1\n",
      "INFO:deepchem.data.datasets:Selecting from input shard 3/5 for selection output shard 1\n",
      "INFO:deepchem.data.datasets:Selecting from input shard 4/5 for selection output shard 1\n",
      "INFO:deepchem.data.datasets:Selecting from input shard 5/5 for selection output shard 1\n",
      "INFO:deepchem.data.datasets:TIMING: dataset construction took 0.072 s\n",
      "INFO:deepchem.data.datasets:Loading dataset from disk.\n",
      "INFO:deepchem.data.datasets:Constructing selection output shard 1\n",
      "INFO:deepchem.data.datasets:Selecting from input shard 1/5 for selection output shard 1\n",
      "INFO:deepchem.data.datasets:Selecting from input shard 2/5 for selection output shard 1\n",
      "INFO:deepchem.data.datasets:Selecting from input shard 3/5 for selection output shard 1\n",
      "INFO:deepchem.data.datasets:Selecting from input shard 4/5 for selection output shard 1\n",
      "INFO:deepchem.data.datasets:Selecting from input shard 5/5 for selection output shard 1\n",
      "INFO:deepchem.data.datasets:TIMING: dataset construction took 0.071 s\n",
      "INFO:deepchem.data.datasets:Loading dataset from disk.\n",
      "/home/jackievaleri8/anaconda3/lib/python3.8/site-packages/transformers/models/auto/modeling_auto.py:1177: FutureWarning: The class `AutoModelWithLMHead` is deprecated and will be removed in a future version. Please use `AutoModelForCausalLM` for causal language models, `AutoModelForMaskedLM` for masked language models and `AutoModelForSeq2SeqLM` for encoder-decoder models.\n",
      "  warnings.warn(\n",
      "Some weights of the model checkpoint at seyonec/ChemBERTa-zinc-base-v1 were not used when initializing RobertaForSequenceClassification: ['roberta.pooler.dense.weight', 'lm_head.dense.bias', 'lm_head.decoder.bias', 'lm_head.dense.weight', 'lm_head.layer_norm.bias', 'roberta.pooler.dense.bias', 'lm_head.layer_norm.weight', 'lm_head.decoder.weight', 'lm_head.bias']\n",
      "- This IS expected if you are initializing RobertaForSequenceClassification from the checkpoint of a model trained on another task or with another architecture (e.g. initializing a BertForSequenceClassification model from a BertForPreTraining model).\n",
      "- This IS NOT expected if you are initializing RobertaForSequenceClassification from the checkpoint of a model that you expect to be exactly identical (initializing a BertForSequenceClassification model from a BertForSequenceClassification model).\n",
      "Some weights of RobertaForSequenceClassification were not initialized from the model checkpoint at seyonec/ChemBERTa-zinc-base-v1 and are newly initialized: ['classifier.out_proj.bias', 'classifier.out_proj.weight', 'classifier.dense.weight', 'classifier.dense.bias']\n",
      "You should probably TRAIN this model on a down-stream task to be able to use it for predictions and inference.\n",
      "/home/jackievaleri8/anaconda3/lib/python3.8/site-packages/simpletransformers/classification/classification_model.py:612: UserWarning: Dataframe headers not specified. Falling back to using column 0 as text and column 1 as labels.\n",
      "  warnings.warn(\n",
      "INFO:simpletransformers.classification.classification_utils: Converting to features started. Cache is not used.\n",
      "INFO:simpletransformers.classification.classification_utils: Saving features into cached file cache_dir/cached_train_roberta_128_2_2\n"
     ]
    },
    {
     "data": {
      "application/vnd.jupyter.widget-view+json": {
       "model_id": "e52daffc5c6643cdade387228c614717",
       "version_major": 2,
       "version_minor": 0
      },
      "text/plain": [
       "Epoch:   0%|          | 0/5 [00:00<?, ?it/s]"
      ]
     },
     "metadata": {},
     "output_type": "display_data"
    },
    {
     "data": {
      "application/vnd.jupyter.widget-view+json": {
       "model_id": "8b2ab450758b4fe7b5e05892b58b2d7e",
       "version_major": 2,
       "version_minor": 0
      },
      "text/plain": [
       "Running Epoch 0 of 5:   0%|          | 0/619 [00:00<?, ?it/s]"
      ]
     },
     "metadata": {},
     "output_type": "display_data"
    },
    {
     "data": {
      "application/vnd.jupyter.widget-view+json": {
       "model_id": "7c27c91e035545e79908f2b793b28983",
       "version_major": 2,
       "version_minor": 0
      },
      "text/plain": [
       "Running Epoch 1 of 5:   0%|          | 0/619 [00:00<?, ?it/s]"
      ]
     },
     "metadata": {},
     "output_type": "display_data"
    },
    {
     "data": {
      "application/vnd.jupyter.widget-view+json": {
       "model_id": "50380a707e57443898e7d0f711b6b7b2",
       "version_major": 2,
       "version_minor": 0
      },
      "text/plain": [
       "Running Epoch 2 of 5:   0%|          | 0/619 [00:00<?, ?it/s]"
      ]
     },
     "metadata": {},
     "output_type": "display_data"
    },
    {
     "data": {
      "application/vnd.jupyter.widget-view+json": {
       "model_id": "0aa6df24b9e049c5a647c265f500b3d9",
       "version_major": 2,
       "version_minor": 0
      },
      "text/plain": [
       "Running Epoch 3 of 5:   0%|          | 0/619 [00:00<?, ?it/s]"
      ]
     },
     "metadata": {},
     "output_type": "display_data"
    },
    {
     "data": {
      "application/vnd.jupyter.widget-view+json": {
       "model_id": "8d49341eeb324a7d9e5aa38f5435c828",
       "version_major": 2,
       "version_minor": 0
      },
      "text/plain": [
       "Running Epoch 4 of 5:   0%|          | 0/619 [00:00<?, ?it/s]"
      ]
     },
     "metadata": {},
     "output_type": "display_data"
    },
    {
     "name": "stderr",
     "output_type": "stream",
     "text": [
      "INFO:simpletransformers.classification.classification_model: Training of roberta model complete. Saved to chemberta/random_split_chemberta_models/5/.\n",
      "/home/jackievaleri8/anaconda3/lib/python3.8/site-packages/simpletransformers/classification/classification_model.py:1454: UserWarning: Dataframe headers not specified. Falling back to using column 0 as text and column 1 as labels.\n",
      "  warnings.warn(\n",
      "INFO:simpletransformers.classification.classification_utils: Converting to features started. Cache is not used.\n",
      "INFO:simpletransformers.classification.classification_utils: Saving features into cached file cache_dir/cached_dev_roberta_128_2_2\n"
     ]
    },
    {
     "data": {
      "application/vnd.jupyter.widget-view+json": {
       "model_id": "7068a6bada064da7958ad7f675a1e90e",
       "version_major": 2,
       "version_minor": 0
      },
      "text/plain": [
       "Running Evaluation:   0%|          | 0/484 [00:00<?, ?it/s]"
      ]
     },
     "metadata": {},
     "output_type": "display_data"
    },
    {
     "name": "stderr",
     "output_type": "stream",
     "text": [
      "INFO:simpletransformers.classification.classification_model:{'mcc': 0.46735984359102867, 'tp': 48, 'tn': 3708, 'fp': 27, 'fn': 85, 'auroc': 0.9045364415053698, 'auprc': 0.46882421221867315, 'acc': 0.9710444674250258, 'eval_loss': 0.1218781506658093}\n",
      "INFO:deepchem.splits.splitters:Computing train/valid/test indices\n",
      "INFO:deepchem.data.datasets:Constructing selection output shard 1\n",
      "INFO:deepchem.data.datasets:Selecting from input shard 1/5 for selection output shard 1\n",
      "INFO:deepchem.data.datasets:Selecting from input shard 2/5 for selection output shard 1\n",
      "INFO:deepchem.data.datasets:Selecting from input shard 3/5 for selection output shard 1\n",
      "INFO:deepchem.data.datasets:Selecting from input shard 4/5 for selection output shard 1\n",
      "INFO:deepchem.data.datasets:Selecting from input shard 5/5 for selection output shard 1\n",
      "INFO:deepchem.data.datasets:Constructing selection output shard 2\n",
      "INFO:deepchem.data.datasets:Selecting from input shard 1/5 for selection output shard 2\n",
      "INFO:deepchem.data.datasets:Selecting from input shard 2/5 for selection output shard 2\n",
      "INFO:deepchem.data.datasets:Selecting from input shard 3/5 for selection output shard 2\n",
      "INFO:deepchem.data.datasets:Selecting from input shard 4/5 for selection output shard 2\n",
      "INFO:deepchem.data.datasets:Selecting from input shard 5/5 for selection output shard 2\n"
     ]
    },
    {
     "name": "stdout",
     "output_type": "stream",
     "text": [
      "Fold: 5\n",
      "Test auROC: 0.9095691034815956\n",
      "Test auPR: 0.47197386463143676\n",
      "Seed: 6\n"
     ]
    },
    {
     "name": "stderr",
     "output_type": "stream",
     "text": [
      "INFO:deepchem.data.datasets:Constructing selection output shard 3\n",
      "INFO:deepchem.data.datasets:Selecting from input shard 1/5 for selection output shard 3\n",
      "INFO:deepchem.data.datasets:Selecting from input shard 2/5 for selection output shard 3\n",
      "INFO:deepchem.data.datasets:Selecting from input shard 3/5 for selection output shard 3\n",
      "INFO:deepchem.data.datasets:Selecting from input shard 4/5 for selection output shard 3\n",
      "INFO:deepchem.data.datasets:Selecting from input shard 5/5 for selection output shard 3\n",
      "INFO:deepchem.data.datasets:Constructing selection output shard 4\n",
      "INFO:deepchem.data.datasets:Selecting from input shard 1/5 for selection output shard 4\n",
      "INFO:deepchem.data.datasets:Selecting from input shard 2/5 for selection output shard 4\n",
      "INFO:deepchem.data.datasets:Selecting from input shard 3/5 for selection output shard 4\n",
      "INFO:deepchem.data.datasets:Selecting from input shard 4/5 for selection output shard 4\n",
      "INFO:deepchem.data.datasets:Selecting from input shard 5/5 for selection output shard 4\n",
      "INFO:deepchem.data.datasets:TIMING: dataset construction took 0.464 s\n",
      "INFO:deepchem.data.datasets:Loading dataset from disk.\n",
      "INFO:deepchem.data.datasets:Constructing selection output shard 1\n",
      "INFO:deepchem.data.datasets:Selecting from input shard 1/5 for selection output shard 1\n",
      "INFO:deepchem.data.datasets:Selecting from input shard 2/5 for selection output shard 1\n",
      "INFO:deepchem.data.datasets:Selecting from input shard 3/5 for selection output shard 1\n",
      "INFO:deepchem.data.datasets:Selecting from input shard 4/5 for selection output shard 1\n",
      "INFO:deepchem.data.datasets:Selecting from input shard 5/5 for selection output shard 1\n",
      "INFO:deepchem.data.datasets:TIMING: dataset construction took 0.071 s\n",
      "INFO:deepchem.data.datasets:Loading dataset from disk.\n",
      "INFO:deepchem.data.datasets:Constructing selection output shard 1\n",
      "INFO:deepchem.data.datasets:Selecting from input shard 1/5 for selection output shard 1\n",
      "INFO:deepchem.data.datasets:Selecting from input shard 2/5 for selection output shard 1\n",
      "INFO:deepchem.data.datasets:Selecting from input shard 3/5 for selection output shard 1\n",
      "INFO:deepchem.data.datasets:Selecting from input shard 4/5 for selection output shard 1\n",
      "INFO:deepchem.data.datasets:Selecting from input shard 5/5 for selection output shard 1\n",
      "INFO:deepchem.data.datasets:TIMING: dataset construction took 0.069 s\n",
      "INFO:deepchem.data.datasets:Loading dataset from disk.\n",
      "/home/jackievaleri8/anaconda3/lib/python3.8/site-packages/transformers/models/auto/modeling_auto.py:1177: FutureWarning: The class `AutoModelWithLMHead` is deprecated and will be removed in a future version. Please use `AutoModelForCausalLM` for causal language models, `AutoModelForMaskedLM` for masked language models and `AutoModelForSeq2SeqLM` for encoder-decoder models.\n",
      "  warnings.warn(\n",
      "Some weights of the model checkpoint at seyonec/ChemBERTa-zinc-base-v1 were not used when initializing RobertaForSequenceClassification: ['roberta.pooler.dense.weight', 'lm_head.dense.bias', 'lm_head.decoder.bias', 'lm_head.dense.weight', 'lm_head.layer_norm.bias', 'roberta.pooler.dense.bias', 'lm_head.layer_norm.weight', 'lm_head.decoder.weight', 'lm_head.bias']\n",
      "- This IS expected if you are initializing RobertaForSequenceClassification from the checkpoint of a model trained on another task or with another architecture (e.g. initializing a BertForSequenceClassification model from a BertForPreTraining model).\n",
      "- This IS NOT expected if you are initializing RobertaForSequenceClassification from the checkpoint of a model that you expect to be exactly identical (initializing a BertForSequenceClassification model from a BertForSequenceClassification model).\n",
      "Some weights of RobertaForSequenceClassification were not initialized from the model checkpoint at seyonec/ChemBERTa-zinc-base-v1 and are newly initialized: ['classifier.out_proj.bias', 'classifier.out_proj.weight', 'classifier.dense.weight', 'classifier.dense.bias']\n",
      "You should probably TRAIN this model on a down-stream task to be able to use it for predictions and inference.\n",
      "/home/jackievaleri8/anaconda3/lib/python3.8/site-packages/simpletransformers/classification/classification_model.py:612: UserWarning: Dataframe headers not specified. Falling back to using column 0 as text and column 1 as labels.\n",
      "  warnings.warn(\n",
      "INFO:simpletransformers.classification.classification_utils: Converting to features started. Cache is not used.\n",
      "INFO:simpletransformers.classification.classification_utils: Saving features into cached file cache_dir/cached_train_roberta_128_2_2\n"
     ]
    },
    {
     "data": {
      "application/vnd.jupyter.widget-view+json": {
       "model_id": "4bca4c2f2b2f47ada289857831ad4e3c",
       "version_major": 2,
       "version_minor": 0
      },
      "text/plain": [
       "Epoch:   0%|          | 0/5 [00:00<?, ?it/s]"
      ]
     },
     "metadata": {},
     "output_type": "display_data"
    },
    {
     "data": {
      "application/vnd.jupyter.widget-view+json": {
       "model_id": "325adaf8694f4a8aa9a472bef83c9609",
       "version_major": 2,
       "version_minor": 0
      },
      "text/plain": [
       "Running Epoch 0 of 5:   0%|          | 0/619 [00:00<?, ?it/s]"
      ]
     },
     "metadata": {},
     "output_type": "display_data"
    },
    {
     "data": {
      "application/vnd.jupyter.widget-view+json": {
       "model_id": "adfe861d2804415da54a9d1063963673",
       "version_major": 2,
       "version_minor": 0
      },
      "text/plain": [
       "Running Epoch 1 of 5:   0%|          | 0/619 [00:00<?, ?it/s]"
      ]
     },
     "metadata": {},
     "output_type": "display_data"
    },
    {
     "data": {
      "application/vnd.jupyter.widget-view+json": {
       "model_id": "d0b4cf15f0f749ad8f3d2e97a46815a9",
       "version_major": 2,
       "version_minor": 0
      },
      "text/plain": [
       "Running Epoch 2 of 5:   0%|          | 0/619 [00:00<?, ?it/s]"
      ]
     },
     "metadata": {},
     "output_type": "display_data"
    },
    {
     "data": {
      "application/vnd.jupyter.widget-view+json": {
       "model_id": "fe14eee5f7574e578d5f71f3fec08733",
       "version_major": 2,
       "version_minor": 0
      },
      "text/plain": [
       "Running Epoch 3 of 5:   0%|          | 0/619 [00:00<?, ?it/s]"
      ]
     },
     "metadata": {},
     "output_type": "display_data"
    },
    {
     "data": {
      "application/vnd.jupyter.widget-view+json": {
       "model_id": "e2c28e33c33d49c0a21f0cbf7488182d",
       "version_major": 2,
       "version_minor": 0
      },
      "text/plain": [
       "Running Epoch 4 of 5:   0%|          | 0/619 [00:00<?, ?it/s]"
      ]
     },
     "metadata": {},
     "output_type": "display_data"
    },
    {
     "name": "stderr",
     "output_type": "stream",
     "text": [
      "INFO:simpletransformers.classification.classification_model: Training of roberta model complete. Saved to chemberta/random_split_chemberta_models/6/.\n",
      "/home/jackievaleri8/anaconda3/lib/python3.8/site-packages/simpletransformers/classification/classification_model.py:1454: UserWarning: Dataframe headers not specified. Falling back to using column 0 as text and column 1 as labels.\n",
      "  warnings.warn(\n",
      "INFO:simpletransformers.classification.classification_utils: Converting to features started. Cache is not used.\n",
      "INFO:simpletransformers.classification.classification_utils: Saving features into cached file cache_dir/cached_dev_roberta_128_2_2\n"
     ]
    },
    {
     "data": {
      "application/vnd.jupyter.widget-view+json": {
       "model_id": "d6afee53848a48cdbc1074b052f4decc",
       "version_major": 2,
       "version_minor": 0
      },
      "text/plain": [
       "Running Evaluation:   0%|          | 0/484 [00:00<?, ?it/s]"
      ]
     },
     "metadata": {},
     "output_type": "display_data"
    },
    {
     "name": "stderr",
     "output_type": "stream",
     "text": [
      "INFO:simpletransformers.classification.classification_model:{'mcc': 0.4187279066285532, 'tp': 35, 'tn': 3731, 'fp': 23, 'fn': 79, 'auroc': 0.853150791202834, 'auprc': 0.39998356954838066, 'acc': 0.9736297828335057, 'eval_loss': 0.1182260497296152}\n",
      "INFO:deepchem.splits.splitters:Computing train/valid/test indices\n",
      "INFO:deepchem.data.datasets:Constructing selection output shard 1\n",
      "INFO:deepchem.data.datasets:Selecting from input shard 1/5 for selection output shard 1\n",
      "INFO:deepchem.data.datasets:Selecting from input shard 2/5 for selection output shard 1\n",
      "INFO:deepchem.data.datasets:Selecting from input shard 3/5 for selection output shard 1\n",
      "INFO:deepchem.data.datasets:Selecting from input shard 4/5 for selection output shard 1\n",
      "INFO:deepchem.data.datasets:Selecting from input shard 5/5 for selection output shard 1\n",
      "INFO:deepchem.data.datasets:Constructing selection output shard 2\n",
      "INFO:deepchem.data.datasets:Selecting from input shard 1/5 for selection output shard 2\n",
      "INFO:deepchem.data.datasets:Selecting from input shard 2/5 for selection output shard 2\n",
      "INFO:deepchem.data.datasets:Selecting from input shard 3/5 for selection output shard 2\n",
      "INFO:deepchem.data.datasets:Selecting from input shard 4/5 for selection output shard 2\n",
      "INFO:deepchem.data.datasets:Selecting from input shard 5/5 for selection output shard 2\n"
     ]
    },
    {
     "name": "stdout",
     "output_type": "stream",
     "text": [
      "Fold: 6\n",
      "Test auROC: 0.8578113170512855\n",
      "Test auPR: 0.40393295307677024\n",
      "Seed: 7\n"
     ]
    },
    {
     "name": "stderr",
     "output_type": "stream",
     "text": [
      "INFO:deepchem.data.datasets:Constructing selection output shard 3\n",
      "INFO:deepchem.data.datasets:Selecting from input shard 1/5 for selection output shard 3\n",
      "INFO:deepchem.data.datasets:Selecting from input shard 2/5 for selection output shard 3\n",
      "INFO:deepchem.data.datasets:Selecting from input shard 3/5 for selection output shard 3\n",
      "INFO:deepchem.data.datasets:Selecting from input shard 4/5 for selection output shard 3\n",
      "INFO:deepchem.data.datasets:Selecting from input shard 5/5 for selection output shard 3\n",
      "INFO:deepchem.data.datasets:Constructing selection output shard 4\n",
      "INFO:deepchem.data.datasets:Selecting from input shard 1/5 for selection output shard 4\n",
      "INFO:deepchem.data.datasets:Selecting from input shard 2/5 for selection output shard 4\n",
      "INFO:deepchem.data.datasets:Selecting from input shard 3/5 for selection output shard 4\n",
      "INFO:deepchem.data.datasets:Selecting from input shard 4/5 for selection output shard 4\n",
      "INFO:deepchem.data.datasets:Selecting from input shard 5/5 for selection output shard 4\n",
      "INFO:deepchem.data.datasets:TIMING: dataset construction took 0.466 s\n",
      "INFO:deepchem.data.datasets:Loading dataset from disk.\n",
      "INFO:deepchem.data.datasets:Constructing selection output shard 1\n",
      "INFO:deepchem.data.datasets:Selecting from input shard 1/5 for selection output shard 1\n",
      "INFO:deepchem.data.datasets:Selecting from input shard 2/5 for selection output shard 1\n",
      "INFO:deepchem.data.datasets:Selecting from input shard 3/5 for selection output shard 1\n",
      "INFO:deepchem.data.datasets:Selecting from input shard 4/5 for selection output shard 1\n",
      "INFO:deepchem.data.datasets:Selecting from input shard 5/5 for selection output shard 1\n",
      "INFO:deepchem.data.datasets:TIMING: dataset construction took 0.071 s\n",
      "INFO:deepchem.data.datasets:Loading dataset from disk.\n",
      "INFO:deepchem.data.datasets:Constructing selection output shard 1\n",
      "INFO:deepchem.data.datasets:Selecting from input shard 1/5 for selection output shard 1\n",
      "INFO:deepchem.data.datasets:Selecting from input shard 2/5 for selection output shard 1\n",
      "INFO:deepchem.data.datasets:Selecting from input shard 3/5 for selection output shard 1\n",
      "INFO:deepchem.data.datasets:Selecting from input shard 4/5 for selection output shard 1\n",
      "INFO:deepchem.data.datasets:Selecting from input shard 5/5 for selection output shard 1\n",
      "INFO:deepchem.data.datasets:TIMING: dataset construction took 0.072 s\n",
      "INFO:deepchem.data.datasets:Loading dataset from disk.\n",
      "/home/jackievaleri8/anaconda3/lib/python3.8/site-packages/transformers/models/auto/modeling_auto.py:1177: FutureWarning: The class `AutoModelWithLMHead` is deprecated and will be removed in a future version. Please use `AutoModelForCausalLM` for causal language models, `AutoModelForMaskedLM` for masked language models and `AutoModelForSeq2SeqLM` for encoder-decoder models.\n",
      "  warnings.warn(\n",
      "Some weights of the model checkpoint at seyonec/ChemBERTa-zinc-base-v1 were not used when initializing RobertaForSequenceClassification: ['roberta.pooler.dense.weight', 'lm_head.dense.bias', 'lm_head.decoder.bias', 'lm_head.dense.weight', 'lm_head.layer_norm.bias', 'roberta.pooler.dense.bias', 'lm_head.layer_norm.weight', 'lm_head.decoder.weight', 'lm_head.bias']\n",
      "- This IS expected if you are initializing RobertaForSequenceClassification from the checkpoint of a model trained on another task or with another architecture (e.g. initializing a BertForSequenceClassification model from a BertForPreTraining model).\n",
      "- This IS NOT expected if you are initializing RobertaForSequenceClassification from the checkpoint of a model that you expect to be exactly identical (initializing a BertForSequenceClassification model from a BertForSequenceClassification model).\n",
      "Some weights of RobertaForSequenceClassification were not initialized from the model checkpoint at seyonec/ChemBERTa-zinc-base-v1 and are newly initialized: ['classifier.out_proj.bias', 'classifier.out_proj.weight', 'classifier.dense.weight', 'classifier.dense.bias']\n",
      "You should probably TRAIN this model on a down-stream task to be able to use it for predictions and inference.\n",
      "/home/jackievaleri8/anaconda3/lib/python3.8/site-packages/simpletransformers/classification/classification_model.py:612: UserWarning: Dataframe headers not specified. Falling back to using column 0 as text and column 1 as labels.\n",
      "  warnings.warn(\n",
      "INFO:simpletransformers.classification.classification_utils: Converting to features started. Cache is not used.\n",
      "INFO:simpletransformers.classification.classification_utils: Saving features into cached file cache_dir/cached_train_roberta_128_2_2\n"
     ]
    },
    {
     "data": {
      "application/vnd.jupyter.widget-view+json": {
       "model_id": "d693e689a6914af8945e71b987802cdf",
       "version_major": 2,
       "version_minor": 0
      },
      "text/plain": [
       "Epoch:   0%|          | 0/5 [00:00<?, ?it/s]"
      ]
     },
     "metadata": {},
     "output_type": "display_data"
    },
    {
     "data": {
      "application/vnd.jupyter.widget-view+json": {
       "model_id": "559abe384460437ebf0d2b80fa0f4299",
       "version_major": 2,
       "version_minor": 0
      },
      "text/plain": [
       "Running Epoch 0 of 5:   0%|          | 0/619 [00:00<?, ?it/s]"
      ]
     },
     "metadata": {},
     "output_type": "display_data"
    },
    {
     "data": {
      "application/vnd.jupyter.widget-view+json": {
       "model_id": "80efd4ce013e44248c444d6cdc4fbd6e",
       "version_major": 2,
       "version_minor": 0
      },
      "text/plain": [
       "Running Epoch 1 of 5:   0%|          | 0/619 [00:00<?, ?it/s]"
      ]
     },
     "metadata": {},
     "output_type": "display_data"
    },
    {
     "data": {
      "application/vnd.jupyter.widget-view+json": {
       "model_id": "97ad133efb3b4215bf045a4f46fcaac8",
       "version_major": 2,
       "version_minor": 0
      },
      "text/plain": [
       "Running Epoch 2 of 5:   0%|          | 0/619 [00:00<?, ?it/s]"
      ]
     },
     "metadata": {},
     "output_type": "display_data"
    },
    {
     "data": {
      "application/vnd.jupyter.widget-view+json": {
       "model_id": "6ee3a93de94d4203847ed82ac32084b0",
       "version_major": 2,
       "version_minor": 0
      },
      "text/plain": [
       "Running Epoch 3 of 5:   0%|          | 0/619 [00:00<?, ?it/s]"
      ]
     },
     "metadata": {},
     "output_type": "display_data"
    },
    {
     "data": {
      "application/vnd.jupyter.widget-view+json": {
       "model_id": "6285daa5031f46c0a41f12dda6fe6da5",
       "version_major": 2,
       "version_minor": 0
      },
      "text/plain": [
       "Running Epoch 4 of 5:   0%|          | 0/619 [00:00<?, ?it/s]"
      ]
     },
     "metadata": {},
     "output_type": "display_data"
    },
    {
     "name": "stderr",
     "output_type": "stream",
     "text": [
      "INFO:simpletransformers.classification.classification_model: Training of roberta model complete. Saved to chemberta/random_split_chemberta_models/7/.\n",
      "/home/jackievaleri8/anaconda3/lib/python3.8/site-packages/simpletransformers/classification/classification_model.py:1454: UserWarning: Dataframe headers not specified. Falling back to using column 0 as text and column 1 as labels.\n",
      "  warnings.warn(\n",
      "INFO:simpletransformers.classification.classification_utils: Converting to features started. Cache is not used.\n",
      "INFO:simpletransformers.classification.classification_utils: Saving features into cached file cache_dir/cached_dev_roberta_128_2_2\n"
     ]
    },
    {
     "data": {
      "application/vnd.jupyter.widget-view+json": {
       "model_id": "1be8f2c006754287915f082ca94818f7",
       "version_major": 2,
       "version_minor": 0
      },
      "text/plain": [
       "Running Evaluation:   0%|          | 0/484 [00:00<?, ?it/s]"
      ]
     },
     "metadata": {},
     "output_type": "display_data"
    },
    {
     "name": "stderr",
     "output_type": "stream",
     "text": [
      "INFO:simpletransformers.classification.classification_model:{'mcc': 0.5217426500740805, 'tp': 52, 'tn': 3715, 'fp': 19, 'fn': 82, 'auroc': 0.8953225303583849, 'auprc': 0.48217385118830186, 'acc': 0.9738883143743536, 'eval_loss': 0.12100001535386093}\n",
      "INFO:deepchem.splits.splitters:Computing train/valid/test indices\n",
      "INFO:deepchem.data.datasets:Constructing selection output shard 1\n",
      "INFO:deepchem.data.datasets:Selecting from input shard 1/5 for selection output shard 1\n",
      "INFO:deepchem.data.datasets:Selecting from input shard 2/5 for selection output shard 1\n",
      "INFO:deepchem.data.datasets:Selecting from input shard 3/5 for selection output shard 1\n",
      "INFO:deepchem.data.datasets:Selecting from input shard 4/5 for selection output shard 1\n",
      "INFO:deepchem.data.datasets:Selecting from input shard 5/5 for selection output shard 1\n",
      "INFO:deepchem.data.datasets:Constructing selection output shard 2\n",
      "INFO:deepchem.data.datasets:Selecting from input shard 1/5 for selection output shard 2\n",
      "INFO:deepchem.data.datasets:Selecting from input shard 2/5 for selection output shard 2\n",
      "INFO:deepchem.data.datasets:Selecting from input shard 3/5 for selection output shard 2\n",
      "INFO:deepchem.data.datasets:Selecting from input shard 4/5 for selection output shard 2\n",
      "INFO:deepchem.data.datasets:Selecting from input shard 5/5 for selection output shard 2\n"
     ]
    },
    {
     "name": "stdout",
     "output_type": "stream",
     "text": [
      "Fold: 7\n",
      "Test auROC: 0.895372494783714\n",
      "Test auPR: 0.48062816892410226\n",
      "Seed: 8\n"
     ]
    },
    {
     "name": "stderr",
     "output_type": "stream",
     "text": [
      "INFO:deepchem.data.datasets:Constructing selection output shard 3\n",
      "INFO:deepchem.data.datasets:Selecting from input shard 1/5 for selection output shard 3\n",
      "INFO:deepchem.data.datasets:Selecting from input shard 2/5 for selection output shard 3\n",
      "INFO:deepchem.data.datasets:Selecting from input shard 3/5 for selection output shard 3\n",
      "INFO:deepchem.data.datasets:Selecting from input shard 4/5 for selection output shard 3\n",
      "INFO:deepchem.data.datasets:Selecting from input shard 5/5 for selection output shard 3\n",
      "INFO:deepchem.data.datasets:Constructing selection output shard 4\n",
      "INFO:deepchem.data.datasets:Selecting from input shard 1/5 for selection output shard 4\n",
      "INFO:deepchem.data.datasets:Selecting from input shard 2/5 for selection output shard 4\n",
      "INFO:deepchem.data.datasets:Selecting from input shard 3/5 for selection output shard 4\n",
      "INFO:deepchem.data.datasets:Selecting from input shard 4/5 for selection output shard 4\n",
      "INFO:deepchem.data.datasets:Selecting from input shard 5/5 for selection output shard 4\n",
      "INFO:deepchem.data.datasets:TIMING: dataset construction took 0.474 s\n",
      "INFO:deepchem.data.datasets:Loading dataset from disk.\n",
      "INFO:deepchem.data.datasets:Constructing selection output shard 1\n",
      "INFO:deepchem.data.datasets:Selecting from input shard 1/5 for selection output shard 1\n",
      "INFO:deepchem.data.datasets:Selecting from input shard 2/5 for selection output shard 1\n",
      "INFO:deepchem.data.datasets:Selecting from input shard 3/5 for selection output shard 1\n",
      "INFO:deepchem.data.datasets:Selecting from input shard 4/5 for selection output shard 1\n",
      "INFO:deepchem.data.datasets:Selecting from input shard 5/5 for selection output shard 1\n",
      "INFO:deepchem.data.datasets:TIMING: dataset construction took 0.075 s\n",
      "INFO:deepchem.data.datasets:Loading dataset from disk.\n",
      "INFO:deepchem.data.datasets:Constructing selection output shard 1\n",
      "INFO:deepchem.data.datasets:Selecting from input shard 1/5 for selection output shard 1\n",
      "INFO:deepchem.data.datasets:Selecting from input shard 2/5 for selection output shard 1\n",
      "INFO:deepchem.data.datasets:Selecting from input shard 3/5 for selection output shard 1\n",
      "INFO:deepchem.data.datasets:Selecting from input shard 4/5 for selection output shard 1\n",
      "INFO:deepchem.data.datasets:Selecting from input shard 5/5 for selection output shard 1\n",
      "INFO:deepchem.data.datasets:TIMING: dataset construction took 0.073 s\n",
      "INFO:deepchem.data.datasets:Loading dataset from disk.\n",
      "/home/jackievaleri8/anaconda3/lib/python3.8/site-packages/transformers/models/auto/modeling_auto.py:1177: FutureWarning: The class `AutoModelWithLMHead` is deprecated and will be removed in a future version. Please use `AutoModelForCausalLM` for causal language models, `AutoModelForMaskedLM` for masked language models and `AutoModelForSeq2SeqLM` for encoder-decoder models.\n",
      "  warnings.warn(\n",
      "Some weights of the model checkpoint at seyonec/ChemBERTa-zinc-base-v1 were not used when initializing RobertaForSequenceClassification: ['roberta.pooler.dense.weight', 'lm_head.dense.bias', 'lm_head.decoder.bias', 'lm_head.dense.weight', 'lm_head.layer_norm.bias', 'roberta.pooler.dense.bias', 'lm_head.layer_norm.weight', 'lm_head.decoder.weight', 'lm_head.bias']\n",
      "- This IS expected if you are initializing RobertaForSequenceClassification from the checkpoint of a model trained on another task or with another architecture (e.g. initializing a BertForSequenceClassification model from a BertForPreTraining model).\n",
      "- This IS NOT expected if you are initializing RobertaForSequenceClassification from the checkpoint of a model that you expect to be exactly identical (initializing a BertForSequenceClassification model from a BertForSequenceClassification model).\n",
      "Some weights of RobertaForSequenceClassification were not initialized from the model checkpoint at seyonec/ChemBERTa-zinc-base-v1 and are newly initialized: ['classifier.out_proj.bias', 'classifier.out_proj.weight', 'classifier.dense.weight', 'classifier.dense.bias']\n",
      "You should probably TRAIN this model on a down-stream task to be able to use it for predictions and inference.\n",
      "/home/jackievaleri8/anaconda3/lib/python3.8/site-packages/simpletransformers/classification/classification_model.py:612: UserWarning: Dataframe headers not specified. Falling back to using column 0 as text and column 1 as labels.\n",
      "  warnings.warn(\n",
      "INFO:simpletransformers.classification.classification_utils: Converting to features started. Cache is not used.\n",
      "INFO:simpletransformers.classification.classification_utils: Saving features into cached file cache_dir/cached_train_roberta_128_2_2\n"
     ]
    },
    {
     "data": {
      "application/vnd.jupyter.widget-view+json": {
       "model_id": "b570c0d539ab48e98c6905f62ef562a3",
       "version_major": 2,
       "version_minor": 0
      },
      "text/plain": [
       "Epoch:   0%|          | 0/5 [00:00<?, ?it/s]"
      ]
     },
     "metadata": {},
     "output_type": "display_data"
    },
    {
     "data": {
      "application/vnd.jupyter.widget-view+json": {
       "model_id": "5b1a52c2fab84bb09fa8e3e0b908b07d",
       "version_major": 2,
       "version_minor": 0
      },
      "text/plain": [
       "Running Epoch 0 of 5:   0%|          | 0/619 [00:00<?, ?it/s]"
      ]
     },
     "metadata": {},
     "output_type": "display_data"
    },
    {
     "data": {
      "application/vnd.jupyter.widget-view+json": {
       "model_id": "c4e3bd82cee8495db1278a1ae747ec1a",
       "version_major": 2,
       "version_minor": 0
      },
      "text/plain": [
       "Running Epoch 1 of 5:   0%|          | 0/619 [00:00<?, ?it/s]"
      ]
     },
     "metadata": {},
     "output_type": "display_data"
    },
    {
     "data": {
      "application/vnd.jupyter.widget-view+json": {
       "model_id": "a0dd22c0c87246b58209378bb68e3c87",
       "version_major": 2,
       "version_minor": 0
      },
      "text/plain": [
       "Running Epoch 2 of 5:   0%|          | 0/619 [00:00<?, ?it/s]"
      ]
     },
     "metadata": {},
     "output_type": "display_data"
    },
    {
     "data": {
      "application/vnd.jupyter.widget-view+json": {
       "model_id": "8e5806eeece643abb73f6befed1a2bde",
       "version_major": 2,
       "version_minor": 0
      },
      "text/plain": [
       "Running Epoch 3 of 5:   0%|          | 0/619 [00:00<?, ?it/s]"
      ]
     },
     "metadata": {},
     "output_type": "display_data"
    },
    {
     "data": {
      "application/vnd.jupyter.widget-view+json": {
       "model_id": "a30d93b4d5d242ffb751b1ffc483daf6",
       "version_major": 2,
       "version_minor": 0
      },
      "text/plain": [
       "Running Epoch 4 of 5:   0%|          | 0/619 [00:00<?, ?it/s]"
      ]
     },
     "metadata": {},
     "output_type": "display_data"
    },
    {
     "name": "stderr",
     "output_type": "stream",
     "text": [
      "INFO:simpletransformers.classification.classification_model: Training of roberta model complete. Saved to chemberta/random_split_chemberta_models/8/.\n",
      "/home/jackievaleri8/anaconda3/lib/python3.8/site-packages/simpletransformers/classification/classification_model.py:1454: UserWarning: Dataframe headers not specified. Falling back to using column 0 as text and column 1 as labels.\n",
      "  warnings.warn(\n",
      "INFO:simpletransformers.classification.classification_utils: Converting to features started. Cache is not used.\n",
      "INFO:simpletransformers.classification.classification_utils: Saving features into cached file cache_dir/cached_dev_roberta_128_2_2\n"
     ]
    },
    {
     "data": {
      "application/vnd.jupyter.widget-view+json": {
       "model_id": "0a50aa9142924117b64e3e1b91058f91",
       "version_major": 2,
       "version_minor": 0
      },
      "text/plain": [
       "Running Evaluation:   0%|          | 0/484 [00:00<?, ?it/s]"
      ]
     },
     "metadata": {},
     "output_type": "display_data"
    },
    {
     "name": "stderr",
     "output_type": "stream",
     "text": [
      "INFO:simpletransformers.classification.classification_model:{'mcc': 0.44813073384658586, 'tp': 39, 'tn': 3728, 'fp': 22, 'fn': 79, 'auroc': 0.8675209039548022, 'auprc': 0.4142766151464967, 'acc': 0.9738883143743536, 'eval_loss': 0.11867867274717851}\n",
      "INFO:deepchem.splits.splitters:Computing train/valid/test indices\n",
      "INFO:deepchem.data.datasets:Constructing selection output shard 1\n",
      "INFO:deepchem.data.datasets:Selecting from input shard 1/5 for selection output shard 1\n",
      "INFO:deepchem.data.datasets:Selecting from input shard 2/5 for selection output shard 1\n",
      "INFO:deepchem.data.datasets:Selecting from input shard 3/5 for selection output shard 1\n",
      "INFO:deepchem.data.datasets:Selecting from input shard 4/5 for selection output shard 1\n",
      "INFO:deepchem.data.datasets:Selecting from input shard 5/5 for selection output shard 1\n",
      "INFO:deepchem.data.datasets:Constructing selection output shard 2\n",
      "INFO:deepchem.data.datasets:Selecting from input shard 1/5 for selection output shard 2\n",
      "INFO:deepchem.data.datasets:Selecting from input shard 2/5 for selection output shard 2\n",
      "INFO:deepchem.data.datasets:Selecting from input shard 3/5 for selection output shard 2\n",
      "INFO:deepchem.data.datasets:Selecting from input shard 4/5 for selection output shard 2\n",
      "INFO:deepchem.data.datasets:Selecting from input shard 5/5 for selection output shard 2\n"
     ]
    },
    {
     "name": "stdout",
     "output_type": "stream",
     "text": [
      "Fold: 8\n",
      "Test auROC: 0.873161581920904\n",
      "Test auPR: 0.4195666729358582\n",
      "Seed: 9\n"
     ]
    },
    {
     "name": "stderr",
     "output_type": "stream",
     "text": [
      "INFO:deepchem.data.datasets:Constructing selection output shard 3\n",
      "INFO:deepchem.data.datasets:Selecting from input shard 1/5 for selection output shard 3\n",
      "INFO:deepchem.data.datasets:Selecting from input shard 2/5 for selection output shard 3\n",
      "INFO:deepchem.data.datasets:Selecting from input shard 3/5 for selection output shard 3\n",
      "INFO:deepchem.data.datasets:Selecting from input shard 4/5 for selection output shard 3\n",
      "INFO:deepchem.data.datasets:Selecting from input shard 5/5 for selection output shard 3\n",
      "INFO:deepchem.data.datasets:Constructing selection output shard 4\n",
      "INFO:deepchem.data.datasets:Selecting from input shard 1/5 for selection output shard 4\n",
      "INFO:deepchem.data.datasets:Selecting from input shard 2/5 for selection output shard 4\n",
      "INFO:deepchem.data.datasets:Selecting from input shard 3/5 for selection output shard 4\n",
      "INFO:deepchem.data.datasets:Selecting from input shard 4/5 for selection output shard 4\n",
      "INFO:deepchem.data.datasets:Selecting from input shard 5/5 for selection output shard 4\n",
      "INFO:deepchem.data.datasets:TIMING: dataset construction took 0.473 s\n",
      "INFO:deepchem.data.datasets:Loading dataset from disk.\n",
      "INFO:deepchem.data.datasets:Constructing selection output shard 1\n",
      "INFO:deepchem.data.datasets:Selecting from input shard 1/5 for selection output shard 1\n",
      "INFO:deepchem.data.datasets:Selecting from input shard 2/5 for selection output shard 1\n",
      "INFO:deepchem.data.datasets:Selecting from input shard 3/5 for selection output shard 1\n",
      "INFO:deepchem.data.datasets:Selecting from input shard 4/5 for selection output shard 1\n",
      "INFO:deepchem.data.datasets:Selecting from input shard 5/5 for selection output shard 1\n",
      "INFO:deepchem.data.datasets:TIMING: dataset construction took 0.072 s\n",
      "INFO:deepchem.data.datasets:Loading dataset from disk.\n",
      "INFO:deepchem.data.datasets:Constructing selection output shard 1\n",
      "INFO:deepchem.data.datasets:Selecting from input shard 1/5 for selection output shard 1\n",
      "INFO:deepchem.data.datasets:Selecting from input shard 2/5 for selection output shard 1\n",
      "INFO:deepchem.data.datasets:Selecting from input shard 3/5 for selection output shard 1\n",
      "INFO:deepchem.data.datasets:Selecting from input shard 4/5 for selection output shard 1\n",
      "INFO:deepchem.data.datasets:Selecting from input shard 5/5 for selection output shard 1\n",
      "INFO:deepchem.data.datasets:TIMING: dataset construction took 0.072 s\n",
      "INFO:deepchem.data.datasets:Loading dataset from disk.\n",
      "/home/jackievaleri8/anaconda3/lib/python3.8/site-packages/transformers/models/auto/modeling_auto.py:1177: FutureWarning: The class `AutoModelWithLMHead` is deprecated and will be removed in a future version. Please use `AutoModelForCausalLM` for causal language models, `AutoModelForMaskedLM` for masked language models and `AutoModelForSeq2SeqLM` for encoder-decoder models.\n",
      "  warnings.warn(\n",
      "Some weights of the model checkpoint at seyonec/ChemBERTa-zinc-base-v1 were not used when initializing RobertaForSequenceClassification: ['roberta.pooler.dense.weight', 'lm_head.dense.bias', 'lm_head.decoder.bias', 'lm_head.dense.weight', 'lm_head.layer_norm.bias', 'roberta.pooler.dense.bias', 'lm_head.layer_norm.weight', 'lm_head.decoder.weight', 'lm_head.bias']\n",
      "- This IS expected if you are initializing RobertaForSequenceClassification from the checkpoint of a model trained on another task or with another architecture (e.g. initializing a BertForSequenceClassification model from a BertForPreTraining model).\n",
      "- This IS NOT expected if you are initializing RobertaForSequenceClassification from the checkpoint of a model that you expect to be exactly identical (initializing a BertForSequenceClassification model from a BertForSequenceClassification model).\n",
      "Some weights of RobertaForSequenceClassification were not initialized from the model checkpoint at seyonec/ChemBERTa-zinc-base-v1 and are newly initialized: ['classifier.out_proj.bias', 'classifier.out_proj.weight', 'classifier.dense.weight', 'classifier.dense.bias']\n",
      "You should probably TRAIN this model on a down-stream task to be able to use it for predictions and inference.\n",
      "/home/jackievaleri8/anaconda3/lib/python3.8/site-packages/simpletransformers/classification/classification_model.py:612: UserWarning: Dataframe headers not specified. Falling back to using column 0 as text and column 1 as labels.\n",
      "  warnings.warn(\n",
      "INFO:simpletransformers.classification.classification_utils: Converting to features started. Cache is not used.\n",
      "INFO:simpletransformers.classification.classification_utils: Saving features into cached file cache_dir/cached_train_roberta_128_2_2\n"
     ]
    },
    {
     "data": {
      "application/vnd.jupyter.widget-view+json": {
       "model_id": "50508244a22c4aa8972d1263a9b20e29",
       "version_major": 2,
       "version_minor": 0
      },
      "text/plain": [
       "Epoch:   0%|          | 0/5 [00:00<?, ?it/s]"
      ]
     },
     "metadata": {},
     "output_type": "display_data"
    },
    {
     "data": {
      "application/vnd.jupyter.widget-view+json": {
       "model_id": "17450f946c35420f85dad5d012cb491d",
       "version_major": 2,
       "version_minor": 0
      },
      "text/plain": [
       "Running Epoch 0 of 5:   0%|          | 0/619 [00:00<?, ?it/s]"
      ]
     },
     "metadata": {},
     "output_type": "display_data"
    },
    {
     "data": {
      "application/vnd.jupyter.widget-view+json": {
       "model_id": "998f9fa745314fe8803fb92e045fdbd8",
       "version_major": 2,
       "version_minor": 0
      },
      "text/plain": [
       "Running Epoch 1 of 5:   0%|          | 0/619 [00:00<?, ?it/s]"
      ]
     },
     "metadata": {},
     "output_type": "display_data"
    },
    {
     "data": {
      "application/vnd.jupyter.widget-view+json": {
       "model_id": "a9ce2424b4174ee8a3a57e36eea4344c",
       "version_major": 2,
       "version_minor": 0
      },
      "text/plain": [
       "Running Epoch 2 of 5:   0%|          | 0/619 [00:00<?, ?it/s]"
      ]
     },
     "metadata": {},
     "output_type": "display_data"
    },
    {
     "data": {
      "application/vnd.jupyter.widget-view+json": {
       "model_id": "f15a7d985fe34bbebe42df040b3f3d41",
       "version_major": 2,
       "version_minor": 0
      },
      "text/plain": [
       "Running Epoch 3 of 5:   0%|          | 0/619 [00:00<?, ?it/s]"
      ]
     },
     "metadata": {},
     "output_type": "display_data"
    },
    {
     "data": {
      "application/vnd.jupyter.widget-view+json": {
       "model_id": "ac2594b19c9e4601993b7934ba5c1048",
       "version_major": 2,
       "version_minor": 0
      },
      "text/plain": [
       "Running Epoch 4 of 5:   0%|          | 0/619 [00:00<?, ?it/s]"
      ]
     },
     "metadata": {},
     "output_type": "display_data"
    },
    {
     "name": "stderr",
     "output_type": "stream",
     "text": [
      "INFO:simpletransformers.classification.classification_model: Training of roberta model complete. Saved to chemberta/random_split_chemberta_models/9/.\n",
      "/home/jackievaleri8/anaconda3/lib/python3.8/site-packages/simpletransformers/classification/classification_model.py:1454: UserWarning: Dataframe headers not specified. Falling back to using column 0 as text and column 1 as labels.\n",
      "  warnings.warn(\n",
      "INFO:simpletransformers.classification.classification_utils: Converting to features started. Cache is not used.\n",
      "INFO:simpletransformers.classification.classification_utils: Saving features into cached file cache_dir/cached_dev_roberta_128_2_2\n"
     ]
    },
    {
     "data": {
      "application/vnd.jupyter.widget-view+json": {
       "model_id": "957b19225b42439dbda3aa1fc16d8fcc",
       "version_major": 2,
       "version_minor": 0
      },
      "text/plain": [
       "Running Evaluation:   0%|          | 0/484 [00:00<?, ?it/s]"
      ]
     },
     "metadata": {},
     "output_type": "display_data"
    },
    {
     "name": "stderr",
     "output_type": "stream",
     "text": [
      "INFO:simpletransformers.classification.classification_model:{'mcc': 0.4673967948612176, 'tp': 44, 'tn': 3721, 'fp': 25, 'fn': 78, 'auroc': 0.8727713933113354, 'auprc': 0.4572327284765299, 'acc': 0.9733712512926577, 'eval_loss': 0.1170672443656882}\n",
      "INFO:deepchem.splits.splitters:Computing train/valid/test indices\n",
      "INFO:deepchem.data.datasets:Constructing selection output shard 1\n",
      "INFO:deepchem.data.datasets:Selecting from input shard 1/5 for selection output shard 1\n",
      "INFO:deepchem.data.datasets:Selecting from input shard 2/5 for selection output shard 1\n",
      "INFO:deepchem.data.datasets:Selecting from input shard 3/5 for selection output shard 1\n",
      "INFO:deepchem.data.datasets:Selecting from input shard 4/5 for selection output shard 1\n",
      "INFO:deepchem.data.datasets:Selecting from input shard 5/5 for selection output shard 1\n",
      "INFO:deepchem.data.datasets:Constructing selection output shard 2\n",
      "INFO:deepchem.data.datasets:Selecting from input shard 1/5 for selection output shard 2\n",
      "INFO:deepchem.data.datasets:Selecting from input shard 2/5 for selection output shard 2\n",
      "INFO:deepchem.data.datasets:Selecting from input shard 3/5 for selection output shard 2\n",
      "INFO:deepchem.data.datasets:Selecting from input shard 4/5 for selection output shard 2\n",
      "INFO:deepchem.data.datasets:Selecting from input shard 5/5 for selection output shard 2\n"
     ]
    },
    {
     "name": "stdout",
     "output_type": "stream",
     "text": [
      "Fold: 9\n",
      "Test auROC: 0.8787132504179321\n",
      "Test auPR: 0.45541780672205323\n",
      "Seed: 10\n"
     ]
    },
    {
     "name": "stderr",
     "output_type": "stream",
     "text": [
      "INFO:deepchem.data.datasets:Constructing selection output shard 3\n",
      "INFO:deepchem.data.datasets:Selecting from input shard 1/5 for selection output shard 3\n",
      "INFO:deepchem.data.datasets:Selecting from input shard 2/5 for selection output shard 3\n",
      "INFO:deepchem.data.datasets:Selecting from input shard 3/5 for selection output shard 3\n",
      "INFO:deepchem.data.datasets:Selecting from input shard 4/5 for selection output shard 3\n",
      "INFO:deepchem.data.datasets:Selecting from input shard 5/5 for selection output shard 3\n",
      "INFO:deepchem.data.datasets:Constructing selection output shard 4\n",
      "INFO:deepchem.data.datasets:Selecting from input shard 1/5 for selection output shard 4\n",
      "INFO:deepchem.data.datasets:Selecting from input shard 2/5 for selection output shard 4\n",
      "INFO:deepchem.data.datasets:Selecting from input shard 3/5 for selection output shard 4\n",
      "INFO:deepchem.data.datasets:Selecting from input shard 4/5 for selection output shard 4\n",
      "INFO:deepchem.data.datasets:Selecting from input shard 5/5 for selection output shard 4\n",
      "INFO:deepchem.data.datasets:TIMING: dataset construction took 0.472 s\n",
      "INFO:deepchem.data.datasets:Loading dataset from disk.\n",
      "INFO:deepchem.data.datasets:Constructing selection output shard 1\n",
      "INFO:deepchem.data.datasets:Selecting from input shard 1/5 for selection output shard 1\n",
      "INFO:deepchem.data.datasets:Selecting from input shard 2/5 for selection output shard 1\n",
      "INFO:deepchem.data.datasets:Selecting from input shard 3/5 for selection output shard 1\n",
      "INFO:deepchem.data.datasets:Selecting from input shard 4/5 for selection output shard 1\n",
      "INFO:deepchem.data.datasets:Selecting from input shard 5/5 for selection output shard 1\n",
      "INFO:deepchem.data.datasets:TIMING: dataset construction took 0.069 s\n",
      "INFO:deepchem.data.datasets:Loading dataset from disk.\n",
      "INFO:deepchem.data.datasets:Constructing selection output shard 1\n",
      "INFO:deepchem.data.datasets:Selecting from input shard 1/5 for selection output shard 1\n",
      "INFO:deepchem.data.datasets:Selecting from input shard 2/5 for selection output shard 1\n",
      "INFO:deepchem.data.datasets:Selecting from input shard 3/5 for selection output shard 1\n",
      "INFO:deepchem.data.datasets:Selecting from input shard 4/5 for selection output shard 1\n",
      "INFO:deepchem.data.datasets:Selecting from input shard 5/5 for selection output shard 1\n",
      "INFO:deepchem.data.datasets:TIMING: dataset construction took 0.071 s\n",
      "INFO:deepchem.data.datasets:Loading dataset from disk.\n",
      "/home/jackievaleri8/anaconda3/lib/python3.8/site-packages/transformers/models/auto/modeling_auto.py:1177: FutureWarning: The class `AutoModelWithLMHead` is deprecated and will be removed in a future version. Please use `AutoModelForCausalLM` for causal language models, `AutoModelForMaskedLM` for masked language models and `AutoModelForSeq2SeqLM` for encoder-decoder models.\n",
      "  warnings.warn(\n",
      "Some weights of the model checkpoint at seyonec/ChemBERTa-zinc-base-v1 were not used when initializing RobertaForSequenceClassification: ['roberta.pooler.dense.weight', 'lm_head.dense.bias', 'lm_head.decoder.bias', 'lm_head.dense.weight', 'lm_head.layer_norm.bias', 'roberta.pooler.dense.bias', 'lm_head.layer_norm.weight', 'lm_head.decoder.weight', 'lm_head.bias']\n",
      "- This IS expected if you are initializing RobertaForSequenceClassification from the checkpoint of a model trained on another task or with another architecture (e.g. initializing a BertForSequenceClassification model from a BertForPreTraining model).\n",
      "- This IS NOT expected if you are initializing RobertaForSequenceClassification from the checkpoint of a model that you expect to be exactly identical (initializing a BertForSequenceClassification model from a BertForSequenceClassification model).\n",
      "Some weights of RobertaForSequenceClassification were not initialized from the model checkpoint at seyonec/ChemBERTa-zinc-base-v1 and are newly initialized: ['classifier.out_proj.bias', 'classifier.out_proj.weight', 'classifier.dense.weight', 'classifier.dense.bias']\n",
      "You should probably TRAIN this model on a down-stream task to be able to use it for predictions and inference.\n",
      "/home/jackievaleri8/anaconda3/lib/python3.8/site-packages/simpletransformers/classification/classification_model.py:612: UserWarning: Dataframe headers not specified. Falling back to using column 0 as text and column 1 as labels.\n",
      "  warnings.warn(\n",
      "INFO:simpletransformers.classification.classification_utils: Converting to features started. Cache is not used.\n",
      "INFO:simpletransformers.classification.classification_utils: Saving features into cached file cache_dir/cached_train_roberta_128_2_2\n"
     ]
    },
    {
     "data": {
      "application/vnd.jupyter.widget-view+json": {
       "model_id": "3293c0c895314895b52e66726689896e",
       "version_major": 2,
       "version_minor": 0
      },
      "text/plain": [
       "Epoch:   0%|          | 0/5 [00:00<?, ?it/s]"
      ]
     },
     "metadata": {},
     "output_type": "display_data"
    },
    {
     "data": {
      "application/vnd.jupyter.widget-view+json": {
       "model_id": "cfa675b4bfb143088474892ca3743c9d",
       "version_major": 2,
       "version_minor": 0
      },
      "text/plain": [
       "Running Epoch 0 of 5:   0%|          | 0/619 [00:00<?, ?it/s]"
      ]
     },
     "metadata": {},
     "output_type": "display_data"
    },
    {
     "data": {
      "application/vnd.jupyter.widget-view+json": {
       "model_id": "fe8e17c13a4646db994a19f3d36dabf6",
       "version_major": 2,
       "version_minor": 0
      },
      "text/plain": [
       "Running Epoch 1 of 5:   0%|          | 0/619 [00:00<?, ?it/s]"
      ]
     },
     "metadata": {},
     "output_type": "display_data"
    },
    {
     "data": {
      "application/vnd.jupyter.widget-view+json": {
       "model_id": "3c16aad3160548c588842c91c7ca3a1f",
       "version_major": 2,
       "version_minor": 0
      },
      "text/plain": [
       "Running Epoch 2 of 5:   0%|          | 0/619 [00:00<?, ?it/s]"
      ]
     },
     "metadata": {},
     "output_type": "display_data"
    },
    {
     "data": {
      "application/vnd.jupyter.widget-view+json": {
       "model_id": "2fed84e7263d4060bccf55dc091a5435",
       "version_major": 2,
       "version_minor": 0
      },
      "text/plain": [
       "Running Epoch 3 of 5:   0%|          | 0/619 [00:00<?, ?it/s]"
      ]
     },
     "metadata": {},
     "output_type": "display_data"
    },
    {
     "data": {
      "application/vnd.jupyter.widget-view+json": {
       "model_id": "838d9bd2e1e14a5d83171d48c5c1baf8",
       "version_major": 2,
       "version_minor": 0
      },
      "text/plain": [
       "Running Epoch 4 of 5:   0%|          | 0/619 [00:00<?, ?it/s]"
      ]
     },
     "metadata": {},
     "output_type": "display_data"
    },
    {
     "name": "stderr",
     "output_type": "stream",
     "text": [
      "INFO:simpletransformers.classification.classification_model: Training of roberta model complete. Saved to chemberta/random_split_chemberta_models/10/.\n",
      "/home/jackievaleri8/anaconda3/lib/python3.8/site-packages/simpletransformers/classification/classification_model.py:1454: UserWarning: Dataframe headers not specified. Falling back to using column 0 as text and column 1 as labels.\n",
      "  warnings.warn(\n",
      "INFO:simpletransformers.classification.classification_utils: Converting to features started. Cache is not used.\n",
      "INFO:simpletransformers.classification.classification_utils: Saving features into cached file cache_dir/cached_dev_roberta_128_2_2\n"
     ]
    },
    {
     "data": {
      "application/vnd.jupyter.widget-view+json": {
       "model_id": "b81dc395f53b45458305a85abb7b7bc2",
       "version_major": 2,
       "version_minor": 0
      },
      "text/plain": [
       "Running Evaluation:   0%|          | 0/484 [00:00<?, ?it/s]"
      ]
     },
     "metadata": {},
     "output_type": "display_data"
    },
    {
     "name": "stderr",
     "output_type": "stream",
     "text": [
      "INFO:simpletransformers.classification.classification_model:{'mcc': 0.43559637057573464, 'tp': 41, 'tn': 3721, 'fp': 31, 'fn': 75, 'auroc': 0.8963656164987869, 'auprc': 0.43674627452124487, 'acc': 0.9725956566701137, 'eval_loss': 0.11311010231287026}\n",
      "INFO:deepchem.splits.splitters:Computing train/valid/test indices\n",
      "INFO:deepchem.data.datasets:Constructing selection output shard 1\n",
      "INFO:deepchem.data.datasets:Selecting from input shard 1/5 for selection output shard 1\n",
      "INFO:deepchem.data.datasets:Selecting from input shard 2/5 for selection output shard 1\n",
      "INFO:deepchem.data.datasets:Selecting from input shard 3/5 for selection output shard 1\n",
      "INFO:deepchem.data.datasets:Selecting from input shard 4/5 for selection output shard 1\n",
      "INFO:deepchem.data.datasets:Selecting from input shard 5/5 for selection output shard 1\n",
      "INFO:deepchem.data.datasets:Constructing selection output shard 2\n",
      "INFO:deepchem.data.datasets:Selecting from input shard 1/5 for selection output shard 2\n",
      "INFO:deepchem.data.datasets:Selecting from input shard 2/5 for selection output shard 2\n",
      "INFO:deepchem.data.datasets:Selecting from input shard 3/5 for selection output shard 2\n",
      "INFO:deepchem.data.datasets:Selecting from input shard 4/5 for selection output shard 2\n",
      "INFO:deepchem.data.datasets:Selecting from input shard 5/5 for selection output shard 2\n"
     ]
    },
    {
     "name": "stdout",
     "output_type": "stream",
     "text": [
      "Fold: 10\n",
      "Test auROC: 0.8974259705168737\n",
      "Test auPR: 0.4360215327450321\n",
      "Seed: 11\n"
     ]
    },
    {
     "name": "stderr",
     "output_type": "stream",
     "text": [
      "INFO:deepchem.data.datasets:Constructing selection output shard 3\n",
      "INFO:deepchem.data.datasets:Selecting from input shard 1/5 for selection output shard 3\n",
      "INFO:deepchem.data.datasets:Selecting from input shard 2/5 for selection output shard 3\n",
      "INFO:deepchem.data.datasets:Selecting from input shard 3/5 for selection output shard 3\n",
      "INFO:deepchem.data.datasets:Selecting from input shard 4/5 for selection output shard 3\n",
      "INFO:deepchem.data.datasets:Selecting from input shard 5/5 for selection output shard 3\n",
      "INFO:deepchem.data.datasets:Constructing selection output shard 4\n",
      "INFO:deepchem.data.datasets:Selecting from input shard 1/5 for selection output shard 4\n",
      "INFO:deepchem.data.datasets:Selecting from input shard 2/5 for selection output shard 4\n",
      "INFO:deepchem.data.datasets:Selecting from input shard 3/5 for selection output shard 4\n",
      "INFO:deepchem.data.datasets:Selecting from input shard 4/5 for selection output shard 4\n",
      "INFO:deepchem.data.datasets:Selecting from input shard 5/5 for selection output shard 4\n",
      "INFO:deepchem.data.datasets:TIMING: dataset construction took 0.459 s\n",
      "INFO:deepchem.data.datasets:Loading dataset from disk.\n",
      "INFO:deepchem.data.datasets:Constructing selection output shard 1\n",
      "INFO:deepchem.data.datasets:Selecting from input shard 1/5 for selection output shard 1\n",
      "INFO:deepchem.data.datasets:Selecting from input shard 2/5 for selection output shard 1\n",
      "INFO:deepchem.data.datasets:Selecting from input shard 3/5 for selection output shard 1\n",
      "INFO:deepchem.data.datasets:Selecting from input shard 4/5 for selection output shard 1\n",
      "INFO:deepchem.data.datasets:Selecting from input shard 5/5 for selection output shard 1\n",
      "INFO:deepchem.data.datasets:TIMING: dataset construction took 0.068 s\n",
      "INFO:deepchem.data.datasets:Loading dataset from disk.\n",
      "INFO:deepchem.data.datasets:Constructing selection output shard 1\n",
      "INFO:deepchem.data.datasets:Selecting from input shard 1/5 for selection output shard 1\n",
      "INFO:deepchem.data.datasets:Selecting from input shard 2/5 for selection output shard 1\n",
      "INFO:deepchem.data.datasets:Selecting from input shard 3/5 for selection output shard 1\n",
      "INFO:deepchem.data.datasets:Selecting from input shard 4/5 for selection output shard 1\n",
      "INFO:deepchem.data.datasets:Selecting from input shard 5/5 for selection output shard 1\n",
      "INFO:deepchem.data.datasets:TIMING: dataset construction took 0.071 s\n",
      "INFO:deepchem.data.datasets:Loading dataset from disk.\n",
      "/home/jackievaleri8/anaconda3/lib/python3.8/site-packages/transformers/models/auto/modeling_auto.py:1177: FutureWarning: The class `AutoModelWithLMHead` is deprecated and will be removed in a future version. Please use `AutoModelForCausalLM` for causal language models, `AutoModelForMaskedLM` for masked language models and `AutoModelForSeq2SeqLM` for encoder-decoder models.\n",
      "  warnings.warn(\n",
      "Some weights of the model checkpoint at seyonec/ChemBERTa-zinc-base-v1 were not used when initializing RobertaForSequenceClassification: ['roberta.pooler.dense.weight', 'lm_head.dense.bias', 'lm_head.decoder.bias', 'lm_head.dense.weight', 'lm_head.layer_norm.bias', 'roberta.pooler.dense.bias', 'lm_head.layer_norm.weight', 'lm_head.decoder.weight', 'lm_head.bias']\n",
      "- This IS expected if you are initializing RobertaForSequenceClassification from the checkpoint of a model trained on another task or with another architecture (e.g. initializing a BertForSequenceClassification model from a BertForPreTraining model).\n",
      "- This IS NOT expected if you are initializing RobertaForSequenceClassification from the checkpoint of a model that you expect to be exactly identical (initializing a BertForSequenceClassification model from a BertForSequenceClassification model).\n",
      "Some weights of RobertaForSequenceClassification were not initialized from the model checkpoint at seyonec/ChemBERTa-zinc-base-v1 and are newly initialized: ['classifier.out_proj.bias', 'classifier.out_proj.weight', 'classifier.dense.weight', 'classifier.dense.bias']\n",
      "You should probably TRAIN this model on a down-stream task to be able to use it for predictions and inference.\n",
      "/home/jackievaleri8/anaconda3/lib/python3.8/site-packages/simpletransformers/classification/classification_model.py:612: UserWarning: Dataframe headers not specified. Falling back to using column 0 as text and column 1 as labels.\n",
      "  warnings.warn(\n",
      "INFO:simpletransformers.classification.classification_utils: Converting to features started. Cache is not used.\n",
      "INFO:simpletransformers.classification.classification_utils: Saving features into cached file cache_dir/cached_train_roberta_128_2_2\n"
     ]
    },
    {
     "data": {
      "application/vnd.jupyter.widget-view+json": {
       "model_id": "12fb195217994fd8ae678fc78d35200e",
       "version_major": 2,
       "version_minor": 0
      },
      "text/plain": [
       "Epoch:   0%|          | 0/5 [00:00<?, ?it/s]"
      ]
     },
     "metadata": {},
     "output_type": "display_data"
    },
    {
     "data": {
      "application/vnd.jupyter.widget-view+json": {
       "model_id": "9920063306b84893b6a0af02b5b573f3",
       "version_major": 2,
       "version_minor": 0
      },
      "text/plain": [
       "Running Epoch 0 of 5:   0%|          | 0/619 [00:00<?, ?it/s]"
      ]
     },
     "metadata": {},
     "output_type": "display_data"
    },
    {
     "data": {
      "application/vnd.jupyter.widget-view+json": {
       "model_id": "1125f0be0fbb4efb88a64681b9cb8381",
       "version_major": 2,
       "version_minor": 0
      },
      "text/plain": [
       "Running Epoch 1 of 5:   0%|          | 0/619 [00:00<?, ?it/s]"
      ]
     },
     "metadata": {},
     "output_type": "display_data"
    },
    {
     "data": {
      "application/vnd.jupyter.widget-view+json": {
       "model_id": "90a09f6cb50148078c89612e8e9cda44",
       "version_major": 2,
       "version_minor": 0
      },
      "text/plain": [
       "Running Epoch 2 of 5:   0%|          | 0/619 [00:00<?, ?it/s]"
      ]
     },
     "metadata": {},
     "output_type": "display_data"
    },
    {
     "data": {
      "application/vnd.jupyter.widget-view+json": {
       "model_id": "f21e5c9fee4a403d945d28c92bf96292",
       "version_major": 2,
       "version_minor": 0
      },
      "text/plain": [
       "Running Epoch 3 of 5:   0%|          | 0/619 [00:00<?, ?it/s]"
      ]
     },
     "metadata": {},
     "output_type": "display_data"
    },
    {
     "data": {
      "application/vnd.jupyter.widget-view+json": {
       "model_id": "7f759699a9d34d2aa5eecf40bab5109d",
       "version_major": 2,
       "version_minor": 0
      },
      "text/plain": [
       "Running Epoch 4 of 5:   0%|          | 0/619 [00:00<?, ?it/s]"
      ]
     },
     "metadata": {},
     "output_type": "display_data"
    },
    {
     "name": "stderr",
     "output_type": "stream",
     "text": [
      "INFO:simpletransformers.classification.classification_model: Training of roberta model complete. Saved to chemberta/random_split_chemberta_models/11/.\n",
      "/home/jackievaleri8/anaconda3/lib/python3.8/site-packages/simpletransformers/classification/classification_model.py:1454: UserWarning: Dataframe headers not specified. Falling back to using column 0 as text and column 1 as labels.\n",
      "  warnings.warn(\n",
      "INFO:simpletransformers.classification.classification_utils: Converting to features started. Cache is not used.\n",
      "INFO:simpletransformers.classification.classification_utils: Saving features into cached file cache_dir/cached_dev_roberta_128_2_2\n"
     ]
    },
    {
     "data": {
      "application/vnd.jupyter.widget-view+json": {
       "model_id": "93a6580798f9430f95f9352799943aaf",
       "version_major": 2,
       "version_minor": 0
      },
      "text/plain": [
       "Running Evaluation:   0%|          | 0/484 [00:00<?, ?it/s]"
      ]
     },
     "metadata": {},
     "output_type": "display_data"
    },
    {
     "name": "stderr",
     "output_type": "stream",
     "text": [
      "INFO:simpletransformers.classification.classification_model:{'mcc': 0.3796565568330954, 'tp': 31, 'tn': 3734, 'fp': 28, 'fn': 75, 'auroc': 0.8870708073786524, 'auprc': 0.40151392511288403, 'acc': 0.9733712512926577, 'eval_loss': 0.10602805209307631}\n",
      "INFO:deepchem.splits.splitters:Computing train/valid/test indices\n",
      "INFO:deepchem.data.datasets:Constructing selection output shard 1\n",
      "INFO:deepchem.data.datasets:Selecting from input shard 1/5 for selection output shard 1\n",
      "INFO:deepchem.data.datasets:Selecting from input shard 2/5 for selection output shard 1\n",
      "INFO:deepchem.data.datasets:Selecting from input shard 3/5 for selection output shard 1\n",
      "INFO:deepchem.data.datasets:Selecting from input shard 4/5 for selection output shard 1\n",
      "INFO:deepchem.data.datasets:Selecting from input shard 5/5 for selection output shard 1\n",
      "INFO:deepchem.data.datasets:Constructing selection output shard 2\n",
      "INFO:deepchem.data.datasets:Selecting from input shard 1/5 for selection output shard 2\n",
      "INFO:deepchem.data.datasets:Selecting from input shard 2/5 for selection output shard 2\n",
      "INFO:deepchem.data.datasets:Selecting from input shard 3/5 for selection output shard 2\n",
      "INFO:deepchem.data.datasets:Selecting from input shard 4/5 for selection output shard 2\n",
      "INFO:deepchem.data.datasets:Selecting from input shard 5/5 for selection output shard 2\n"
     ]
    },
    {
     "name": "stdout",
     "output_type": "stream",
     "text": [
      "Fold: 11\n",
      "Test auROC: 0.8871874153651711\n",
      "Test auPR: 0.4032219016739414\n",
      "Seed: 12\n"
     ]
    },
    {
     "name": "stderr",
     "output_type": "stream",
     "text": [
      "INFO:deepchem.data.datasets:Constructing selection output shard 3\n",
      "INFO:deepchem.data.datasets:Selecting from input shard 1/5 for selection output shard 3\n",
      "INFO:deepchem.data.datasets:Selecting from input shard 2/5 for selection output shard 3\n",
      "INFO:deepchem.data.datasets:Selecting from input shard 3/5 for selection output shard 3\n",
      "INFO:deepchem.data.datasets:Selecting from input shard 4/5 for selection output shard 3\n",
      "INFO:deepchem.data.datasets:Selecting from input shard 5/5 for selection output shard 3\n",
      "INFO:deepchem.data.datasets:Constructing selection output shard 4\n",
      "INFO:deepchem.data.datasets:Selecting from input shard 1/5 for selection output shard 4\n",
      "INFO:deepchem.data.datasets:Selecting from input shard 2/5 for selection output shard 4\n",
      "INFO:deepchem.data.datasets:Selecting from input shard 3/5 for selection output shard 4\n",
      "INFO:deepchem.data.datasets:Selecting from input shard 4/5 for selection output shard 4\n",
      "INFO:deepchem.data.datasets:Selecting from input shard 5/5 for selection output shard 4\n",
      "INFO:deepchem.data.datasets:TIMING: dataset construction took 0.470 s\n",
      "INFO:deepchem.data.datasets:Loading dataset from disk.\n",
      "INFO:deepchem.data.datasets:Constructing selection output shard 1\n",
      "INFO:deepchem.data.datasets:Selecting from input shard 1/5 for selection output shard 1\n",
      "INFO:deepchem.data.datasets:Selecting from input shard 2/5 for selection output shard 1\n",
      "INFO:deepchem.data.datasets:Selecting from input shard 3/5 for selection output shard 1\n",
      "INFO:deepchem.data.datasets:Selecting from input shard 4/5 for selection output shard 1\n",
      "INFO:deepchem.data.datasets:Selecting from input shard 5/5 for selection output shard 1\n",
      "INFO:deepchem.data.datasets:TIMING: dataset construction took 0.071 s\n",
      "INFO:deepchem.data.datasets:Loading dataset from disk.\n",
      "INFO:deepchem.data.datasets:Constructing selection output shard 1\n",
      "INFO:deepchem.data.datasets:Selecting from input shard 1/5 for selection output shard 1\n",
      "INFO:deepchem.data.datasets:Selecting from input shard 2/5 for selection output shard 1\n",
      "INFO:deepchem.data.datasets:Selecting from input shard 3/5 for selection output shard 1\n",
      "INFO:deepchem.data.datasets:Selecting from input shard 4/5 for selection output shard 1\n",
      "INFO:deepchem.data.datasets:Selecting from input shard 5/5 for selection output shard 1\n",
      "INFO:deepchem.data.datasets:TIMING: dataset construction took 0.071 s\n",
      "INFO:deepchem.data.datasets:Loading dataset from disk.\n",
      "/home/jackievaleri8/anaconda3/lib/python3.8/site-packages/transformers/models/auto/modeling_auto.py:1177: FutureWarning: The class `AutoModelWithLMHead` is deprecated and will be removed in a future version. Please use `AutoModelForCausalLM` for causal language models, `AutoModelForMaskedLM` for masked language models and `AutoModelForSeq2SeqLM` for encoder-decoder models.\n",
      "  warnings.warn(\n",
      "Some weights of the model checkpoint at seyonec/ChemBERTa-zinc-base-v1 were not used when initializing RobertaForSequenceClassification: ['roberta.pooler.dense.weight', 'lm_head.dense.bias', 'lm_head.decoder.bias', 'lm_head.dense.weight', 'lm_head.layer_norm.bias', 'roberta.pooler.dense.bias', 'lm_head.layer_norm.weight', 'lm_head.decoder.weight', 'lm_head.bias']\n",
      "- This IS expected if you are initializing RobertaForSequenceClassification from the checkpoint of a model trained on another task or with another architecture (e.g. initializing a BertForSequenceClassification model from a BertForPreTraining model).\n",
      "- This IS NOT expected if you are initializing RobertaForSequenceClassification from the checkpoint of a model that you expect to be exactly identical (initializing a BertForSequenceClassification model from a BertForSequenceClassification model).\n",
      "Some weights of RobertaForSequenceClassification were not initialized from the model checkpoint at seyonec/ChemBERTa-zinc-base-v1 and are newly initialized: ['classifier.out_proj.bias', 'classifier.out_proj.weight', 'classifier.dense.weight', 'classifier.dense.bias']\n",
      "You should probably TRAIN this model on a down-stream task to be able to use it for predictions and inference.\n",
      "/home/jackievaleri8/anaconda3/lib/python3.8/site-packages/simpletransformers/classification/classification_model.py:612: UserWarning: Dataframe headers not specified. Falling back to using column 0 as text and column 1 as labels.\n",
      "  warnings.warn(\n",
      "INFO:simpletransformers.classification.classification_utils: Converting to features started. Cache is not used.\n",
      "INFO:simpletransformers.classification.classification_utils: Saving features into cached file cache_dir/cached_train_roberta_128_2_2\n"
     ]
    },
    {
     "data": {
      "application/vnd.jupyter.widget-view+json": {
       "model_id": "5ba66f7b3c1e445d9d1873ecf19dc03a",
       "version_major": 2,
       "version_minor": 0
      },
      "text/plain": [
       "Epoch:   0%|          | 0/5 [00:00<?, ?it/s]"
      ]
     },
     "metadata": {},
     "output_type": "display_data"
    },
    {
     "data": {
      "application/vnd.jupyter.widget-view+json": {
       "model_id": "4ed53a268e7f4d96b0bb5d2ff0ff4fae",
       "version_major": 2,
       "version_minor": 0
      },
      "text/plain": [
       "Running Epoch 0 of 5:   0%|          | 0/619 [00:00<?, ?it/s]"
      ]
     },
     "metadata": {},
     "output_type": "display_data"
    },
    {
     "data": {
      "application/vnd.jupyter.widget-view+json": {
       "model_id": "5ddb897b4d424305a105752170a11897",
       "version_major": 2,
       "version_minor": 0
      },
      "text/plain": [
       "Running Epoch 1 of 5:   0%|          | 0/619 [00:00<?, ?it/s]"
      ]
     },
     "metadata": {},
     "output_type": "display_data"
    },
    {
     "data": {
      "application/vnd.jupyter.widget-view+json": {
       "model_id": "dc1cf8cbec2447eeaab8332ebbff63ab",
       "version_major": 2,
       "version_minor": 0
      },
      "text/plain": [
       "Running Epoch 2 of 5:   0%|          | 0/619 [00:00<?, ?it/s]"
      ]
     },
     "metadata": {},
     "output_type": "display_data"
    },
    {
     "data": {
      "application/vnd.jupyter.widget-view+json": {
       "model_id": "6453ce001ea94b01ba15fe30ac2ea526",
       "version_major": 2,
       "version_minor": 0
      },
      "text/plain": [
       "Running Epoch 3 of 5:   0%|          | 0/619 [00:00<?, ?it/s]"
      ]
     },
     "metadata": {},
     "output_type": "display_data"
    },
    {
     "data": {
      "application/vnd.jupyter.widget-view+json": {
       "model_id": "2857663bef3441fca360910ec6fb06de",
       "version_major": 2,
       "version_minor": 0
      },
      "text/plain": [
       "Running Epoch 4 of 5:   0%|          | 0/619 [00:00<?, ?it/s]"
      ]
     },
     "metadata": {},
     "output_type": "display_data"
    },
    {
     "name": "stderr",
     "output_type": "stream",
     "text": [
      "INFO:simpletransformers.classification.classification_model: Training of roberta model complete. Saved to chemberta/random_split_chemberta_models/12/.\n",
      "/home/jackievaleri8/anaconda3/lib/python3.8/site-packages/simpletransformers/classification/classification_model.py:1454: UserWarning: Dataframe headers not specified. Falling back to using column 0 as text and column 1 as labels.\n",
      "  warnings.warn(\n",
      "INFO:simpletransformers.classification.classification_utils: Converting to features started. Cache is not used.\n",
      "INFO:simpletransformers.classification.classification_utils: Saving features into cached file cache_dir/cached_dev_roberta_128_2_2\n"
     ]
    },
    {
     "data": {
      "application/vnd.jupyter.widget-view+json": {
       "model_id": "734f47ec9a69487e9835e4d043b4f87b",
       "version_major": 2,
       "version_minor": 0
      },
      "text/plain": [
       "Running Evaluation:   0%|          | 0/484 [00:00<?, ?it/s]"
      ]
     },
     "metadata": {},
     "output_type": "display_data"
    },
    {
     "name": "stderr",
     "output_type": "stream",
     "text": [
      "INFO:simpletransformers.classification.classification_model:{'mcc': 0.4256432562463128, 'tp': 47, 'tn': 3693, 'fp': 33, 'fn': 95, 'auroc': 0.8887546967257113, 'auprc': 0.4218884686743053, 'acc': 0.9669079627714581, 'eval_loss': 0.14106668134735637}\n",
      "INFO:deepchem.splits.splitters:Computing train/valid/test indices\n",
      "INFO:deepchem.data.datasets:Constructing selection output shard 1\n",
      "INFO:deepchem.data.datasets:Selecting from input shard 1/5 for selection output shard 1\n",
      "INFO:deepchem.data.datasets:Selecting from input shard 2/5 for selection output shard 1\n",
      "INFO:deepchem.data.datasets:Selecting from input shard 3/5 for selection output shard 1\n",
      "INFO:deepchem.data.datasets:Selecting from input shard 4/5 for selection output shard 1\n",
      "INFO:deepchem.data.datasets:Selecting from input shard 5/5 for selection output shard 1\n",
      "INFO:deepchem.data.datasets:Constructing selection output shard 2\n",
      "INFO:deepchem.data.datasets:Selecting from input shard 1/5 for selection output shard 2\n",
      "INFO:deepchem.data.datasets:Selecting from input shard 2/5 for selection output shard 2\n",
      "INFO:deepchem.data.datasets:Selecting from input shard 3/5 for selection output shard 2\n",
      "INFO:deepchem.data.datasets:Selecting from input shard 4/5 for selection output shard 2\n",
      "INFO:deepchem.data.datasets:Selecting from input shard 5/5 for selection output shard 2\n"
     ]
    },
    {
     "name": "stdout",
     "output_type": "stream",
     "text": [
      "Fold: 12\n",
      "Test auROC: 0.8939617306630983\n",
      "Test auPR: 0.4237721962893336\n",
      "Seed: 13\n"
     ]
    },
    {
     "name": "stderr",
     "output_type": "stream",
     "text": [
      "INFO:deepchem.data.datasets:Constructing selection output shard 3\n",
      "INFO:deepchem.data.datasets:Selecting from input shard 1/5 for selection output shard 3\n",
      "INFO:deepchem.data.datasets:Selecting from input shard 2/5 for selection output shard 3\n",
      "INFO:deepchem.data.datasets:Selecting from input shard 3/5 for selection output shard 3\n",
      "INFO:deepchem.data.datasets:Selecting from input shard 4/5 for selection output shard 3\n",
      "INFO:deepchem.data.datasets:Selecting from input shard 5/5 for selection output shard 3\n",
      "INFO:deepchem.data.datasets:Constructing selection output shard 4\n",
      "INFO:deepchem.data.datasets:Selecting from input shard 1/5 for selection output shard 4\n",
      "INFO:deepchem.data.datasets:Selecting from input shard 2/5 for selection output shard 4\n",
      "INFO:deepchem.data.datasets:Selecting from input shard 3/5 for selection output shard 4\n",
      "INFO:deepchem.data.datasets:Selecting from input shard 4/5 for selection output shard 4\n",
      "INFO:deepchem.data.datasets:Selecting from input shard 5/5 for selection output shard 4\n",
      "INFO:deepchem.data.datasets:TIMING: dataset construction took 0.470 s\n",
      "INFO:deepchem.data.datasets:Loading dataset from disk.\n",
      "INFO:deepchem.data.datasets:Constructing selection output shard 1\n",
      "INFO:deepchem.data.datasets:Selecting from input shard 1/5 for selection output shard 1\n",
      "INFO:deepchem.data.datasets:Selecting from input shard 2/5 for selection output shard 1\n",
      "INFO:deepchem.data.datasets:Selecting from input shard 3/5 for selection output shard 1\n",
      "INFO:deepchem.data.datasets:Selecting from input shard 4/5 for selection output shard 1\n",
      "INFO:deepchem.data.datasets:Selecting from input shard 5/5 for selection output shard 1\n",
      "INFO:deepchem.data.datasets:TIMING: dataset construction took 0.071 s\n",
      "INFO:deepchem.data.datasets:Loading dataset from disk.\n",
      "INFO:deepchem.data.datasets:Constructing selection output shard 1\n",
      "INFO:deepchem.data.datasets:Selecting from input shard 1/5 for selection output shard 1\n",
      "INFO:deepchem.data.datasets:Selecting from input shard 2/5 for selection output shard 1\n",
      "INFO:deepchem.data.datasets:Selecting from input shard 3/5 for selection output shard 1\n",
      "INFO:deepchem.data.datasets:Selecting from input shard 4/5 for selection output shard 1\n",
      "INFO:deepchem.data.datasets:Selecting from input shard 5/5 for selection output shard 1\n",
      "INFO:deepchem.data.datasets:TIMING: dataset construction took 0.072 s\n",
      "INFO:deepchem.data.datasets:Loading dataset from disk.\n",
      "/home/jackievaleri8/anaconda3/lib/python3.8/site-packages/transformers/models/auto/modeling_auto.py:1177: FutureWarning: The class `AutoModelWithLMHead` is deprecated and will be removed in a future version. Please use `AutoModelForCausalLM` for causal language models, `AutoModelForMaskedLM` for masked language models and `AutoModelForSeq2SeqLM` for encoder-decoder models.\n",
      "  warnings.warn(\n",
      "Some weights of the model checkpoint at seyonec/ChemBERTa-zinc-base-v1 were not used when initializing RobertaForSequenceClassification: ['roberta.pooler.dense.weight', 'lm_head.dense.bias', 'lm_head.decoder.bias', 'lm_head.dense.weight', 'lm_head.layer_norm.bias', 'roberta.pooler.dense.bias', 'lm_head.layer_norm.weight', 'lm_head.decoder.weight', 'lm_head.bias']\n",
      "- This IS expected if you are initializing RobertaForSequenceClassification from the checkpoint of a model trained on another task or with another architecture (e.g. initializing a BertForSequenceClassification model from a BertForPreTraining model).\n",
      "- This IS NOT expected if you are initializing RobertaForSequenceClassification from the checkpoint of a model that you expect to be exactly identical (initializing a BertForSequenceClassification model from a BertForSequenceClassification model).\n",
      "Some weights of RobertaForSequenceClassification were not initialized from the model checkpoint at seyonec/ChemBERTa-zinc-base-v1 and are newly initialized: ['classifier.out_proj.bias', 'classifier.out_proj.weight', 'classifier.dense.weight', 'classifier.dense.bias']\n",
      "You should probably TRAIN this model on a down-stream task to be able to use it for predictions and inference.\n",
      "/home/jackievaleri8/anaconda3/lib/python3.8/site-packages/simpletransformers/classification/classification_model.py:612: UserWarning: Dataframe headers not specified. Falling back to using column 0 as text and column 1 as labels.\n",
      "  warnings.warn(\n",
      "INFO:simpletransformers.classification.classification_utils: Converting to features started. Cache is not used.\n",
      "INFO:simpletransformers.classification.classification_utils: Saving features into cached file cache_dir/cached_train_roberta_128_2_2\n"
     ]
    },
    {
     "data": {
      "application/vnd.jupyter.widget-view+json": {
       "model_id": "40e88f09195b4e4294f540a874e92020",
       "version_major": 2,
       "version_minor": 0
      },
      "text/plain": [
       "Epoch:   0%|          | 0/5 [00:00<?, ?it/s]"
      ]
     },
     "metadata": {},
     "output_type": "display_data"
    },
    {
     "data": {
      "application/vnd.jupyter.widget-view+json": {
       "model_id": "01e3c3e2e183484a98ce87d2d4ba9fdd",
       "version_major": 2,
       "version_minor": 0
      },
      "text/plain": [
       "Running Epoch 0 of 5:   0%|          | 0/619 [00:00<?, ?it/s]"
      ]
     },
     "metadata": {},
     "output_type": "display_data"
    },
    {
     "data": {
      "application/vnd.jupyter.widget-view+json": {
       "model_id": "80e48de47440438e85fb09d8b4ad8cba",
       "version_major": 2,
       "version_minor": 0
      },
      "text/plain": [
       "Running Epoch 1 of 5:   0%|          | 0/619 [00:00<?, ?it/s]"
      ]
     },
     "metadata": {},
     "output_type": "display_data"
    },
    {
     "data": {
      "application/vnd.jupyter.widget-view+json": {
       "model_id": "aa78676636864ef9b6f443ecf83841fa",
       "version_major": 2,
       "version_minor": 0
      },
      "text/plain": [
       "Running Epoch 2 of 5:   0%|          | 0/619 [00:00<?, ?it/s]"
      ]
     },
     "metadata": {},
     "output_type": "display_data"
    },
    {
     "data": {
      "application/vnd.jupyter.widget-view+json": {
       "model_id": "23ba3d2623214d669b1c41543f4146b0",
       "version_major": 2,
       "version_minor": 0
      },
      "text/plain": [
       "Running Epoch 3 of 5:   0%|          | 0/619 [00:00<?, ?it/s]"
      ]
     },
     "metadata": {},
     "output_type": "display_data"
    },
    {
     "data": {
      "application/vnd.jupyter.widget-view+json": {
       "model_id": "9fa6ea17857444228ddf557363bedc38",
       "version_major": 2,
       "version_minor": 0
      },
      "text/plain": [
       "Running Epoch 4 of 5:   0%|          | 0/619 [00:00<?, ?it/s]"
      ]
     },
     "metadata": {},
     "output_type": "display_data"
    },
    {
     "name": "stderr",
     "output_type": "stream",
     "text": [
      "INFO:simpletransformers.classification.classification_model: Training of roberta model complete. Saved to chemberta/random_split_chemberta_models/13/.\n",
      "/home/jackievaleri8/anaconda3/lib/python3.8/site-packages/simpletransformers/classification/classification_model.py:1454: UserWarning: Dataframe headers not specified. Falling back to using column 0 as text and column 1 as labels.\n",
      "  warnings.warn(\n",
      "INFO:simpletransformers.classification.classification_utils: Converting to features started. Cache is not used.\n",
      "INFO:simpletransformers.classification.classification_utils: Saving features into cached file cache_dir/cached_dev_roberta_128_2_2\n"
     ]
    },
    {
     "data": {
      "application/vnd.jupyter.widget-view+json": {
       "model_id": "3922bb57237e441d979f137625c1d855",
       "version_major": 2,
       "version_minor": 0
      },
      "text/plain": [
       "Running Evaluation:   0%|          | 0/484 [00:00<?, ?it/s]"
      ]
     },
     "metadata": {},
     "output_type": "display_data"
    },
    {
     "name": "stderr",
     "output_type": "stream",
     "text": [
      "INFO:simpletransformers.classification.classification_model:{'mcc': 0.525334763007242, 'tp': 57, 'tn': 3709, 'fp': 30, 'fn': 72, 'auroc': 0.8958588604091381, 'auprc': 0.5050964512728051, 'acc': 0.9736297828335057, 'eval_loss': 0.11434602284850168}\n",
      "INFO:deepchem.splits.splitters:Computing train/valid/test indices\n",
      "INFO:deepchem.data.datasets:Constructing selection output shard 1\n",
      "INFO:deepchem.data.datasets:Selecting from input shard 1/5 for selection output shard 1\n",
      "INFO:deepchem.data.datasets:Selecting from input shard 2/5 for selection output shard 1\n",
      "INFO:deepchem.data.datasets:Selecting from input shard 3/5 for selection output shard 1\n",
      "INFO:deepchem.data.datasets:Selecting from input shard 4/5 for selection output shard 1\n",
      "INFO:deepchem.data.datasets:Selecting from input shard 5/5 for selection output shard 1\n",
      "INFO:deepchem.data.datasets:Constructing selection output shard 2\n",
      "INFO:deepchem.data.datasets:Selecting from input shard 1/5 for selection output shard 2\n",
      "INFO:deepchem.data.datasets:Selecting from input shard 2/5 for selection output shard 2\n",
      "INFO:deepchem.data.datasets:Selecting from input shard 3/5 for selection output shard 2\n",
      "INFO:deepchem.data.datasets:Selecting from input shard 4/5 for selection output shard 2\n",
      "INFO:deepchem.data.datasets:Selecting from input shard 5/5 for selection output shard 2\n"
     ]
    },
    {
     "name": "stdout",
     "output_type": "stream",
     "text": [
      "Fold: 13\n",
      "Test auROC: 0.9030157713271592\n",
      "Test auPR: 0.5078429070222785\n",
      "Seed: 14\n"
     ]
    },
    {
     "name": "stderr",
     "output_type": "stream",
     "text": [
      "INFO:deepchem.data.datasets:Constructing selection output shard 3\n",
      "INFO:deepchem.data.datasets:Selecting from input shard 1/5 for selection output shard 3\n",
      "INFO:deepchem.data.datasets:Selecting from input shard 2/5 for selection output shard 3\n",
      "INFO:deepchem.data.datasets:Selecting from input shard 3/5 for selection output shard 3\n",
      "INFO:deepchem.data.datasets:Selecting from input shard 4/5 for selection output shard 3\n",
      "INFO:deepchem.data.datasets:Selecting from input shard 5/5 for selection output shard 3\n",
      "INFO:deepchem.data.datasets:Constructing selection output shard 4\n",
      "INFO:deepchem.data.datasets:Selecting from input shard 1/5 for selection output shard 4\n",
      "INFO:deepchem.data.datasets:Selecting from input shard 2/5 for selection output shard 4\n",
      "INFO:deepchem.data.datasets:Selecting from input shard 3/5 for selection output shard 4\n",
      "INFO:deepchem.data.datasets:Selecting from input shard 4/5 for selection output shard 4\n",
      "INFO:deepchem.data.datasets:Selecting from input shard 5/5 for selection output shard 4\n",
      "INFO:deepchem.data.datasets:TIMING: dataset construction took 0.481 s\n",
      "INFO:deepchem.data.datasets:Loading dataset from disk.\n",
      "INFO:deepchem.data.datasets:Constructing selection output shard 1\n",
      "INFO:deepchem.data.datasets:Selecting from input shard 1/5 for selection output shard 1\n",
      "INFO:deepchem.data.datasets:Selecting from input shard 2/5 for selection output shard 1\n",
      "INFO:deepchem.data.datasets:Selecting from input shard 3/5 for selection output shard 1\n",
      "INFO:deepchem.data.datasets:Selecting from input shard 4/5 for selection output shard 1\n",
      "INFO:deepchem.data.datasets:Selecting from input shard 5/5 for selection output shard 1\n",
      "INFO:deepchem.data.datasets:TIMING: dataset construction took 0.073 s\n",
      "INFO:deepchem.data.datasets:Loading dataset from disk.\n",
      "INFO:deepchem.data.datasets:Constructing selection output shard 1\n",
      "INFO:deepchem.data.datasets:Selecting from input shard 1/5 for selection output shard 1\n",
      "INFO:deepchem.data.datasets:Selecting from input shard 2/5 for selection output shard 1\n",
      "INFO:deepchem.data.datasets:Selecting from input shard 3/5 for selection output shard 1\n",
      "INFO:deepchem.data.datasets:Selecting from input shard 4/5 for selection output shard 1\n",
      "INFO:deepchem.data.datasets:Selecting from input shard 5/5 for selection output shard 1\n",
      "INFO:deepchem.data.datasets:TIMING: dataset construction took 0.073 s\n",
      "INFO:deepchem.data.datasets:Loading dataset from disk.\n",
      "/home/jackievaleri8/anaconda3/lib/python3.8/site-packages/transformers/models/auto/modeling_auto.py:1177: FutureWarning: The class `AutoModelWithLMHead` is deprecated and will be removed in a future version. Please use `AutoModelForCausalLM` for causal language models, `AutoModelForMaskedLM` for masked language models and `AutoModelForSeq2SeqLM` for encoder-decoder models.\n",
      "  warnings.warn(\n",
      "Some weights of the model checkpoint at seyonec/ChemBERTa-zinc-base-v1 were not used when initializing RobertaForSequenceClassification: ['roberta.pooler.dense.weight', 'lm_head.dense.bias', 'lm_head.decoder.bias', 'lm_head.dense.weight', 'lm_head.layer_norm.bias', 'roberta.pooler.dense.bias', 'lm_head.layer_norm.weight', 'lm_head.decoder.weight', 'lm_head.bias']\n",
      "- This IS expected if you are initializing RobertaForSequenceClassification from the checkpoint of a model trained on another task or with another architecture (e.g. initializing a BertForSequenceClassification model from a BertForPreTraining model).\n",
      "- This IS NOT expected if you are initializing RobertaForSequenceClassification from the checkpoint of a model that you expect to be exactly identical (initializing a BertForSequenceClassification model from a BertForSequenceClassification model).\n",
      "Some weights of RobertaForSequenceClassification were not initialized from the model checkpoint at seyonec/ChemBERTa-zinc-base-v1 and are newly initialized: ['classifier.out_proj.bias', 'classifier.out_proj.weight', 'classifier.dense.weight', 'classifier.dense.bias']\n",
      "You should probably TRAIN this model on a down-stream task to be able to use it for predictions and inference.\n",
      "/home/jackievaleri8/anaconda3/lib/python3.8/site-packages/simpletransformers/classification/classification_model.py:612: UserWarning: Dataframe headers not specified. Falling back to using column 0 as text and column 1 as labels.\n",
      "  warnings.warn(\n",
      "INFO:simpletransformers.classification.classification_utils: Converting to features started. Cache is not used.\n",
      "INFO:simpletransformers.classification.classification_utils: Saving features into cached file cache_dir/cached_train_roberta_128_2_2\n"
     ]
    },
    {
     "data": {
      "application/vnd.jupyter.widget-view+json": {
       "model_id": "5bb93dd8f2ed42b592c799861729cea9",
       "version_major": 2,
       "version_minor": 0
      },
      "text/plain": [
       "Epoch:   0%|          | 0/5 [00:00<?, ?it/s]"
      ]
     },
     "metadata": {},
     "output_type": "display_data"
    },
    {
     "data": {
      "application/vnd.jupyter.widget-view+json": {
       "model_id": "91c73e8d1e364bb6ada1b2f58337b0fe",
       "version_major": 2,
       "version_minor": 0
      },
      "text/plain": [
       "Running Epoch 0 of 5:   0%|          | 0/619 [00:00<?, ?it/s]"
      ]
     },
     "metadata": {},
     "output_type": "display_data"
    },
    {
     "data": {
      "application/vnd.jupyter.widget-view+json": {
       "model_id": "651a3e14dd074c419f470c15048f0ae8",
       "version_major": 2,
       "version_minor": 0
      },
      "text/plain": [
       "Running Epoch 1 of 5:   0%|          | 0/619 [00:00<?, ?it/s]"
      ]
     },
     "metadata": {},
     "output_type": "display_data"
    },
    {
     "data": {
      "application/vnd.jupyter.widget-view+json": {
       "model_id": "8f4d99c1d9f54fb58de71131dec1f796",
       "version_major": 2,
       "version_minor": 0
      },
      "text/plain": [
       "Running Epoch 2 of 5:   0%|          | 0/619 [00:00<?, ?it/s]"
      ]
     },
     "metadata": {},
     "output_type": "display_data"
    },
    {
     "data": {
      "application/vnd.jupyter.widget-view+json": {
       "model_id": "66608e2c6ff14ca7af8079e33b1db3bd",
       "version_major": 2,
       "version_minor": 0
      },
      "text/plain": [
       "Running Epoch 3 of 5:   0%|          | 0/619 [00:00<?, ?it/s]"
      ]
     },
     "metadata": {},
     "output_type": "display_data"
    },
    {
     "data": {
      "application/vnd.jupyter.widget-view+json": {
       "model_id": "94b52dd75e2a43748ccefce56ad97c09",
       "version_major": 2,
       "version_minor": 0
      },
      "text/plain": [
       "Running Epoch 4 of 5:   0%|          | 0/619 [00:00<?, ?it/s]"
      ]
     },
     "metadata": {},
     "output_type": "display_data"
    },
    {
     "name": "stderr",
     "output_type": "stream",
     "text": [
      "INFO:simpletransformers.classification.classification_model: Training of roberta model complete. Saved to chemberta/random_split_chemberta_models/14/.\n",
      "/home/jackievaleri8/anaconda3/lib/python3.8/site-packages/simpletransformers/classification/classification_model.py:1454: UserWarning: Dataframe headers not specified. Falling back to using column 0 as text and column 1 as labels.\n",
      "  warnings.warn(\n",
      "INFO:simpletransformers.classification.classification_utils: Converting to features started. Cache is not used.\n",
      "INFO:simpletransformers.classification.classification_utils: Saving features into cached file cache_dir/cached_dev_roberta_128_2_2\n"
     ]
    },
    {
     "data": {
      "application/vnd.jupyter.widget-view+json": {
       "model_id": "731bc8bbd25a4cb19c6a0d6143d9fbef",
       "version_major": 2,
       "version_minor": 0
      },
      "text/plain": [
       "Running Evaluation:   0%|          | 0/484 [00:00<?, ?it/s]"
      ]
     },
     "metadata": {},
     "output_type": "display_data"
    },
    {
     "name": "stderr",
     "output_type": "stream",
     "text": [
      "INFO:simpletransformers.classification.classification_model:{'mcc': 0.4738884932842304, 'tp': 45, 'tn': 3717, 'fp': 21, 'fn': 85, 'auroc': 0.8894657776680248, 'auprc': 0.4620739733496086, 'acc': 0.9725956566701137, 'eval_loss': 0.1219546432214335}\n",
      "INFO:deepchem.splits.splitters:Computing train/valid/test indices\n",
      "INFO:deepchem.data.datasets:Constructing selection output shard 1\n",
      "INFO:deepchem.data.datasets:Selecting from input shard 1/5 for selection output shard 1\n",
      "INFO:deepchem.data.datasets:Selecting from input shard 2/5 for selection output shard 1\n",
      "INFO:deepchem.data.datasets:Selecting from input shard 3/5 for selection output shard 1\n",
      "INFO:deepchem.data.datasets:Selecting from input shard 4/5 for selection output shard 1\n",
      "INFO:deepchem.data.datasets:Selecting from input shard 5/5 for selection output shard 1\n",
      "INFO:deepchem.data.datasets:Constructing selection output shard 2\n",
      "INFO:deepchem.data.datasets:Selecting from input shard 1/5 for selection output shard 2\n",
      "INFO:deepchem.data.datasets:Selecting from input shard 2/5 for selection output shard 2\n",
      "INFO:deepchem.data.datasets:Selecting from input shard 3/5 for selection output shard 2\n",
      "INFO:deepchem.data.datasets:Selecting from input shard 4/5 for selection output shard 2\n",
      "INFO:deepchem.data.datasets:Selecting from input shard 5/5 for selection output shard 2\n"
     ]
    },
    {
     "name": "stdout",
     "output_type": "stream",
     "text": [
      "Fold: 14\n",
      "Test auROC: 0.8894729802033173\n",
      "Test auPR: 0.4584819331598253\n",
      "Seed: 15\n"
     ]
    },
    {
     "name": "stderr",
     "output_type": "stream",
     "text": [
      "INFO:deepchem.data.datasets:Constructing selection output shard 3\n",
      "INFO:deepchem.data.datasets:Selecting from input shard 1/5 for selection output shard 3\n",
      "INFO:deepchem.data.datasets:Selecting from input shard 2/5 for selection output shard 3\n",
      "INFO:deepchem.data.datasets:Selecting from input shard 3/5 for selection output shard 3\n",
      "INFO:deepchem.data.datasets:Selecting from input shard 4/5 for selection output shard 3\n",
      "INFO:deepchem.data.datasets:Selecting from input shard 5/5 for selection output shard 3\n",
      "INFO:deepchem.data.datasets:Constructing selection output shard 4\n",
      "INFO:deepchem.data.datasets:Selecting from input shard 1/5 for selection output shard 4\n",
      "INFO:deepchem.data.datasets:Selecting from input shard 2/5 for selection output shard 4\n",
      "INFO:deepchem.data.datasets:Selecting from input shard 3/5 for selection output shard 4\n",
      "INFO:deepchem.data.datasets:Selecting from input shard 4/5 for selection output shard 4\n",
      "INFO:deepchem.data.datasets:Selecting from input shard 5/5 for selection output shard 4\n",
      "INFO:deepchem.data.datasets:TIMING: dataset construction took 0.485 s\n",
      "INFO:deepchem.data.datasets:Loading dataset from disk.\n",
      "INFO:deepchem.data.datasets:Constructing selection output shard 1\n",
      "INFO:deepchem.data.datasets:Selecting from input shard 1/5 for selection output shard 1\n",
      "INFO:deepchem.data.datasets:Selecting from input shard 2/5 for selection output shard 1\n",
      "INFO:deepchem.data.datasets:Selecting from input shard 3/5 for selection output shard 1\n",
      "INFO:deepchem.data.datasets:Selecting from input shard 4/5 for selection output shard 1\n",
      "INFO:deepchem.data.datasets:Selecting from input shard 5/5 for selection output shard 1\n",
      "INFO:deepchem.data.datasets:TIMING: dataset construction took 0.071 s\n",
      "INFO:deepchem.data.datasets:Loading dataset from disk.\n",
      "INFO:deepchem.data.datasets:Constructing selection output shard 1\n",
      "INFO:deepchem.data.datasets:Selecting from input shard 1/5 for selection output shard 1\n",
      "INFO:deepchem.data.datasets:Selecting from input shard 2/5 for selection output shard 1\n",
      "INFO:deepchem.data.datasets:Selecting from input shard 3/5 for selection output shard 1\n",
      "INFO:deepchem.data.datasets:Selecting from input shard 4/5 for selection output shard 1\n",
      "INFO:deepchem.data.datasets:Selecting from input shard 5/5 for selection output shard 1\n",
      "INFO:deepchem.data.datasets:TIMING: dataset construction took 0.076 s\n",
      "INFO:deepchem.data.datasets:Loading dataset from disk.\n",
      "/home/jackievaleri8/anaconda3/lib/python3.8/site-packages/transformers/models/auto/modeling_auto.py:1177: FutureWarning: The class `AutoModelWithLMHead` is deprecated and will be removed in a future version. Please use `AutoModelForCausalLM` for causal language models, `AutoModelForMaskedLM` for masked language models and `AutoModelForSeq2SeqLM` for encoder-decoder models.\n",
      "  warnings.warn(\n",
      "Some weights of the model checkpoint at seyonec/ChemBERTa-zinc-base-v1 were not used when initializing RobertaForSequenceClassification: ['roberta.pooler.dense.weight', 'lm_head.dense.bias', 'lm_head.decoder.bias', 'lm_head.dense.weight', 'lm_head.layer_norm.bias', 'roberta.pooler.dense.bias', 'lm_head.layer_norm.weight', 'lm_head.decoder.weight', 'lm_head.bias']\n",
      "- This IS expected if you are initializing RobertaForSequenceClassification from the checkpoint of a model trained on another task or with another architecture (e.g. initializing a BertForSequenceClassification model from a BertForPreTraining model).\n",
      "- This IS NOT expected if you are initializing RobertaForSequenceClassification from the checkpoint of a model that you expect to be exactly identical (initializing a BertForSequenceClassification model from a BertForSequenceClassification model).\n",
      "Some weights of RobertaForSequenceClassification were not initialized from the model checkpoint at seyonec/ChemBERTa-zinc-base-v1 and are newly initialized: ['classifier.out_proj.bias', 'classifier.out_proj.weight', 'classifier.dense.weight', 'classifier.dense.bias']\n",
      "You should probably TRAIN this model on a down-stream task to be able to use it for predictions and inference.\n",
      "/home/jackievaleri8/anaconda3/lib/python3.8/site-packages/simpletransformers/classification/classification_model.py:612: UserWarning: Dataframe headers not specified. Falling back to using column 0 as text and column 1 as labels.\n",
      "  warnings.warn(\n",
      "INFO:simpletransformers.classification.classification_utils: Converting to features started. Cache is not used.\n",
      "INFO:simpletransformers.classification.classification_utils: Saving features into cached file cache_dir/cached_train_roberta_128_2_2\n"
     ]
    },
    {
     "data": {
      "application/vnd.jupyter.widget-view+json": {
       "model_id": "087a51309a4c4211935ebcfd689eaa4e",
       "version_major": 2,
       "version_minor": 0
      },
      "text/plain": [
       "Epoch:   0%|          | 0/5 [00:00<?, ?it/s]"
      ]
     },
     "metadata": {},
     "output_type": "display_data"
    },
    {
     "data": {
      "application/vnd.jupyter.widget-view+json": {
       "model_id": "aafb0852b33c423ba68e35bdcf552fa7",
       "version_major": 2,
       "version_minor": 0
      },
      "text/plain": [
       "Running Epoch 0 of 5:   0%|          | 0/619 [00:00<?, ?it/s]"
      ]
     },
     "metadata": {},
     "output_type": "display_data"
    },
    {
     "data": {
      "application/vnd.jupyter.widget-view+json": {
       "model_id": "e85d054787564d81b063464e905f00e9",
       "version_major": 2,
       "version_minor": 0
      },
      "text/plain": [
       "Running Epoch 1 of 5:   0%|          | 0/619 [00:00<?, ?it/s]"
      ]
     },
     "metadata": {},
     "output_type": "display_data"
    },
    {
     "data": {
      "application/vnd.jupyter.widget-view+json": {
       "model_id": "47727de9fc504a1faa54db01eb99705a",
       "version_major": 2,
       "version_minor": 0
      },
      "text/plain": [
       "Running Epoch 2 of 5:   0%|          | 0/619 [00:00<?, ?it/s]"
      ]
     },
     "metadata": {},
     "output_type": "display_data"
    },
    {
     "data": {
      "application/vnd.jupyter.widget-view+json": {
       "model_id": "ab6a7fbbe79c441bbd05cace9718b265",
       "version_major": 2,
       "version_minor": 0
      },
      "text/plain": [
       "Running Epoch 3 of 5:   0%|          | 0/619 [00:00<?, ?it/s]"
      ]
     },
     "metadata": {},
     "output_type": "display_data"
    },
    {
     "data": {
      "application/vnd.jupyter.widget-view+json": {
       "model_id": "c25e46cd38b24b78a11e4a58f75accf0",
       "version_major": 2,
       "version_minor": 0
      },
      "text/plain": [
       "Running Epoch 4 of 5:   0%|          | 0/619 [00:00<?, ?it/s]"
      ]
     },
     "metadata": {},
     "output_type": "display_data"
    },
    {
     "name": "stderr",
     "output_type": "stream",
     "text": [
      "INFO:simpletransformers.classification.classification_model: Training of roberta model complete. Saved to chemberta/random_split_chemberta_models/15/.\n",
      "/home/jackievaleri8/anaconda3/lib/python3.8/site-packages/simpletransformers/classification/classification_model.py:1454: UserWarning: Dataframe headers not specified. Falling back to using column 0 as text and column 1 as labels.\n",
      "  warnings.warn(\n",
      "INFO:simpletransformers.classification.classification_utils: Converting to features started. Cache is not used.\n",
      "INFO:simpletransformers.classification.classification_utils: Saving features into cached file cache_dir/cached_dev_roberta_128_2_2\n"
     ]
    },
    {
     "data": {
      "application/vnd.jupyter.widget-view+json": {
       "model_id": "880a0a4104cc401caa30598768932da2",
       "version_major": 2,
       "version_minor": 0
      },
      "text/plain": [
       "Running Evaluation:   0%|          | 0/484 [00:00<?, ?it/s]"
      ]
     },
     "metadata": {},
     "output_type": "display_data"
    },
    {
     "name": "stderr",
     "output_type": "stream",
     "text": [
      "INFO:simpletransformers.classification.classification_model:{'mcc': 0.4026008633327667, 'tp': 38, 'tn': 3717, 'fp': 32, 'fn': 81, 'auroc': 0.8695024555567759, 'auprc': 0.4067537957944841, 'acc': 0.9707859358841778, 'eval_loss': 0.12517103592842077}\n",
      "INFO:deepchem.splits.splitters:Computing train/valid/test indices\n",
      "INFO:deepchem.data.datasets:Constructing selection output shard 1\n",
      "INFO:deepchem.data.datasets:Selecting from input shard 1/5 for selection output shard 1\n",
      "INFO:deepchem.data.datasets:Selecting from input shard 2/5 for selection output shard 1\n",
      "INFO:deepchem.data.datasets:Selecting from input shard 3/5 for selection output shard 1\n",
      "INFO:deepchem.data.datasets:Selecting from input shard 4/5 for selection output shard 1\n",
      "INFO:deepchem.data.datasets:Selecting from input shard 5/5 for selection output shard 1\n",
      "INFO:deepchem.data.datasets:Constructing selection output shard 2\n",
      "INFO:deepchem.data.datasets:Selecting from input shard 1/5 for selection output shard 2\n",
      "INFO:deepchem.data.datasets:Selecting from input shard 2/5 for selection output shard 2\n",
      "INFO:deepchem.data.datasets:Selecting from input shard 3/5 for selection output shard 2\n",
      "INFO:deepchem.data.datasets:Selecting from input shard 4/5 for selection output shard 2\n",
      "INFO:deepchem.data.datasets:Selecting from input shard 5/5 for selection output shard 2\n"
     ]
    },
    {
     "name": "stdout",
     "output_type": "stream",
     "text": [
      "Fold: 15\n",
      "Test auROC: 0.8738498333449144\n",
      "Test auPR: 0.4063852543390625\n",
      "Seed: 16\n"
     ]
    },
    {
     "name": "stderr",
     "output_type": "stream",
     "text": [
      "INFO:deepchem.data.datasets:Constructing selection output shard 3\n",
      "INFO:deepchem.data.datasets:Selecting from input shard 1/5 for selection output shard 3\n",
      "INFO:deepchem.data.datasets:Selecting from input shard 2/5 for selection output shard 3\n",
      "INFO:deepchem.data.datasets:Selecting from input shard 3/5 for selection output shard 3\n",
      "INFO:deepchem.data.datasets:Selecting from input shard 4/5 for selection output shard 3\n",
      "INFO:deepchem.data.datasets:Selecting from input shard 5/5 for selection output shard 3\n",
      "INFO:deepchem.data.datasets:Constructing selection output shard 4\n",
      "INFO:deepchem.data.datasets:Selecting from input shard 1/5 for selection output shard 4\n",
      "INFO:deepchem.data.datasets:Selecting from input shard 2/5 for selection output shard 4\n",
      "INFO:deepchem.data.datasets:Selecting from input shard 3/5 for selection output shard 4\n",
      "INFO:deepchem.data.datasets:Selecting from input shard 4/5 for selection output shard 4\n",
      "INFO:deepchem.data.datasets:Selecting from input shard 5/5 for selection output shard 4\n",
      "INFO:deepchem.data.datasets:TIMING: dataset construction took 0.465 s\n",
      "INFO:deepchem.data.datasets:Loading dataset from disk.\n",
      "INFO:deepchem.data.datasets:Constructing selection output shard 1\n",
      "INFO:deepchem.data.datasets:Selecting from input shard 1/5 for selection output shard 1\n",
      "INFO:deepchem.data.datasets:Selecting from input shard 2/5 for selection output shard 1\n",
      "INFO:deepchem.data.datasets:Selecting from input shard 3/5 for selection output shard 1\n",
      "INFO:deepchem.data.datasets:Selecting from input shard 4/5 for selection output shard 1\n",
      "INFO:deepchem.data.datasets:Selecting from input shard 5/5 for selection output shard 1\n",
      "INFO:deepchem.data.datasets:TIMING: dataset construction took 0.071 s\n",
      "INFO:deepchem.data.datasets:Loading dataset from disk.\n",
      "INFO:deepchem.data.datasets:Constructing selection output shard 1\n",
      "INFO:deepchem.data.datasets:Selecting from input shard 1/5 for selection output shard 1\n",
      "INFO:deepchem.data.datasets:Selecting from input shard 2/5 for selection output shard 1\n",
      "INFO:deepchem.data.datasets:Selecting from input shard 3/5 for selection output shard 1\n",
      "INFO:deepchem.data.datasets:Selecting from input shard 4/5 for selection output shard 1\n",
      "INFO:deepchem.data.datasets:Selecting from input shard 5/5 for selection output shard 1\n",
      "INFO:deepchem.data.datasets:TIMING: dataset construction took 0.072 s\n",
      "INFO:deepchem.data.datasets:Loading dataset from disk.\n",
      "/home/jackievaleri8/anaconda3/lib/python3.8/site-packages/transformers/models/auto/modeling_auto.py:1177: FutureWarning: The class `AutoModelWithLMHead` is deprecated and will be removed in a future version. Please use `AutoModelForCausalLM` for causal language models, `AutoModelForMaskedLM` for masked language models and `AutoModelForSeq2SeqLM` for encoder-decoder models.\n",
      "  warnings.warn(\n",
      "Some weights of the model checkpoint at seyonec/ChemBERTa-zinc-base-v1 were not used when initializing RobertaForSequenceClassification: ['roberta.pooler.dense.weight', 'lm_head.dense.bias', 'lm_head.decoder.bias', 'lm_head.dense.weight', 'lm_head.layer_norm.bias', 'roberta.pooler.dense.bias', 'lm_head.layer_norm.weight', 'lm_head.decoder.weight', 'lm_head.bias']\n",
      "- This IS expected if you are initializing RobertaForSequenceClassification from the checkpoint of a model trained on another task or with another architecture (e.g. initializing a BertForSequenceClassification model from a BertForPreTraining model).\n",
      "- This IS NOT expected if you are initializing RobertaForSequenceClassification from the checkpoint of a model that you expect to be exactly identical (initializing a BertForSequenceClassification model from a BertForSequenceClassification model).\n",
      "Some weights of RobertaForSequenceClassification were not initialized from the model checkpoint at seyonec/ChemBERTa-zinc-base-v1 and are newly initialized: ['classifier.out_proj.bias', 'classifier.out_proj.weight', 'classifier.dense.weight', 'classifier.dense.bias']\n",
      "You should probably TRAIN this model on a down-stream task to be able to use it for predictions and inference.\n",
      "/home/jackievaleri8/anaconda3/lib/python3.8/site-packages/simpletransformers/classification/classification_model.py:612: UserWarning: Dataframe headers not specified. Falling back to using column 0 as text and column 1 as labels.\n",
      "  warnings.warn(\n",
      "INFO:simpletransformers.classification.classification_utils: Converting to features started. Cache is not used.\n",
      "INFO:simpletransformers.classification.classification_utils: Saving features into cached file cache_dir/cached_train_roberta_128_2_2\n"
     ]
    },
    {
     "data": {
      "application/vnd.jupyter.widget-view+json": {
       "model_id": "1b0048b9a5a144f4b869f7ea84208db9",
       "version_major": 2,
       "version_minor": 0
      },
      "text/plain": [
       "Epoch:   0%|          | 0/5 [00:00<?, ?it/s]"
      ]
     },
     "metadata": {},
     "output_type": "display_data"
    },
    {
     "data": {
      "application/vnd.jupyter.widget-view+json": {
       "model_id": "0a71948a4f574beab27b87dafa04875c",
       "version_major": 2,
       "version_minor": 0
      },
      "text/plain": [
       "Running Epoch 0 of 5:   0%|          | 0/619 [00:00<?, ?it/s]"
      ]
     },
     "metadata": {},
     "output_type": "display_data"
    },
    {
     "data": {
      "application/vnd.jupyter.widget-view+json": {
       "model_id": "25524b67f2f349e3984631f94cef5423",
       "version_major": 2,
       "version_minor": 0
      },
      "text/plain": [
       "Running Epoch 1 of 5:   0%|          | 0/619 [00:00<?, ?it/s]"
      ]
     },
     "metadata": {},
     "output_type": "display_data"
    },
    {
     "data": {
      "application/vnd.jupyter.widget-view+json": {
       "model_id": "fb8f958f02da47cd9a0e39505294d8a0",
       "version_major": 2,
       "version_minor": 0
      },
      "text/plain": [
       "Running Epoch 2 of 5:   0%|          | 0/619 [00:00<?, ?it/s]"
      ]
     },
     "metadata": {},
     "output_type": "display_data"
    },
    {
     "data": {
      "application/vnd.jupyter.widget-view+json": {
       "model_id": "43799cfe3bcd4250addd11c58a35ef66",
       "version_major": 2,
       "version_minor": 0
      },
      "text/plain": [
       "Running Epoch 3 of 5:   0%|          | 0/619 [00:00<?, ?it/s]"
      ]
     },
     "metadata": {},
     "output_type": "display_data"
    },
    {
     "data": {
      "application/vnd.jupyter.widget-view+json": {
       "model_id": "403c3709095a4e59ba1184862ef41b11",
       "version_major": 2,
       "version_minor": 0
      },
      "text/plain": [
       "Running Epoch 4 of 5:   0%|          | 0/619 [00:00<?, ?it/s]"
      ]
     },
     "metadata": {},
     "output_type": "display_data"
    },
    {
     "name": "stderr",
     "output_type": "stream",
     "text": [
      "INFO:simpletransformers.classification.classification_model: Training of roberta model complete. Saved to chemberta/random_split_chemberta_models/16/.\n",
      "/home/jackievaleri8/anaconda3/lib/python3.8/site-packages/simpletransformers/classification/classification_model.py:1454: UserWarning: Dataframe headers not specified. Falling back to using column 0 as text and column 1 as labels.\n",
      "  warnings.warn(\n",
      "INFO:simpletransformers.classification.classification_utils: Converting to features started. Cache is not used.\n",
      "INFO:simpletransformers.classification.classification_utils: Saving features into cached file cache_dir/cached_dev_roberta_128_2_2\n"
     ]
    },
    {
     "data": {
      "application/vnd.jupyter.widget-view+json": {
       "model_id": "78ead14bb151401ea8ca5d21d8eac3ed",
       "version_major": 2,
       "version_minor": 0
      },
      "text/plain": [
       "Running Evaluation:   0%|          | 0/484 [00:00<?, ?it/s]"
      ]
     },
     "metadata": {},
     "output_type": "display_data"
    },
    {
     "name": "stderr",
     "output_type": "stream",
     "text": [
      "INFO:simpletransformers.classification.classification_model:{'mcc': 0.4249178062121436, 'tp': 34, 'tn': 3727, 'fp': 14, 'fn': 93, 'auroc': 0.8859677925183169, 'auprc': 0.43899534219201564, 'acc': 0.9723371251292657, 'eval_loss': 0.1227904306955574}\n",
      "INFO:deepchem.splits.splitters:Computing train/valid/test indices\n",
      "INFO:deepchem.data.datasets:Constructing selection output shard 1\n",
      "INFO:deepchem.data.datasets:Selecting from input shard 1/5 for selection output shard 1\n",
      "INFO:deepchem.data.datasets:Selecting from input shard 2/5 for selection output shard 1\n",
      "INFO:deepchem.data.datasets:Selecting from input shard 3/5 for selection output shard 1\n",
      "INFO:deepchem.data.datasets:Selecting from input shard 4/5 for selection output shard 1\n",
      "INFO:deepchem.data.datasets:Selecting from input shard 5/5 for selection output shard 1\n",
      "INFO:deepchem.data.datasets:Constructing selection output shard 2\n",
      "INFO:deepchem.data.datasets:Selecting from input shard 1/5 for selection output shard 2\n",
      "INFO:deepchem.data.datasets:Selecting from input shard 2/5 for selection output shard 2\n",
      "INFO:deepchem.data.datasets:Selecting from input shard 3/5 for selection output shard 2\n",
      "INFO:deepchem.data.datasets:Selecting from input shard 4/5 for selection output shard 2\n",
      "INFO:deepchem.data.datasets:Selecting from input shard 5/5 for selection output shard 2\n"
     ]
    },
    {
     "name": "stdout",
     "output_type": "stream",
     "text": [
      "Fold: 16\n",
      "Test auROC: 0.8860782939422067\n",
      "Test auPR: 0.436081147332958\n",
      "Seed: 17\n"
     ]
    },
    {
     "name": "stderr",
     "output_type": "stream",
     "text": [
      "INFO:deepchem.data.datasets:Constructing selection output shard 3\n",
      "INFO:deepchem.data.datasets:Selecting from input shard 1/5 for selection output shard 3\n",
      "INFO:deepchem.data.datasets:Selecting from input shard 2/5 for selection output shard 3\n",
      "INFO:deepchem.data.datasets:Selecting from input shard 3/5 for selection output shard 3\n",
      "INFO:deepchem.data.datasets:Selecting from input shard 4/5 for selection output shard 3\n",
      "INFO:deepchem.data.datasets:Selecting from input shard 5/5 for selection output shard 3\n",
      "INFO:deepchem.data.datasets:Constructing selection output shard 4\n",
      "INFO:deepchem.data.datasets:Selecting from input shard 1/5 for selection output shard 4\n",
      "INFO:deepchem.data.datasets:Selecting from input shard 2/5 for selection output shard 4\n",
      "INFO:deepchem.data.datasets:Selecting from input shard 3/5 for selection output shard 4\n",
      "INFO:deepchem.data.datasets:Selecting from input shard 4/5 for selection output shard 4\n",
      "INFO:deepchem.data.datasets:Selecting from input shard 5/5 for selection output shard 4\n",
      "INFO:deepchem.data.datasets:TIMING: dataset construction took 0.478 s\n",
      "INFO:deepchem.data.datasets:Loading dataset from disk.\n",
      "INFO:deepchem.data.datasets:Constructing selection output shard 1\n",
      "INFO:deepchem.data.datasets:Selecting from input shard 1/5 for selection output shard 1\n",
      "INFO:deepchem.data.datasets:Selecting from input shard 2/5 for selection output shard 1\n",
      "INFO:deepchem.data.datasets:Selecting from input shard 3/5 for selection output shard 1\n",
      "INFO:deepchem.data.datasets:Selecting from input shard 4/5 for selection output shard 1\n",
      "INFO:deepchem.data.datasets:Selecting from input shard 5/5 for selection output shard 1\n",
      "INFO:deepchem.data.datasets:TIMING: dataset construction took 0.075 s\n",
      "INFO:deepchem.data.datasets:Loading dataset from disk.\n",
      "INFO:deepchem.data.datasets:Constructing selection output shard 1\n",
      "INFO:deepchem.data.datasets:Selecting from input shard 1/5 for selection output shard 1\n",
      "INFO:deepchem.data.datasets:Selecting from input shard 2/5 for selection output shard 1\n",
      "INFO:deepchem.data.datasets:Selecting from input shard 3/5 for selection output shard 1\n",
      "INFO:deepchem.data.datasets:Selecting from input shard 4/5 for selection output shard 1\n",
      "INFO:deepchem.data.datasets:Selecting from input shard 5/5 for selection output shard 1\n",
      "INFO:deepchem.data.datasets:TIMING: dataset construction took 0.074 s\n",
      "INFO:deepchem.data.datasets:Loading dataset from disk.\n",
      "/home/jackievaleri8/anaconda3/lib/python3.8/site-packages/transformers/models/auto/modeling_auto.py:1177: FutureWarning: The class `AutoModelWithLMHead` is deprecated and will be removed in a future version. Please use `AutoModelForCausalLM` for causal language models, `AutoModelForMaskedLM` for masked language models and `AutoModelForSeq2SeqLM` for encoder-decoder models.\n",
      "  warnings.warn(\n",
      "Some weights of the model checkpoint at seyonec/ChemBERTa-zinc-base-v1 were not used when initializing RobertaForSequenceClassification: ['roberta.pooler.dense.weight', 'lm_head.dense.bias', 'lm_head.decoder.bias', 'lm_head.dense.weight', 'lm_head.layer_norm.bias', 'roberta.pooler.dense.bias', 'lm_head.layer_norm.weight', 'lm_head.decoder.weight', 'lm_head.bias']\n",
      "- This IS expected if you are initializing RobertaForSequenceClassification from the checkpoint of a model trained on another task or with another architecture (e.g. initializing a BertForSequenceClassification model from a BertForPreTraining model).\n",
      "- This IS NOT expected if you are initializing RobertaForSequenceClassification from the checkpoint of a model that you expect to be exactly identical (initializing a BertForSequenceClassification model from a BertForSequenceClassification model).\n",
      "Some weights of RobertaForSequenceClassification were not initialized from the model checkpoint at seyonec/ChemBERTa-zinc-base-v1 and are newly initialized: ['classifier.out_proj.bias', 'classifier.out_proj.weight', 'classifier.dense.weight', 'classifier.dense.bias']\n",
      "You should probably TRAIN this model on a down-stream task to be able to use it for predictions and inference.\n",
      "/home/jackievaleri8/anaconda3/lib/python3.8/site-packages/simpletransformers/classification/classification_model.py:612: UserWarning: Dataframe headers not specified. Falling back to using column 0 as text and column 1 as labels.\n",
      "  warnings.warn(\n",
      "INFO:simpletransformers.classification.classification_utils: Converting to features started. Cache is not used.\n",
      "INFO:simpletransformers.classification.classification_utils: Saving features into cached file cache_dir/cached_train_roberta_128_2_2\n"
     ]
    },
    {
     "data": {
      "application/vnd.jupyter.widget-view+json": {
       "model_id": "615b89f21abb449ab1361b95b2df5b09",
       "version_major": 2,
       "version_minor": 0
      },
      "text/plain": [
       "Epoch:   0%|          | 0/5 [00:00<?, ?it/s]"
      ]
     },
     "metadata": {},
     "output_type": "display_data"
    },
    {
     "data": {
      "application/vnd.jupyter.widget-view+json": {
       "model_id": "01900641295e454294b9dbdca2e45bae",
       "version_major": 2,
       "version_minor": 0
      },
      "text/plain": [
       "Running Epoch 0 of 5:   0%|          | 0/619 [00:00<?, ?it/s]"
      ]
     },
     "metadata": {},
     "output_type": "display_data"
    },
    {
     "data": {
      "application/vnd.jupyter.widget-view+json": {
       "model_id": "1d94a4b53e3048eb8334feed92493e04",
       "version_major": 2,
       "version_minor": 0
      },
      "text/plain": [
       "Running Epoch 1 of 5:   0%|          | 0/619 [00:00<?, ?it/s]"
      ]
     },
     "metadata": {},
     "output_type": "display_data"
    },
    {
     "data": {
      "application/vnd.jupyter.widget-view+json": {
       "model_id": "87dca4da61a84d79b537b050aa9b185a",
       "version_major": 2,
       "version_minor": 0
      },
      "text/plain": [
       "Running Epoch 2 of 5:   0%|          | 0/619 [00:00<?, ?it/s]"
      ]
     },
     "metadata": {},
     "output_type": "display_data"
    },
    {
     "data": {
      "application/vnd.jupyter.widget-view+json": {
       "model_id": "255dc7c4ef564e57a3c40b2dcca82ee4",
       "version_major": 2,
       "version_minor": 0
      },
      "text/plain": [
       "Running Epoch 3 of 5:   0%|          | 0/619 [00:00<?, ?it/s]"
      ]
     },
     "metadata": {},
     "output_type": "display_data"
    },
    {
     "data": {
      "application/vnd.jupyter.widget-view+json": {
       "model_id": "7d7d86e9ab714df2a8ff44c32a408416",
       "version_major": 2,
       "version_minor": 0
      },
      "text/plain": [
       "Running Epoch 4 of 5:   0%|          | 0/619 [00:00<?, ?it/s]"
      ]
     },
     "metadata": {},
     "output_type": "display_data"
    },
    {
     "name": "stderr",
     "output_type": "stream",
     "text": [
      "INFO:simpletransformers.classification.classification_model: Training of roberta model complete. Saved to chemberta/random_split_chemberta_models/17/.\n",
      "/home/jackievaleri8/anaconda3/lib/python3.8/site-packages/simpletransformers/classification/classification_model.py:1454: UserWarning: Dataframe headers not specified. Falling back to using column 0 as text and column 1 as labels.\n",
      "  warnings.warn(\n",
      "INFO:simpletransformers.classification.classification_utils: Converting to features started. Cache is not used.\n",
      "INFO:simpletransformers.classification.classification_utils: Saving features into cached file cache_dir/cached_dev_roberta_128_2_2\n"
     ]
    },
    {
     "data": {
      "application/vnd.jupyter.widget-view+json": {
       "model_id": "5897c157d4ea41d19c074c4f59a65109",
       "version_major": 2,
       "version_minor": 0
      },
      "text/plain": [
       "Running Evaluation:   0%|          | 0/484 [00:00<?, ?it/s]"
      ]
     },
     "metadata": {},
     "output_type": "display_data"
    },
    {
     "name": "stderr",
     "output_type": "stream",
     "text": [
      "INFO:simpletransformers.classification.classification_model:{'mcc': 0.4763536218686626, 'tp': 38, 'tn': 3741, 'fp': 18, 'fn': 71, 'auroc': 0.8913762932265317, 'auprc': 0.44007655360714926, 'acc': 0.9769906928645294, 'eval_loss': 0.10207897972715788}\n",
      "INFO:deepchem.splits.splitters:Computing train/valid/test indices\n",
      "INFO:deepchem.data.datasets:Constructing selection output shard 1\n",
      "INFO:deepchem.data.datasets:Selecting from input shard 1/5 for selection output shard 1\n",
      "INFO:deepchem.data.datasets:Selecting from input shard 2/5 for selection output shard 1\n",
      "INFO:deepchem.data.datasets:Selecting from input shard 3/5 for selection output shard 1\n",
      "INFO:deepchem.data.datasets:Selecting from input shard 4/5 for selection output shard 1\n",
      "INFO:deepchem.data.datasets:Selecting from input shard 5/5 for selection output shard 1\n",
      "INFO:deepchem.data.datasets:Constructing selection output shard 2\n",
      "INFO:deepchem.data.datasets:Selecting from input shard 1/5 for selection output shard 2\n",
      "INFO:deepchem.data.datasets:Selecting from input shard 2/5 for selection output shard 2\n",
      "INFO:deepchem.data.datasets:Selecting from input shard 3/5 for selection output shard 2\n",
      "INFO:deepchem.data.datasets:Selecting from input shard 4/5 for selection output shard 2\n",
      "INFO:deepchem.data.datasets:Selecting from input shard 5/5 for selection output shard 2\n"
     ]
    },
    {
     "name": "stdout",
     "output_type": "stream",
     "text": [
      "Fold: 17\n",
      "Test auROC: 0.895153161464473\n",
      "Test auPR: 0.44521354084241954\n",
      "Seed: 18\n"
     ]
    },
    {
     "name": "stderr",
     "output_type": "stream",
     "text": [
      "INFO:deepchem.data.datasets:Constructing selection output shard 3\n",
      "INFO:deepchem.data.datasets:Selecting from input shard 1/5 for selection output shard 3\n",
      "INFO:deepchem.data.datasets:Selecting from input shard 2/5 for selection output shard 3\n",
      "INFO:deepchem.data.datasets:Selecting from input shard 3/5 for selection output shard 3\n",
      "INFO:deepchem.data.datasets:Selecting from input shard 4/5 for selection output shard 3\n",
      "INFO:deepchem.data.datasets:Selecting from input shard 5/5 for selection output shard 3\n",
      "INFO:deepchem.data.datasets:Constructing selection output shard 4\n",
      "INFO:deepchem.data.datasets:Selecting from input shard 1/5 for selection output shard 4\n",
      "INFO:deepchem.data.datasets:Selecting from input shard 2/5 for selection output shard 4\n",
      "INFO:deepchem.data.datasets:Selecting from input shard 3/5 for selection output shard 4\n",
      "INFO:deepchem.data.datasets:Selecting from input shard 4/5 for selection output shard 4\n",
      "INFO:deepchem.data.datasets:Selecting from input shard 5/5 for selection output shard 4\n",
      "INFO:deepchem.data.datasets:TIMING: dataset construction took 0.462 s\n",
      "INFO:deepchem.data.datasets:Loading dataset from disk.\n",
      "INFO:deepchem.data.datasets:Constructing selection output shard 1\n",
      "INFO:deepchem.data.datasets:Selecting from input shard 1/5 for selection output shard 1\n",
      "INFO:deepchem.data.datasets:Selecting from input shard 2/5 for selection output shard 1\n",
      "INFO:deepchem.data.datasets:Selecting from input shard 3/5 for selection output shard 1\n",
      "INFO:deepchem.data.datasets:Selecting from input shard 4/5 for selection output shard 1\n",
      "INFO:deepchem.data.datasets:Selecting from input shard 5/5 for selection output shard 1\n",
      "INFO:deepchem.data.datasets:TIMING: dataset construction took 0.071 s\n",
      "INFO:deepchem.data.datasets:Loading dataset from disk.\n",
      "INFO:deepchem.data.datasets:Constructing selection output shard 1\n",
      "INFO:deepchem.data.datasets:Selecting from input shard 1/5 for selection output shard 1\n",
      "INFO:deepchem.data.datasets:Selecting from input shard 2/5 for selection output shard 1\n",
      "INFO:deepchem.data.datasets:Selecting from input shard 3/5 for selection output shard 1\n",
      "INFO:deepchem.data.datasets:Selecting from input shard 4/5 for selection output shard 1\n",
      "INFO:deepchem.data.datasets:Selecting from input shard 5/5 for selection output shard 1\n",
      "INFO:deepchem.data.datasets:TIMING: dataset construction took 0.072 s\n",
      "INFO:deepchem.data.datasets:Loading dataset from disk.\n",
      "/home/jackievaleri8/anaconda3/lib/python3.8/site-packages/transformers/models/auto/modeling_auto.py:1177: FutureWarning: The class `AutoModelWithLMHead` is deprecated and will be removed in a future version. Please use `AutoModelForCausalLM` for causal language models, `AutoModelForMaskedLM` for masked language models and `AutoModelForSeq2SeqLM` for encoder-decoder models.\n",
      "  warnings.warn(\n",
      "Some weights of the model checkpoint at seyonec/ChemBERTa-zinc-base-v1 were not used when initializing RobertaForSequenceClassification: ['roberta.pooler.dense.weight', 'lm_head.dense.bias', 'lm_head.decoder.bias', 'lm_head.dense.weight', 'lm_head.layer_norm.bias', 'roberta.pooler.dense.bias', 'lm_head.layer_norm.weight', 'lm_head.decoder.weight', 'lm_head.bias']\n",
      "- This IS expected if you are initializing RobertaForSequenceClassification from the checkpoint of a model trained on another task or with another architecture (e.g. initializing a BertForSequenceClassification model from a BertForPreTraining model).\n",
      "- This IS NOT expected if you are initializing RobertaForSequenceClassification from the checkpoint of a model that you expect to be exactly identical (initializing a BertForSequenceClassification model from a BertForSequenceClassification model).\n",
      "Some weights of RobertaForSequenceClassification were not initialized from the model checkpoint at seyonec/ChemBERTa-zinc-base-v1 and are newly initialized: ['classifier.out_proj.bias', 'classifier.out_proj.weight', 'classifier.dense.weight', 'classifier.dense.bias']\n",
      "You should probably TRAIN this model on a down-stream task to be able to use it for predictions and inference.\n",
      "/home/jackievaleri8/anaconda3/lib/python3.8/site-packages/simpletransformers/classification/classification_model.py:612: UserWarning: Dataframe headers not specified. Falling back to using column 0 as text and column 1 as labels.\n",
      "  warnings.warn(\n",
      "INFO:simpletransformers.classification.classification_utils: Converting to features started. Cache is not used.\n",
      "INFO:simpletransformers.classification.classification_utils: Saving features into cached file cache_dir/cached_train_roberta_128_2_2\n"
     ]
    },
    {
     "data": {
      "application/vnd.jupyter.widget-view+json": {
       "model_id": "b792b4c804b745ec96b7bcdb4e73b64e",
       "version_major": 2,
       "version_minor": 0
      },
      "text/plain": [
       "Epoch:   0%|          | 0/5 [00:00<?, ?it/s]"
      ]
     },
     "metadata": {},
     "output_type": "display_data"
    },
    {
     "data": {
      "application/vnd.jupyter.widget-view+json": {
       "model_id": "e66ae13bc2674988ae4813f7e7d3130e",
       "version_major": 2,
       "version_minor": 0
      },
      "text/plain": [
       "Running Epoch 0 of 5:   0%|          | 0/619 [00:00<?, ?it/s]"
      ]
     },
     "metadata": {},
     "output_type": "display_data"
    },
    {
     "data": {
      "application/vnd.jupyter.widget-view+json": {
       "model_id": "d7461d60d2a54cc8ac47f9a5321e5c71",
       "version_major": 2,
       "version_minor": 0
      },
      "text/plain": [
       "Running Epoch 1 of 5:   0%|          | 0/619 [00:00<?, ?it/s]"
      ]
     },
     "metadata": {},
     "output_type": "display_data"
    },
    {
     "data": {
      "application/vnd.jupyter.widget-view+json": {
       "model_id": "bb479aad9f3d455ca9654467feb6f25c",
       "version_major": 2,
       "version_minor": 0
      },
      "text/plain": [
       "Running Epoch 2 of 5:   0%|          | 0/619 [00:00<?, ?it/s]"
      ]
     },
     "metadata": {},
     "output_type": "display_data"
    },
    {
     "data": {
      "application/vnd.jupyter.widget-view+json": {
       "model_id": "594b47b5e8c2405e8318bf05c0675549",
       "version_major": 2,
       "version_minor": 0
      },
      "text/plain": [
       "Running Epoch 3 of 5:   0%|          | 0/619 [00:00<?, ?it/s]"
      ]
     },
     "metadata": {},
     "output_type": "display_data"
    },
    {
     "data": {
      "application/vnd.jupyter.widget-view+json": {
       "model_id": "bba1eec856c94626a21c3e61cd8966c6",
       "version_major": 2,
       "version_minor": 0
      },
      "text/plain": [
       "Running Epoch 4 of 5:   0%|          | 0/619 [00:00<?, ?it/s]"
      ]
     },
     "metadata": {},
     "output_type": "display_data"
    },
    {
     "name": "stderr",
     "output_type": "stream",
     "text": [
      "INFO:simpletransformers.classification.classification_model: Training of roberta model complete. Saved to chemberta/random_split_chemberta_models/18/.\n",
      "/home/jackievaleri8/anaconda3/lib/python3.8/site-packages/simpletransformers/classification/classification_model.py:1454: UserWarning: Dataframe headers not specified. Falling back to using column 0 as text and column 1 as labels.\n",
      "  warnings.warn(\n",
      "INFO:simpletransformers.classification.classification_utils: Converting to features started. Cache is not used.\n",
      "INFO:simpletransformers.classification.classification_utils: Saving features into cached file cache_dir/cached_dev_roberta_128_2_2\n"
     ]
    },
    {
     "data": {
      "application/vnd.jupyter.widget-view+json": {
       "model_id": "9d729bab996e456da58acc3f5553f545",
       "version_major": 2,
       "version_minor": 0
      },
      "text/plain": [
       "Running Evaluation:   0%|          | 0/484 [00:00<?, ?it/s]"
      ]
     },
     "metadata": {},
     "output_type": "display_data"
    },
    {
     "name": "stderr",
     "output_type": "stream",
     "text": [
      "INFO:simpletransformers.classification.classification_model:{'mcc': 0.47581534155702965, 'tp': 49, 'tn': 3701, 'fp': 19, 'fn': 99, 'auroc': 0.8840971011333915, 'auprc': 0.4872655036880028, 'acc': 0.9694932781799379, 'eval_loss': 0.13910995334509976}\n",
      "INFO:deepchem.splits.splitters:Computing train/valid/test indices\n",
      "INFO:deepchem.data.datasets:Constructing selection output shard 1\n",
      "INFO:deepchem.data.datasets:Selecting from input shard 1/5 for selection output shard 1\n",
      "INFO:deepchem.data.datasets:Selecting from input shard 2/5 for selection output shard 1\n",
      "INFO:deepchem.data.datasets:Selecting from input shard 3/5 for selection output shard 1\n",
      "INFO:deepchem.data.datasets:Selecting from input shard 4/5 for selection output shard 1\n",
      "INFO:deepchem.data.datasets:Selecting from input shard 5/5 for selection output shard 1\n",
      "INFO:deepchem.data.datasets:Constructing selection output shard 2\n",
      "INFO:deepchem.data.datasets:Selecting from input shard 1/5 for selection output shard 2\n",
      "INFO:deepchem.data.datasets:Selecting from input shard 2/5 for selection output shard 2\n",
      "INFO:deepchem.data.datasets:Selecting from input shard 3/5 for selection output shard 2\n",
      "INFO:deepchem.data.datasets:Selecting from input shard 4/5 for selection output shard 2\n",
      "INFO:deepchem.data.datasets:Selecting from input shard 5/5 for selection output shard 2\n"
     ]
    },
    {
     "name": "stdout",
     "output_type": "stream",
     "text": [
      "Fold: 18\n",
      "Test auROC: 0.8812845103167684\n",
      "Test auPR: 0.4840118593133442\n",
      "Seed: 19\n"
     ]
    },
    {
     "name": "stderr",
     "output_type": "stream",
     "text": [
      "INFO:deepchem.data.datasets:Constructing selection output shard 3\n",
      "INFO:deepchem.data.datasets:Selecting from input shard 1/5 for selection output shard 3\n",
      "INFO:deepchem.data.datasets:Selecting from input shard 2/5 for selection output shard 3\n",
      "INFO:deepchem.data.datasets:Selecting from input shard 3/5 for selection output shard 3\n",
      "INFO:deepchem.data.datasets:Selecting from input shard 4/5 for selection output shard 3\n",
      "INFO:deepchem.data.datasets:Selecting from input shard 5/5 for selection output shard 3\n",
      "INFO:deepchem.data.datasets:Constructing selection output shard 4\n",
      "INFO:deepchem.data.datasets:Selecting from input shard 1/5 for selection output shard 4\n",
      "INFO:deepchem.data.datasets:Selecting from input shard 2/5 for selection output shard 4\n",
      "INFO:deepchem.data.datasets:Selecting from input shard 3/5 for selection output shard 4\n",
      "INFO:deepchem.data.datasets:Selecting from input shard 4/5 for selection output shard 4\n",
      "INFO:deepchem.data.datasets:Selecting from input shard 5/5 for selection output shard 4\n",
      "INFO:deepchem.data.datasets:TIMING: dataset construction took 0.469 s\n",
      "INFO:deepchem.data.datasets:Loading dataset from disk.\n",
      "INFO:deepchem.data.datasets:Constructing selection output shard 1\n",
      "INFO:deepchem.data.datasets:Selecting from input shard 1/5 for selection output shard 1\n",
      "INFO:deepchem.data.datasets:Selecting from input shard 2/5 for selection output shard 1\n",
      "INFO:deepchem.data.datasets:Selecting from input shard 3/5 for selection output shard 1\n",
      "INFO:deepchem.data.datasets:Selecting from input shard 4/5 for selection output shard 1\n",
      "INFO:deepchem.data.datasets:Selecting from input shard 5/5 for selection output shard 1\n",
      "INFO:deepchem.data.datasets:TIMING: dataset construction took 0.073 s\n",
      "INFO:deepchem.data.datasets:Loading dataset from disk.\n",
      "INFO:deepchem.data.datasets:Constructing selection output shard 1\n",
      "INFO:deepchem.data.datasets:Selecting from input shard 1/5 for selection output shard 1\n",
      "INFO:deepchem.data.datasets:Selecting from input shard 2/5 for selection output shard 1\n",
      "INFO:deepchem.data.datasets:Selecting from input shard 3/5 for selection output shard 1\n",
      "INFO:deepchem.data.datasets:Selecting from input shard 4/5 for selection output shard 1\n",
      "INFO:deepchem.data.datasets:Selecting from input shard 5/5 for selection output shard 1\n",
      "INFO:deepchem.data.datasets:TIMING: dataset construction took 0.072 s\n",
      "INFO:deepchem.data.datasets:Loading dataset from disk.\n",
      "/home/jackievaleri8/anaconda3/lib/python3.8/site-packages/transformers/models/auto/modeling_auto.py:1177: FutureWarning: The class `AutoModelWithLMHead` is deprecated and will be removed in a future version. Please use `AutoModelForCausalLM` for causal language models, `AutoModelForMaskedLM` for masked language models and `AutoModelForSeq2SeqLM` for encoder-decoder models.\n",
      "  warnings.warn(\n",
      "Some weights of the model checkpoint at seyonec/ChemBERTa-zinc-base-v1 were not used when initializing RobertaForSequenceClassification: ['roberta.pooler.dense.weight', 'lm_head.dense.bias', 'lm_head.decoder.bias', 'lm_head.dense.weight', 'lm_head.layer_norm.bias', 'roberta.pooler.dense.bias', 'lm_head.layer_norm.weight', 'lm_head.decoder.weight', 'lm_head.bias']\n",
      "- This IS expected if you are initializing RobertaForSequenceClassification from the checkpoint of a model trained on another task or with another architecture (e.g. initializing a BertForSequenceClassification model from a BertForPreTraining model).\n",
      "- This IS NOT expected if you are initializing RobertaForSequenceClassification from the checkpoint of a model that you expect to be exactly identical (initializing a BertForSequenceClassification model from a BertForSequenceClassification model).\n",
      "Some weights of RobertaForSequenceClassification were not initialized from the model checkpoint at seyonec/ChemBERTa-zinc-base-v1 and are newly initialized: ['classifier.out_proj.bias', 'classifier.out_proj.weight', 'classifier.dense.weight', 'classifier.dense.bias']\n",
      "You should probably TRAIN this model on a down-stream task to be able to use it for predictions and inference.\n",
      "/home/jackievaleri8/anaconda3/lib/python3.8/site-packages/simpletransformers/classification/classification_model.py:612: UserWarning: Dataframe headers not specified. Falling back to using column 0 as text and column 1 as labels.\n",
      "  warnings.warn(\n",
      "INFO:simpletransformers.classification.classification_utils: Converting to features started. Cache is not used.\n",
      "INFO:simpletransformers.classification.classification_utils: Saving features into cached file cache_dir/cached_train_roberta_128_2_2\n"
     ]
    },
    {
     "data": {
      "application/vnd.jupyter.widget-view+json": {
       "model_id": "c84948f47d66474fbe851163f8db545d",
       "version_major": 2,
       "version_minor": 0
      },
      "text/plain": [
       "Epoch:   0%|          | 0/5 [00:00<?, ?it/s]"
      ]
     },
     "metadata": {},
     "output_type": "display_data"
    },
    {
     "data": {
      "application/vnd.jupyter.widget-view+json": {
       "model_id": "f55cb3da42ee478b980e02c23ebb8425",
       "version_major": 2,
       "version_minor": 0
      },
      "text/plain": [
       "Running Epoch 0 of 5:   0%|          | 0/619 [00:00<?, ?it/s]"
      ]
     },
     "metadata": {},
     "output_type": "display_data"
    },
    {
     "data": {
      "application/vnd.jupyter.widget-view+json": {
       "model_id": "7138821fc0e847b886cb8ad14ca06d95",
       "version_major": 2,
       "version_minor": 0
      },
      "text/plain": [
       "Running Epoch 1 of 5:   0%|          | 0/619 [00:00<?, ?it/s]"
      ]
     },
     "metadata": {},
     "output_type": "display_data"
    },
    {
     "data": {
      "application/vnd.jupyter.widget-view+json": {
       "model_id": "66c9106de4064f8f8dcd8cb83c6eafeb",
       "version_major": 2,
       "version_minor": 0
      },
      "text/plain": [
       "Running Epoch 2 of 5:   0%|          | 0/619 [00:00<?, ?it/s]"
      ]
     },
     "metadata": {},
     "output_type": "display_data"
    },
    {
     "data": {
      "application/vnd.jupyter.widget-view+json": {
       "model_id": "2b314a6d7dbf433993a4b9db817ea2ec",
       "version_major": 2,
       "version_minor": 0
      },
      "text/plain": [
       "Running Epoch 3 of 5:   0%|          | 0/619 [00:00<?, ?it/s]"
      ]
     },
     "metadata": {},
     "output_type": "display_data"
    },
    {
     "data": {
      "application/vnd.jupyter.widget-view+json": {
       "model_id": "9bfbc7b276384d21afcedd0865a3e75a",
       "version_major": 2,
       "version_minor": 0
      },
      "text/plain": [
       "Running Epoch 4 of 5:   0%|          | 0/619 [00:00<?, ?it/s]"
      ]
     },
     "metadata": {},
     "output_type": "display_data"
    },
    {
     "name": "stderr",
     "output_type": "stream",
     "text": [
      "INFO:simpletransformers.classification.classification_model: Training of roberta model complete. Saved to chemberta/random_split_chemberta_models/19/.\n",
      "/home/jackievaleri8/anaconda3/lib/python3.8/site-packages/simpletransformers/classification/classification_model.py:1454: UserWarning: Dataframe headers not specified. Falling back to using column 0 as text and column 1 as labels.\n",
      "  warnings.warn(\n",
      "INFO:simpletransformers.classification.classification_utils: Converting to features started. Cache is not used.\n",
      "INFO:simpletransformers.classification.classification_utils: Saving features into cached file cache_dir/cached_dev_roberta_128_2_2\n"
     ]
    },
    {
     "data": {
      "application/vnd.jupyter.widget-view+json": {
       "model_id": "b7ca68f58d7848f0965b9574ac41cf95",
       "version_major": 2,
       "version_minor": 0
      },
      "text/plain": [
       "Running Evaluation:   0%|          | 0/484 [00:00<?, ?it/s]"
      ]
     },
     "metadata": {},
     "output_type": "display_data"
    },
    {
     "name": "stderr",
     "output_type": "stream",
     "text": [
      "INFO:simpletransformers.classification.classification_model:{'mcc': 0.4769502428255329, 'tp': 45, 'tn': 3722, 'fp': 25, 'fn': 76, 'auroc': 0.8890980553037471, 'auprc': 0.47972857005410213, 'acc': 0.9738883143743536, 'eval_loss': 0.10872633025542763}\n"
     ]
    },
    {
     "name": "stdout",
     "output_type": "stream",
     "text": [
      "Fold: 19\n",
      "Test auROC: 0.8933935026809326\n",
      "Test auPR: 0.47507379799196225\n"
     ]
    }
   ],
   "source": [
    "auprs = []\n",
    "aurocs = []\n",
    "\n",
    "for seed in list(range(NUM_FOLDS)):\n",
    "    print(\"Seed: \" + str(seed))\n",
    "    model_dir = save_dir + str(seed) + \"/\"\n",
    "    os.mkdir(model_dir)\n",
    "\n",
    "    # get scaffold split dataset\n",
    "    # splitter = dc.splits.ScaffoldSplitter() # instead of splitter = dc.splits.RandomSplitter()\n",
    "    splitter = dc.splits.RandomSplitter()  # instead of splitter = dc.splits.ScaffoldSplitter()\n",
    "    train, valid, test = splitter.train_valid_test_split(\n",
    "        dataset, frac_train=0.8, frac_valid=0.1, frac_test=0.1, seed=seed\n",
    "    )\n",
    "    train_csv = rework_data_for_chemberta(train)\n",
    "    test_csv = rework_data_for_chemberta(test)\n",
    "    valid_csv = rework_data_for_chemberta(valid)\n",
    "\n",
    "    # set up chemberta architecture\n",
    "    model = AutoModelWithLMHead.from_pretrained(\"seyonec/ChemBERTa-zinc-base-v1\")\n",
    "    tokenizer = AutoTokenizer.from_pretrained(\"seyonec/ChemBERTa-zinc-base-v1\")\n",
    "    fill_mask = pipeline(\"fill-mask\", model=model, tokenizer=tokenizer)\n",
    "\n",
    "    # set up logger to monitor issues\n",
    "    logging.basicConfig(level=logging.INFO)\n",
    "    transformers_logger = logging.getLogger(\"transformers\")\n",
    "    transformers_logger.setLevel(logging.WARNING)\n",
    "\n",
    "    # load pre-trained model from hugging face model-hub\n",
    "    # args from https://simpletransformers.ai/docs/usage/#configuring-a-simple-transformers-model\n",
    "    # must turn off multiprocessing or code hangs, according to https://github.com/ThilinaRajapakse/simpletransformers/issues/1402\n",
    "    model = ClassificationModel(\n",
    "        \"roberta\",\n",
    "        \"seyonec/ChemBERTa-zinc-base-v1\",\n",
    "        use_cuda=True,\n",
    "        args={\n",
    "            \"num_train_epochs\": NUM_EPOCHS,\n",
    "            \"auto_weights\": True,\n",
    "            \"use_early_stopping\": True,\n",
    "            \"early_stopping_metric\": sklearn.metrics.roc_auc_score,\n",
    "            \"fp16\": True,\n",
    "            \"train_batch_size\": 50,\n",
    "            \"use_multiprocessing\": False,\n",
    "            \"use_multiprocessing_for_evaluation\": False,\n",
    "            \"not_saved_args\": [\"early_stopping_metric\"],\n",
    "        },\n",
    "    )  # auto weights set to true because class imabalanced\n",
    "\n",
    "    # train the model using training set and evaluating on validation set\n",
    "    model.train_model(train_csv, output_dir=model_dir, num_labels=2, use_cuda=True, eval_df=valid_csv)\n",
    "\n",
    "    # run model on test set\n",
    "    result, model_outputs, wrong_predictions = model.eval_model(test_csv, acc=sklearn.metrics.accuracy_score)\n",
    "\n",
    "    # in the order loss, then logits, where the 2nd val (logits) is called a positive > 0 and a negative < 0\n",
    "    # compute test set performance\n",
    "    model_output_vals = [x[1] for x in model_outputs]\n",
    "    groundtruthvals = list(test_csv[\"label\"])\n",
    "\n",
    "    auroc, pr = modeleval(groundtruthvals, model_output_vals)\n",
    "    print(\"Fold: \" + str(seed))\n",
    "    print(\"Test auROC: \" + str(auroc))\n",
    "    print(\"Test auPR: \" + str(pr))\n",
    "    auprs.append(pr)\n",
    "    aurocs.append(auroc)"
   ]
  },
  {
   "cell_type": "code",
   "execution_count": 8,
   "metadata": {},
   "outputs": [
    {
     "data": {
      "text/html": [
       "<div>\n",
       "<style scoped>\n",
       "    .dataframe tbody tr th:only-of-type {\n",
       "        vertical-align: middle;\n",
       "    }\n",
       "\n",
       "    .dataframe tbody tr th {\n",
       "        vertical-align: top;\n",
       "    }\n",
       "\n",
       "    .dataframe thead th {\n",
       "        text-align: right;\n",
       "    }\n",
       "</style>\n",
       "<table border=\"1\" class=\"dataframe\">\n",
       "  <thead>\n",
       "    <tr style=\"text-align: right;\">\n",
       "      <th></th>\n",
       "      <th>auPR</th>\n",
       "      <th>auROC</th>\n",
       "    </tr>\n",
       "  </thead>\n",
       "  <tbody>\n",
       "    <tr>\n",
       "      <th>0</th>\n",
       "      <td>0.460687</td>\n",
       "      <td>0.905020</td>\n",
       "    </tr>\n",
       "    <tr>\n",
       "      <th>1</th>\n",
       "      <td>0.334470</td>\n",
       "      <td>0.869081</td>\n",
       "    </tr>\n",
       "    <tr>\n",
       "      <th>2</th>\n",
       "      <td>0.373543</td>\n",
       "      <td>0.873228</td>\n",
       "    </tr>\n",
       "    <tr>\n",
       "      <th>3</th>\n",
       "      <td>0.395912</td>\n",
       "      <td>0.867128</td>\n",
       "    </tr>\n",
       "    <tr>\n",
       "      <th>4</th>\n",
       "      <td>0.373482</td>\n",
       "      <td>0.901519</td>\n",
       "    </tr>\n",
       "    <tr>\n",
       "      <th>5</th>\n",
       "      <td>0.471974</td>\n",
       "      <td>0.909569</td>\n",
       "    </tr>\n",
       "    <tr>\n",
       "      <th>6</th>\n",
       "      <td>0.403933</td>\n",
       "      <td>0.857811</td>\n",
       "    </tr>\n",
       "    <tr>\n",
       "      <th>7</th>\n",
       "      <td>0.480628</td>\n",
       "      <td>0.895372</td>\n",
       "    </tr>\n",
       "    <tr>\n",
       "      <th>8</th>\n",
       "      <td>0.419567</td>\n",
       "      <td>0.873162</td>\n",
       "    </tr>\n",
       "    <tr>\n",
       "      <th>9</th>\n",
       "      <td>0.455418</td>\n",
       "      <td>0.878713</td>\n",
       "    </tr>\n",
       "    <tr>\n",
       "      <th>10</th>\n",
       "      <td>0.436022</td>\n",
       "      <td>0.897426</td>\n",
       "    </tr>\n",
       "    <tr>\n",
       "      <th>11</th>\n",
       "      <td>0.403222</td>\n",
       "      <td>0.887187</td>\n",
       "    </tr>\n",
       "    <tr>\n",
       "      <th>12</th>\n",
       "      <td>0.423772</td>\n",
       "      <td>0.893962</td>\n",
       "    </tr>\n",
       "    <tr>\n",
       "      <th>13</th>\n",
       "      <td>0.507843</td>\n",
       "      <td>0.903016</td>\n",
       "    </tr>\n",
       "    <tr>\n",
       "      <th>14</th>\n",
       "      <td>0.458482</td>\n",
       "      <td>0.889473</td>\n",
       "    </tr>\n",
       "    <tr>\n",
       "      <th>15</th>\n",
       "      <td>0.406385</td>\n",
       "      <td>0.873850</td>\n",
       "    </tr>\n",
       "    <tr>\n",
       "      <th>16</th>\n",
       "      <td>0.436081</td>\n",
       "      <td>0.886078</td>\n",
       "    </tr>\n",
       "    <tr>\n",
       "      <th>17</th>\n",
       "      <td>0.445214</td>\n",
       "      <td>0.895153</td>\n",
       "    </tr>\n",
       "    <tr>\n",
       "      <th>18</th>\n",
       "      <td>0.484012</td>\n",
       "      <td>0.881285</td>\n",
       "    </tr>\n",
       "    <tr>\n",
       "      <th>19</th>\n",
       "      <td>0.475074</td>\n",
       "      <td>0.893394</td>\n",
       "    </tr>\n",
       "  </tbody>\n",
       "</table>\n",
       "</div>"
      ],
      "text/plain": [
       "        auPR     auROC\n",
       "0   0.460687  0.905020\n",
       "1   0.334470  0.869081\n",
       "2   0.373543  0.873228\n",
       "3   0.395912  0.867128\n",
       "4   0.373482  0.901519\n",
       "5   0.471974  0.909569\n",
       "6   0.403933  0.857811\n",
       "7   0.480628  0.895372\n",
       "8   0.419567  0.873162\n",
       "9   0.455418  0.878713\n",
       "10  0.436022  0.897426\n",
       "11  0.403222  0.887187\n",
       "12  0.423772  0.893962\n",
       "13  0.507843  0.903016\n",
       "14  0.458482  0.889473\n",
       "15  0.406385  0.873850\n",
       "16  0.436081  0.886078\n",
       "17  0.445214  0.895153\n",
       "18  0.484012  0.881285\n",
       "19  0.475074  0.893394"
      ]
     },
     "execution_count": 8,
     "metadata": {},
     "output_type": "execute_result"
    }
   ],
   "source": [
    "results_df = pd.DataFrame()\n",
    "results_df[\"auPR\"] = auprs\n",
    "results_df[\"auROC\"] = aurocs\n",
    "results_df.to_csv(save_dir + \"summary_results.csv\", index=False)\n",
    "results_df"
   ]
  }
 ],
 "metadata": {
  "accelerator": "GPU",
  "colab": {
   "authorship_tag": "ABX9TyNvJ/O/Bf/FY5UZ17c7CvOV",
   "collapsed_sections": [],
   "include_colab_link": true,
   "mount_file_id": "1pD0fsKpYujJgNAttRn9vkdBYGpwCeVC0",
   "name": "HuggingFace_DeepChem_final_tutorial.ipynb",
   "provenance": [],
   "toc_visible": true
  },
  "kernelspec": {
   "display_name": "Python 3 (ipykernel)",
   "language": "python",
   "name": "python3"
  },
  "language_info": {
   "codemirror_mode": {
    "name": "ipython",
    "version": 3
   },
   "file_extension": ".py",
   "mimetype": "text/x-python",
   "name": "python",
   "nbconvert_exporter": "python",
   "pygments_lexer": "ipython3",
   "version": "3.10.4"
  },
  "widgets": {
   "application/vnd.jupyter.widget-state+json": {
    "023baa8791ea4ccea609c7f14c699fdf": {
     "model_module": "@jupyter-widgets/base",
     "model_name": "LayoutModel",
     "state": {
      "_model_module": "@jupyter-widgets/base",
      "_model_module_version": "1.2.0",
      "_model_name": "LayoutModel",
      "_view_count": null,
      "_view_module": "@jupyter-widgets/base",
      "_view_module_version": "1.2.0",
      "_view_name": "LayoutView",
      "align_content": null,
      "align_items": null,
      "align_self": null,
      "border": null,
      "bottom": null,
      "display": null,
      "flex": null,
      "flex_flow": null,
      "grid_area": null,
      "grid_auto_columns": null,
      "grid_auto_flow": null,
      "grid_auto_rows": null,
      "grid_column": null,
      "grid_gap": null,
      "grid_row": null,
      "grid_template_areas": null,
      "grid_template_columns": null,
      "grid_template_rows": null,
      "height": null,
      "justify_content": null,
      "justify_items": null,
      "left": null,
      "margin": null,
      "max_height": null,
      "max_width": null,
      "min_height": null,
      "min_width": null,
      "object_fit": null,
      "object_position": null,
      "order": null,
      "overflow": null,
      "overflow_x": null,
      "overflow_y": null,
      "padding": null,
      "right": null,
      "top": null,
      "visibility": null,
      "width": null
     }
    },
    "04243488dd1d45eaa0d8ed6a9246cc71": {
     "model_module": "@jupyter-widgets/controls",
     "model_name": "IntProgressModel",
     "state": {
      "_dom_classes": [],
      "_model_module": "@jupyter-widgets/controls",
      "_model_module_version": "1.5.0",
      "_model_name": "IntProgressModel",
      "_view_count": null,
      "_view_module": "@jupyter-widgets/controls",
      "_view_module_version": "1.5.0",
      "_view_name": "ProgressView",
      "bar_style": "success",
      "description": "Epoch: 100%",
      "description_tooltip": null,
      "layout": "IPY_MODEL_c0592b568a3f467daf42ae3be0e1efec",
      "max": 3,
      "min": 0,
      "orientation": "horizontal",
      "style": "IPY_MODEL_e0fd8fb54e1d40b98df91d742f03773f",
      "value": 3
     }
    },
    "0464476154fe4664b0c603f6762863e8": {
     "model_module": "@jupyter-widgets/base",
     "model_name": "LayoutModel",
     "state": {
      "_model_module": "@jupyter-widgets/base",
      "_model_module_version": "1.2.0",
      "_model_name": "LayoutModel",
      "_view_count": null,
      "_view_module": "@jupyter-widgets/base",
      "_view_module_version": "1.2.0",
      "_view_name": "LayoutView",
      "align_content": null,
      "align_items": null,
      "align_self": null,
      "border": null,
      "bottom": null,
      "display": null,
      "flex": null,
      "flex_flow": null,
      "grid_area": null,
      "grid_auto_columns": null,
      "grid_auto_flow": null,
      "grid_auto_rows": null,
      "grid_column": null,
      "grid_gap": null,
      "grid_row": null,
      "grid_template_areas": null,
      "grid_template_columns": null,
      "grid_template_rows": null,
      "height": null,
      "justify_content": null,
      "justify_items": null,
      "left": null,
      "margin": null,
      "max_height": null,
      "max_width": null,
      "min_height": null,
      "min_width": null,
      "object_fit": null,
      "object_position": null,
      "order": null,
      "overflow": null,
      "overflow_x": null,
      "overflow_y": null,
      "padding": null,
      "right": null,
      "top": null,
      "visibility": null,
      "width": null
     }
    },
    "04ee5e22b8034bc5af7754b04b91f867": {
     "model_module": "@jupyter-widgets/base",
     "model_name": "LayoutModel",
     "state": {
      "_model_module": "@jupyter-widgets/base",
      "_model_module_version": "1.2.0",
      "_model_name": "LayoutModel",
      "_view_count": null,
      "_view_module": "@jupyter-widgets/base",
      "_view_module_version": "1.2.0",
      "_view_name": "LayoutView",
      "align_content": null,
      "align_items": null,
      "align_self": null,
      "border": null,
      "bottom": null,
      "display": null,
      "flex": null,
      "flex_flow": null,
      "grid_area": null,
      "grid_auto_columns": null,
      "grid_auto_flow": null,
      "grid_auto_rows": null,
      "grid_column": null,
      "grid_gap": null,
      "grid_row": null,
      "grid_template_areas": null,
      "grid_template_columns": null,
      "grid_template_rows": null,
      "height": null,
      "justify_content": null,
      "justify_items": null,
      "left": null,
      "margin": null,
      "max_height": null,
      "max_width": null,
      "min_height": null,
      "min_width": null,
      "object_fit": null,
      "object_position": null,
      "order": null,
      "overflow": null,
      "overflow_x": null,
      "overflow_y": null,
      "padding": null,
      "right": null,
      "top": null,
      "visibility": null,
      "width": null
     }
    },
    "052ba10f4baa41d59795b3320c232bf2": {
     "model_module": "@jupyter-widgets/controls",
     "model_name": "ProgressStyleModel",
     "state": {
      "_model_module": "@jupyter-widgets/controls",
      "_model_module_version": "1.5.0",
      "_model_name": "ProgressStyleModel",
      "_view_count": null,
      "_view_module": "@jupyter-widgets/base",
      "_view_module_version": "1.2.0",
      "_view_name": "StyleView",
      "bar_color": null,
      "description_width": "initial"
     }
    },
    "06e75412903948d9aa3d40d21f88fa3c": {
     "model_module": "@jupyter-widgets/controls",
     "model_name": "ProgressStyleModel",
     "state": {
      "_model_module": "@jupyter-widgets/controls",
      "_model_module_version": "1.5.0",
      "_model_name": "ProgressStyleModel",
      "_view_count": null,
      "_view_module": "@jupyter-widgets/base",
      "_view_module_version": "1.2.0",
      "_view_name": "StyleView",
      "bar_color": null,
      "description_width": "initial"
     }
    },
    "077e9a0ecc9c446f82daac132416837c": {
     "model_module": "@jupyter-widgets/base",
     "model_name": "LayoutModel",
     "state": {
      "_model_module": "@jupyter-widgets/base",
      "_model_module_version": "1.2.0",
      "_model_name": "LayoutModel",
      "_view_count": null,
      "_view_module": "@jupyter-widgets/base",
      "_view_module_version": "1.2.0",
      "_view_name": "LayoutView",
      "align_content": null,
      "align_items": null,
      "align_self": null,
      "border": null,
      "bottom": null,
      "display": null,
      "flex": null,
      "flex_flow": null,
      "grid_area": null,
      "grid_auto_columns": null,
      "grid_auto_flow": null,
      "grid_auto_rows": null,
      "grid_column": null,
      "grid_gap": null,
      "grid_row": null,
      "grid_template_areas": null,
      "grid_template_columns": null,
      "grid_template_rows": null,
      "height": null,
      "justify_content": null,
      "justify_items": null,
      "left": null,
      "margin": null,
      "max_height": null,
      "max_width": null,
      "min_height": null,
      "min_width": null,
      "object_fit": null,
      "object_position": null,
      "order": null,
      "overflow": null,
      "overflow_x": null,
      "overflow_y": null,
      "padding": null,
      "right": null,
      "top": null,
      "visibility": null,
      "width": null
     }
    },
    "0840919261c84e49baf53a1d0d9f3b85": {
     "model_module": "@jupyter-widgets/controls",
     "model_name": "HBoxModel",
     "state": {
      "_dom_classes": [],
      "_model_module": "@jupyter-widgets/controls",
      "_model_module_version": "1.5.0",
      "_model_name": "HBoxModel",
      "_view_count": null,
      "_view_module": "@jupyter-widgets/controls",
      "_view_module_version": "1.5.0",
      "_view_name": "HBoxView",
      "box_style": "",
      "children": [
       "IPY_MODEL_6374359b0733462e829ffe854cbae609",
       "IPY_MODEL_b95c52fd97004e899227ca0af242ac9c"
      ],
      "layout": "IPY_MODEL_f532864b1cf14f0fb4c48c683904a1b1"
     }
    },
    "08789970bfdb4cc0b9e1c5ef6d36165a": {
     "model_module": "@jupyter-widgets/base",
     "model_name": "LayoutModel",
     "state": {
      "_model_module": "@jupyter-widgets/base",
      "_model_module_version": "1.2.0",
      "_model_name": "LayoutModel",
      "_view_count": null,
      "_view_module": "@jupyter-widgets/base",
      "_view_module_version": "1.2.0",
      "_view_name": "LayoutView",
      "align_content": null,
      "align_items": null,
      "align_self": null,
      "border": null,
      "bottom": null,
      "display": null,
      "flex": null,
      "flex_flow": null,
      "grid_area": null,
      "grid_auto_columns": null,
      "grid_auto_flow": null,
      "grid_auto_rows": null,
      "grid_column": null,
      "grid_gap": null,
      "grid_row": null,
      "grid_template_areas": null,
      "grid_template_columns": null,
      "grid_template_rows": null,
      "height": null,
      "justify_content": null,
      "justify_items": null,
      "left": null,
      "margin": null,
      "max_height": null,
      "max_width": null,
      "min_height": null,
      "min_width": null,
      "object_fit": null,
      "object_position": null,
      "order": null,
      "overflow": null,
      "overflow_x": null,
      "overflow_y": null,
      "padding": null,
      "right": null,
      "top": null,
      "visibility": null,
      "width": null
     }
    },
    "0a339394253941b492116618c224af1e": {
     "model_module": "@jupyter-widgets/controls",
     "model_name": "HBoxModel",
     "state": {
      "_dom_classes": [],
      "_model_module": "@jupyter-widgets/controls",
      "_model_module_version": "1.5.0",
      "_model_name": "HBoxModel",
      "_view_count": null,
      "_view_module": "@jupyter-widgets/controls",
      "_view_module_version": "1.5.0",
      "_view_name": "HBoxView",
      "box_style": "",
      "children": [
       "IPY_MODEL_46488581fc0e49fba2ceaeff8571a5d2",
       "IPY_MODEL_28e65b16dcbc49e59e0672c0649c9cf1"
      ],
      "layout": "IPY_MODEL_e2fcbdbca0ae4c1d90a911fb2133f2d1"
     }
    },
    "0db5b30557fd4ce0b913381dbb64dc72": {
     "model_module": "@jupyter-widgets/controls",
     "model_name": "ProgressStyleModel",
     "state": {
      "_model_module": "@jupyter-widgets/controls",
      "_model_module_version": "1.5.0",
      "_model_name": "ProgressStyleModel",
      "_view_count": null,
      "_view_module": "@jupyter-widgets/base",
      "_view_module_version": "1.2.0",
      "_view_name": "StyleView",
      "bar_color": null,
      "description_width": "initial"
     }
    },
    "0f41490c106d42df855c3c83890074c4": {
     "model_module": "@jupyter-widgets/base",
     "model_name": "LayoutModel",
     "state": {
      "_model_module": "@jupyter-widgets/base",
      "_model_module_version": "1.2.0",
      "_model_name": "LayoutModel",
      "_view_count": null,
      "_view_module": "@jupyter-widgets/base",
      "_view_module_version": "1.2.0",
      "_view_name": "LayoutView",
      "align_content": null,
      "align_items": null,
      "align_self": null,
      "border": null,
      "bottom": null,
      "display": null,
      "flex": null,
      "flex_flow": null,
      "grid_area": null,
      "grid_auto_columns": null,
      "grid_auto_flow": null,
      "grid_auto_rows": null,
      "grid_column": null,
      "grid_gap": null,
      "grid_row": null,
      "grid_template_areas": null,
      "grid_template_columns": null,
      "grid_template_rows": null,
      "height": null,
      "justify_content": null,
      "justify_items": null,
      "left": null,
      "margin": null,
      "max_height": null,
      "max_width": null,
      "min_height": null,
      "min_width": null,
      "object_fit": null,
      "object_position": null,
      "order": null,
      "overflow": null,
      "overflow_x": null,
      "overflow_y": null,
      "padding": null,
      "right": null,
      "top": null,
      "visibility": null,
      "width": null
     }
    },
    "10e4dd8d0fc84688be47123615424f61": {
     "model_module": "@jupyter-widgets/controls",
     "model_name": "DescriptionStyleModel",
     "state": {
      "_model_module": "@jupyter-widgets/controls",
      "_model_module_version": "1.5.0",
      "_model_name": "DescriptionStyleModel",
      "_view_count": null,
      "_view_module": "@jupyter-widgets/base",
      "_view_module_version": "1.2.0",
      "_view_name": "StyleView",
      "description_width": ""
     }
    },
    "11945f23551645279cc5da1be11b42ec": {
     "model_module": "@jupyter-widgets/base",
     "model_name": "LayoutModel",
     "state": {
      "_model_module": "@jupyter-widgets/base",
      "_model_module_version": "1.2.0",
      "_model_name": "LayoutModel",
      "_view_count": null,
      "_view_module": "@jupyter-widgets/base",
      "_view_module_version": "1.2.0",
      "_view_name": "LayoutView",
      "align_content": null,
      "align_items": null,
      "align_self": null,
      "border": null,
      "bottom": null,
      "display": null,
      "flex": null,
      "flex_flow": null,
      "grid_area": null,
      "grid_auto_columns": null,
      "grid_auto_flow": null,
      "grid_auto_rows": null,
      "grid_column": null,
      "grid_gap": null,
      "grid_row": null,
      "grid_template_areas": null,
      "grid_template_columns": null,
      "grid_template_rows": null,
      "height": null,
      "justify_content": null,
      "justify_items": null,
      "left": null,
      "margin": null,
      "max_height": null,
      "max_width": null,
      "min_height": null,
      "min_width": null,
      "object_fit": null,
      "object_position": null,
      "order": null,
      "overflow": null,
      "overflow_x": null,
      "overflow_y": null,
      "padding": null,
      "right": null,
      "top": null,
      "visibility": null,
      "width": null
     }
    },
    "1aeb64cdfe1645d88aae25bd55184202": {
     "model_module": "@jupyter-widgets/base",
     "model_name": "LayoutModel",
     "state": {
      "_model_module": "@jupyter-widgets/base",
      "_model_module_version": "1.2.0",
      "_model_name": "LayoutModel",
      "_view_count": null,
      "_view_module": "@jupyter-widgets/base",
      "_view_module_version": "1.2.0",
      "_view_name": "LayoutView",
      "align_content": null,
      "align_items": null,
      "align_self": null,
      "border": null,
      "bottom": null,
      "display": null,
      "flex": null,
      "flex_flow": null,
      "grid_area": null,
      "grid_auto_columns": null,
      "grid_auto_flow": null,
      "grid_auto_rows": null,
      "grid_column": null,
      "grid_gap": null,
      "grid_row": null,
      "grid_template_areas": null,
      "grid_template_columns": null,
      "grid_template_rows": null,
      "height": null,
      "justify_content": null,
      "justify_items": null,
      "left": null,
      "margin": null,
      "max_height": null,
      "max_width": null,
      "min_height": null,
      "min_width": null,
      "object_fit": null,
      "object_position": null,
      "order": null,
      "overflow": null,
      "overflow_x": null,
      "overflow_y": null,
      "padding": null,
      "right": null,
      "top": null,
      "visibility": null,
      "width": null
     }
    },
    "22aada0194f54dedb05e999d1289055d": {
     "model_module": "@jupyter-widgets/controls",
     "model_name": "ProgressStyleModel",
     "state": {
      "_model_module": "@jupyter-widgets/controls",
      "_model_module_version": "1.5.0",
      "_model_name": "ProgressStyleModel",
      "_view_count": null,
      "_view_module": "@jupyter-widgets/base",
      "_view_module_version": "1.2.0",
      "_view_name": "StyleView",
      "bar_color": null,
      "description_width": "initial"
     }
    },
    "279175d2411b4b669711b45b213070cf": {
     "model_module": "@jupyter-widgets/base",
     "model_name": "LayoutModel",
     "state": {
      "_model_module": "@jupyter-widgets/base",
      "_model_module_version": "1.2.0",
      "_model_name": "LayoutModel",
      "_view_count": null,
      "_view_module": "@jupyter-widgets/base",
      "_view_module_version": "1.2.0",
      "_view_name": "LayoutView",
      "align_content": null,
      "align_items": null,
      "align_self": null,
      "border": null,
      "bottom": null,
      "display": null,
      "flex": null,
      "flex_flow": null,
      "grid_area": null,
      "grid_auto_columns": null,
      "grid_auto_flow": null,
      "grid_auto_rows": null,
      "grid_column": null,
      "grid_gap": null,
      "grid_row": null,
      "grid_template_areas": null,
      "grid_template_columns": null,
      "grid_template_rows": null,
      "height": null,
      "justify_content": null,
      "justify_items": null,
      "left": null,
      "margin": null,
      "max_height": null,
      "max_width": null,
      "min_height": null,
      "min_width": null,
      "object_fit": null,
      "object_position": null,
      "order": null,
      "overflow": null,
      "overflow_x": null,
      "overflow_y": null,
      "padding": null,
      "right": null,
      "top": null,
      "visibility": null,
      "width": null
     }
    },
    "27faef99f8834b1385139ea1840b231b": {
     "model_module": "@jupyter-widgets/controls",
     "model_name": "HBoxModel",
     "state": {
      "_dom_classes": [],
      "_model_module": "@jupyter-widgets/controls",
      "_model_module_version": "1.5.0",
      "_model_name": "HBoxModel",
      "_view_count": null,
      "_view_module": "@jupyter-widgets/controls",
      "_view_module_version": "1.5.0",
      "_view_name": "HBoxView",
      "box_style": "",
      "children": [
       "IPY_MODEL_7201098eb45245e698207c8093059827",
       "IPY_MODEL_a132528862294797816f2d58924a2dc6"
      ],
      "layout": "IPY_MODEL_970bf47ae63c49adb7d8258b2ce036f5"
     }
    },
    "28ae4850a12d4a9ba6ee77c4f11939d4": {
     "model_module": "@jupyter-widgets/base",
     "model_name": "LayoutModel",
     "state": {
      "_model_module": "@jupyter-widgets/base",
      "_model_module_version": "1.2.0",
      "_model_name": "LayoutModel",
      "_view_count": null,
      "_view_module": "@jupyter-widgets/base",
      "_view_module_version": "1.2.0",
      "_view_name": "LayoutView",
      "align_content": null,
      "align_items": null,
      "align_self": null,
      "border": null,
      "bottom": null,
      "display": null,
      "flex": null,
      "flex_flow": null,
      "grid_area": null,
      "grid_auto_columns": null,
      "grid_auto_flow": null,
      "grid_auto_rows": null,
      "grid_column": null,
      "grid_gap": null,
      "grid_row": null,
      "grid_template_areas": null,
      "grid_template_columns": null,
      "grid_template_rows": null,
      "height": null,
      "justify_content": null,
      "justify_items": null,
      "left": null,
      "margin": null,
      "max_height": null,
      "max_width": null,
      "min_height": null,
      "min_width": null,
      "object_fit": null,
      "object_position": null,
      "order": null,
      "overflow": null,
      "overflow_x": null,
      "overflow_y": null,
      "padding": null,
      "right": null,
      "top": null,
      "visibility": null,
      "width": null
     }
    },
    "28b130176ca544aa8805f4c0f369b46f": {
     "model_module": "@jupyter-widgets/base",
     "model_name": "LayoutModel",
     "state": {
      "_model_module": "@jupyter-widgets/base",
      "_model_module_version": "1.2.0",
      "_model_name": "LayoutModel",
      "_view_count": null,
      "_view_module": "@jupyter-widgets/base",
      "_view_module_version": "1.2.0",
      "_view_name": "LayoutView",
      "align_content": null,
      "align_items": null,
      "align_self": null,
      "border": null,
      "bottom": null,
      "display": null,
      "flex": null,
      "flex_flow": null,
      "grid_area": null,
      "grid_auto_columns": null,
      "grid_auto_flow": null,
      "grid_auto_rows": null,
      "grid_column": null,
      "grid_gap": null,
      "grid_row": null,
      "grid_template_areas": null,
      "grid_template_columns": null,
      "grid_template_rows": null,
      "height": null,
      "justify_content": null,
      "justify_items": null,
      "left": null,
      "margin": null,
      "max_height": null,
      "max_width": null,
      "min_height": null,
      "min_width": null,
      "object_fit": null,
      "object_position": null,
      "order": null,
      "overflow": null,
      "overflow_x": null,
      "overflow_y": null,
      "padding": null,
      "right": null,
      "top": null,
      "visibility": null,
      "width": null
     }
    },
    "28db539e56d24873a82c76415fa983c9": {
     "model_module": "@jupyter-widgets/controls",
     "model_name": "HTMLModel",
     "state": {
      "_dom_classes": [],
      "_model_module": "@jupyter-widgets/controls",
      "_model_module_version": "1.5.0",
      "_model_name": "HTMLModel",
      "_view_count": null,
      "_view_module": "@jupyter-widgets/controls",
      "_view_module_version": "1.5.0",
      "_view_name": "HTMLView",
      "description": "",
      "description_tooltip": null,
      "layout": "IPY_MODEL_28ae4850a12d4a9ba6ee77c4f11939d4",
      "placeholder": "​",
      "style": "IPY_MODEL_9583cad811c542d4b4671de6aca83f4a",
      "value": " 1/1 [00:00&lt;00:00, 18.40it/s]"
     }
    },
    "28e65b16dcbc49e59e0672c0649c9cf1": {
     "model_module": "@jupyter-widgets/controls",
     "model_name": "HTMLModel",
     "state": {
      "_dom_classes": [],
      "_model_module": "@jupyter-widgets/controls",
      "_model_module_version": "1.5.0",
      "_model_name": "HTMLModel",
      "_view_count": null,
      "_view_module": "@jupyter-widgets/controls",
      "_view_module_version": "1.5.0",
      "_view_name": "HTMLView",
      "description": "",
      "description_tooltip": null,
      "layout": "IPY_MODEL_c744128586294877a28b5bf13e8e8b83",
      "placeholder": "​",
      "style": "IPY_MODEL_7106f8e2982f47fa9acf084cd5f07b5b",
      "value": " 215/215 [00:33&lt;00:00,  6.35it/s]"
     }
    },
    "29b61fd24c19478d81cb242555a69b77": {
     "model_module": "@jupyter-widgets/base",
     "model_name": "LayoutModel",
     "state": {
      "_model_module": "@jupyter-widgets/base",
      "_model_module_version": "1.2.0",
      "_model_name": "LayoutModel",
      "_view_count": null,
      "_view_module": "@jupyter-widgets/base",
      "_view_module_version": "1.2.0",
      "_view_name": "LayoutView",
      "align_content": null,
      "align_items": null,
      "align_self": null,
      "border": null,
      "bottom": null,
      "display": null,
      "flex": null,
      "flex_flow": null,
      "grid_area": null,
      "grid_auto_columns": null,
      "grid_auto_flow": null,
      "grid_auto_rows": null,
      "grid_column": null,
      "grid_gap": null,
      "grid_row": null,
      "grid_template_areas": null,
      "grid_template_columns": null,
      "grid_template_rows": null,
      "height": null,
      "justify_content": null,
      "justify_items": null,
      "left": null,
      "margin": null,
      "max_height": null,
      "max_width": null,
      "min_height": null,
      "min_width": null,
      "object_fit": null,
      "object_position": null,
      "order": null,
      "overflow": null,
      "overflow_x": null,
      "overflow_y": null,
      "padding": null,
      "right": null,
      "top": null,
      "visibility": null,
      "width": null
     }
    },
    "2c65d43e0d954bb6a7d7ab1569d8ceb8": {
     "model_module": "@jupyter-widgets/controls",
     "model_name": "ProgressStyleModel",
     "state": {
      "_model_module": "@jupyter-widgets/controls",
      "_model_module_version": "1.5.0",
      "_model_name": "ProgressStyleModel",
      "_view_count": null,
      "_view_module": "@jupyter-widgets/base",
      "_view_module_version": "1.2.0",
      "_view_name": "StyleView",
      "bar_color": null,
      "description_width": "initial"
     }
    },
    "340934a9866643af886ffc9712108e2c": {
     "model_module": "@jupyter-widgets/controls",
     "model_name": "HTMLModel",
     "state": {
      "_dom_classes": [],
      "_model_module": "@jupyter-widgets/controls",
      "_model_module_version": "1.5.0",
      "_model_name": "HTMLModel",
      "_view_count": null,
      "_view_module": "@jupyter-widgets/controls",
      "_view_module_version": "1.5.0",
      "_view_name": "HTMLView",
      "description": "",
      "description_tooltip": null,
      "layout": "IPY_MODEL_29b61fd24c19478d81cb242555a69b77",
      "placeholder": "​",
      "style": "IPY_MODEL_4d6c723f7ef9471fad9e1f55fff7dfc8",
      "value": " 1.23k/1.23k [00:00&lt;00:00, 37.0kB/s]"
     }
    },
    "35127082447849daaa535872f76487be": {
     "model_module": "@jupyter-widgets/controls",
     "model_name": "HTMLModel",
     "state": {
      "_dom_classes": [],
      "_model_module": "@jupyter-widgets/controls",
      "_model_module_version": "1.5.0",
      "_model_name": "HTMLModel",
      "_view_count": null,
      "_view_module": "@jupyter-widgets/controls",
      "_view_module_version": "1.5.0",
      "_view_name": "HTMLView",
      "description": "",
      "description_tooltip": null,
      "layout": "IPY_MODEL_a50874c4e573457ba56d73f1539db9ee",
      "placeholder": "​",
      "style": "IPY_MODEL_e1f4815f014c4c25b2b22440786fd00c",
      "value": " 54/54 [00:01&lt;00:00, 28.72it/s]"
     }
    },
    "352ace34d5e04003926f5bf65faec105": {
     "model_module": "@jupyter-widgets/controls",
     "model_name": "IntProgressModel",
     "state": {
      "_dom_classes": [],
      "_model_module": "@jupyter-widgets/controls",
      "_model_module_version": "1.5.0",
      "_model_name": "IntProgressModel",
      "_view_count": null,
      "_view_module": "@jupyter-widgets/controls",
      "_view_module_version": "1.5.0",
      "_view_name": "ProgressView",
      "bar_style": "success",
      "description": "Current iteration: 100%",
      "description_tooltip": null,
      "layout": "IPY_MODEL_dcf70ee5c80b409088a3d54bb9e4be7e",
      "max": 215,
      "min": 0,
      "orientation": "horizontal",
      "style": "IPY_MODEL_0db5b30557fd4ce0b913381dbb64dc72",
      "value": 215
     }
    },
    "380771ffaeb647ddb299008d4abe7e0a": {
     "model_module": "@jupyter-widgets/controls",
     "model_name": "HBoxModel",
     "state": {
      "_dom_classes": [],
      "_model_module": "@jupyter-widgets/controls",
      "_model_module_version": "1.5.0",
      "_model_name": "HBoxModel",
      "_view_count": null,
      "_view_module": "@jupyter-widgets/controls",
      "_view_module_version": "1.5.0",
      "_view_name": "HBoxView",
      "box_style": "",
      "children": [
       "IPY_MODEL_04243488dd1d45eaa0d8ed6a9246cc71",
       "IPY_MODEL_d381731faace46a0872320c2e2c17740"
      ],
      "layout": "IPY_MODEL_d6ec2f9dfe7043468993e4b94dfe9973"
     }
    },
    "40820eeda1ea435a9460170c519e6197": {
     "model_module": "@jupyter-widgets/controls",
     "model_name": "ProgressStyleModel",
     "state": {
      "_model_module": "@jupyter-widgets/controls",
      "_model_module_version": "1.5.0",
      "_model_name": "ProgressStyleModel",
      "_view_count": null,
      "_view_module": "@jupyter-widgets/base",
      "_view_module_version": "1.2.0",
      "_view_name": "StyleView",
      "bar_color": null,
      "description_width": "initial"
     }
    },
    "46488581fc0e49fba2ceaeff8571a5d2": {
     "model_module": "@jupyter-widgets/controls",
     "model_name": "IntProgressModel",
     "state": {
      "_dom_classes": [],
      "_model_module": "@jupyter-widgets/controls",
      "_model_module_version": "1.5.0",
      "_model_name": "IntProgressModel",
      "_view_count": null,
      "_view_module": "@jupyter-widgets/controls",
      "_view_module_version": "1.5.0",
      "_view_name": "ProgressView",
      "bar_style": "success",
      "description": "Current iteration: 100%",
      "description_tooltip": null,
      "layout": "IPY_MODEL_80a88551a0fc413e90ccce4ec92818d5",
      "max": 215,
      "min": 0,
      "orientation": "horizontal",
      "style": "IPY_MODEL_2c65d43e0d954bb6a7d7ab1569d8ceb8",
      "value": 215
     }
    },
    "4722ba3dc31640c9b8e71a2ffcef1bd6": {
     "model_module": "@jupyter-widgets/controls",
     "model_name": "DescriptionStyleModel",
     "state": {
      "_model_module": "@jupyter-widgets/controls",
      "_model_module_version": "1.5.0",
      "_model_name": "DescriptionStyleModel",
      "_view_count": null,
      "_view_module": "@jupyter-widgets/base",
      "_view_module_version": "1.2.0",
      "_view_name": "StyleView",
      "description_width": ""
     }
    },
    "478b0d73235247ab816539926a4fe72c": {
     "model_module": "@jupyter-widgets/controls",
     "model_name": "HTMLModel",
     "state": {
      "_dom_classes": [],
      "_model_module": "@jupyter-widgets/controls",
      "_model_module_version": "1.5.0",
      "_model_name": "HTMLModel",
      "_view_count": null,
      "_view_module": "@jupyter-widgets/controls",
      "_view_module_version": "1.5.0",
      "_view_name": "HTMLView",
      "description": "",
      "description_tooltip": null,
      "layout": "IPY_MODEL_d5a023480b78431a9e5b4e52021fe8d3",
      "placeholder": "​",
      "style": "IPY_MODEL_881d5e82ba5b479f818f0e9e42c963ab",
      "value": " 166/166 [01:16&lt;00:00, 2.18B/s]"
     }
    },
    "4c3135baeda04d698660bded2eb269bc": {
     "model_module": "@jupyter-widgets/controls",
     "model_name": "IntProgressModel",
     "state": {
      "_dom_classes": [],
      "_model_module": "@jupyter-widgets/controls",
      "_model_module_version": "1.5.0",
      "_model_name": "IntProgressModel",
      "_view_count": null,
      "_view_module": "@jupyter-widgets/controls",
      "_view_module_version": "1.5.0",
      "_view_name": "ProgressView",
      "bar_style": "success",
      "description": "100%",
      "description_tooltip": null,
      "layout": "IPY_MODEL_023baa8791ea4ccea609c7f14c699fdf",
      "max": 1,
      "min": 0,
      "orientation": "horizontal",
      "style": "IPY_MODEL_c54114211fe3435f9cfe3c9df41274a4",
      "value": 1
     }
    },
    "4d6c723f7ef9471fad9e1f55fff7dfc8": {
     "model_module": "@jupyter-widgets/controls",
     "model_name": "DescriptionStyleModel",
     "state": {
      "_model_module": "@jupyter-widgets/controls",
      "_model_module_version": "1.5.0",
      "_model_name": "DescriptionStyleModel",
      "_view_count": null,
      "_view_module": "@jupyter-widgets/base",
      "_view_module_version": "1.2.0",
      "_view_name": "StyleView",
      "description_width": ""
     }
    },
    "4feb507759c14f0198741022d045e9b2": {
     "model_module": "@jupyter-widgets/controls",
     "model_name": "HBoxModel",
     "state": {
      "_dom_classes": [],
      "_model_module": "@jupyter-widgets/controls",
      "_model_module_version": "1.5.0",
      "_model_name": "HBoxModel",
      "_view_count": null,
      "_view_module": "@jupyter-widgets/controls",
      "_view_module_version": "1.5.0",
      "_view_name": "HBoxView",
      "box_style": "",
      "children": [
       "IPY_MODEL_b42e406f16434eed877c52db2574ff96",
       "IPY_MODEL_f439db62e9ce42b9a7fc4fb7d516dfd4"
      ],
      "layout": "IPY_MODEL_a80bd7ec0dc941ec85157e81c79aee6b"
     }
    },
    "528f0f4c41dd412f8fd8a4049f53cb8e": {
     "model_module": "@jupyter-widgets/controls",
     "model_name": "DescriptionStyleModel",
     "state": {
      "_model_module": "@jupyter-widgets/controls",
      "_model_module_version": "1.5.0",
      "_model_name": "DescriptionStyleModel",
      "_view_count": null,
      "_view_module": "@jupyter-widgets/base",
      "_view_module_version": "1.2.0",
      "_view_name": "StyleView",
      "description_width": ""
     }
    },
    "5506e66b990044038a13dbd8a8677b05": {
     "model_module": "@jupyter-widgets/base",
     "model_name": "LayoutModel",
     "state": {
      "_model_module": "@jupyter-widgets/base",
      "_model_module_version": "1.2.0",
      "_model_name": "LayoutModel",
      "_view_count": null,
      "_view_module": "@jupyter-widgets/base",
      "_view_module_version": "1.2.0",
      "_view_name": "LayoutView",
      "align_content": null,
      "align_items": null,
      "align_self": null,
      "border": null,
      "bottom": null,
      "display": null,
      "flex": null,
      "flex_flow": null,
      "grid_area": null,
      "grid_auto_columns": null,
      "grid_auto_flow": null,
      "grid_auto_rows": null,
      "grid_column": null,
      "grid_gap": null,
      "grid_row": null,
      "grid_template_areas": null,
      "grid_template_columns": null,
      "grid_template_rows": null,
      "height": null,
      "justify_content": null,
      "justify_items": null,
      "left": null,
      "margin": null,
      "max_height": null,
      "max_width": null,
      "min_height": null,
      "min_width": null,
      "object_fit": null,
      "object_position": null,
      "order": null,
      "overflow": null,
      "overflow_x": null,
      "overflow_y": null,
      "padding": null,
      "right": null,
      "top": null,
      "visibility": null,
      "width": null
     }
    },
    "5711d5299f724533b24ff952342c15d6": {
     "model_module": "@jupyter-widgets/base",
     "model_name": "LayoutModel",
     "state": {
      "_model_module": "@jupyter-widgets/base",
      "_model_module_version": "1.2.0",
      "_model_name": "LayoutModel",
      "_view_count": null,
      "_view_module": "@jupyter-widgets/base",
      "_view_module_version": "1.2.0",
      "_view_name": "LayoutView",
      "align_content": null,
      "align_items": null,
      "align_self": null,
      "border": null,
      "bottom": null,
      "display": null,
      "flex": null,
      "flex_flow": null,
      "grid_area": null,
      "grid_auto_columns": null,
      "grid_auto_flow": null,
      "grid_auto_rows": null,
      "grid_column": null,
      "grid_gap": null,
      "grid_row": null,
      "grid_template_areas": null,
      "grid_template_columns": null,
      "grid_template_rows": null,
      "height": null,
      "justify_content": null,
      "justify_items": null,
      "left": null,
      "margin": null,
      "max_height": null,
      "max_width": null,
      "min_height": null,
      "min_width": null,
      "object_fit": null,
      "object_position": null,
      "order": null,
      "overflow": null,
      "overflow_x": null,
      "overflow_y": null,
      "padding": null,
      "right": null,
      "top": null,
      "visibility": null,
      "width": null
     }
    },
    "58363b1c3a98473b8fac472578ca1f4a": {
     "model_module": "@jupyter-widgets/controls",
     "model_name": "IntProgressModel",
     "state": {
      "_dom_classes": [],
      "_model_module": "@jupyter-widgets/controls",
      "_model_module_version": "1.5.0",
      "_model_name": "IntProgressModel",
      "_view_count": null,
      "_view_module": "@jupyter-widgets/controls",
      "_view_module_version": "1.5.0",
      "_view_name": "ProgressView",
      "bar_style": "success",
      "description": "Downloading: 100%",
      "description_tooltip": null,
      "layout": "IPY_MODEL_fc4fd2e29ea04739837cdd4f444a8b12",
      "max": 3213,
      "min": 0,
      "orientation": "horizontal",
      "style": "IPY_MODEL_db6ad1a5a199476e93952b57f4d0b2da",
      "value": 3213
     }
    },
    "58907d6c086647db93cf33ee4ca5f56b": {
     "model_module": "@jupyter-widgets/base",
     "model_name": "LayoutModel",
     "state": {
      "_model_module": "@jupyter-widgets/base",
      "_model_module_version": "1.2.0",
      "_model_name": "LayoutModel",
      "_view_count": null,
      "_view_module": "@jupyter-widgets/base",
      "_view_module_version": "1.2.0",
      "_view_name": "LayoutView",
      "align_content": null,
      "align_items": null,
      "align_self": null,
      "border": null,
      "bottom": null,
      "display": null,
      "flex": null,
      "flex_flow": null,
      "grid_area": null,
      "grid_auto_columns": null,
      "grid_auto_flow": null,
      "grid_auto_rows": null,
      "grid_column": null,
      "grid_gap": null,
      "grid_row": null,
      "grid_template_areas": null,
      "grid_template_columns": null,
      "grid_template_rows": null,
      "height": null,
      "justify_content": null,
      "justify_items": null,
      "left": null,
      "margin": null,
      "max_height": null,
      "max_width": null,
      "min_height": null,
      "min_width": null,
      "object_fit": null,
      "object_position": null,
      "order": null,
      "overflow": null,
      "overflow_x": null,
      "overflow_y": null,
      "padding": null,
      "right": null,
      "top": null,
      "visibility": null,
      "width": null
     }
    },
    "5dae7b669e27494c91b96bf11caaab6c": {
     "model_module": "@jupyter-widgets/base",
     "model_name": "LayoutModel",
     "state": {
      "_model_module": "@jupyter-widgets/base",
      "_model_module_version": "1.2.0",
      "_model_name": "LayoutModel",
      "_view_count": null,
      "_view_module": "@jupyter-widgets/base",
      "_view_module_version": "1.2.0",
      "_view_name": "LayoutView",
      "align_content": null,
      "align_items": null,
      "align_self": null,
      "border": null,
      "bottom": null,
      "display": null,
      "flex": null,
      "flex_flow": null,
      "grid_area": null,
      "grid_auto_columns": null,
      "grid_auto_flow": null,
      "grid_auto_rows": null,
      "grid_column": null,
      "grid_gap": null,
      "grid_row": null,
      "grid_template_areas": null,
      "grid_template_columns": null,
      "grid_template_rows": null,
      "height": null,
      "justify_content": null,
      "justify_items": null,
      "left": null,
      "margin": null,
      "max_height": null,
      "max_width": null,
      "min_height": null,
      "min_width": null,
      "object_fit": null,
      "object_position": null,
      "order": null,
      "overflow": null,
      "overflow_x": null,
      "overflow_y": null,
      "padding": null,
      "right": null,
      "top": null,
      "visibility": null,
      "width": null
     }
    },
    "5df97010f81d4dd585e4258a08ae4a28": {
     "model_module": "@jupyter-widgets/controls",
     "model_name": "HBoxModel",
     "state": {
      "_dom_classes": [],
      "_model_module": "@jupyter-widgets/controls",
      "_model_module_version": "1.5.0",
      "_model_name": "HBoxModel",
      "_view_count": null,
      "_view_module": "@jupyter-widgets/controls",
      "_view_module_version": "1.5.0",
      "_view_name": "HBoxView",
      "box_style": "",
      "children": [
       "IPY_MODEL_6702d9d72b8b442eabb39edc5c51920d",
       "IPY_MODEL_71556c386b2a4e27956f788ad9c3368c"
      ],
      "layout": "IPY_MODEL_11945f23551645279cc5da1be11b42ec"
     }
    },
    "62c9381af0a14b1cad4ff705e2e018b2": {
     "model_module": "@jupyter-widgets/controls",
     "model_name": "DescriptionStyleModel",
     "state": {
      "_model_module": "@jupyter-widgets/controls",
      "_model_module_version": "1.5.0",
      "_model_name": "DescriptionStyleModel",
      "_view_count": null,
      "_view_module": "@jupyter-widgets/base",
      "_view_module_version": "1.2.0",
      "_view_name": "StyleView",
      "description_width": ""
     }
    },
    "6310c8d9d69642c5951f008e8cee0526": {
     "model_module": "@jupyter-widgets/controls",
     "model_name": "HTMLModel",
     "state": {
      "_dom_classes": [],
      "_model_module": "@jupyter-widgets/controls",
      "_model_module_version": "1.5.0",
      "_model_name": "HTMLModel",
      "_view_count": null,
      "_view_module": "@jupyter-widgets/controls",
      "_view_module_version": "1.5.0",
      "_view_name": "HTMLView",
      "description": "",
      "description_tooltip": null,
      "layout": "IPY_MODEL_887089e1b5394e639858cfce294a8ffe",
      "placeholder": "​",
      "style": "IPY_MODEL_62c9381af0a14b1cad4ff705e2e018b2",
      "value": " 215/215 [00:34&lt;00:00,  6.30it/s]"
     }
    },
    "6374359b0733462e829ffe854cbae609": {
     "model_module": "@jupyter-widgets/controls",
     "model_name": "IntProgressModel",
     "state": {
      "_dom_classes": [],
      "_model_module": "@jupyter-widgets/controls",
      "_model_module_version": "1.5.0",
      "_model_name": "IntProgressModel",
      "_view_count": null,
      "_view_module": "@jupyter-widgets/controls",
      "_view_module_version": "1.5.0",
      "_view_name": "ProgressView",
      "bar_style": "success",
      "description": "Current iteration: 100%",
      "description_tooltip": null,
      "layout": "IPY_MODEL_5711d5299f724533b24ff952342c15d6",
      "max": 215,
      "min": 0,
      "orientation": "horizontal",
      "style": "IPY_MODEL_fa5abe0cfb2c41ce852a5649661f0d47",
      "value": 215
     }
    },
    "6545614a43044574bda1e94ad18beea1": {
     "model_module": "@jupyter-widgets/base",
     "model_name": "LayoutModel",
     "state": {
      "_model_module": "@jupyter-widgets/base",
      "_model_module_version": "1.2.0",
      "_model_name": "LayoutModel",
      "_view_count": null,
      "_view_module": "@jupyter-widgets/base",
      "_view_module_version": "1.2.0",
      "_view_name": "LayoutView",
      "align_content": null,
      "align_items": null,
      "align_self": null,
      "border": null,
      "bottom": null,
      "display": null,
      "flex": null,
      "flex_flow": null,
      "grid_area": null,
      "grid_auto_columns": null,
      "grid_auto_flow": null,
      "grid_auto_rows": null,
      "grid_column": null,
      "grid_gap": null,
      "grid_row": null,
      "grid_template_areas": null,
      "grid_template_columns": null,
      "grid_template_rows": null,
      "height": null,
      "justify_content": null,
      "justify_items": null,
      "left": null,
      "margin": null,
      "max_height": null,
      "max_width": null,
      "min_height": null,
      "min_width": null,
      "object_fit": null,
      "object_position": null,
      "order": null,
      "overflow": null,
      "overflow_x": null,
      "overflow_y": null,
      "padding": null,
      "right": null,
      "top": null,
      "visibility": null,
      "width": null
     }
    },
    "6702d9d72b8b442eabb39edc5c51920d": {
     "model_module": "@jupyter-widgets/controls",
     "model_name": "IntProgressModel",
     "state": {
      "_dom_classes": [],
      "_model_module": "@jupyter-widgets/controls",
      "_model_module_version": "1.5.0",
      "_model_name": "IntProgressModel",
      "_view_count": null,
      "_view_module": "@jupyter-widgets/controls",
      "_view_module_version": "1.5.0",
      "_view_name": "ProgressView",
      "bar_style": "success",
      "description": "100%",
      "description_tooltip": null,
      "layout": "IPY_MODEL_9fd6f129bb0341ba92ef712c12d9bda6",
      "max": 1714,
      "min": 0,
      "orientation": "horizontal",
      "style": "IPY_MODEL_edc2fc9c86824ee985ad3bad83f0e0fb",
      "value": 1714
     }
    },
    "6a0e1b77fe08491784911f2e89294aa6": {
     "model_module": "@jupyter-widgets/controls",
     "model_name": "HBoxModel",
     "state": {
      "_dom_classes": [],
      "_model_module": "@jupyter-widgets/controls",
      "_model_module_version": "1.5.0",
      "_model_name": "HBoxModel",
      "_view_count": null,
      "_view_module": "@jupyter-widgets/controls",
      "_view_module_version": "1.5.0",
      "_view_name": "HBoxView",
      "box_style": "",
      "children": [
       "IPY_MODEL_aa21b67fd2b3421db5029c31af6763b3",
       "IPY_MODEL_478b0d73235247ab816539926a4fe72c"
      ],
      "layout": "IPY_MODEL_6c89b58666d44d6dac5db6bce981a8a4"
     }
    },
    "6c89b58666d44d6dac5db6bce981a8a4": {
     "model_module": "@jupyter-widgets/base",
     "model_name": "LayoutModel",
     "state": {
      "_model_module": "@jupyter-widgets/base",
      "_model_module_version": "1.2.0",
      "_model_name": "LayoutModel",
      "_view_count": null,
      "_view_module": "@jupyter-widgets/base",
      "_view_module_version": "1.2.0",
      "_view_name": "LayoutView",
      "align_content": null,
      "align_items": null,
      "align_self": null,
      "border": null,
      "bottom": null,
      "display": null,
      "flex": null,
      "flex_flow": null,
      "grid_area": null,
      "grid_auto_columns": null,
      "grid_auto_flow": null,
      "grid_auto_rows": null,
      "grid_column": null,
      "grid_gap": null,
      "grid_row": null,
      "grid_template_areas": null,
      "grid_template_columns": null,
      "grid_template_rows": null,
      "height": null,
      "justify_content": null,
      "justify_items": null,
      "left": null,
      "margin": null,
      "max_height": null,
      "max_width": null,
      "min_height": null,
      "min_width": null,
      "object_fit": null,
      "object_position": null,
      "order": null,
      "overflow": null,
      "overflow_x": null,
      "overflow_y": null,
      "padding": null,
      "right": null,
      "top": null,
      "visibility": null,
      "width": null
     }
    },
    "6e4f712bdc0047d5a16717a28cf4e948": {
     "model_module": "@jupyter-widgets/controls",
     "model_name": "HTMLModel",
     "state": {
      "_dom_classes": [],
      "_model_module": "@jupyter-widgets/controls",
      "_model_module_version": "1.5.0",
      "_model_name": "HTMLModel",
      "_view_count": null,
      "_view_module": "@jupyter-widgets/controls",
      "_view_module_version": "1.5.0",
      "_view_name": "HTMLView",
      "description": "",
      "description_tooltip": null,
      "layout": "IPY_MODEL_aade390d43f34121b015c852bf1d3201",
      "placeholder": "​",
      "style": "IPY_MODEL_a0384ea4fe754a11b2aaae01a522633d",
      "value": " 3.21k/3.21k [00:04&lt;00:00, 691B/s]"
     }
    },
    "709a42efdcad44f5afaeac50dcf91179": {
     "model_module": "@jupyter-widgets/controls",
     "model_name": "HTMLModel",
     "state": {
      "_dom_classes": [],
      "_model_module": "@jupyter-widgets/controls",
      "_model_module_version": "1.5.0",
      "_model_name": "HTMLModel",
      "_view_count": null,
      "_view_module": "@jupyter-widgets/controls",
      "_view_module_version": "1.5.0",
      "_view_name": "HTMLView",
      "description": "",
      "description_tooltip": null,
      "layout": "IPY_MODEL_08789970bfdb4cc0b9e1c5ef6d36165a",
      "placeholder": "​",
      "style": "IPY_MODEL_80838c314d35495fae4648cf1099cde1",
      "value": " 179M/179M [00:18&lt;00:00, 9.48MB/s]"
     }
    },
    "7106f8e2982f47fa9acf084cd5f07b5b": {
     "model_module": "@jupyter-widgets/controls",
     "model_name": "DescriptionStyleModel",
     "state": {
      "_model_module": "@jupyter-widgets/controls",
      "_model_module_version": "1.5.0",
      "_model_name": "DescriptionStyleModel",
      "_view_count": null,
      "_view_module": "@jupyter-widgets/base",
      "_view_module_version": "1.2.0",
      "_view_name": "StyleView",
      "description_width": ""
     }
    },
    "71556c386b2a4e27956f788ad9c3368c": {
     "model_module": "@jupyter-widgets/controls",
     "model_name": "HTMLModel",
     "state": {
      "_dom_classes": [],
      "_model_module": "@jupyter-widgets/controls",
      "_model_module_version": "1.5.0",
      "_model_name": "HTMLModel",
      "_view_count": null,
      "_view_module": "@jupyter-widgets/controls",
      "_view_module_version": "1.5.0",
      "_view_name": "HTMLView",
      "description": "",
      "description_tooltip": null,
      "layout": "IPY_MODEL_28b130176ca544aa8805f4c0f369b46f",
      "placeholder": "​",
      "style": "IPY_MODEL_734a17a9f96e4c1582309601963343c2",
      "value": " 1714/1714 [00:00&lt;00:00, 5886.14it/s]"
     }
    },
    "7201098eb45245e698207c8093059827": {
     "model_module": "@jupyter-widgets/controls",
     "model_name": "IntProgressModel",
     "state": {
      "_dom_classes": [],
      "_model_module": "@jupyter-widgets/controls",
      "_model_module_version": "1.5.0",
      "_model_name": "IntProgressModel",
      "_view_count": null,
      "_view_module": "@jupyter-widgets/controls",
      "_view_module_version": "1.5.0",
      "_view_name": "ProgressView",
      "bar_style": "success",
      "description": "Downloading: 100%",
      "description_tooltip": null,
      "layout": "IPY_MODEL_1aeb64cdfe1645d88aae25bd55184202",
      "max": 9429,
      "min": 0,
      "orientation": "horizontal",
      "style": "IPY_MODEL_9bcb0be6241a49bd82ab0ee98d3d1bf3",
      "value": 9429
     }
    },
    "734a17a9f96e4c1582309601963343c2": {
     "model_module": "@jupyter-widgets/controls",
     "model_name": "DescriptionStyleModel",
     "state": {
      "_model_module": "@jupyter-widgets/controls",
      "_model_module_version": "1.5.0",
      "_model_name": "DescriptionStyleModel",
      "_view_count": null,
      "_view_module": "@jupyter-widgets/base",
      "_view_module_version": "1.2.0",
      "_view_name": "StyleView",
      "description_width": ""
     }
    },
    "765ca936c2334a6eade269e2eeb1bd80": {
     "model_module": "@jupyter-widgets/base",
     "model_name": "LayoutModel",
     "state": {
      "_model_module": "@jupyter-widgets/base",
      "_model_module_version": "1.2.0",
      "_model_name": "LayoutModel",
      "_view_count": null,
      "_view_module": "@jupyter-widgets/base",
      "_view_module_version": "1.2.0",
      "_view_name": "LayoutView",
      "align_content": null,
      "align_items": null,
      "align_self": null,
      "border": null,
      "bottom": null,
      "display": null,
      "flex": null,
      "flex_flow": null,
      "grid_area": null,
      "grid_auto_columns": null,
      "grid_auto_flow": null,
      "grid_auto_rows": null,
      "grid_column": null,
      "grid_gap": null,
      "grid_row": null,
      "grid_template_areas": null,
      "grid_template_columns": null,
      "grid_template_rows": null,
      "height": null,
      "justify_content": null,
      "justify_items": null,
      "left": null,
      "margin": null,
      "max_height": null,
      "max_width": null,
      "min_height": null,
      "min_width": null,
      "object_fit": null,
      "object_position": null,
      "order": null,
      "overflow": null,
      "overflow_x": null,
      "overflow_y": null,
      "padding": null,
      "right": null,
      "top": null,
      "visibility": null,
      "width": null
     }
    },
    "76cf9b5ac9ec422fab6ac2fd83d119b3": {
     "model_module": "@jupyter-widgets/controls",
     "model_name": "ProgressStyleModel",
     "state": {
      "_model_module": "@jupyter-widgets/controls",
      "_model_module_version": "1.5.0",
      "_model_name": "ProgressStyleModel",
      "_view_count": null,
      "_view_module": "@jupyter-widgets/base",
      "_view_module_version": "1.2.0",
      "_view_name": "StyleView",
      "bar_color": null,
      "description_width": "initial"
     }
    },
    "7c6bab2c03ec4eb2bcb2904b4362172f": {
     "model_module": "@jupyter-widgets/controls",
     "model_name": "IntProgressModel",
     "state": {
      "_dom_classes": [],
      "_model_module": "@jupyter-widgets/controls",
      "_model_module_version": "1.5.0",
      "_model_name": "IntProgressModel",
      "_view_count": null,
      "_view_module": "@jupyter-widgets/controls",
      "_view_module_version": "1.5.0",
      "_view_name": "ProgressView",
      "bar_style": "success",
      "description": "Downloading: 100%",
      "description_tooltip": null,
      "layout": "IPY_MODEL_cdce3a8d59834cd489a3421c01123970",
      "max": 178812144,
      "min": 0,
      "orientation": "horizontal",
      "style": "IPY_MODEL_06e75412903948d9aa3d40d21f88fa3c",
      "value": 178812144
     }
    },
    "7ca3b83ffa9541d9a1ce2eda8be4a3b1": {
     "model_module": "@jupyter-widgets/controls",
     "model_name": "IntProgressModel",
     "state": {
      "_dom_classes": [],
      "_model_module": "@jupyter-widgets/controls",
      "_model_module_version": "1.5.0",
      "_model_name": "IntProgressModel",
      "_view_count": null,
      "_view_module": "@jupyter-widgets/controls",
      "_view_module_version": "1.5.0",
      "_view_name": "ProgressView",
      "bar_style": "success",
      "description": "100%",
      "description_tooltip": null,
      "layout": "IPY_MODEL_c7b5e065c3de448794ba7e06cfda105d",
      "max": 54,
      "min": 0,
      "orientation": "horizontal",
      "style": "IPY_MODEL_c39d98c0a53f4941be15f421e46cee73",
      "value": 54
     }
    },
    "7edd2a586e2a45e09a3472c476aec122": {
     "model_module": "@jupyter-widgets/base",
     "model_name": "LayoutModel",
     "state": {
      "_model_module": "@jupyter-widgets/base",
      "_model_module_version": "1.2.0",
      "_model_name": "LayoutModel",
      "_view_count": null,
      "_view_module": "@jupyter-widgets/base",
      "_view_module_version": "1.2.0",
      "_view_name": "LayoutView",
      "align_content": null,
      "align_items": null,
      "align_self": null,
      "border": null,
      "bottom": null,
      "display": null,
      "flex": null,
      "flex_flow": null,
      "grid_area": null,
      "grid_auto_columns": null,
      "grid_auto_flow": null,
      "grid_auto_rows": null,
      "grid_column": null,
      "grid_gap": null,
      "grid_row": null,
      "grid_template_areas": null,
      "grid_template_columns": null,
      "grid_template_rows": null,
      "height": null,
      "justify_content": null,
      "justify_items": null,
      "left": null,
      "margin": null,
      "max_height": null,
      "max_width": null,
      "min_height": null,
      "min_width": null,
      "object_fit": null,
      "object_position": null,
      "order": null,
      "overflow": null,
      "overflow_x": null,
      "overflow_y": null,
      "padding": null,
      "right": null,
      "top": null,
      "visibility": null,
      "width": null
     }
    },
    "80838c314d35495fae4648cf1099cde1": {
     "model_module": "@jupyter-widgets/controls",
     "model_name": "DescriptionStyleModel",
     "state": {
      "_model_module": "@jupyter-widgets/controls",
      "_model_module_version": "1.5.0",
      "_model_name": "DescriptionStyleModel",
      "_view_count": null,
      "_view_module": "@jupyter-widgets/base",
      "_view_module_version": "1.2.0",
      "_view_name": "StyleView",
      "description_width": ""
     }
    },
    "80a88551a0fc413e90ccce4ec92818d5": {
     "model_module": "@jupyter-widgets/base",
     "model_name": "LayoutModel",
     "state": {
      "_model_module": "@jupyter-widgets/base",
      "_model_module_version": "1.2.0",
      "_model_name": "LayoutModel",
      "_view_count": null,
      "_view_module": "@jupyter-widgets/base",
      "_view_module_version": "1.2.0",
      "_view_name": "LayoutView",
      "align_content": null,
      "align_items": null,
      "align_self": null,
      "border": null,
      "bottom": null,
      "display": null,
      "flex": null,
      "flex_flow": null,
      "grid_area": null,
      "grid_auto_columns": null,
      "grid_auto_flow": null,
      "grid_auto_rows": null,
      "grid_column": null,
      "grid_gap": null,
      "grid_row": null,
      "grid_template_areas": null,
      "grid_template_columns": null,
      "grid_template_rows": null,
      "height": null,
      "justify_content": null,
      "justify_items": null,
      "left": null,
      "margin": null,
      "max_height": null,
      "max_width": null,
      "min_height": null,
      "min_width": null,
      "object_fit": null,
      "object_position": null,
      "order": null,
      "overflow": null,
      "overflow_x": null,
      "overflow_y": null,
      "padding": null,
      "right": null,
      "top": null,
      "visibility": null,
      "width": null
     }
    },
    "866e1aac1c1f444cbec347e120e37743": {
     "model_module": "@jupyter-widgets/controls",
     "model_name": "ProgressStyleModel",
     "state": {
      "_model_module": "@jupyter-widgets/controls",
      "_model_module_version": "1.5.0",
      "_model_name": "ProgressStyleModel",
      "_view_count": null,
      "_view_module": "@jupyter-widgets/base",
      "_view_module_version": "1.2.0",
      "_view_name": "StyleView",
      "bar_color": null,
      "description_width": "initial"
     }
    },
    "872404db6deb4cb49f9f3f0efdec942c": {
     "model_module": "@jupyter-widgets/controls",
     "model_name": "DescriptionStyleModel",
     "state": {
      "_model_module": "@jupyter-widgets/controls",
      "_model_module_version": "1.5.0",
      "_model_name": "DescriptionStyleModel",
      "_view_count": null,
      "_view_module": "@jupyter-widgets/base",
      "_view_module_version": "1.2.0",
      "_view_name": "StyleView",
      "description_width": ""
     }
    },
    "881d5e82ba5b479f818f0e9e42c963ab": {
     "model_module": "@jupyter-widgets/controls",
     "model_name": "DescriptionStyleModel",
     "state": {
      "_model_module": "@jupyter-widgets/controls",
      "_model_module_version": "1.5.0",
      "_model_name": "DescriptionStyleModel",
      "_view_count": null,
      "_view_module": "@jupyter-widgets/base",
      "_view_module_version": "1.2.0",
      "_view_name": "StyleView",
      "description_width": ""
     }
    },
    "887089e1b5394e639858cfce294a8ffe": {
     "model_module": "@jupyter-widgets/base",
     "model_name": "LayoutModel",
     "state": {
      "_model_module": "@jupyter-widgets/base",
      "_model_module_version": "1.2.0",
      "_model_name": "LayoutModel",
      "_view_count": null,
      "_view_module": "@jupyter-widgets/base",
      "_view_module_version": "1.2.0",
      "_view_name": "LayoutView",
      "align_content": null,
      "align_items": null,
      "align_self": null,
      "border": null,
      "bottom": null,
      "display": null,
      "flex": null,
      "flex_flow": null,
      "grid_area": null,
      "grid_auto_columns": null,
      "grid_auto_flow": null,
      "grid_auto_rows": null,
      "grid_column": null,
      "grid_gap": null,
      "grid_row": null,
      "grid_template_areas": null,
      "grid_template_columns": null,
      "grid_template_rows": null,
      "height": null,
      "justify_content": null,
      "justify_items": null,
      "left": null,
      "margin": null,
      "max_height": null,
      "max_width": null,
      "min_height": null,
      "min_width": null,
      "object_fit": null,
      "object_position": null,
      "order": null,
      "overflow": null,
      "overflow_x": null,
      "overflow_y": null,
      "padding": null,
      "right": null,
      "top": null,
      "visibility": null,
      "width": null
     }
    },
    "8ad1a3ddb6534b9fae9e7d307b6b8698": {
     "model_module": "@jupyter-widgets/controls",
     "model_name": "HBoxModel",
     "state": {
      "_dom_classes": [],
      "_model_module": "@jupyter-widgets/controls",
      "_model_module_version": "1.5.0",
      "_model_name": "HBoxModel",
      "_view_count": null,
      "_view_module": "@jupyter-widgets/controls",
      "_view_module_version": "1.5.0",
      "_view_name": "HBoxView",
      "box_style": "",
      "children": [
       "IPY_MODEL_a35b7c1e89d94886adce494cbeca3745",
       "IPY_MODEL_a9e9fa5ee91a42c0a78e1ce1d2f5d384"
      ],
      "layout": "IPY_MODEL_58907d6c086647db93cf33ee4ca5f56b"
     }
    },
    "938c96fc87004c9baa6316ba895888e4": {
     "model_module": "@jupyter-widgets/controls",
     "model_name": "HBoxModel",
     "state": {
      "_dom_classes": [],
      "_model_module": "@jupyter-widgets/controls",
      "_model_module_version": "1.5.0",
      "_model_name": "HBoxModel",
      "_view_count": null,
      "_view_module": "@jupyter-widgets/controls",
      "_view_module_version": "1.5.0",
      "_view_name": "HBoxView",
      "box_style": "",
      "children": [
       "IPY_MODEL_cd60148550f449159a1aa135c41859bf",
       "IPY_MODEL_340934a9866643af886ffc9712108e2c"
      ],
      "layout": "IPY_MODEL_a9d6dd4ea0ca4eff82aedb8fb4036972"
     }
    },
    "9583cad811c542d4b4671de6aca83f4a": {
     "model_module": "@jupyter-widgets/controls",
     "model_name": "DescriptionStyleModel",
     "state": {
      "_model_module": "@jupyter-widgets/controls",
      "_model_module_version": "1.5.0",
      "_model_name": "DescriptionStyleModel",
      "_view_count": null,
      "_view_module": "@jupyter-widgets/base",
      "_view_module_version": "1.2.0",
      "_view_name": "StyleView",
      "description_width": ""
     }
    },
    "970bf47ae63c49adb7d8258b2ce036f5": {
     "model_module": "@jupyter-widgets/base",
     "model_name": "LayoutModel",
     "state": {
      "_model_module": "@jupyter-widgets/base",
      "_model_module_version": "1.2.0",
      "_model_name": "LayoutModel",
      "_view_count": null,
      "_view_module": "@jupyter-widgets/base",
      "_view_module_version": "1.2.0",
      "_view_name": "LayoutView",
      "align_content": null,
      "align_items": null,
      "align_self": null,
      "border": null,
      "bottom": null,
      "display": null,
      "flex": null,
      "flex_flow": null,
      "grid_area": null,
      "grid_auto_columns": null,
      "grid_auto_flow": null,
      "grid_auto_rows": null,
      "grid_column": null,
      "grid_gap": null,
      "grid_row": null,
      "grid_template_areas": null,
      "grid_template_columns": null,
      "grid_template_rows": null,
      "height": null,
      "justify_content": null,
      "justify_items": null,
      "left": null,
      "margin": null,
      "max_height": null,
      "max_width": null,
      "min_height": null,
      "min_width": null,
      "object_fit": null,
      "object_position": null,
      "order": null,
      "overflow": null,
      "overflow_x": null,
      "overflow_y": null,
      "padding": null,
      "right": null,
      "top": null,
      "visibility": null,
      "width": null
     }
    },
    "9bcb0be6241a49bd82ab0ee98d3d1bf3": {
     "model_module": "@jupyter-widgets/controls",
     "model_name": "ProgressStyleModel",
     "state": {
      "_model_module": "@jupyter-widgets/controls",
      "_model_module_version": "1.5.0",
      "_model_name": "ProgressStyleModel",
      "_view_count": null,
      "_view_module": "@jupyter-widgets/base",
      "_view_module_version": "1.2.0",
      "_view_name": "StyleView",
      "bar_color": null,
      "description_width": "initial"
     }
    },
    "9e1d54fdfa3d4ecbacbdfcd65c1ead23": {
     "model_module": "@jupyter-widgets/controls",
     "model_name": "HBoxModel",
     "state": {
      "_dom_classes": [],
      "_model_module": "@jupyter-widgets/controls",
      "_model_module_version": "1.5.0",
      "_model_name": "HBoxModel",
      "_view_count": null,
      "_view_module": "@jupyter-widgets/controls",
      "_view_module_version": "1.5.0",
      "_view_name": "HBoxView",
      "box_style": "",
      "children": [
       "IPY_MODEL_58363b1c3a98473b8fac472578ca1f4a",
       "IPY_MODEL_6e4f712bdc0047d5a16717a28cf4e948"
      ],
      "layout": "IPY_MODEL_a1157dc08e2546a8b6c4f2ce0f4f2517"
     }
    },
    "9fd6f129bb0341ba92ef712c12d9bda6": {
     "model_module": "@jupyter-widgets/base",
     "model_name": "LayoutModel",
     "state": {
      "_model_module": "@jupyter-widgets/base",
      "_model_module_version": "1.2.0",
      "_model_name": "LayoutModel",
      "_view_count": null,
      "_view_module": "@jupyter-widgets/base",
      "_view_module_version": "1.2.0",
      "_view_name": "LayoutView",
      "align_content": null,
      "align_items": null,
      "align_self": null,
      "border": null,
      "bottom": null,
      "display": null,
      "flex": null,
      "flex_flow": null,
      "grid_area": null,
      "grid_auto_columns": null,
      "grid_auto_flow": null,
      "grid_auto_rows": null,
      "grid_column": null,
      "grid_gap": null,
      "grid_row": null,
      "grid_template_areas": null,
      "grid_template_columns": null,
      "grid_template_rows": null,
      "height": null,
      "justify_content": null,
      "justify_items": null,
      "left": null,
      "margin": null,
      "max_height": null,
      "max_width": null,
      "min_height": null,
      "min_width": null,
      "object_fit": null,
      "object_position": null,
      "order": null,
      "overflow": null,
      "overflow_x": null,
      "overflow_y": null,
      "padding": null,
      "right": null,
      "top": null,
      "visibility": null,
      "width": null
     }
    },
    "a0384ea4fe754a11b2aaae01a522633d": {
     "model_module": "@jupyter-widgets/controls",
     "model_name": "DescriptionStyleModel",
     "state": {
      "_model_module": "@jupyter-widgets/controls",
      "_model_module_version": "1.5.0",
      "_model_name": "DescriptionStyleModel",
      "_view_count": null,
      "_view_module": "@jupyter-widgets/base",
      "_view_module_version": "1.2.0",
      "_view_name": "StyleView",
      "description_width": ""
     }
    },
    "a1157dc08e2546a8b6c4f2ce0f4f2517": {
     "model_module": "@jupyter-widgets/base",
     "model_name": "LayoutModel",
     "state": {
      "_model_module": "@jupyter-widgets/base",
      "_model_module_version": "1.2.0",
      "_model_name": "LayoutModel",
      "_view_count": null,
      "_view_module": "@jupyter-widgets/base",
      "_view_module_version": "1.2.0",
      "_view_name": "LayoutView",
      "align_content": null,
      "align_items": null,
      "align_self": null,
      "border": null,
      "bottom": null,
      "display": null,
      "flex": null,
      "flex_flow": null,
      "grid_area": null,
      "grid_auto_columns": null,
      "grid_auto_flow": null,
      "grid_auto_rows": null,
      "grid_column": null,
      "grid_gap": null,
      "grid_row": null,
      "grid_template_areas": null,
      "grid_template_columns": null,
      "grid_template_rows": null,
      "height": null,
      "justify_content": null,
      "justify_items": null,
      "left": null,
      "margin": null,
      "max_height": null,
      "max_width": null,
      "min_height": null,
      "min_width": null,
      "object_fit": null,
      "object_position": null,
      "order": null,
      "overflow": null,
      "overflow_x": null,
      "overflow_y": null,
      "padding": null,
      "right": null,
      "top": null,
      "visibility": null,
      "width": null
     }
    },
    "a132528862294797816f2d58924a2dc6": {
     "model_module": "@jupyter-widgets/controls",
     "model_name": "HTMLModel",
     "state": {
      "_dom_classes": [],
      "_model_module": "@jupyter-widgets/controls",
      "_model_module_version": "1.5.0",
      "_model_name": "HTMLModel",
      "_view_count": null,
      "_view_module": "@jupyter-widgets/controls",
      "_view_module_version": "1.5.0",
      "_view_name": "HTMLView",
      "description": "",
      "description_tooltip": null,
      "layout": "IPY_MODEL_0464476154fe4664b0c603f6762863e8",
      "placeholder": "​",
      "style": "IPY_MODEL_872404db6deb4cb49f9f3f0efdec942c",
      "value": " 9.43k/9.43k [00:06&lt;00:00, 1.44kB/s]"
     }
    },
    "a35b7c1e89d94886adce494cbeca3745": {
     "model_module": "@jupyter-widgets/controls",
     "model_name": "IntProgressModel",
     "state": {
      "_dom_classes": [],
      "_model_module": "@jupyter-widgets/controls",
      "_model_module_version": "1.5.0",
      "_model_name": "IntProgressModel",
      "_view_count": null,
      "_view_module": "@jupyter-widgets/controls",
      "_view_module_version": "1.5.0",
      "_view_name": "ProgressView",
      "bar_style": "success",
      "description": "Downloading: 100%",
      "description_tooltip": null,
      "layout": "IPY_MODEL_e500df6123ed45b1b42ae669c01f73b9",
      "max": 150,
      "min": 0,
      "orientation": "horizontal",
      "style": "IPY_MODEL_052ba10f4baa41d59795b3320c232bf2",
      "value": 150
     }
    },
    "a50874c4e573457ba56d73f1539db9ee": {
     "model_module": "@jupyter-widgets/base",
     "model_name": "LayoutModel",
     "state": {
      "_model_module": "@jupyter-widgets/base",
      "_model_module_version": "1.2.0",
      "_model_name": "LayoutModel",
      "_view_count": null,
      "_view_module": "@jupyter-widgets/base",
      "_view_module_version": "1.2.0",
      "_view_name": "LayoutView",
      "align_content": null,
      "align_items": null,
      "align_self": null,
      "border": null,
      "bottom": null,
      "display": null,
      "flex": null,
      "flex_flow": null,
      "grid_area": null,
      "grid_auto_columns": null,
      "grid_auto_flow": null,
      "grid_auto_rows": null,
      "grid_column": null,
      "grid_gap": null,
      "grid_row": null,
      "grid_template_areas": null,
      "grid_template_columns": null,
      "grid_template_rows": null,
      "height": null,
      "justify_content": null,
      "justify_items": null,
      "left": null,
      "margin": null,
      "max_height": null,
      "max_width": null,
      "min_height": null,
      "min_width": null,
      "object_fit": null,
      "object_position": null,
      "order": null,
      "overflow": null,
      "overflow_x": null,
      "overflow_y": null,
      "padding": null,
      "right": null,
      "top": null,
      "visibility": null,
      "width": null
     }
    },
    "a5de760d20d841faabe5a5ce139ab245": {
     "model_module": "@jupyter-widgets/controls",
     "model_name": "HBoxModel",
     "state": {
      "_dom_classes": [],
      "_model_module": "@jupyter-widgets/controls",
      "_model_module_version": "1.5.0",
      "_model_name": "HBoxModel",
      "_view_count": null,
      "_view_module": "@jupyter-widgets/controls",
      "_view_module_version": "1.5.0",
      "_view_name": "HBoxView",
      "box_style": "",
      "children": [
       "IPY_MODEL_352ace34d5e04003926f5bf65faec105",
       "IPY_MODEL_6310c8d9d69642c5951f008e8cee0526"
      ],
      "layout": "IPY_MODEL_0f41490c106d42df855c3c83890074c4"
     }
    },
    "a80bd7ec0dc941ec85157e81c79aee6b": {
     "model_module": "@jupyter-widgets/base",
     "model_name": "LayoutModel",
     "state": {
      "_model_module": "@jupyter-widgets/base",
      "_model_module_version": "1.2.0",
      "_model_name": "LayoutModel",
      "_view_count": null,
      "_view_module": "@jupyter-widgets/base",
      "_view_module_version": "1.2.0",
      "_view_name": "LayoutView",
      "align_content": null,
      "align_items": null,
      "align_self": null,
      "border": null,
      "bottom": null,
      "display": null,
      "flex": null,
      "flex_flow": null,
      "grid_area": null,
      "grid_auto_columns": null,
      "grid_auto_flow": null,
      "grid_auto_rows": null,
      "grid_column": null,
      "grid_gap": null,
      "grid_row": null,
      "grid_template_areas": null,
      "grid_template_columns": null,
      "grid_template_rows": null,
      "height": null,
      "justify_content": null,
      "justify_items": null,
      "left": null,
      "margin": null,
      "max_height": null,
      "max_width": null,
      "min_height": null,
      "min_width": null,
      "object_fit": null,
      "object_position": null,
      "order": null,
      "overflow": null,
      "overflow_x": null,
      "overflow_y": null,
      "padding": null,
      "right": null,
      "top": null,
      "visibility": null,
      "width": null
     }
    },
    "a9d6dd4ea0ca4eff82aedb8fb4036972": {
     "model_module": "@jupyter-widgets/base",
     "model_name": "LayoutModel",
     "state": {
      "_model_module": "@jupyter-widgets/base",
      "_model_module_version": "1.2.0",
      "_model_name": "LayoutModel",
      "_view_count": null,
      "_view_module": "@jupyter-widgets/base",
      "_view_module_version": "1.2.0",
      "_view_name": "LayoutView",
      "align_content": null,
      "align_items": null,
      "align_self": null,
      "border": null,
      "bottom": null,
      "display": null,
      "flex": null,
      "flex_flow": null,
      "grid_area": null,
      "grid_auto_columns": null,
      "grid_auto_flow": null,
      "grid_auto_rows": null,
      "grid_column": null,
      "grid_gap": null,
      "grid_row": null,
      "grid_template_areas": null,
      "grid_template_columns": null,
      "grid_template_rows": null,
      "height": null,
      "justify_content": null,
      "justify_items": null,
      "left": null,
      "margin": null,
      "max_height": null,
      "max_width": null,
      "min_height": null,
      "min_width": null,
      "object_fit": null,
      "object_position": null,
      "order": null,
      "overflow": null,
      "overflow_x": null,
      "overflow_y": null,
      "padding": null,
      "right": null,
      "top": null,
      "visibility": null,
      "width": null
     }
    },
    "a9e9fa5ee91a42c0a78e1ce1d2f5d384": {
     "model_module": "@jupyter-widgets/controls",
     "model_name": "HTMLModel",
     "state": {
      "_dom_classes": [],
      "_model_module": "@jupyter-widgets/controls",
      "_model_module_version": "1.5.0",
      "_model_name": "HTMLModel",
      "_view_count": null,
      "_view_module": "@jupyter-widgets/controls",
      "_view_module_version": "1.5.0",
      "_view_name": "HTMLView",
      "description": "",
      "description_tooltip": null,
      "layout": "IPY_MODEL_d84970d131d0443cbc065a768833b128",
      "placeholder": "​",
      "style": "IPY_MODEL_4722ba3dc31640c9b8e71a2ffcef1bd6",
      "value": " 150/150 [00:01&lt;00:00, 79.4B/s]"
     }
    },
    "aa21b67fd2b3421db5029c31af6763b3": {
     "model_module": "@jupyter-widgets/controls",
     "model_name": "IntProgressModel",
     "state": {
      "_dom_classes": [],
      "_model_module": "@jupyter-widgets/controls",
      "_model_module_version": "1.5.0",
      "_model_name": "IntProgressModel",
      "_view_count": null,
      "_view_module": "@jupyter-widgets/controls",
      "_view_module_version": "1.5.0",
      "_view_name": "ProgressView",
      "bar_style": "success",
      "description": "Downloading: 100%",
      "description_tooltip": null,
      "layout": "IPY_MODEL_dd7ca0aac59d459b9f5cdfbe947c5380",
      "max": 166,
      "min": 0,
      "orientation": "horizontal",
      "style": "IPY_MODEL_22aada0194f54dedb05e999d1289055d",
      "value": 166
     }
    },
    "aade390d43f34121b015c852bf1d3201": {
     "model_module": "@jupyter-widgets/base",
     "model_name": "LayoutModel",
     "state": {
      "_model_module": "@jupyter-widgets/base",
      "_model_module_version": "1.2.0",
      "_model_name": "LayoutModel",
      "_view_count": null,
      "_view_module": "@jupyter-widgets/base",
      "_view_module_version": "1.2.0",
      "_view_name": "LayoutView",
      "align_content": null,
      "align_items": null,
      "align_self": null,
      "border": null,
      "bottom": null,
      "display": null,
      "flex": null,
      "flex_flow": null,
      "grid_area": null,
      "grid_auto_columns": null,
      "grid_auto_flow": null,
      "grid_auto_rows": null,
      "grid_column": null,
      "grid_gap": null,
      "grid_row": null,
      "grid_template_areas": null,
      "grid_template_columns": null,
      "grid_template_rows": null,
      "height": null,
      "justify_content": null,
      "justify_items": null,
      "left": null,
      "margin": null,
      "max_height": null,
      "max_width": null,
      "min_height": null,
      "min_width": null,
      "object_fit": null,
      "object_position": null,
      "order": null,
      "overflow": null,
      "overflow_x": null,
      "overflow_y": null,
      "padding": null,
      "right": null,
      "top": null,
      "visibility": null,
      "width": null
     }
    },
    "ab3fe762e85e4a0fa575d7b68a6e95cc": {
     "model_module": "@jupyter-widgets/controls",
     "model_name": "IntProgressModel",
     "state": {
      "_dom_classes": [],
      "_model_module": "@jupyter-widgets/controls",
      "_model_module_version": "1.5.0",
      "_model_name": "IntProgressModel",
      "_view_count": null,
      "_view_module": "@jupyter-widgets/controls",
      "_view_module_version": "1.5.0",
      "_view_name": "ProgressView",
      "bar_style": "success",
      "description": "100%",
      "description_tooltip": null,
      "layout": "IPY_MODEL_6545614a43044574bda1e94ad18beea1",
      "max": 1,
      "min": 0,
      "orientation": "horizontal",
      "style": "IPY_MODEL_76cf9b5ac9ec422fab6ac2fd83d119b3",
      "value": 1
     }
    },
    "ac4760e32962445290510d9966147cbe": {
     "model_module": "@jupyter-widgets/base",
     "model_name": "LayoutModel",
     "state": {
      "_model_module": "@jupyter-widgets/base",
      "_model_module_version": "1.2.0",
      "_model_name": "LayoutModel",
      "_view_count": null,
      "_view_module": "@jupyter-widgets/base",
      "_view_module_version": "1.2.0",
      "_view_name": "LayoutView",
      "align_content": null,
      "align_items": null,
      "align_self": null,
      "border": null,
      "bottom": null,
      "display": null,
      "flex": null,
      "flex_flow": null,
      "grid_area": null,
      "grid_auto_columns": null,
      "grid_auto_flow": null,
      "grid_auto_rows": null,
      "grid_column": null,
      "grid_gap": null,
      "grid_row": null,
      "grid_template_areas": null,
      "grid_template_columns": null,
      "grid_template_rows": null,
      "height": null,
      "justify_content": null,
      "justify_items": null,
      "left": null,
      "margin": null,
      "max_height": null,
      "max_width": null,
      "min_height": null,
      "min_width": null,
      "object_fit": null,
      "object_position": null,
      "order": null,
      "overflow": null,
      "overflow_x": null,
      "overflow_y": null,
      "padding": null,
      "right": null,
      "top": null,
      "visibility": null,
      "width": null
     }
    },
    "b1eaf2eee8ed4180bf0693fffafefce8": {
     "model_module": "@jupyter-widgets/base",
     "model_name": "LayoutModel",
     "state": {
      "_model_module": "@jupyter-widgets/base",
      "_model_module_version": "1.2.0",
      "_model_name": "LayoutModel",
      "_view_count": null,
      "_view_module": "@jupyter-widgets/base",
      "_view_module_version": "1.2.0",
      "_view_name": "LayoutView",
      "align_content": null,
      "align_items": null,
      "align_self": null,
      "border": null,
      "bottom": null,
      "display": null,
      "flex": null,
      "flex_flow": null,
      "grid_area": null,
      "grid_auto_columns": null,
      "grid_auto_flow": null,
      "grid_auto_rows": null,
      "grid_column": null,
      "grid_gap": null,
      "grid_row": null,
      "grid_template_areas": null,
      "grid_template_columns": null,
      "grid_template_rows": null,
      "height": null,
      "justify_content": null,
      "justify_items": null,
      "left": null,
      "margin": null,
      "max_height": null,
      "max_width": null,
      "min_height": null,
      "min_width": null,
      "object_fit": null,
      "object_position": null,
      "order": null,
      "overflow": null,
      "overflow_x": null,
      "overflow_y": null,
      "padding": null,
      "right": null,
      "top": null,
      "visibility": null,
      "width": null
     }
    },
    "b42e406f16434eed877c52db2574ff96": {
     "model_module": "@jupyter-widgets/controls",
     "model_name": "IntProgressModel",
     "state": {
      "_dom_classes": [],
      "_model_module": "@jupyter-widgets/controls",
      "_model_module_version": "1.5.0",
      "_model_name": "IntProgressModel",
      "_view_count": null,
      "_view_module": "@jupyter-widgets/controls",
      "_view_module_version": "1.5.0",
      "_view_name": "ProgressView",
      "bar_style": "success",
      "description": "100%",
      "description_tooltip": null,
      "layout": "IPY_MODEL_7edd2a586e2a45e09a3472c476aec122",
      "max": 428,
      "min": 0,
      "orientation": "horizontal",
      "style": "IPY_MODEL_40820eeda1ea435a9460170c519e6197",
      "value": 428
     }
    },
    "b672cca785da496186457a3efa063c2a": {
     "model_module": "@jupyter-widgets/controls",
     "model_name": "HBoxModel",
     "state": {
      "_dom_classes": [],
      "_model_module": "@jupyter-widgets/controls",
      "_model_module_version": "1.5.0",
      "_model_name": "HBoxModel",
      "_view_count": null,
      "_view_module": "@jupyter-widgets/controls",
      "_view_module_version": "1.5.0",
      "_view_name": "HBoxView",
      "box_style": "",
      "children": [
       "IPY_MODEL_7ca3b83ffa9541d9a1ce2eda8be4a3b1",
       "IPY_MODEL_35127082447849daaa535872f76487be"
      ],
      "layout": "IPY_MODEL_e17d1828ac33425bacbc76a7ee8147a3"
     }
    },
    "b95c52fd97004e899227ca0af242ac9c": {
     "model_module": "@jupyter-widgets/controls",
     "model_name": "HTMLModel",
     "state": {
      "_dom_classes": [],
      "_model_module": "@jupyter-widgets/controls",
      "_model_module_version": "1.5.0",
      "_model_name": "HTMLModel",
      "_view_count": null,
      "_view_module": "@jupyter-widgets/controls",
      "_view_module_version": "1.5.0",
      "_view_name": "HTMLView",
      "description": "",
      "description_tooltip": null,
      "layout": "IPY_MODEL_5dae7b669e27494c91b96bf11caaab6c",
      "placeholder": "​",
      "style": "IPY_MODEL_10e4dd8d0fc84688be47123615424f61",
      "value": " 215/215 [00:34&lt;00:00,  6.31it/s]"
     }
    },
    "c0592b568a3f467daf42ae3be0e1efec": {
     "model_module": "@jupyter-widgets/base",
     "model_name": "LayoutModel",
     "state": {
      "_model_module": "@jupyter-widgets/base",
      "_model_module_version": "1.2.0",
      "_model_name": "LayoutModel",
      "_view_count": null,
      "_view_module": "@jupyter-widgets/base",
      "_view_module_version": "1.2.0",
      "_view_name": "LayoutView",
      "align_content": null,
      "align_items": null,
      "align_self": null,
      "border": null,
      "bottom": null,
      "display": null,
      "flex": null,
      "flex_flow": null,
      "grid_area": null,
      "grid_auto_columns": null,
      "grid_auto_flow": null,
      "grid_auto_rows": null,
      "grid_column": null,
      "grid_gap": null,
      "grid_row": null,
      "grid_template_areas": null,
      "grid_template_columns": null,
      "grid_template_rows": null,
      "height": null,
      "justify_content": null,
      "justify_items": null,
      "left": null,
      "margin": null,
      "max_height": null,
      "max_width": null,
      "min_height": null,
      "min_width": null,
      "object_fit": null,
      "object_position": null,
      "order": null,
      "overflow": null,
      "overflow_x": null,
      "overflow_y": null,
      "padding": null,
      "right": null,
      "top": null,
      "visibility": null,
      "width": null
     }
    },
    "c39d98c0a53f4941be15f421e46cee73": {
     "model_module": "@jupyter-widgets/controls",
     "model_name": "ProgressStyleModel",
     "state": {
      "_model_module": "@jupyter-widgets/controls",
      "_model_module_version": "1.5.0",
      "_model_name": "ProgressStyleModel",
      "_view_count": null,
      "_view_module": "@jupyter-widgets/base",
      "_view_module_version": "1.2.0",
      "_view_name": "StyleView",
      "bar_color": null,
      "description_width": "initial"
     }
    },
    "c54114211fe3435f9cfe3c9df41274a4": {
     "model_module": "@jupyter-widgets/controls",
     "model_name": "ProgressStyleModel",
     "state": {
      "_model_module": "@jupyter-widgets/controls",
      "_model_module_version": "1.5.0",
      "_model_name": "ProgressStyleModel",
      "_view_count": null,
      "_view_module": "@jupyter-widgets/base",
      "_view_module_version": "1.2.0",
      "_view_name": "StyleView",
      "bar_color": null,
      "description_width": "initial"
     }
    },
    "c744128586294877a28b5bf13e8e8b83": {
     "model_module": "@jupyter-widgets/base",
     "model_name": "LayoutModel",
     "state": {
      "_model_module": "@jupyter-widgets/base",
      "_model_module_version": "1.2.0",
      "_model_name": "LayoutModel",
      "_view_count": null,
      "_view_module": "@jupyter-widgets/base",
      "_view_module_version": "1.2.0",
      "_view_name": "LayoutView",
      "align_content": null,
      "align_items": null,
      "align_self": null,
      "border": null,
      "bottom": null,
      "display": null,
      "flex": null,
      "flex_flow": null,
      "grid_area": null,
      "grid_auto_columns": null,
      "grid_auto_flow": null,
      "grid_auto_rows": null,
      "grid_column": null,
      "grid_gap": null,
      "grid_row": null,
      "grid_template_areas": null,
      "grid_template_columns": null,
      "grid_template_rows": null,
      "height": null,
      "justify_content": null,
      "justify_items": null,
      "left": null,
      "margin": null,
      "max_height": null,
      "max_width": null,
      "min_height": null,
      "min_width": null,
      "object_fit": null,
      "object_position": null,
      "order": null,
      "overflow": null,
      "overflow_x": null,
      "overflow_y": null,
      "padding": null,
      "right": null,
      "top": null,
      "visibility": null,
      "width": null
     }
    },
    "c7b5e065c3de448794ba7e06cfda105d": {
     "model_module": "@jupyter-widgets/base",
     "model_name": "LayoutModel",
     "state": {
      "_model_module": "@jupyter-widgets/base",
      "_model_module_version": "1.2.0",
      "_model_name": "LayoutModel",
      "_view_count": null,
      "_view_module": "@jupyter-widgets/base",
      "_view_module_version": "1.2.0",
      "_view_name": "LayoutView",
      "align_content": null,
      "align_items": null,
      "align_self": null,
      "border": null,
      "bottom": null,
      "display": null,
      "flex": null,
      "flex_flow": null,
      "grid_area": null,
      "grid_auto_columns": null,
      "grid_auto_flow": null,
      "grid_auto_rows": null,
      "grid_column": null,
      "grid_gap": null,
      "grid_row": null,
      "grid_template_areas": null,
      "grid_template_columns": null,
      "grid_template_rows": null,
      "height": null,
      "justify_content": null,
      "justify_items": null,
      "left": null,
      "margin": null,
      "max_height": null,
      "max_width": null,
      "min_height": null,
      "min_width": null,
      "object_fit": null,
      "object_position": null,
      "order": null,
      "overflow": null,
      "overflow_x": null,
      "overflow_y": null,
      "padding": null,
      "right": null,
      "top": null,
      "visibility": null,
      "width": null
     }
    },
    "c925cc89102f47c8bb74cec88e8d41fc": {
     "model_module": "@jupyter-widgets/controls",
     "model_name": "HBoxModel",
     "state": {
      "_dom_classes": [],
      "_model_module": "@jupyter-widgets/controls",
      "_model_module_version": "1.5.0",
      "_model_name": "HBoxModel",
      "_view_count": null,
      "_view_module": "@jupyter-widgets/controls",
      "_view_module_version": "1.5.0",
      "_view_name": "HBoxView",
      "box_style": "",
      "children": [
       "IPY_MODEL_7c6bab2c03ec4eb2bcb2904b4362172f",
       "IPY_MODEL_709a42efdcad44f5afaeac50dcf91179"
      ],
      "layout": "IPY_MODEL_077e9a0ecc9c446f82daac132416837c"
     }
    },
    "cd60148550f449159a1aa135c41859bf": {
     "model_module": "@jupyter-widgets/controls",
     "model_name": "IntProgressModel",
     "state": {
      "_dom_classes": [],
      "_model_module": "@jupyter-widgets/controls",
      "_model_module_version": "1.5.0",
      "_model_name": "IntProgressModel",
      "_view_count": null,
      "_view_module": "@jupyter-widgets/controls",
      "_view_module_version": "1.5.0",
      "_view_name": "ProgressView",
      "bar_style": "success",
      "description": "Downloading: 100%",
      "description_tooltip": null,
      "layout": "IPY_MODEL_b1eaf2eee8ed4180bf0693fffafefce8",
      "max": 1232,
      "min": 0,
      "orientation": "horizontal",
      "style": "IPY_MODEL_866e1aac1c1f444cbec347e120e37743",
      "value": 1232
     }
    },
    "cdce3a8d59834cd489a3421c01123970": {
     "model_module": "@jupyter-widgets/base",
     "model_name": "LayoutModel",
     "state": {
      "_model_module": "@jupyter-widgets/base",
      "_model_module_version": "1.2.0",
      "_model_name": "LayoutModel",
      "_view_count": null,
      "_view_module": "@jupyter-widgets/base",
      "_view_module_version": "1.2.0",
      "_view_name": "LayoutView",
      "align_content": null,
      "align_items": null,
      "align_self": null,
      "border": null,
      "bottom": null,
      "display": null,
      "flex": null,
      "flex_flow": null,
      "grid_area": null,
      "grid_auto_columns": null,
      "grid_auto_flow": null,
      "grid_auto_rows": null,
      "grid_column": null,
      "grid_gap": null,
      "grid_row": null,
      "grid_template_areas": null,
      "grid_template_columns": null,
      "grid_template_rows": null,
      "height": null,
      "justify_content": null,
      "justify_items": null,
      "left": null,
      "margin": null,
      "max_height": null,
      "max_width": null,
      "min_height": null,
      "min_width": null,
      "object_fit": null,
      "object_position": null,
      "order": null,
      "overflow": null,
      "overflow_x": null,
      "overflow_y": null,
      "padding": null,
      "right": null,
      "top": null,
      "visibility": null,
      "width": null
     }
    },
    "d223ec69edc64760af52db34a688591d": {
     "model_module": "@jupyter-widgets/controls",
     "model_name": "HTMLModel",
     "state": {
      "_dom_classes": [],
      "_model_module": "@jupyter-widgets/controls",
      "_model_module_version": "1.5.0",
      "_model_name": "HTMLModel",
      "_view_count": null,
      "_view_module": "@jupyter-widgets/controls",
      "_view_module_version": "1.5.0",
      "_view_name": "HTMLView",
      "description": "",
      "description_tooltip": null,
      "layout": "IPY_MODEL_ac4760e32962445290510d9966147cbe",
      "placeholder": "​",
      "style": "IPY_MODEL_528f0f4c41dd412f8fd8a4049f53cb8e",
      "value": " 1/1 [00:00&lt;00:00,  5.45it/s]"
     }
    },
    "d381731faace46a0872320c2e2c17740": {
     "model_module": "@jupyter-widgets/controls",
     "model_name": "HTMLModel",
     "state": {
      "_dom_classes": [],
      "_model_module": "@jupyter-widgets/controls",
      "_model_module_version": "1.5.0",
      "_model_name": "HTMLModel",
      "_view_count": null,
      "_view_module": "@jupyter-widgets/controls",
      "_view_module_version": "1.5.0",
      "_view_name": "HTMLView",
      "description": "",
      "description_tooltip": null,
      "layout": "IPY_MODEL_04ee5e22b8034bc5af7754b04b91f867",
      "placeholder": "​",
      "style": "IPY_MODEL_ef8cd37770c24f8887c1662be5d4ee49",
      "value": " 3/3 [02:05&lt;00:00, 41.74s/it]"
     }
    },
    "d5a023480b78431a9e5b4e52021fe8d3": {
     "model_module": "@jupyter-widgets/base",
     "model_name": "LayoutModel",
     "state": {
      "_model_module": "@jupyter-widgets/base",
      "_model_module_version": "1.2.0",
      "_model_name": "LayoutModel",
      "_view_count": null,
      "_view_module": "@jupyter-widgets/base",
      "_view_module_version": "1.2.0",
      "_view_name": "LayoutView",
      "align_content": null,
      "align_items": null,
      "align_self": null,
      "border": null,
      "bottom": null,
      "display": null,
      "flex": null,
      "flex_flow": null,
      "grid_area": null,
      "grid_auto_columns": null,
      "grid_auto_flow": null,
      "grid_auto_rows": null,
      "grid_column": null,
      "grid_gap": null,
      "grid_row": null,
      "grid_template_areas": null,
      "grid_template_columns": null,
      "grid_template_rows": null,
      "height": null,
      "justify_content": null,
      "justify_items": null,
      "left": null,
      "margin": null,
      "max_height": null,
      "max_width": null,
      "min_height": null,
      "min_width": null,
      "object_fit": null,
      "object_position": null,
      "order": null,
      "overflow": null,
      "overflow_x": null,
      "overflow_y": null,
      "padding": null,
      "right": null,
      "top": null,
      "visibility": null,
      "width": null
     }
    },
    "d63a780d09474c328f2722142ec85d3e": {
     "model_module": "@jupyter-widgets/controls",
     "model_name": "DescriptionStyleModel",
     "state": {
      "_model_module": "@jupyter-widgets/controls",
      "_model_module_version": "1.5.0",
      "_model_name": "DescriptionStyleModel",
      "_view_count": null,
      "_view_module": "@jupyter-widgets/base",
      "_view_module_version": "1.2.0",
      "_view_name": "StyleView",
      "description_width": ""
     }
    },
    "d6ec2f9dfe7043468993e4b94dfe9973": {
     "model_module": "@jupyter-widgets/base",
     "model_name": "LayoutModel",
     "state": {
      "_model_module": "@jupyter-widgets/base",
      "_model_module_version": "1.2.0",
      "_model_name": "LayoutModel",
      "_view_count": null,
      "_view_module": "@jupyter-widgets/base",
      "_view_module_version": "1.2.0",
      "_view_name": "LayoutView",
      "align_content": null,
      "align_items": null,
      "align_self": null,
      "border": null,
      "bottom": null,
      "display": null,
      "flex": null,
      "flex_flow": null,
      "grid_area": null,
      "grid_auto_columns": null,
      "grid_auto_flow": null,
      "grid_auto_rows": null,
      "grid_column": null,
      "grid_gap": null,
      "grid_row": null,
      "grid_template_areas": null,
      "grid_template_columns": null,
      "grid_template_rows": null,
      "height": null,
      "justify_content": null,
      "justify_items": null,
      "left": null,
      "margin": null,
      "max_height": null,
      "max_width": null,
      "min_height": null,
      "min_width": null,
      "object_fit": null,
      "object_position": null,
      "order": null,
      "overflow": null,
      "overflow_x": null,
      "overflow_y": null,
      "padding": null,
      "right": null,
      "top": null,
      "visibility": null,
      "width": null
     }
    },
    "d84970d131d0443cbc065a768833b128": {
     "model_module": "@jupyter-widgets/base",
     "model_name": "LayoutModel",
     "state": {
      "_model_module": "@jupyter-widgets/base",
      "_model_module_version": "1.2.0",
      "_model_name": "LayoutModel",
      "_view_count": null,
      "_view_module": "@jupyter-widgets/base",
      "_view_module_version": "1.2.0",
      "_view_name": "LayoutView",
      "align_content": null,
      "align_items": null,
      "align_self": null,
      "border": null,
      "bottom": null,
      "display": null,
      "flex": null,
      "flex_flow": null,
      "grid_area": null,
      "grid_auto_columns": null,
      "grid_auto_flow": null,
      "grid_auto_rows": null,
      "grid_column": null,
      "grid_gap": null,
      "grid_row": null,
      "grid_template_areas": null,
      "grid_template_columns": null,
      "grid_template_rows": null,
      "height": null,
      "justify_content": null,
      "justify_items": null,
      "left": null,
      "margin": null,
      "max_height": null,
      "max_width": null,
      "min_height": null,
      "min_width": null,
      "object_fit": null,
      "object_position": null,
      "order": null,
      "overflow": null,
      "overflow_x": null,
      "overflow_y": null,
      "padding": null,
      "right": null,
      "top": null,
      "visibility": null,
      "width": null
     }
    },
    "db6ad1a5a199476e93952b57f4d0b2da": {
     "model_module": "@jupyter-widgets/controls",
     "model_name": "ProgressStyleModel",
     "state": {
      "_model_module": "@jupyter-widgets/controls",
      "_model_module_version": "1.5.0",
      "_model_name": "ProgressStyleModel",
      "_view_count": null,
      "_view_module": "@jupyter-widgets/base",
      "_view_module_version": "1.2.0",
      "_view_name": "StyleView",
      "bar_color": null,
      "description_width": "initial"
     }
    },
    "dcf70ee5c80b409088a3d54bb9e4be7e": {
     "model_module": "@jupyter-widgets/base",
     "model_name": "LayoutModel",
     "state": {
      "_model_module": "@jupyter-widgets/base",
      "_model_module_version": "1.2.0",
      "_model_name": "LayoutModel",
      "_view_count": null,
      "_view_module": "@jupyter-widgets/base",
      "_view_module_version": "1.2.0",
      "_view_name": "LayoutView",
      "align_content": null,
      "align_items": null,
      "align_self": null,
      "border": null,
      "bottom": null,
      "display": null,
      "flex": null,
      "flex_flow": null,
      "grid_area": null,
      "grid_auto_columns": null,
      "grid_auto_flow": null,
      "grid_auto_rows": null,
      "grid_column": null,
      "grid_gap": null,
      "grid_row": null,
      "grid_template_areas": null,
      "grid_template_columns": null,
      "grid_template_rows": null,
      "height": null,
      "justify_content": null,
      "justify_items": null,
      "left": null,
      "margin": null,
      "max_height": null,
      "max_width": null,
      "min_height": null,
      "min_width": null,
      "object_fit": null,
      "object_position": null,
      "order": null,
      "overflow": null,
      "overflow_x": null,
      "overflow_y": null,
      "padding": null,
      "right": null,
      "top": null,
      "visibility": null,
      "width": null
     }
    },
    "dd7ca0aac59d459b9f5cdfbe947c5380": {
     "model_module": "@jupyter-widgets/base",
     "model_name": "LayoutModel",
     "state": {
      "_model_module": "@jupyter-widgets/base",
      "_model_module_version": "1.2.0",
      "_model_name": "LayoutModel",
      "_view_count": null,
      "_view_module": "@jupyter-widgets/base",
      "_view_module_version": "1.2.0",
      "_view_name": "LayoutView",
      "align_content": null,
      "align_items": null,
      "align_self": null,
      "border": null,
      "bottom": null,
      "display": null,
      "flex": null,
      "flex_flow": null,
      "grid_area": null,
      "grid_auto_columns": null,
      "grid_auto_flow": null,
      "grid_auto_rows": null,
      "grid_column": null,
      "grid_gap": null,
      "grid_row": null,
      "grid_template_areas": null,
      "grid_template_columns": null,
      "grid_template_rows": null,
      "height": null,
      "justify_content": null,
      "justify_items": null,
      "left": null,
      "margin": null,
      "max_height": null,
      "max_width": null,
      "min_height": null,
      "min_width": null,
      "object_fit": null,
      "object_position": null,
      "order": null,
      "overflow": null,
      "overflow_x": null,
      "overflow_y": null,
      "padding": null,
      "right": null,
      "top": null,
      "visibility": null,
      "width": null
     }
    },
    "e0fd8fb54e1d40b98df91d742f03773f": {
     "model_module": "@jupyter-widgets/controls",
     "model_name": "ProgressStyleModel",
     "state": {
      "_model_module": "@jupyter-widgets/controls",
      "_model_module_version": "1.5.0",
      "_model_name": "ProgressStyleModel",
      "_view_count": null,
      "_view_module": "@jupyter-widgets/base",
      "_view_module_version": "1.2.0",
      "_view_name": "StyleView",
      "bar_color": null,
      "description_width": "initial"
     }
    },
    "e17d1828ac33425bacbc76a7ee8147a3": {
     "model_module": "@jupyter-widgets/base",
     "model_name": "LayoutModel",
     "state": {
      "_model_module": "@jupyter-widgets/base",
      "_model_module_version": "1.2.0",
      "_model_name": "LayoutModel",
      "_view_count": null,
      "_view_module": "@jupyter-widgets/base",
      "_view_module_version": "1.2.0",
      "_view_name": "LayoutView",
      "align_content": null,
      "align_items": null,
      "align_self": null,
      "border": null,
      "bottom": null,
      "display": null,
      "flex": null,
      "flex_flow": null,
      "grid_area": null,
      "grid_auto_columns": null,
      "grid_auto_flow": null,
      "grid_auto_rows": null,
      "grid_column": null,
      "grid_gap": null,
      "grid_row": null,
      "grid_template_areas": null,
      "grid_template_columns": null,
      "grid_template_rows": null,
      "height": null,
      "justify_content": null,
      "justify_items": null,
      "left": null,
      "margin": null,
      "max_height": null,
      "max_width": null,
      "min_height": null,
      "min_width": null,
      "object_fit": null,
      "object_position": null,
      "order": null,
      "overflow": null,
      "overflow_x": null,
      "overflow_y": null,
      "padding": null,
      "right": null,
      "top": null,
      "visibility": null,
      "width": null
     }
    },
    "e1f4815f014c4c25b2b22440786fd00c": {
     "model_module": "@jupyter-widgets/controls",
     "model_name": "DescriptionStyleModel",
     "state": {
      "_model_module": "@jupyter-widgets/controls",
      "_model_module_version": "1.5.0",
      "_model_name": "DescriptionStyleModel",
      "_view_count": null,
      "_view_module": "@jupyter-widgets/base",
      "_view_module_version": "1.2.0",
      "_view_name": "StyleView",
      "description_width": ""
     }
    },
    "e2fcbdbca0ae4c1d90a911fb2133f2d1": {
     "model_module": "@jupyter-widgets/base",
     "model_name": "LayoutModel",
     "state": {
      "_model_module": "@jupyter-widgets/base",
      "_model_module_version": "1.2.0",
      "_model_name": "LayoutModel",
      "_view_count": null,
      "_view_module": "@jupyter-widgets/base",
      "_view_module_version": "1.2.0",
      "_view_name": "LayoutView",
      "align_content": null,
      "align_items": null,
      "align_self": null,
      "border": null,
      "bottom": null,
      "display": null,
      "flex": null,
      "flex_flow": null,
      "grid_area": null,
      "grid_auto_columns": null,
      "grid_auto_flow": null,
      "grid_auto_rows": null,
      "grid_column": null,
      "grid_gap": null,
      "grid_row": null,
      "grid_template_areas": null,
      "grid_template_columns": null,
      "grid_template_rows": null,
      "height": null,
      "justify_content": null,
      "justify_items": null,
      "left": null,
      "margin": null,
      "max_height": null,
      "max_width": null,
      "min_height": null,
      "min_width": null,
      "object_fit": null,
      "object_position": null,
      "order": null,
      "overflow": null,
      "overflow_x": null,
      "overflow_y": null,
      "padding": null,
      "right": null,
      "top": null,
      "visibility": null,
      "width": null
     }
    },
    "e500df6123ed45b1b42ae669c01f73b9": {
     "model_module": "@jupyter-widgets/base",
     "model_name": "LayoutModel",
     "state": {
      "_model_module": "@jupyter-widgets/base",
      "_model_module_version": "1.2.0",
      "_model_name": "LayoutModel",
      "_view_count": null,
      "_view_module": "@jupyter-widgets/base",
      "_view_module_version": "1.2.0",
      "_view_name": "LayoutView",
      "align_content": null,
      "align_items": null,
      "align_self": null,
      "border": null,
      "bottom": null,
      "display": null,
      "flex": null,
      "flex_flow": null,
      "grid_area": null,
      "grid_auto_columns": null,
      "grid_auto_flow": null,
      "grid_auto_rows": null,
      "grid_column": null,
      "grid_gap": null,
      "grid_row": null,
      "grid_template_areas": null,
      "grid_template_columns": null,
      "grid_template_rows": null,
      "height": null,
      "justify_content": null,
      "justify_items": null,
      "left": null,
      "margin": null,
      "max_height": null,
      "max_width": null,
      "min_height": null,
      "min_width": null,
      "object_fit": null,
      "object_position": null,
      "order": null,
      "overflow": null,
      "overflow_x": null,
      "overflow_y": null,
      "padding": null,
      "right": null,
      "top": null,
      "visibility": null,
      "width": null
     }
    },
    "eb5c0b1f61a545509ec94261f5560cc0": {
     "model_module": "@jupyter-widgets/controls",
     "model_name": "HBoxModel",
     "state": {
      "_dom_classes": [],
      "_model_module": "@jupyter-widgets/controls",
      "_model_module_version": "1.5.0",
      "_model_name": "HBoxModel",
      "_view_count": null,
      "_view_module": "@jupyter-widgets/controls",
      "_view_module_version": "1.5.0",
      "_view_name": "HBoxView",
      "box_style": "",
      "children": [
       "IPY_MODEL_ab3fe762e85e4a0fa575d7b68a6e95cc",
       "IPY_MODEL_28db539e56d24873a82c76415fa983c9"
      ],
      "layout": "IPY_MODEL_279175d2411b4b669711b45b213070cf"
     }
    },
    "edc2fc9c86824ee985ad3bad83f0e0fb": {
     "model_module": "@jupyter-widgets/controls",
     "model_name": "ProgressStyleModel",
     "state": {
      "_model_module": "@jupyter-widgets/controls",
      "_model_module_version": "1.5.0",
      "_model_name": "ProgressStyleModel",
      "_view_count": null,
      "_view_module": "@jupyter-widgets/base",
      "_view_module_version": "1.2.0",
      "_view_name": "StyleView",
      "bar_color": null,
      "description_width": "initial"
     }
    },
    "ef8cd37770c24f8887c1662be5d4ee49": {
     "model_module": "@jupyter-widgets/controls",
     "model_name": "DescriptionStyleModel",
     "state": {
      "_model_module": "@jupyter-widgets/controls",
      "_model_module_version": "1.5.0",
      "_model_name": "DescriptionStyleModel",
      "_view_count": null,
      "_view_module": "@jupyter-widgets/base",
      "_view_module_version": "1.2.0",
      "_view_name": "StyleView",
      "description_width": ""
     }
    },
    "f439db62e9ce42b9a7fc4fb7d516dfd4": {
     "model_module": "@jupyter-widgets/controls",
     "model_name": "HTMLModel",
     "state": {
      "_dom_classes": [],
      "_model_module": "@jupyter-widgets/controls",
      "_model_module_version": "1.5.0",
      "_model_name": "HTMLModel",
      "_view_count": null,
      "_view_module": "@jupyter-widgets/controls",
      "_view_module_version": "1.5.0",
      "_view_name": "HTMLView",
      "description": "",
      "description_tooltip": null,
      "layout": "IPY_MODEL_765ca936c2334a6eade269e2eeb1bd80",
      "placeholder": "​",
      "style": "IPY_MODEL_d63a780d09474c328f2722142ec85d3e",
      "value": " 428/428 [00:00&lt;00:00, 457.14it/s]"
     }
    },
    "f532864b1cf14f0fb4c48c683904a1b1": {
     "model_module": "@jupyter-widgets/base",
     "model_name": "LayoutModel",
     "state": {
      "_model_module": "@jupyter-widgets/base",
      "_model_module_version": "1.2.0",
      "_model_name": "LayoutModel",
      "_view_count": null,
      "_view_module": "@jupyter-widgets/base",
      "_view_module_version": "1.2.0",
      "_view_name": "LayoutView",
      "align_content": null,
      "align_items": null,
      "align_self": null,
      "border": null,
      "bottom": null,
      "display": null,
      "flex": null,
      "flex_flow": null,
      "grid_area": null,
      "grid_auto_columns": null,
      "grid_auto_flow": null,
      "grid_auto_rows": null,
      "grid_column": null,
      "grid_gap": null,
      "grid_row": null,
      "grid_template_areas": null,
      "grid_template_columns": null,
      "grid_template_rows": null,
      "height": null,
      "justify_content": null,
      "justify_items": null,
      "left": null,
      "margin": null,
      "max_height": null,
      "max_width": null,
      "min_height": null,
      "min_width": null,
      "object_fit": null,
      "object_position": null,
      "order": null,
      "overflow": null,
      "overflow_x": null,
      "overflow_y": null,
      "padding": null,
      "right": null,
      "top": null,
      "visibility": null,
      "width": null
     }
    },
    "f7304649bd2c4c8f8d71ef2c24df2082": {
     "model_module": "@jupyter-widgets/controls",
     "model_name": "HBoxModel",
     "state": {
      "_dom_classes": [],
      "_model_module": "@jupyter-widgets/controls",
      "_model_module_version": "1.5.0",
      "_model_name": "HBoxModel",
      "_view_count": null,
      "_view_module": "@jupyter-widgets/controls",
      "_view_module_version": "1.5.0",
      "_view_name": "HBoxView",
      "box_style": "",
      "children": [
       "IPY_MODEL_4c3135baeda04d698660bded2eb269bc",
       "IPY_MODEL_d223ec69edc64760af52db34a688591d"
      ],
      "layout": "IPY_MODEL_5506e66b990044038a13dbd8a8677b05"
     }
    },
    "fa5abe0cfb2c41ce852a5649661f0d47": {
     "model_module": "@jupyter-widgets/controls",
     "model_name": "ProgressStyleModel",
     "state": {
      "_model_module": "@jupyter-widgets/controls",
      "_model_module_version": "1.5.0",
      "_model_name": "ProgressStyleModel",
      "_view_count": null,
      "_view_module": "@jupyter-widgets/base",
      "_view_module_version": "1.2.0",
      "_view_name": "StyleView",
      "bar_color": null,
      "description_width": "initial"
     }
    },
    "fc4fd2e29ea04739837cdd4f444a8b12": {
     "model_module": "@jupyter-widgets/base",
     "model_name": "LayoutModel",
     "state": {
      "_model_module": "@jupyter-widgets/base",
      "_model_module_version": "1.2.0",
      "_model_name": "LayoutModel",
      "_view_count": null,
      "_view_module": "@jupyter-widgets/base",
      "_view_module_version": "1.2.0",
      "_view_name": "LayoutView",
      "align_content": null,
      "align_items": null,
      "align_self": null,
      "border": null,
      "bottom": null,
      "display": null,
      "flex": null,
      "flex_flow": null,
      "grid_area": null,
      "grid_auto_columns": null,
      "grid_auto_flow": null,
      "grid_auto_rows": null,
      "grid_column": null,
      "grid_gap": null,
      "grid_row": null,
      "grid_template_areas": null,
      "grid_template_columns": null,
      "grid_template_rows": null,
      "height": null,
      "justify_content": null,
      "justify_items": null,
      "left": null,
      "margin": null,
      "max_height": null,
      "max_width": null,
      "min_height": null,
      "min_width": null,
      "object_fit": null,
      "object_position": null,
      "order": null,
      "overflow": null,
      "overflow_x": null,
      "overflow_y": null,
      "padding": null,
      "right": null,
      "top": null,
      "visibility": null,
      "width": null
     }
    }
   }
  }
 },
 "nbformat": 4,
 "nbformat_minor": 1
}
