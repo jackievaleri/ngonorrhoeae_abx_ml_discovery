{
 "cells": [
  {
   "cell_type": "code",
   "execution_count": 7,
   "id": "3a05f6ab",
   "metadata": {},
   "outputs": [],
   "source": [
    "import glob as glob\n",
    "import pandas as pd\n",
    "import matplotlib.pyplot as plt\n",
    "import numpy as np\n",
    "import subprocess\n",
    "\n",
    "from sklearn.metrics import precision_recall_curve\n",
    "from sklearn.metrics import plot_precision_recall_curve\n",
    "from sklearn.metrics import auc\n",
    "from sklearn.metrics import roc_auc_score\n",
    "from sklearn.metrics import plot_roc_curve\n",
    "from sklearn import metrics"
   ]
  },
  {
   "cell_type": "markdown",
   "id": "cc9d18ef",
   "metadata": {},
   "source": [
    "# -----------------------------------------\n",
    "# Write optimization scripts\n",
    "# -----------------------------------------"
   ]
  },
  {
   "cell_type": "markdown",
   "id": "85d40f0d",
   "metadata": {},
   "source": [
    "### HO script for RFCs on fingerprints"
   ]
  },
  {
   "cell_type": "code",
   "execution_count": 4,
   "id": "b011ebea",
   "metadata": {},
   "outputs": [],
   "source": [
    "data_path = '../ngonorrhoeae_abx_ml_discovery/data/data_prep_for_ml/data_prep_for_ml_pk_37k_screen/'\n",
    "model_path = '../ngonorrhoeae_abx_ml_discovery/models/other_models/rfc_hyperopt_pk_37k/'"
   ]
  },
  {
   "cell_type": "code",
   "execution_count": 3,
   "id": "c7814b6e",
   "metadata": {},
   "outputs": [],
   "source": [
    "bash_dir = '04_hyperopt_pk_screen_11152021.sh'\n",
    "\n",
    "prefix = 'chemprop_train '\n",
    "suffix = ' --data_path ' + data_path + 'TRAIN_11_15_2021.csv --dataset_type classification --features_path ' + data_path + 'TRAIN_11_15_2021.npz --no_features_scaling --num_folds 3 --ensemble_size 1 --split_type scaffold_balanced --split_sizes 0.8 0.1 0.1 --smiles_columns SMILES --target_columns hit --metric prc-auc --extra_metrics auc'\n",
    "\n",
    "initlr = [1e-3, 1e-4]\n",
    "dropout = [0.1, 0.2, 0.3, 0.4]\n",
    "hiddensize = [300,500,700,1000,1200,1500]\n",
    "ffnnumlayers = [1,2,3]\n",
    "depth = [3,4,5]\n",
    "\n",
    "model_dir = 0\n",
    "for l in initlr:\n",
    "    for d in dropout:\n",
    "        for h in hiddensize:\n",
    "            for f in ffnnumlayers:\n",
    "                for de in depth:\n",
    "                    command = 'mkdir ' + model_path + str(model_dir) + '; ' + prefix + '--init_lr ' + str(l) + ' --dropout ' + str(d) + ' --hidden_size ' + str(h) + ' --ffn_num_layers ' + str(f) + ' --depth ' + str(de) + ' --save_dir ' + model_path + str(model_dir) + suffix\n",
    "                    model_dir = model_dir + 1\n",
    "                    file1 = open(bash_dir,\"a\") \n",
    "                    file1.write(command)\n",
    "                    file1.write('\\n')\n",
    "                    file1.close()"
   ]
  },
  {
   "cell_type": "markdown",
   "id": "5a5a3895",
   "metadata": {},
   "source": [
    "### HO script for SVMs on fingerprints"
   ]
  },
  {
   "cell_type": "code",
   "execution_count": 6,
   "id": "e4a4243a",
   "metadata": {},
   "outputs": [],
   "source": [
    "data_path = '../ngonorrhoeae_abx_ml_discovery/data/data_prep_for_ml/data_prep_for_ml_pk_37k_screen/'\n",
    "model_path = '../ngonorrhoeae_abx_ml_discovery/models/other_models/svm_hyperopt_pk_37k/'"
   ]
  },
  {
   "cell_type": "code",
   "execution_count": 7,
   "id": "b3b6f0bd",
   "metadata": {},
   "outputs": [],
   "source": [
    "bash_dir = '04_hyperopt_svm_pk_37k.sh'\n",
    "\n",
    "prefix = 'python sklearn_train.py '\n",
    "suffix = ' --data_path ' + data_path + 'TRAIN_03_19_2022.csv --num_folds 3 --dataset_type classification --features_path ' + data_path + 'TRAIN_03_19_2022.npz  --no_features_scaling --split_type scaffold_balanced --split_sizes 0.8 0.1 0.1 --smiles_columns SMILES --target_columns hit --model_type svm --metric prc-auc --extra_metrics auc'\n",
    "\n",
    "numbits = [512, 1024, 2048, 4096]\n",
    "radius = [2, 3, 4, 5, 6]\n",
    "classweight = ['balanced']\n",
    "\n",
    "file1 = open(bash_dir,\"a\") \n",
    "file1.write('cd ../../chemprop/; mkdir ' + model_path + ' ')\n",
    "file1.write('\\n')\n",
    "file1.close()\n",
    "\n",
    "model_dir = 0\n",
    "for l in numbits:\n",
    "    for d in radius:\n",
    "        for h in classweight:\n",
    "            command = 'mkdir ' + model_path + str(model_dir) + '; ' + prefix + '--num_bits ' + str(l) + ' --radius ' + str(d) + ' --class_weight ' + str(h) + ' --save_dir ' + model_path + str(model_dir) + suffix\n",
    "            model_dir = model_dir + 1\n",
    "            file1 = open(bash_dir,\"a\") \n",
    "            file1.write(command)\n",
    "            file1.write('\\n')\n",
    "            file1.close()"
   ]
  },
  {
   "cell_type": "markdown",
   "id": "944acf12",
   "metadata": {},
   "source": [
    "### HO script for FFNs on fingerprints"
   ]
  },
  {
   "cell_type": "code",
   "execution_count": 10,
   "id": "9ea068cc",
   "metadata": {},
   "outputs": [],
   "source": [
    "data_path = '../ngonorrhoeae_abx_ml_discovery/data/data_prep_for_ml/data_prep_for_ml_pk_37k_screen/'\n",
    "model_path = '../ngonorrhoeae_abx_ml_discovery/models/other_models/ffn_hyperopt_pk_37k/'"
   ]
  },
  {
   "cell_type": "code",
   "execution_count": 11,
   "id": "fd83247b",
   "metadata": {},
   "outputs": [],
   "source": [
    "bash_dir = '04_hyperopt_ffn_pk_37k.sh'\n",
    "\n",
    "prefix = 'python train.py '\n",
    "suffix = ' --data_path ' + data_path + 'TRAIN_03_19_2022.csv --num_folds 3 --dataset_type classification --features_generator morgan --no_features_scaling --split_type scaffold_balanced --split_sizes 0.8 0.1 0.1 --smiles_columns SMILES --target_columns hit --depth 0 --features_only --metric prc-auc --extra_metrics auc'\n",
    "\n",
    "hidden_size = [500, 1000, 1500, 2000, 2500, 3000]\n",
    "ffn_num_layers = [1, 2, 3, 4]\n",
    "dropout = [0.1, 0.15, 0.2, 0.25, 0.3, 0.35, 0.4]\n",
    "\n",
    "file1 = open(bash_dir,\"a\") \n",
    "file1.write('cd ../../chemprop/; mkdir ' + model_path + ' ')\n",
    "file1.write('\\n')\n",
    "file1.close()\n",
    "\n",
    "model_dir = 0\n",
    "for h in hidden_size:\n",
    "    for f in ffn_num_layers:\n",
    "        for dr in dropout:\n",
    "            command = prefix + ' --hidden_size ' + str(h) + ' --ffn_num_layers ' + str(f) + ' --dropout ' + str(dr) + ' --save_dir ' + model_path + str(model_dir) + suffix\n",
    "            model_dir = model_dir + 1\n",
    "            file1 = open(bash_dir,\"a\") \n",
    "            file1.write(command)\n",
    "            file1.write('\\n')\n",
    "            file1.close()"
   ]
  },
  {
   "cell_type": "markdown",
   "id": "9d4f392e",
   "metadata": {},
   "source": [
    "### HO script for PK GNN model alone"
   ]
  },
  {
   "cell_type": "code",
   "execution_count": 2,
   "id": "88957e09",
   "metadata": {},
   "outputs": [],
   "source": [
    "data_path = 'data/data_prep_for_ml/data_prep_for_ml_pk_screen/'\n",
    "model_path = 'models/pk_screen_models_11152021/'"
   ]
  },
  {
   "cell_type": "code",
   "execution_count": 3,
   "id": "997c90b7",
   "metadata": {},
   "outputs": [],
   "source": [
    "bash_dir = '04_hyperopt_pk_screen_11152021.sh'\n",
    "\n",
    "prefix = 'chemprop_train '\n",
    "suffix = ' --data_path ' + data_path + 'TRAIN_11_15_2021.csv --dataset_type classification --features_path ' + data_path + 'TRAIN_11_15_2021.npz --no_features_scaling --num_folds 3 --ensemble_size 1 --split_type scaffold_balanced --split_sizes 0.8 0.1 0.1 --smiles_columns SMILES --target_columns hit --metric prc-auc --extra_metrics auc'\n",
    "\n",
    "initlr = [1e-3, 1e-4]\n",
    "dropout = [0.1, 0.2, 0.3, 0.4]\n",
    "hiddensize = [300,500,700,1000,1200,1500]\n",
    "ffnnumlayers = [1,2,3]\n",
    "depth = [3,4,5]\n",
    "\n",
    "model_dir = 0\n",
    "for l in initlr:\n",
    "    for d in dropout:\n",
    "        for h in hiddensize:\n",
    "            for f in ffnnumlayers:\n",
    "                for de in depth:\n",
    "                    command = 'mkdir ' + model_path + str(model_dir) + '; ' + prefix + '--init_lr ' + str(l) + ' --dropout ' + str(d) + ' --hidden_size ' + str(h) + ' --ffn_num_layers ' + str(f) + ' --depth ' + str(de) + ' --save_dir ' + model_path + str(model_dir) + suffix\n",
    "                    model_dir = model_dir + 1\n",
    "                    file1 = open(bash_dir,\"a\") \n",
    "                    file1.write(command)\n",
    "                    file1.write('\\n')\n",
    "                    file1.close()"
   ]
  },
  {
   "cell_type": "markdown",
   "id": "da5cb37d",
   "metadata": {},
   "source": [
    "### For all other GNNs, use bayesian optimization"
   ]
  },
  {
   "cell_type": "markdown",
   "id": "efb32d0a",
   "metadata": {},
   "source": [
    "# -----------------------------------------\n",
    "# Identify appropriate model parameters\n",
    "# -----------------------------------------"
   ]
  },
  {
   "cell_type": "markdown",
   "id": "b7b4e2b3",
   "metadata": {},
   "source": [
    "### RFCs on fingerprints"
   ]
  },
  {
   "cell_type": "code",
   "execution_count": 2,
   "id": "d693d325",
   "metadata": {},
   "outputs": [
    {
     "data": {
      "text/html": [
       "<div>\n",
       "<style scoped>\n",
       "    .dataframe tbody tr th:only-of-type {\n",
       "        vertical-align: middle;\n",
       "    }\n",
       "\n",
       "    .dataframe tbody tr th {\n",
       "        vertical-align: top;\n",
       "    }\n",
       "\n",
       "    .dataframe thead th {\n",
       "        text-align: right;\n",
       "    }\n",
       "</style>\n",
       "<table border=\"1\" class=\"dataframe\">\n",
       "  <thead>\n",
       "    <tr style=\"text-align: right;\">\n",
       "      <th></th>\n",
       "      <th>number</th>\n",
       "      <th>numbits</th>\n",
       "      <th>radius</th>\n",
       "      <th>classweight</th>\n",
       "      <th>numtrees</th>\n",
       "    </tr>\n",
       "  </thead>\n",
       "  <tbody>\n",
       "    <tr>\n",
       "      <th>0</th>\n",
       "      <td>0</td>\n",
       "      <td>512</td>\n",
       "      <td>2</td>\n",
       "      <td>balanced</td>\n",
       "      <td>50</td>\n",
       "    </tr>\n",
       "    <tr>\n",
       "      <th>1</th>\n",
       "      <td>1</td>\n",
       "      <td>512</td>\n",
       "      <td>2</td>\n",
       "      <td>balanced</td>\n",
       "      <td>100</td>\n",
       "    </tr>\n",
       "    <tr>\n",
       "      <th>2</th>\n",
       "      <td>2</td>\n",
       "      <td>512</td>\n",
       "      <td>2</td>\n",
       "      <td>balanced</td>\n",
       "      <td>250</td>\n",
       "    </tr>\n",
       "    <tr>\n",
       "      <th>3</th>\n",
       "      <td>3</td>\n",
       "      <td>512</td>\n",
       "      <td>2</td>\n",
       "      <td>balanced</td>\n",
       "      <td>500</td>\n",
       "    </tr>\n",
       "    <tr>\n",
       "      <th>4</th>\n",
       "      <td>4</td>\n",
       "      <td>512</td>\n",
       "      <td>2</td>\n",
       "      <td>balanced</td>\n",
       "      <td>750</td>\n",
       "    </tr>\n",
       "    <tr>\n",
       "      <th>...</th>\n",
       "      <td>...</td>\n",
       "      <td>...</td>\n",
       "      <td>...</td>\n",
       "      <td>...</td>\n",
       "      <td>...</td>\n",
       "    </tr>\n",
       "    <tr>\n",
       "      <th>155</th>\n",
       "      <td>155</td>\n",
       "      <td>4096</td>\n",
       "      <td>6</td>\n",
       "      <td>balanced</td>\n",
       "      <td>500</td>\n",
       "    </tr>\n",
       "    <tr>\n",
       "      <th>156</th>\n",
       "      <td>156</td>\n",
       "      <td>4096</td>\n",
       "      <td>6</td>\n",
       "      <td>balanced</td>\n",
       "      <td>750</td>\n",
       "    </tr>\n",
       "    <tr>\n",
       "      <th>157</th>\n",
       "      <td>157</td>\n",
       "      <td>4096</td>\n",
       "      <td>6</td>\n",
       "      <td>balanced</td>\n",
       "      <td>1000</td>\n",
       "    </tr>\n",
       "    <tr>\n",
       "      <th>158</th>\n",
       "      <td>158</td>\n",
       "      <td>4096</td>\n",
       "      <td>6</td>\n",
       "      <td>balanced</td>\n",
       "      <td>2000</td>\n",
       "    </tr>\n",
       "    <tr>\n",
       "      <th>159</th>\n",
       "      <td>159</td>\n",
       "      <td>4096</td>\n",
       "      <td>6</td>\n",
       "      <td>balanced</td>\n",
       "      <td>3000</td>\n",
       "    </tr>\n",
       "  </tbody>\n",
       "</table>\n",
       "<p>160 rows × 5 columns</p>\n",
       "</div>"
      ],
      "text/plain": [
       "    number numbits radius classweight numtrees\n",
       "0        0     512      2    balanced       50\n",
       "1        1     512      2    balanced      100\n",
       "2        2     512      2    balanced      250\n",
       "3        3     512      2    balanced      500\n",
       "4        4     512      2    balanced      750\n",
       "..     ...     ...    ...         ...      ...\n",
       "155    155    4096      6    balanced      500\n",
       "156    156    4096      6    balanced      750\n",
       "157    157    4096      6    balanced     1000\n",
       "158    158    4096      6    balanced     2000\n",
       "159    159    4096      6    balanced     3000\n",
       "\n",
       "[160 rows x 5 columns]"
      ]
     },
     "execution_count": 2,
     "metadata": {},
     "output_type": "execute_result"
    }
   ],
   "source": [
    "model_path = '../models/other_models/rfc_hyperopt_pk_37k/'\n",
    "cols = ['number', 'numbits', 'radius', 'classweight', 'numtrees']\n",
    "df = pd.DataFrame(columns = cols)\n",
    "\n",
    "numbits = [512, 1024, 2048, 4096]\n",
    "radius = [2, 3, 4, 5, 6]\n",
    "classweight = ['balanced']\n",
    "numtrees = [50, 100, 250, 500, 750, 1000, 2000, 3000]\n",
    "\n",
    "# map parameters back to numbers\n",
    "model_dir = 0\n",
    "for l in numbits:\n",
    "    for d in radius:\n",
    "        for h in classweight:\n",
    "            for f in numtrees:\n",
    "                new_row = [model_dir, l, d, h, f]\n",
    "                new = pd.DataFrame(new_row).T\n",
    "                #new = new.transpose()\n",
    "                new.columns = cols\n",
    "                df = pd.concat([df, new], ignore_index = True)   \n",
    "                model_dir = model_dir + 1\n",
    "df"
   ]
  },
  {
   "cell_type": "code",
   "execution_count": 3,
   "id": "2f8a0aa2",
   "metadata": {},
   "outputs": [
    {
     "name": "stdout",
     "output_type": "stream",
     "text": [
      "best auroc\n",
      "0.909986352392086\n",
      "../models/rfc_hyperopt/155/test_scores.csv\n",
      "best aupr\n",
      "0.433078292286762\n",
      "../models/rfc_hyperopt/122/test_scores.csv\n"
     ]
    }
   ],
   "source": [
    "def add_results_to_df(df, model_path):\n",
    "    df['mean auroc'] = [0] * len(df)\n",
    "    df['mean aupr'] = [0] * len(df)\n",
    "\n",
    "    best_yet_auroc = 0\n",
    "    best_yet_auroc_index = ''\n",
    "\n",
    "    best_yet_aupr = 0\n",
    "    best_yet_aupr_index = ''\n",
    "\n",
    "    for name in glob.glob(model_path + '**/test_scores.csv', recursive = True): \n",
    "        try:\n",
    "            clean_num = int(name.split(model_path)[1].split(\"/\")[0])\n",
    "        except Exception as e:\n",
    "            print(e)\n",
    "            print(name)\n",
    "            continue\n",
    "        new = pd.read_csv(name) \n",
    "        mean_auroc = float(list(new['Mean auc'])[0])\n",
    "        mean_aupr = float(list(new['Mean prc-auc'])[0])\n",
    "        df.iloc[clean_num, df.columns.get_loc(\"mean auroc\")] = mean_auroc\n",
    "        df.iloc[clean_num, df.columns.get_loc(\"mean aupr\")] = mean_aupr\n",
    "\n",
    "        if mean_auroc > best_yet_auroc:\n",
    "            best_yet_auroc = mean_auroc\n",
    "            best_yet_auroc_index = name\n",
    "        if mean_aupr > best_yet_aupr:\n",
    "            best_yet_aupr = mean_aupr\n",
    "            best_yet_aupr_index = name\n",
    "\n",
    "    print('best auroc')\n",
    "    print(best_yet_auroc)\n",
    "    print(best_yet_auroc_index)\n",
    "\n",
    "    print('best aupr')\n",
    "    print(best_yet_aupr)\n",
    "    print(best_yet_aupr_index)\n",
    "\n",
    "    return(df)\n",
    "\n",
    "df = add_results_to_df(df, model_path)"
   ]
  },
  {
   "cell_type": "code",
   "execution_count": 4,
   "id": "ab443ad7",
   "metadata": {},
   "outputs": [
    {
     "data": {
      "text/plain": [
       "number              155\n",
       "numbits            4096\n",
       "radius                6\n",
       "classweight    balanced\n",
       "numtrees            500\n",
       "mean auroc     0.909986\n",
       "mean aupr      0.397168\n",
       "Name: 155, dtype: object"
      ]
     },
     "execution_count": 4,
     "metadata": {},
     "output_type": "execute_result"
    }
   ],
   "source": [
    "# print best\n",
    "df.to_csv(model_path + 'rfc_hyperopt_results.csv', index = False)\n",
    "df.iloc[155,:]"
   ]
  },
  {
   "cell_type": "markdown",
   "id": "584884ea",
   "metadata": {},
   "source": [
    "### SVMs on fingerprints"
   ]
  },
  {
   "cell_type": "code",
   "execution_count": 5,
   "id": "08774d5d",
   "metadata": {},
   "outputs": [
    {
     "data": {
      "text/html": [
       "<div>\n",
       "<style scoped>\n",
       "    .dataframe tbody tr th:only-of-type {\n",
       "        vertical-align: middle;\n",
       "    }\n",
       "\n",
       "    .dataframe tbody tr th {\n",
       "        vertical-align: top;\n",
       "    }\n",
       "\n",
       "    .dataframe thead th {\n",
       "        text-align: right;\n",
       "    }\n",
       "</style>\n",
       "<table border=\"1\" class=\"dataframe\">\n",
       "  <thead>\n",
       "    <tr style=\"text-align: right;\">\n",
       "      <th></th>\n",
       "      <th>number</th>\n",
       "      <th>numbits</th>\n",
       "      <th>radius</th>\n",
       "      <th>classweight</th>\n",
       "    </tr>\n",
       "  </thead>\n",
       "  <tbody>\n",
       "    <tr>\n",
       "      <th>0</th>\n",
       "      <td>0</td>\n",
       "      <td>512</td>\n",
       "      <td>2</td>\n",
       "      <td>balanced</td>\n",
       "    </tr>\n",
       "    <tr>\n",
       "      <th>1</th>\n",
       "      <td>1</td>\n",
       "      <td>512</td>\n",
       "      <td>3</td>\n",
       "      <td>balanced</td>\n",
       "    </tr>\n",
       "    <tr>\n",
       "      <th>2</th>\n",
       "      <td>2</td>\n",
       "      <td>512</td>\n",
       "      <td>4</td>\n",
       "      <td>balanced</td>\n",
       "    </tr>\n",
       "    <tr>\n",
       "      <th>3</th>\n",
       "      <td>3</td>\n",
       "      <td>512</td>\n",
       "      <td>5</td>\n",
       "      <td>balanced</td>\n",
       "    </tr>\n",
       "    <tr>\n",
       "      <th>4</th>\n",
       "      <td>4</td>\n",
       "      <td>512</td>\n",
       "      <td>6</td>\n",
       "      <td>balanced</td>\n",
       "    </tr>\n",
       "    <tr>\n",
       "      <th>5</th>\n",
       "      <td>5</td>\n",
       "      <td>1024</td>\n",
       "      <td>2</td>\n",
       "      <td>balanced</td>\n",
       "    </tr>\n",
       "    <tr>\n",
       "      <th>6</th>\n",
       "      <td>6</td>\n",
       "      <td>1024</td>\n",
       "      <td>3</td>\n",
       "      <td>balanced</td>\n",
       "    </tr>\n",
       "    <tr>\n",
       "      <th>7</th>\n",
       "      <td>7</td>\n",
       "      <td>1024</td>\n",
       "      <td>4</td>\n",
       "      <td>balanced</td>\n",
       "    </tr>\n",
       "    <tr>\n",
       "      <th>8</th>\n",
       "      <td>8</td>\n",
       "      <td>1024</td>\n",
       "      <td>5</td>\n",
       "      <td>balanced</td>\n",
       "    </tr>\n",
       "    <tr>\n",
       "      <th>9</th>\n",
       "      <td>9</td>\n",
       "      <td>1024</td>\n",
       "      <td>6</td>\n",
       "      <td>balanced</td>\n",
       "    </tr>\n",
       "    <tr>\n",
       "      <th>10</th>\n",
       "      <td>10</td>\n",
       "      <td>2048</td>\n",
       "      <td>2</td>\n",
       "      <td>balanced</td>\n",
       "    </tr>\n",
       "    <tr>\n",
       "      <th>11</th>\n",
       "      <td>11</td>\n",
       "      <td>2048</td>\n",
       "      <td>3</td>\n",
       "      <td>balanced</td>\n",
       "    </tr>\n",
       "    <tr>\n",
       "      <th>12</th>\n",
       "      <td>12</td>\n",
       "      <td>2048</td>\n",
       "      <td>4</td>\n",
       "      <td>balanced</td>\n",
       "    </tr>\n",
       "    <tr>\n",
       "      <th>13</th>\n",
       "      <td>13</td>\n",
       "      <td>2048</td>\n",
       "      <td>5</td>\n",
       "      <td>balanced</td>\n",
       "    </tr>\n",
       "    <tr>\n",
       "      <th>14</th>\n",
       "      <td>14</td>\n",
       "      <td>2048</td>\n",
       "      <td>6</td>\n",
       "      <td>balanced</td>\n",
       "    </tr>\n",
       "    <tr>\n",
       "      <th>15</th>\n",
       "      <td>15</td>\n",
       "      <td>4096</td>\n",
       "      <td>2</td>\n",
       "      <td>balanced</td>\n",
       "    </tr>\n",
       "    <tr>\n",
       "      <th>16</th>\n",
       "      <td>16</td>\n",
       "      <td>4096</td>\n",
       "      <td>3</td>\n",
       "      <td>balanced</td>\n",
       "    </tr>\n",
       "    <tr>\n",
       "      <th>17</th>\n",
       "      <td>17</td>\n",
       "      <td>4096</td>\n",
       "      <td>4</td>\n",
       "      <td>balanced</td>\n",
       "    </tr>\n",
       "    <tr>\n",
       "      <th>18</th>\n",
       "      <td>18</td>\n",
       "      <td>4096</td>\n",
       "      <td>5</td>\n",
       "      <td>balanced</td>\n",
       "    </tr>\n",
       "    <tr>\n",
       "      <th>19</th>\n",
       "      <td>19</td>\n",
       "      <td>4096</td>\n",
       "      <td>6</td>\n",
       "      <td>balanced</td>\n",
       "    </tr>\n",
       "  </tbody>\n",
       "</table>\n",
       "</div>"
      ],
      "text/plain": [
       "   number numbits radius classweight\n",
       "0       0     512      2    balanced\n",
       "1       1     512      3    balanced\n",
       "2       2     512      4    balanced\n",
       "3       3     512      5    balanced\n",
       "4       4     512      6    balanced\n",
       "5       5    1024      2    balanced\n",
       "6       6    1024      3    balanced\n",
       "7       7    1024      4    balanced\n",
       "8       8    1024      5    balanced\n",
       "9       9    1024      6    balanced\n",
       "10     10    2048      2    balanced\n",
       "11     11    2048      3    balanced\n",
       "12     12    2048      4    balanced\n",
       "13     13    2048      5    balanced\n",
       "14     14    2048      6    balanced\n",
       "15     15    4096      2    balanced\n",
       "16     16    4096      3    balanced\n",
       "17     17    4096      4    balanced\n",
       "18     18    4096      5    balanced\n",
       "19     19    4096      6    balanced"
      ]
     },
     "execution_count": 5,
     "metadata": {},
     "output_type": "execute_result"
    }
   ],
   "source": [
    "model_path = '../models/other_models/svm_hyperopt_pk_37k/'\n",
    "cols = ['number', 'numbits', 'radius', 'classweight']\n",
    "df = pd.DataFrame(columns = cols)\n",
    "\n",
    "numbits = [512, 1024, 2048, 4096]\n",
    "radius = [2, 3, 4, 5, 6]\n",
    "classweight = ['balanced']\n",
    "\n",
    "model_dir = 0\n",
    "for l in numbits:\n",
    "    for d in radius:\n",
    "        for h in classweight:\n",
    "            new_row = [model_dir, l, d, h]\n",
    "            new = pd.DataFrame(new_row).T\n",
    "            #new = new.transpose()\n",
    "            new.columns = cols\n",
    "            df = pd.concat([df, new], ignore_index = True)   \n",
    "            model_dir = model_dir + 1\n",
    "df"
   ]
  },
  {
   "cell_type": "code",
   "execution_count": 6,
   "id": "e27af365",
   "metadata": {},
   "outputs": [
    {
     "name": "stdout",
     "output_type": "stream",
     "text": [
      "best auroc\n",
      "0.8596404990137635\n",
      "../models/svm_hyperopt/19/test_scores.csv\n",
      "best aupr\n",
      "0.4806139209119918\n",
      "../models/svm_hyperopt/15/test_scores.csv\n"
     ]
    }
   ],
   "source": [
    "df = add_results_to_df(df, model_path)"
   ]
  },
  {
   "cell_type": "code",
   "execution_count": 7,
   "id": "79d832a0",
   "metadata": {},
   "outputs": [
    {
     "data": {
      "text/plain": [
       "number               19\n",
       "numbits            4096\n",
       "radius                6\n",
       "classweight    balanced\n",
       "mean auroc      0.85964\n",
       "mean aupr      0.436909\n",
       "Name: 19, dtype: object"
      ]
     },
     "execution_count": 7,
     "metadata": {},
     "output_type": "execute_result"
    }
   ],
   "source": [
    "# print best\n",
    "df.to_csv(model_path + 'svm_hyperopt_results.csv', index = False)\n",
    "df.iloc[19,:]"
   ]
  },
  {
   "cell_type": "markdown",
   "id": "7719cd52",
   "metadata": {},
   "source": [
    "### FFNs on fingerprints"
   ]
  },
  {
   "cell_type": "code",
   "execution_count": 8,
   "id": "53963687",
   "metadata": {},
   "outputs": [
    {
     "data": {
      "text/html": [
       "<div>\n",
       "<style scoped>\n",
       "    .dataframe tbody tr th:only-of-type {\n",
       "        vertical-align: middle;\n",
       "    }\n",
       "\n",
       "    .dataframe tbody tr th {\n",
       "        vertical-align: top;\n",
       "    }\n",
       "\n",
       "    .dataframe thead th {\n",
       "        text-align: right;\n",
       "    }\n",
       "</style>\n",
       "<table border=\"1\" class=\"dataframe\">\n",
       "  <thead>\n",
       "    <tr style=\"text-align: right;\">\n",
       "      <th></th>\n",
       "      <th>number</th>\n",
       "      <th>hidden_size</th>\n",
       "      <th>ffn_num_layers</th>\n",
       "      <th>dropout</th>\n",
       "    </tr>\n",
       "  </thead>\n",
       "  <tbody>\n",
       "    <tr>\n",
       "      <th>0</th>\n",
       "      <td>0.0</td>\n",
       "      <td>500.0</td>\n",
       "      <td>1.0</td>\n",
       "      <td>0.10</td>\n",
       "    </tr>\n",
       "    <tr>\n",
       "      <th>1</th>\n",
       "      <td>1.0</td>\n",
       "      <td>500.0</td>\n",
       "      <td>1.0</td>\n",
       "      <td>0.15</td>\n",
       "    </tr>\n",
       "    <tr>\n",
       "      <th>2</th>\n",
       "      <td>2.0</td>\n",
       "      <td>500.0</td>\n",
       "      <td>1.0</td>\n",
       "      <td>0.20</td>\n",
       "    </tr>\n",
       "    <tr>\n",
       "      <th>3</th>\n",
       "      <td>3.0</td>\n",
       "      <td>500.0</td>\n",
       "      <td>1.0</td>\n",
       "      <td>0.25</td>\n",
       "    </tr>\n",
       "    <tr>\n",
       "      <th>4</th>\n",
       "      <td>4.0</td>\n",
       "      <td>500.0</td>\n",
       "      <td>1.0</td>\n",
       "      <td>0.30</td>\n",
       "    </tr>\n",
       "    <tr>\n",
       "      <th>...</th>\n",
       "      <td>...</td>\n",
       "      <td>...</td>\n",
       "      <td>...</td>\n",
       "      <td>...</td>\n",
       "    </tr>\n",
       "    <tr>\n",
       "      <th>163</th>\n",
       "      <td>163.0</td>\n",
       "      <td>3000.0</td>\n",
       "      <td>4.0</td>\n",
       "      <td>0.20</td>\n",
       "    </tr>\n",
       "    <tr>\n",
       "      <th>164</th>\n",
       "      <td>164.0</td>\n",
       "      <td>3000.0</td>\n",
       "      <td>4.0</td>\n",
       "      <td>0.25</td>\n",
       "    </tr>\n",
       "    <tr>\n",
       "      <th>165</th>\n",
       "      <td>165.0</td>\n",
       "      <td>3000.0</td>\n",
       "      <td>4.0</td>\n",
       "      <td>0.30</td>\n",
       "    </tr>\n",
       "    <tr>\n",
       "      <th>166</th>\n",
       "      <td>166.0</td>\n",
       "      <td>3000.0</td>\n",
       "      <td>4.0</td>\n",
       "      <td>0.35</td>\n",
       "    </tr>\n",
       "    <tr>\n",
       "      <th>167</th>\n",
       "      <td>167.0</td>\n",
       "      <td>3000.0</td>\n",
       "      <td>4.0</td>\n",
       "      <td>0.40</td>\n",
       "    </tr>\n",
       "  </tbody>\n",
       "</table>\n",
       "<p>168 rows × 4 columns</p>\n",
       "</div>"
      ],
      "text/plain": [
       "     number  hidden_size  ffn_num_layers  dropout\n",
       "0       0.0        500.0             1.0     0.10\n",
       "1       1.0        500.0             1.0     0.15\n",
       "2       2.0        500.0             1.0     0.20\n",
       "3       3.0        500.0             1.0     0.25\n",
       "4       4.0        500.0             1.0     0.30\n",
       "..      ...          ...             ...      ...\n",
       "163   163.0       3000.0             4.0     0.20\n",
       "164   164.0       3000.0             4.0     0.25\n",
       "165   165.0       3000.0             4.0     0.30\n",
       "166   166.0       3000.0             4.0     0.35\n",
       "167   167.0       3000.0             4.0     0.40\n",
       "\n",
       "[168 rows x 4 columns]"
      ]
     },
     "execution_count": 8,
     "metadata": {},
     "output_type": "execute_result"
    }
   ],
   "source": [
    "model_path = '../models/other_models/ffn_hyperopt_pk_37k/'\n",
    "cols = ['number', 'hidden_size', 'ffn_num_layers', 'dropout']\n",
    "df = pd.DataFrame(columns = cols)\n",
    "\n",
    "hidden_size = [500, 1000, 1500, 2000, 2500, 3000]\n",
    "ffn_num_layers = [1, 2, 3, 4]\n",
    "dropout = [0.1, 0.15, 0.2, 0.25, 0.3, 0.35, 0.4]\n",
    "\n",
    "model_dir = 0\n",
    "for l in hidden_size:\n",
    "    for d in ffn_num_layers:\n",
    "        for h in dropout:\n",
    "            new_row = [model_dir, l, d, h]\n",
    "            new = pd.DataFrame(new_row).T\n",
    "            #new = new.transpose()\n",
    "            new.columns = cols\n",
    "            df = pd.concat([df, new], ignore_index = True)   \n",
    "            model_dir = model_dir + 1\n",
    "df"
   ]
  },
  {
   "cell_type": "code",
   "execution_count": 9,
   "id": "7265cde8",
   "metadata": {},
   "outputs": [
    {
     "name": "stdout",
     "output_type": "stream",
     "text": [
      "best auroc\n",
      "0.890351108624749\n",
      "../models/ffn_hyperopt_orig/13/test_scores.csv\n",
      "best aupr\n",
      "0.4457030144986393\n",
      "../models/ffn_hyperopt_orig/20/test_scores.csv\n"
     ]
    }
   ],
   "source": [
    "df = add_results_to_df(df, model_path)"
   ]
  },
  {
   "cell_type": "code",
   "execution_count": 11,
   "id": "ff61612a",
   "metadata": {},
   "outputs": [
    {
     "data": {
      "text/plain": [
       "number             13.000000\n",
       "hidden_size       500.000000\n",
       "ffn_num_layers      2.000000\n",
       "dropout             0.400000\n",
       "mean auroc          0.890351\n",
       "mean aupr           0.442237\n",
       "Name: 13, dtype: float64"
      ]
     },
     "execution_count": 11,
     "metadata": {},
     "output_type": "execute_result"
    }
   ],
   "source": [
    "# print best\n",
    "df.to_csv(model_path + 'ffn_hyperopt_results.csv', index = False)\n",
    "df.iloc[13,:]"
   ]
  },
  {
   "cell_type": "markdown",
   "id": "ad03a785",
   "metadata": {},
   "source": [
    "### GNN on PK screen alone"
   ]
  },
  {
   "cell_type": "code",
   "execution_count": 10,
   "id": "70a605fe",
   "metadata": {},
   "outputs": [
    {
     "data": {
      "text/html": [
       "<div>\n",
       "<style scoped>\n",
       "    .dataframe tbody tr th:only-of-type {\n",
       "        vertical-align: middle;\n",
       "    }\n",
       "\n",
       "    .dataframe tbody tr th {\n",
       "        vertical-align: top;\n",
       "    }\n",
       "\n",
       "    .dataframe thead th {\n",
       "        text-align: right;\n",
       "    }\n",
       "</style>\n",
       "<table border=\"1\" class=\"dataframe\">\n",
       "  <thead>\n",
       "    <tr style=\"text-align: right;\">\n",
       "      <th></th>\n",
       "      <th>num</th>\n",
       "      <th>init_lr</th>\n",
       "      <th>dropout</th>\n",
       "      <th>hiddensize</th>\n",
       "      <th>ffn num layers</th>\n",
       "      <th>depth</th>\n",
       "    </tr>\n",
       "  </thead>\n",
       "  <tbody>\n",
       "    <tr>\n",
       "      <th>0</th>\n",
       "      <td>0.0</td>\n",
       "      <td>0.0010</td>\n",
       "      <td>0.1</td>\n",
       "      <td>300.0</td>\n",
       "      <td>1.0</td>\n",
       "      <td>3.0</td>\n",
       "    </tr>\n",
       "    <tr>\n",
       "      <th>1</th>\n",
       "      <td>1.0</td>\n",
       "      <td>0.0010</td>\n",
       "      <td>0.1</td>\n",
       "      <td>300.0</td>\n",
       "      <td>1.0</td>\n",
       "      <td>4.0</td>\n",
       "    </tr>\n",
       "    <tr>\n",
       "      <th>2</th>\n",
       "      <td>2.0</td>\n",
       "      <td>0.0010</td>\n",
       "      <td>0.1</td>\n",
       "      <td>300.0</td>\n",
       "      <td>1.0</td>\n",
       "      <td>5.0</td>\n",
       "    </tr>\n",
       "    <tr>\n",
       "      <th>3</th>\n",
       "      <td>3.0</td>\n",
       "      <td>0.0010</td>\n",
       "      <td>0.1</td>\n",
       "      <td>300.0</td>\n",
       "      <td>2.0</td>\n",
       "      <td>3.0</td>\n",
       "    </tr>\n",
       "    <tr>\n",
       "      <th>4</th>\n",
       "      <td>4.0</td>\n",
       "      <td>0.0010</td>\n",
       "      <td>0.1</td>\n",
       "      <td>300.0</td>\n",
       "      <td>2.0</td>\n",
       "      <td>4.0</td>\n",
       "    </tr>\n",
       "    <tr>\n",
       "      <th>...</th>\n",
       "      <td>...</td>\n",
       "      <td>...</td>\n",
       "      <td>...</td>\n",
       "      <td>...</td>\n",
       "      <td>...</td>\n",
       "      <td>...</td>\n",
       "    </tr>\n",
       "    <tr>\n",
       "      <th>427</th>\n",
       "      <td>427.0</td>\n",
       "      <td>0.0001</td>\n",
       "      <td>0.4</td>\n",
       "      <td>1500.0</td>\n",
       "      <td>2.0</td>\n",
       "      <td>4.0</td>\n",
       "    </tr>\n",
       "    <tr>\n",
       "      <th>428</th>\n",
       "      <td>428.0</td>\n",
       "      <td>0.0001</td>\n",
       "      <td>0.4</td>\n",
       "      <td>1500.0</td>\n",
       "      <td>2.0</td>\n",
       "      <td>5.0</td>\n",
       "    </tr>\n",
       "    <tr>\n",
       "      <th>429</th>\n",
       "      <td>429.0</td>\n",
       "      <td>0.0001</td>\n",
       "      <td>0.4</td>\n",
       "      <td>1500.0</td>\n",
       "      <td>3.0</td>\n",
       "      <td>3.0</td>\n",
       "    </tr>\n",
       "    <tr>\n",
       "      <th>430</th>\n",
       "      <td>430.0</td>\n",
       "      <td>0.0001</td>\n",
       "      <td>0.4</td>\n",
       "      <td>1500.0</td>\n",
       "      <td>3.0</td>\n",
       "      <td>4.0</td>\n",
       "    </tr>\n",
       "    <tr>\n",
       "      <th>431</th>\n",
       "      <td>431.0</td>\n",
       "      <td>0.0001</td>\n",
       "      <td>0.4</td>\n",
       "      <td>1500.0</td>\n",
       "      <td>3.0</td>\n",
       "      <td>5.0</td>\n",
       "    </tr>\n",
       "  </tbody>\n",
       "</table>\n",
       "<p>432 rows × 6 columns</p>\n",
       "</div>"
      ],
      "text/plain": [
       "       num  init_lr  dropout  hiddensize  ffn num layers  depth\n",
       "0      0.0   0.0010      0.1       300.0             1.0    3.0\n",
       "1      1.0   0.0010      0.1       300.0             1.0    4.0\n",
       "2      2.0   0.0010      0.1       300.0             1.0    5.0\n",
       "3      3.0   0.0010      0.1       300.0             2.0    3.0\n",
       "4      4.0   0.0010      0.1       300.0             2.0    4.0\n",
       "..     ...      ...      ...         ...             ...    ...\n",
       "427  427.0   0.0001      0.4      1500.0             2.0    4.0\n",
       "428  428.0   0.0001      0.4      1500.0             2.0    5.0\n",
       "429  429.0   0.0001      0.4      1500.0             3.0    3.0\n",
       "430  430.0   0.0001      0.4      1500.0             3.0    4.0\n",
       "431  431.0   0.0001      0.4      1500.0             3.0    5.0\n",
       "\n",
       "[432 rows x 6 columns]"
      ]
     },
     "execution_count": 10,
     "metadata": {},
     "output_type": "execute_result"
    }
   ],
   "source": [
    "cols = ['num', 'init_lr', 'dropout', 'hiddensize', 'ffn num layers', 'depth']\n",
    "df = pd.DataFrame(columns = cols)\n",
    "\n",
    "initlr = [1e-3, 1e-4]\n",
    "dropout = [0.1, 0.2, 0.3, 0.4]\n",
    "hiddensize = [300,500,700,1000,1200,1500]\n",
    "ffnnumlayers = [1,2,3]\n",
    "depth = [3,4,5]\n",
    "\n",
    "model_dir = 0\n",
    "for l in initlr:\n",
    "    for d in dropout:\n",
    "        for h in hiddensize:\n",
    "            for f in ffnnumlayers:\n",
    "                for de in depth:\n",
    "                    new_row = [model_dir, l, d, h, f, de]\n",
    "                    new = pd.DataFrame(new_row).T\n",
    "                    #new = new.transpose()\n",
    "                    new.columns = cols\n",
    "                    df = pd.concat([df, new], ignore_index = True)   \n",
    "                    model_dir = model_dir + 1\n",
    "df"
   ]
  },
  {
   "cell_type": "code",
   "execution_count": 11,
   "id": "79f9c759",
   "metadata": {},
   "outputs": [
    {
     "name": "stdout",
     "output_type": "stream",
     "text": [
      "0.6024041588487318\n",
      "models/151/test_scores.csv\n"
     ]
    }
   ],
   "source": [
    "df = add_results_to_df(df, model_path) # print just auPR here"
   ]
  },
  {
   "cell_type": "code",
   "execution_count": 12,
   "id": "77d08f42",
   "metadata": {},
   "outputs": [
    {
     "data": {
      "text/plain": [
       "num                151.000000\n",
       "init_lr              0.001000\n",
       "dropout              0.300000\n",
       "hiddensize        1200.000000\n",
       "ffn num layers       3.000000\n",
       "depth                4.000000\n",
       "mean auc             0.801554\n",
       "mean prc-auc         0.602404\n",
       "Name: 151, dtype: float64"
      ]
     },
     "execution_count": 12,
     "metadata": {},
     "output_type": "execute_result"
    }
   ],
   "source": [
    "# print best\n",
    "df.to_csv(model_path + 'pk_gnn_hyperopt_results.csv', index = False)\n",
    "df.iloc[151,:]"
   ]
  },
  {
   "cell_type": "markdown",
   "id": "61853366",
   "metadata": {},
   "source": [
    "# -----------------------------------------\n",
    "# Run best train set models on test set\n",
    "# -----------------------------------------"
   ]
  },
  {
   "cell_type": "code",
   "execution_count": 5,
   "id": "68af27d8",
   "metadata": {},
   "outputs": [],
   "source": [
    "# evaluate each prediction\n",
    "def modeleval(y_true, y_pred, name = ''):\n",
    "    \n",
    "    new_ytrue = []\n",
    "    new_ypred = []\n",
    "    for x, y in zip(y_true, y_pred):\n",
    "        if y != 'Invalid SMILES':\n",
    "            new_ytrue.append(x)\n",
    "            new_ypred.append(y)\n",
    "    y_true = new_ytrue\n",
    "    y_pred = new_ypred\n",
    "    \n",
    "    auroc = float(roc_auc_score(y_true, y_pred))\n",
    "    print('auroc: ' + str(auroc))\n",
    "\n",
    "    # Compute Precision-Recall and plot curve\n",
    "    precision, recall, thresholds = precision_recall_curve(y_true, y_pred)\n",
    "    pr = float(auc(recall,precision))\n",
    "    print('precision recall: ' + str(pr))\n",
    "\n",
    "    fig, ax = plt.subplots(figsize = (2,2), dpi = 300)\n",
    "    plt.clf()\n",
    "    plt.plot(recall, precision, label='Precision-recall curve')\n",
    "    plt.xlabel('Recall')\n",
    "    plt.ylabel('Precision')\n",
    "    plt.ylim([0.0, 1.05])\n",
    "    plt.xlim([0.0, 1.05])\n",
    "    ax.spines['right'].set_visible(False)\n",
    "    ax.spines['top'].set_visible(False)\n",
    "    plt.tight_layout()\n",
    "    plt.show()  \n",
    "    \n",
    "    fpr, tpr, thresholds = metrics.roc_curve(y_true, y_pred)\n",
    "    fig, ax = plt.subplots(figsize = (2,2), dpi = 300)\n",
    "    plt.clf()\n",
    "    plt.plot(fpr, tpr, label='ROC curve')\n",
    "    plt.xlabel('FPR')\n",
    "    plt.ylabel('TPR')\n",
    "    plt.ylim([0.0, 1.05])\n",
    "    plt.xlim([0.0, 1.05])\n",
    "    ax.spines['right'].set_visible(False)\n",
    "    ax.spines['top'].set_visible(False)\n",
    "    plt.tight_layout()\n",
    "    plt.show()  \n",
    "    \n",
    "    return(auroc, pr)"
   ]
  },
  {
   "cell_type": "markdown",
   "id": "ee800479",
   "metadata": {},
   "source": [
    "### RFCs on fingerprints"
   ]
  },
  {
   "cell_type": "code",
   "execution_count": null,
   "id": "73d3a4d6",
   "metadata": {},
   "outputs": [],
   "source": [
    "# test just train set model on test set - could also do command line but it was convenient to keep in notebook\n",
    "data_path = '../../ngonorrhoeae_abx_ml_discovery/data/data_prep_for_ml/data_prep_for_ml_pk_37k_screen/'\n",
    "model_path = '../../ngonorrhoeae_abx_ml_discovery/models/other_models/rfc_hyperopt_pk_37k/'\n",
    "actual_model_path = model_path + '122/'\n",
    "model_results = '122_test_set_rfc_preds.csv'\n",
    "activate_command = 'conda activate chemprop; '\n",
    "run_command = 'python sklearn_predict.py --test_path ' + data_path + 'TEST_03_19_2022.csv --checkpoint_dir ' + actual_model_path + ' --preds_path ' + model_path + model_results + ' --smiles_column SMILES'\n",
    "full_command = activate_command + run_command\n",
    "test = subprocess.run(full_command, cwd=\"../../chemprop/\", shell=True, capture_output=True)"
   ]
  },
  {
   "cell_type": "code",
   "execution_count": 8,
   "id": "2a1c0ee8",
   "metadata": {},
   "outputs": [
    {
     "name": "stdout",
     "output_type": "stream",
     "text": [
      "auroc: 0.9298151977585031\n",
      "precision recall: 0.4375764660273601\n"
     ]
    },
    {
     "data": {
      "image/png": "[encoded data removed]",
      "text/plain": [
       "<Figure size 600x600 with 1 Axes>"
      ]
     },
     "metadata": {
      "needs_background": "light"
     },
     "output_type": "display_data"
    },
    {
     "data": {
      "image/png": "[encoded data removed]",
      "text/plain": [
       "<Figure size 600x600 with 1 Axes>"
      ]
     },
     "metadata": {
      "needs_background": "light"
     },
     "output_type": "display_data"
    }
   ],
   "source": [
    "true = pd.read_csv(data_path + 'TEST_03_19_2022.csv')\n",
    "true = list(true['hit'])\n",
    "\n",
    "test = pd.read_csv(model_path + model_results)\n",
    "test = [float(x) if x != 'Invalid SMILES' else x for x in list(test['hit'])]\n",
    "\n",
    "roc, pr = modeleval(true, test, name = '122_test_set_rfc')\n"
   ]
  },
  {
   "cell_type": "markdown",
   "id": "39a32bc3",
   "metadata": {},
   "source": [
    "### SVMs on fingerprints"
   ]
  },
  {
   "cell_type": "code",
   "execution_count": null,
   "id": "5845b44d",
   "metadata": {},
   "outputs": [],
   "source": [
    "# test just train set model on test set - could also do command line but it was convenient to keep in notebook\n",
    "data_path = '../../ngonorrhoeae_abx_ml_discovery/data/data_prep_for_ml/data_prep_for_ml_pk_37k_screen/'\n",
    "model_path = '../../ngonorrhoeae_abx_ml_discovery/models/other_models/svm_hyperopt_pk_37k/'\n",
    "actual_model_path = model_path + '15/'\n",
    "model_results = '15_test_set_svm_preds.csv'\n",
    "activate_command = 'conda activate chemprop; '\n",
    "run_command = 'python sklearn_predict.py --test_path ' + data_path + 'TEST_03_19_2022.csv --checkpoint_dir ' + actual_model_path + ' --preds_path ' + model_path + model_results + ' --smiles_column SMILES'\n",
    "full_command = activate_command + run_command\n",
    "test = subprocess.run(full_command, cwd=\"../../chemprop/\", shell=True, capture_output=True)"
   ]
  },
  {
   "cell_type": "code",
   "execution_count": 10,
   "id": "83a06352",
   "metadata": {},
   "outputs": [
    {
     "name": "stdout",
     "output_type": "stream",
     "text": [
      "auroc: 0.8610026103994741\n",
      "precision recall: 0.49767682936353247\n"
     ]
    },
    {
     "data": {
      "image/png": "[encoded data removed]",
      "text/plain": [
       "<Figure size 600x600 with 1 Axes>"
      ]
     },
     "metadata": {
      "needs_background": "light"
     },
     "output_type": "display_data"
    },
    {
     "data": {
      "image/png": "[encoded data removed]",
      "text/plain": [
       "<Figure size 600x600 with 1 Axes>"
      ]
     },
     "metadata": {
      "needs_background": "light"
     },
     "output_type": "display_data"
    }
   ],
   "source": [
    "true = pd.read_csv(data_path + 'TEST_03_19_2022.csv')\n",
    "true = list(true['hit'])\n",
    "\n",
    "test = pd.read_csv(model_path + model_results)\n",
    "test = [float(x) if x != 'Invalid SMILES' else x for x in list(test['hit'])]\n",
    "\n",
    "roc, pr = modeleval(true, test, name = '15_test_set_svm')\n"
   ]
  },
  {
   "cell_type": "markdown",
   "id": "c33d5ec9",
   "metadata": {},
   "source": [
    "### FFN on fingerprints"
   ]
  },
  {
   "cell_type": "code",
   "execution_count": null,
   "id": "2536674e",
   "metadata": {},
   "outputs": [],
   "source": [
    "# test just train set model on test set - could also do command line but it was convenient to keep in notebook\n",
    "data_path = '../../ngonorrhoeae_abx_ml_discovery/data/data_prep_for_ml/data_prep_for_ml_pk_37k_screen/'\n",
    "model_path = '../../ngonorrhoeae_abx_ml_discovery/models/other_models/ffn_hyperopt_pk_37k/'\n",
    "actual_model_path = model_path + '20/'\n",
    "model_results = '20_test_set_ffn_preds.csv'\n",
    "activate_command = 'conda activate chemprop; '\n",
    "run_command = 'python sklearn_predict.py --test_path ' + data_path + 'TEST_03_19_2022.csv --checkpoint_dir ' + actual_model_path + ' --preds_path ' + model_path + model_results + ' --smiles_column SMILES  --features_generator morgan --no_features_scaling'\n",
    "full_command = activate_command + run_command\n",
    "test = subprocess.run(full_command, cwd=\"../../chemprop/\", shell=True, capture_output=True)"
   ]
  },
  {
   "cell_type": "code",
   "execution_count": 12,
   "id": "0b0e2c5b",
   "metadata": {},
   "outputs": [
    {
     "name": "stdout",
     "output_type": "stream",
     "text": [
      "auroc: 0.8993020319417584\n",
      "precision recall: 0.48793736729294873\n"
     ]
    },
    {
     "data": {
      "image/png": "[encoded data removed]",
      "text/plain": [
       "<Figure size 600x600 with 1 Axes>"
      ]
     },
     "metadata": {
      "needs_background": "light"
     },
     "output_type": "display_data"
    },
    {
     "data": {
      "image/png": "[encoded data removed]",
      "text/plain": [
       "<Figure size 600x600 with 1 Axes>"
      ]
     },
     "metadata": {
      "needs_background": "light"
     },
     "output_type": "display_data"
    }
   ],
   "source": [
    "true = pd.read_csv(data_path + 'TEST_03_19_2022.csv')\n",
    "true = list(true['hit'])\n",
    "\n",
    "test = pd.read_csv(model_path + model_results)\n",
    "test = [float(x) if x != 'Invalid SMILES' else x for x in list(test['hit'])]\n",
    "\n",
    "roc, pr = modeleval(true, test, name = '20_test_set_ffn')\n"
   ]
  },
  {
   "cell_type": "code",
   "execution_count": null,
   "id": "23c2fa06",
   "metadata": {},
   "outputs": [],
   "source": []
  }
 ],
 "metadata": {
  "kernelspec": {
   "display_name": "chemprop",
   "language": "python",
   "name": "chemprop"
  },
  "language_info": {
   "codemirror_mode": {
    "name": "ipython",
    "version": 3
   },
   "file_extension": ".py",
   "mimetype": "text/x-python",
   "name": "python",
   "nbconvert_exporter": "python",
   "pygments_lexer": "ipython3",
   "version": "3.8.12"
  }
 },
 "nbformat": 4,
 "nbformat_minor": 5
}
