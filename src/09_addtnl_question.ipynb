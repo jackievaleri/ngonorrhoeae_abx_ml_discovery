{
 "cells": [
  {
   "cell_type": "markdown",
   "metadata": {},
   "source": [
    "# Analyze speed of generating E3FPs compared to 2D fingerprints"
   ]
  },
  {
   "cell_type": "code",
   "execution_count": null,
   "metadata": {},
   "outputs": [],
   "source": [
    "from rdkit import Chem\n",
    "import pandas as pd\n",
    "import time\n",
    "from python_utilities.parallel import Parallelizer\n",
    "from e3fp.pipeline import fprints_from_smiles"
   ]
  },
  {
   "cell_type": "code",
   "execution_count": null,
   "metadata": {},
   "outputs": [],
   "source": [
    "data_dir = '../out/predictions_from_models/pk_37k_model/800k/'\n",
    "df = pd.read_csv(data_dir + 'clean_preds_05_02_2022.csv')\n",
    "\n",
    "num_trials = 3\n",
    "dfs = []\n",
    "for i in range(num_trials):\n",
    "    df = df.sample(n=50, random_state=i)\n",
    "    dfs.append(df)"
   ]
  },
  {
   "cell_type": "code",
   "execution_count": null,
   "metadata": {},
   "outputs": [],
   "source": [
    "times_rdkit = []\n",
    "from rdkit.Chem import AllChem\n",
    "\n",
    "for df in dfs:\n",
    "    start_time = time.time()\n",
    "\n",
    "    smiles_dict = dict(zip(list(df['Name']), list(df['smiles'])))\n",
    "    smiles_iter = ((smi, name) for name, smi in smiles_dict.items())\n",
    "\n",
    "    # Generate RDKit fingerprints\n",
    "    mols = [Chem.MolFromSmiles(smi) for smi in df['smiles']]\n",
    "    fps = [AllChem.GetMorganFingerprint(mol, radius=4) for mol in mols]\n",
    "\n",
    "    print('Number of generated fingerprints: ', len(fps))\n",
    "\n",
    "    elapsed_time = time.time() - start_time\n",
    "    times_rdkit.append(elapsed_time)\n",
    "    print(f'Time taken for RDKit processing DataFrame: {elapsed_time:.2f} seconds')\n"
   ]
  },
  {
   "cell_type": "code",
   "execution_count": null,
   "metadata": {},
   "outputs": [],
   "source": [
    "times_3d = []\n",
    "\n",
    "for df in dfs:\n",
    "    start_time = time.time()\n",
    "\n",
    "    smiles_dict = dict(zip(list(df['Name']), list(df['smiles'])))\n",
    "\n",
    "    # Convert the smiles_dict to an iterable for processing\n",
    "    smiles_iter = ((smi, name) for name, smi in smiles_dict.items())\n",
    "\n",
    "    # Define parameters for conformer generation and fingerprinting\n",
    "    confgen_params = {}  # Define your conformer generation parameters here\n",
    "    fprint_params = {}   # Define your fingerprint parameters here\n",
    "    kwargs = {\"confgen_params\": confgen_params, \"fprint_params\": fprint_params}\n",
    "\n",
    "    # Initialize the parallelizer\n",
    "    parallelizer = Parallelizer(parallel_mode=\"processes\")\n",
    "\n",
    "    # Generate fingerprints in parallel\n",
    "    fprints_list = parallelizer.run(fprints_from_smiles, smiles_iter, kwargs=kwargs) \n",
    "    print('Number of generated fingerprints: ', len(fprints_list))\n",
    "\n",
    "    # Stop the timer and record the elapsed time\n",
    "    elapsed_time = time.time() - start_time\n",
    "    times_3d.append(elapsed_time)\n",
    "\n",
    "    print(f'Time taken for processing DataFrame: {elapsed_time:.2f} seconds')"
   ]
  },
  {
   "cell_type": "code",
   "execution_count": null,
   "metadata": {},
   "outputs": [],
   "source": [
    "print(times_rdkit)\n",
    "print(times_3d)"
   ]
  },
  {
   "cell_type": "code",
   "execution_count": null,
   "metadata": {},
   "outputs": [],
   "source": []
  }
 ],
 "metadata": {
  "kernelspec": {
   "display_name": "chemprop010821",
   "language": "python",
   "name": "python3"
  },
  "language_info": {
   "codemirror_mode": {
    "name": "ipython",
    "version": 3
   },
   "file_extension": ".py",
   "mimetype": "text/x-python",
   "name": "python",
   "nbconvert_exporter": "python",
   "pygments_lexer": "ipython3",
   "version": "3.8.6"
  }
 },
 "nbformat": 4,
 "nbformat_minor": 2
}
