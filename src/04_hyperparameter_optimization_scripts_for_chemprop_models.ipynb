{
 "cells": [
  {
   "cell_type": "code",
   "execution_count": null,
   "id": "3a05f6ab",
   "metadata": {},
   "outputs": [],
   "source": [
    "import glob as glob\n",
    "import subprocess\n",
    "\n",
    "import matplotlib.pyplot as plt\n",
    "import pandas as pd\n",
    "import scipy.stats as sp\n",
    "from sklearn import metrics\n",
    "from sklearn.metrics import (auc, precision_recall_curve, roc_auc_score)"
   ]
  },
  {
   "cell_type": "markdown",
   "id": "cc9d18ef",
   "metadata": {},
   "source": [
    "# -----------------------------------------\n",
    "# Write optimization scripts\n",
    "# -----------------------------------------"
   ]
  },
  {
   "cell_type": "markdown",
   "id": "e05cb64b",
   "metadata": {},
   "source": [
    "Prior to running, need to generate features with the 03_generate_rdkit_fts.sh"
   ]
  },
  {
   "cell_type": "markdown",
   "id": "85d40f0d",
   "metadata": {},
   "source": [
    "### HO script for RFCs on fingerprints"
   ]
  },
  {
   "cell_type": "code",
   "execution_count": 4,
   "id": "b011ebea",
   "metadata": {},
   "outputs": [],
   "source": [
    "data_path = \"../ngonorrhoeae_abx_ml_discovery/data/data_prep_for_ml/data_prep_for_ml_pk_37k_screen/\"\n",
    "model_path = \"../ngonorrhoeae_abx_ml_discovery/models/other_models/rfc_hyperopt_pk_37k/\""
   ]
  },
  {
   "cell_type": "code",
   "execution_count": null,
   "id": "c7814b6e",
   "metadata": {},
   "outputs": [],
   "source": [
    "bash_dir = \"04_hyperopt_rfc_pk_37k.sh\"\n",
    "\n",
    "prefix = \"python sklearn_train.py \"\n",
    "suffix = (\n",
    "    \" --data_path \"\n",
    "    + data_path\n",
    "    + \"TRAIN_03_19_2022.csv --num_folds 3 --dataset_type classification --features_path \"\n",
    "    + data_path\n",
    "    + \"TRAIN_03_19_2022.npz  --no_features_scaling --split_type scaffold_balanced --split_sizes 0.8 0.1 0.1 --smiles_columns SMILES --target_columns hit --model_type svm --metric prc-auc --extra_metrics auc\" # noqa: E501\n",
    ")\n",
    "\n",
    "numbits = [512, 1024, 2048, 4096]\n",
    "radius = [2, 3, 4, 5, 6]\n",
    "classweight = [\"balanced\"]\n",
    "numtrees = [50, 100, 250, 500, 750, 1000, 2000, 3000]\n",
    "\n",
    "file1 = open(bash_dir, \"a\")\n",
    "file1.write(\"cd ../../chemprop/; mkdir \" + model_path + \" \")\n",
    "file1.write(\"\\n\")\n",
    "file1.close()\n",
    "\n",
    "model_dir = 0\n",
    "for l in numbits:\n",
    "    for d in radius:\n",
    "        for h in classweight:\n",
    "            for n in numtrees:\n",
    "                command = (\n",
    "                    \"mkdir \"\n",
    "                    + model_path\n",
    "                    + str(model_dir)\n",
    "                    + \"; \"\n",
    "                    + prefix\n",
    "                    + \"--num_bits \"\n",
    "                    + str(l)\n",
    "                    + \" --radius \"\n",
    "                    + str(d)\n",
    "                    + \" --class_weight \"\n",
    "                    + str(h)\n",
    "                    + \" --num_trees \"\n",
    "                    + str(n)\n",
    "                    + \" --save_dir \"\n",
    "                    + model_path\n",
    "                    + str(model_dir)\n",
    "                    + suffix\n",
    "                )\n",
    "                model_dir = model_dir + 1\n",
    "                file1 = open(bash_dir, \"a\")\n",
    "                file1.write(command)\n",
    "                file1.write(\"\\n\")\n",
    "                file1.close()"
   ]
  },
  {
   "cell_type": "markdown",
   "id": "5a5a3895",
   "metadata": {},
   "source": [
    "### HO script for SVMs on fingerprints"
   ]
  },
  {
   "cell_type": "code",
   "execution_count": 6,
   "id": "e4a4243a",
   "metadata": {},
   "outputs": [],
   "source": [
    "data_path = \"../ngonorrhoeae_abx_ml_discovery/data/data_prep_for_ml/data_prep_for_ml_pk_37k_screen/\"\n",
    "model_path = \"../ngonorrhoeae_abx_ml_discovery/models/other_models/svm_hyperopt_pk_37k/\""
   ]
  },
  {
   "cell_type": "code",
   "execution_count": null,
   "id": "b3b6f0bd",
   "metadata": {},
   "outputs": [],
   "source": [
    "bash_dir = \"04_hyperopt_svm_pk_37k.sh\"\n",
    "\n",
    "prefix = \"python sklearn_train.py \"\n",
    "suffix = (\n",
    "    \" --data_path \"\n",
    "    + data_path\n",
    "    + \"TRAIN_03_19_2022.csv --num_folds 3 --dataset_type classification --features_path \"\n",
    "    + data_path\n",
    "    + \"TRAIN_03_19_2022.npz  --no_features_scaling --split_type scaffold_balanced --split_sizes 0.8 0.1 0.1 --smiles_columns SMILES --target_columns hit --model_type svm --metric prc-auc --extra_metrics auc\" # noqa: E501\n",
    ")\n",
    "\n",
    "numbits = [512, 1024, 2048, 4096]\n",
    "radius = [2, 3, 4, 5, 6]\n",
    "classweight = [\"balanced\"]\n",
    "\n",
    "file1 = open(bash_dir, \"a\")\n",
    "file1.write(\"cd ../../chemprop/; mkdir \" + model_path + \" \")\n",
    "file1.write(\"\\n\")\n",
    "file1.close()\n",
    "\n",
    "model_dir = 0\n",
    "for l in numbits:\n",
    "    for d in radius:\n",
    "        for h in classweight:\n",
    "            command = (\n",
    "                \"mkdir \"\n",
    "                + model_path\n",
    "                + str(model_dir)\n",
    "                + \"; \"\n",
    "                + prefix\n",
    "                + \"--num_bits \"\n",
    "                + str(l)\n",
    "                + \" --radius \"\n",
    "                + str(d)\n",
    "                + \" --class_weight \"\n",
    "                + str(h)\n",
    "                + \" --save_dir \"\n",
    "                + model_path\n",
    "                + str(model_dir)\n",
    "                + suffix\n",
    "            )\n",
    "            model_dir = model_dir + 1\n",
    "            file1 = open(bash_dir, \"a\")\n",
    "            file1.write(command)\n",
    "            file1.write(\"\\n\")\n",
    "            file1.close()"
   ]
  },
  {
   "cell_type": "markdown",
   "id": "944acf12",
   "metadata": {},
   "source": [
    "### HO script for FFNs on fingerprints"
   ]
  },
  {
   "cell_type": "code",
   "execution_count": 10,
   "id": "9ea068cc",
   "metadata": {},
   "outputs": [],
   "source": [
    "data_path = \"../ngonorrhoeae_abx_ml_discovery/data/data_prep_for_ml/data_prep_for_ml_pk_37k_screen/\"\n",
    "model_path = \"../ngonorrhoeae_abx_ml_discovery/models/other_models/ffn_hyperopt_pk_37k/\""
   ]
  },
  {
   "cell_type": "code",
   "execution_count": null,
   "id": "fd83247b",
   "metadata": {},
   "outputs": [],
   "source": [
    "bash_dir = \"04_hyperopt_ffn_pk_37k.sh\"\n",
    "\n",
    "prefix = \"python train.py \"\n",
    "suffix = (\n",
    "    \" --data_path \"\n",
    "    + data_path\n",
    "    + \"TRAIN_03_19_2022.csv --num_folds 3 --dataset_type classification --features_generator morgan --no_features_scaling --split_type scaffold_balanced --split_sizes 0.8 0.1 0.1 --smiles_columns SMILES --target_columns hit --depth 0 --features_only --metric prc-auc --extra_metrics auc\" # noqa: E501\n",
    ")\n",
    "\n",
    "hidden_size = [500, 1000, 1500, 2000, 2500, 3000]\n",
    "ffn_num_layers = [1, 2, 3, 4]\n",
    "dropout = [0.1, 0.15, 0.2, 0.25, 0.3, 0.35, 0.4]\n",
    "\n",
    "file1 = open(bash_dir, \"a\")\n",
    "file1.write(\"cd ../../chemprop/; mkdir \" + model_path + \" \")\n",
    "file1.write(\"\\n\")\n",
    "file1.close()\n",
    "\n",
    "model_dir = 0\n",
    "for h in hidden_size:\n",
    "    for f in ffn_num_layers:\n",
    "        for dr in dropout:\n",
    "            command = (\n",
    "                prefix\n",
    "                + \" --hidden_size \"\n",
    "                + str(h)\n",
    "                + \" --ffn_num_layers \"\n",
    "                + str(f)\n",
    "                + \" --dropout \"\n",
    "                + str(dr)\n",
    "                + \" --save_dir \"\n",
    "                + model_path\n",
    "                + str(model_dir)\n",
    "                + suffix\n",
    "            )\n",
    "            model_dir = model_dir + 1\n",
    "            file1 = open(bash_dir, \"a\")\n",
    "            file1.write(command)\n",
    "            file1.write(\"\\n\")\n",
    "            file1.close()"
   ]
  },
  {
   "cell_type": "markdown",
   "id": "9d4f392e",
   "metadata": {},
   "source": [
    "### HO script for PK GNN model alone"
   ]
  },
  {
   "cell_type": "code",
   "execution_count": 2,
   "id": "88957e09",
   "metadata": {},
   "outputs": [],
   "source": [
    "data_path = \"data/data_prep_for_ml/data_prep_for_ml_pk_screen/\"\n",
    "model_path = \"models/pk_screen_models_11152021/\""
   ]
  },
  {
   "cell_type": "code",
   "execution_count": null,
   "id": "997c90b7",
   "metadata": {},
   "outputs": [],
   "source": [
    "bash_dir = \"04_hyperopt_pk_screen_11152021.sh\"\n",
    "\n",
    "prefix = \"chemprop_train \"\n",
    "suffix = (\n",
    "    \" --data_path \"\n",
    "    + data_path\n",
    "    + \"TRAIN_11_15_2021.csv --dataset_type classification --features_path \"\n",
    "    + data_path\n",
    "    + \"TRAIN_11_15_2021.npz --no_features_scaling --num_folds 3 --ensemble_size 1 --split_type scaffold_balanced --split_sizes 0.8 0.1 0.1 --smiles_columns SMILES --target_columns hit --metric prc-auc --extra_metrics auc\" # noqa: E501\n",
    ")\n",
    "\n",
    "initlr = [1e-3, 1e-4]\n",
    "dropout = [0.1, 0.2, 0.3, 0.4]\n",
    "hiddensize = [300, 500, 700, 1000, 1200, 1500]\n",
    "ffnnumlayers = [1, 2, 3]\n",
    "depth = [3, 4, 5]\n",
    "\n",
    "model_dir = 0\n",
    "for l in initlr:\n",
    "    for d in dropout:\n",
    "        for h in hiddensize:\n",
    "            for f in ffnnumlayers:\n",
    "                for de in depth:\n",
    "                    command = (\n",
    "                        \"mkdir \"\n",
    "                        + model_path\n",
    "                        + str(model_dir)\n",
    "                        + \"; \"\n",
    "                        + prefix\n",
    "                        + \"--init_lr \"\n",
    "                        + str(l)\n",
    "                        + \" --dropout \"\n",
    "                        + str(d)\n",
    "                        + \" --hidden_size \"\n",
    "                        + str(h)\n",
    "                        + \" --ffn_num_layers \"\n",
    "                        + str(f)\n",
    "                        + \" --depth \"\n",
    "                        + str(de)\n",
    "                        + \" --save_dir \"\n",
    "                        + model_path\n",
    "                        + str(model_dir)\n",
    "                        + suffix\n",
    "                    )\n",
    "                    model_dir = model_dir + 1\n",
    "                    file1 = open(bash_dir, \"a\")\n",
    "                    file1.write(command)\n",
    "                    file1.write(\"\\n\")\n",
    "                    file1.close()"
   ]
  },
  {
   "cell_type": "markdown",
   "id": "da5cb37d",
   "metadata": {},
   "source": [
    "### For all other GNNs, use bayesian optimization"
   ]
  },
  {
   "cell_type": "markdown",
   "id": "efb32d0a",
   "metadata": {},
   "source": [
    "# -----------------------------------------\n",
    "# Identify appropriate model parameters\n",
    "# -----------------------------------------"
   ]
  },
  {
   "cell_type": "markdown",
   "id": "b7b4e2b3",
   "metadata": {},
   "source": [
    "### RFCs on fingerprints"
   ]
  },
  {
   "cell_type": "code",
   "execution_count": 2,
   "id": "d693d325",
   "metadata": {},
   "outputs": [
    {
     "data": {
      "text/html": [
       "<div>\n",
       "<style scoped>\n",
       "    .dataframe tbody tr th:only-of-type {\n",
       "        vertical-align: middle;\n",
       "    }\n",
       "\n",
       "    .dataframe tbody tr th {\n",
       "        vertical-align: top;\n",
       "    }\n",
       "\n",
       "    .dataframe thead th {\n",
       "        text-align: right;\n",
       "    }\n",
       "</style>\n",
       "<table border=\"1\" class=\"dataframe\">\n",
       "  <thead>\n",
       "    <tr style=\"text-align: right;\">\n",
       "      <th></th>\n",
       "      <th>number</th>\n",
       "      <th>numbits</th>\n",
       "      <th>radius</th>\n",
       "      <th>classweight</th>\n",
       "      <th>numtrees</th>\n",
       "    </tr>\n",
       "  </thead>\n",
       "  <tbody>\n",
       "    <tr>\n",
       "      <th>0</th>\n",
       "      <td>0</td>\n",
       "      <td>512</td>\n",
       "      <td>2</td>\n",
       "      <td>balanced</td>\n",
       "      <td>50</td>\n",
       "    </tr>\n",
       "    <tr>\n",
       "      <th>1</th>\n",
       "      <td>1</td>\n",
       "      <td>512</td>\n",
       "      <td>2</td>\n",
       "      <td>balanced</td>\n",
       "      <td>100</td>\n",
       "    </tr>\n",
       "    <tr>\n",
       "      <th>2</th>\n",
       "      <td>2</td>\n",
       "      <td>512</td>\n",
       "      <td>2</td>\n",
       "      <td>balanced</td>\n",
       "      <td>250</td>\n",
       "    </tr>\n",
       "    <tr>\n",
       "      <th>3</th>\n",
       "      <td>3</td>\n",
       "      <td>512</td>\n",
       "      <td>2</td>\n",
       "      <td>balanced</td>\n",
       "      <td>500</td>\n",
       "    </tr>\n",
       "    <tr>\n",
       "      <th>4</th>\n",
       "      <td>4</td>\n",
       "      <td>512</td>\n",
       "      <td>2</td>\n",
       "      <td>balanced</td>\n",
       "      <td>750</td>\n",
       "    </tr>\n",
       "    <tr>\n",
       "      <th>...</th>\n",
       "      <td>...</td>\n",
       "      <td>...</td>\n",
       "      <td>...</td>\n",
       "      <td>...</td>\n",
       "      <td>...</td>\n",
       "    </tr>\n",
       "    <tr>\n",
       "      <th>155</th>\n",
       "      <td>155</td>\n",
       "      <td>4096</td>\n",
       "      <td>6</td>\n",
       "      <td>balanced</td>\n",
       "      <td>500</td>\n",
       "    </tr>\n",
       "    <tr>\n",
       "      <th>156</th>\n",
       "      <td>156</td>\n",
       "      <td>4096</td>\n",
       "      <td>6</td>\n",
       "      <td>balanced</td>\n",
       "      <td>750</td>\n",
       "    </tr>\n",
       "    <tr>\n",
       "      <th>157</th>\n",
       "      <td>157</td>\n",
       "      <td>4096</td>\n",
       "      <td>6</td>\n",
       "      <td>balanced</td>\n",
       "      <td>1000</td>\n",
       "    </tr>\n",
       "    <tr>\n",
       "      <th>158</th>\n",
       "      <td>158</td>\n",
       "      <td>4096</td>\n",
       "      <td>6</td>\n",
       "      <td>balanced</td>\n",
       "      <td>2000</td>\n",
       "    </tr>\n",
       "    <tr>\n",
       "      <th>159</th>\n",
       "      <td>159</td>\n",
       "      <td>4096</td>\n",
       "      <td>6</td>\n",
       "      <td>balanced</td>\n",
       "      <td>3000</td>\n",
       "    </tr>\n",
       "  </tbody>\n",
       "</table>\n",
       "<p>160 rows × 5 columns</p>\n",
       "</div>"
      ],
      "text/plain": [
       "    number numbits radius classweight numtrees\n",
       "0        0     512      2    balanced       50\n",
       "1        1     512      2    balanced      100\n",
       "2        2     512      2    balanced      250\n",
       "3        3     512      2    balanced      500\n",
       "4        4     512      2    balanced      750\n",
       "..     ...     ...    ...         ...      ...\n",
       "155    155    4096      6    balanced      500\n",
       "156    156    4096      6    balanced      750\n",
       "157    157    4096      6    balanced     1000\n",
       "158    158    4096      6    balanced     2000\n",
       "159    159    4096      6    balanced     3000\n",
       "\n",
       "[160 rows x 5 columns]"
      ]
     },
     "execution_count": 2,
     "metadata": {},
     "output_type": "execute_result"
    }
   ],
   "source": [
    "model_path = \"../models/other_models/rfc_hyperopt_pk_37k/\"\n",
    "cols = [\"number\", \"numbits\", \"radius\", \"classweight\", \"numtrees\"]\n",
    "df = pd.DataFrame(columns=cols)\n",
    "\n",
    "numbits = [512, 1024, 2048, 4096]\n",
    "radius = [2, 3, 4, 5, 6]\n",
    "classweight = [\"balanced\"]\n",
    "numtrees = [50, 100, 250, 500, 750, 1000, 2000, 3000]\n",
    "\n",
    "# map parameters back to numbers\n",
    "model_dir = 0\n",
    "for l in numbits:\n",
    "    for d in radius:\n",
    "        for h in classweight:\n",
    "            for f in numtrees:\n",
    "                new_row = [model_dir, l, d, h, f]\n",
    "                new = pd.DataFrame(new_row).T\n",
    "                # new = new.transpose()\n",
    "                new.columns = cols\n",
    "                df = pd.concat([df, new], ignore_index=True)\n",
    "                model_dir = model_dir + 1\n",
    "df"
   ]
  },
  {
   "cell_type": "code",
   "execution_count": 3,
   "id": "2f8a0aa2",
   "metadata": {},
   "outputs": [
    {
     "name": "stdout",
     "output_type": "stream",
     "text": [
      "best auroc\n",
      "0.909986352392086\n",
      "../models/rfc_hyperopt/155/test_scores.csv\n",
      "best aupr\n",
      "0.433078292286762\n",
      "../models/rfc_hyperopt/122/test_scores.csv\n"
     ]
    }
   ],
   "source": [
    "def add_results_to_df(df, model_path):\n",
    "    df[\"mean auroc\"] = [0] * len(df)\n",
    "    df[\"mean aupr\"] = [0] * len(df)\n",
    "\n",
    "    best_yet_auroc = 0\n",
    "    best_yet_auroc_index = \"\"\n",
    "\n",
    "    best_yet_aupr = 0\n",
    "    best_yet_aupr_index = \"\"\n",
    "\n",
    "    for name in glob.glob(model_path + \"**/test_scores.csv\", recursive=True):\n",
    "        try:\n",
    "            clean_num = int(name.split(model_path)[1].split(\"/\")[0])\n",
    "        except Exception as e:\n",
    "            print(e)\n",
    "            print(name)\n",
    "            continue\n",
    "        new = pd.read_csv(name)\n",
    "        mean_auroc = float(list(new[\"Mean auc\"])[0])\n",
    "        mean_aupr = float(list(new[\"Mean prc-auc\"])[0])\n",
    "        df.iloc[clean_num, df.columns.get_loc(\"mean auroc\")] = mean_auroc\n",
    "        df.iloc[clean_num, df.columns.get_loc(\"mean aupr\")] = mean_aupr\n",
    "\n",
    "        if mean_auroc > best_yet_auroc:\n",
    "            best_yet_auroc = mean_auroc\n",
    "            best_yet_auroc_index = name\n",
    "        if mean_aupr > best_yet_aupr:\n",
    "            best_yet_aupr = mean_aupr\n",
    "            best_yet_aupr_index = name\n",
    "\n",
    "    print(\"best auroc\")\n",
    "    print(best_yet_auroc)\n",
    "    print(best_yet_auroc_index)\n",
    "\n",
    "    print(\"best aupr\")\n",
    "    print(best_yet_aupr)\n",
    "    print(best_yet_aupr_index)\n",
    "\n",
    "    return df\n",
    "\n",
    "\n",
    "df = add_results_to_df(df, model_path)"
   ]
  },
  {
   "cell_type": "markdown",
   "id": "584884ea",
   "metadata": {},
   "source": [
    "### SVMs on fingerprints"
   ]
  },
  {
   "cell_type": "code",
   "execution_count": 5,
   "id": "08774d5d",
   "metadata": {},
   "outputs": [
    {
     "data": {
      "text/html": [
       "<div>\n",
       "<style scoped>\n",
       "    .dataframe tbody tr th:only-of-type {\n",
       "        vertical-align: middle;\n",
       "    }\n",
       "\n",
       "    .dataframe tbody tr th {\n",
       "        vertical-align: top;\n",
       "    }\n",
       "\n",
       "    .dataframe thead th {\n",
       "        text-align: right;\n",
       "    }\n",
       "</style>\n",
       "<table border=\"1\" class=\"dataframe\">\n",
       "  <thead>\n",
       "    <tr style=\"text-align: right;\">\n",
       "      <th></th>\n",
       "      <th>number</th>\n",
       "      <th>numbits</th>\n",
       "      <th>radius</th>\n",
       "      <th>classweight</th>\n",
       "    </tr>\n",
       "  </thead>\n",
       "  <tbody>\n",
       "    <tr>\n",
       "      <th>0</th>\n",
       "      <td>0</td>\n",
       "      <td>512</td>\n",
       "      <td>2</td>\n",
       "      <td>balanced</td>\n",
       "    </tr>\n",
       "    <tr>\n",
       "      <th>1</th>\n",
       "      <td>1</td>\n",
       "      <td>512</td>\n",
       "      <td>3</td>\n",
       "      <td>balanced</td>\n",
       "    </tr>\n",
       "    <tr>\n",
       "      <th>2</th>\n",
       "      <td>2</td>\n",
       "      <td>512</td>\n",
       "      <td>4</td>\n",
       "      <td>balanced</td>\n",
       "    </tr>\n",
       "    <tr>\n",
       "      <th>3</th>\n",
       "      <td>3</td>\n",
       "      <td>512</td>\n",
       "      <td>5</td>\n",
       "      <td>balanced</td>\n",
       "    </tr>\n",
       "    <tr>\n",
       "      <th>4</th>\n",
       "      <td>4</td>\n",
       "      <td>512</td>\n",
       "      <td>6</td>\n",
       "      <td>balanced</td>\n",
       "    </tr>\n",
       "    <tr>\n",
       "      <th>5</th>\n",
       "      <td>5</td>\n",
       "      <td>1024</td>\n",
       "      <td>2</td>\n",
       "      <td>balanced</td>\n",
       "    </tr>\n",
       "    <tr>\n",
       "      <th>6</th>\n",
       "      <td>6</td>\n",
       "      <td>1024</td>\n",
       "      <td>3</td>\n",
       "      <td>balanced</td>\n",
       "    </tr>\n",
       "    <tr>\n",
       "      <th>7</th>\n",
       "      <td>7</td>\n",
       "      <td>1024</td>\n",
       "      <td>4</td>\n",
       "      <td>balanced</td>\n",
       "    </tr>\n",
       "    <tr>\n",
       "      <th>8</th>\n",
       "      <td>8</td>\n",
       "      <td>1024</td>\n",
       "      <td>5</td>\n",
       "      <td>balanced</td>\n",
       "    </tr>\n",
       "    <tr>\n",
       "      <th>9</th>\n",
       "      <td>9</td>\n",
       "      <td>1024</td>\n",
       "      <td>6</td>\n",
       "      <td>balanced</td>\n",
       "    </tr>\n",
       "    <tr>\n",
       "      <th>10</th>\n",
       "      <td>10</td>\n",
       "      <td>2048</td>\n",
       "      <td>2</td>\n",
       "      <td>balanced</td>\n",
       "    </tr>\n",
       "    <tr>\n",
       "      <th>11</th>\n",
       "      <td>11</td>\n",
       "      <td>2048</td>\n",
       "      <td>3</td>\n",
       "      <td>balanced</td>\n",
       "    </tr>\n",
       "    <tr>\n",
       "      <th>12</th>\n",
       "      <td>12</td>\n",
       "      <td>2048</td>\n",
       "      <td>4</td>\n",
       "      <td>balanced</td>\n",
       "    </tr>\n",
       "    <tr>\n",
       "      <th>13</th>\n",
       "      <td>13</td>\n",
       "      <td>2048</td>\n",
       "      <td>5</td>\n",
       "      <td>balanced</td>\n",
       "    </tr>\n",
       "    <tr>\n",
       "      <th>14</th>\n",
       "      <td>14</td>\n",
       "      <td>2048</td>\n",
       "      <td>6</td>\n",
       "      <td>balanced</td>\n",
       "    </tr>\n",
       "    <tr>\n",
       "      <th>15</th>\n",
       "      <td>15</td>\n",
       "      <td>4096</td>\n",
       "      <td>2</td>\n",
       "      <td>balanced</td>\n",
       "    </tr>\n",
       "    <tr>\n",
       "      <th>16</th>\n",
       "      <td>16</td>\n",
       "      <td>4096</td>\n",
       "      <td>3</td>\n",
       "      <td>balanced</td>\n",
       "    </tr>\n",
       "    <tr>\n",
       "      <th>17</th>\n",
       "      <td>17</td>\n",
       "      <td>4096</td>\n",
       "      <td>4</td>\n",
       "      <td>balanced</td>\n",
       "    </tr>\n",
       "    <tr>\n",
       "      <th>18</th>\n",
       "      <td>18</td>\n",
       "      <td>4096</td>\n",
       "      <td>5</td>\n",
       "      <td>balanced</td>\n",
       "    </tr>\n",
       "    <tr>\n",
       "      <th>19</th>\n",
       "      <td>19</td>\n",
       "      <td>4096</td>\n",
       "      <td>6</td>\n",
       "      <td>balanced</td>\n",
       "    </tr>\n",
       "  </tbody>\n",
       "</table>\n",
       "</div>"
      ],
      "text/plain": [
       "   number numbits radius classweight\n",
       "0       0     512      2    balanced\n",
       "1       1     512      3    balanced\n",
       "2       2     512      4    balanced\n",
       "3       3     512      5    balanced\n",
       "4       4     512      6    balanced\n",
       "5       5    1024      2    balanced\n",
       "6       6    1024      3    balanced\n",
       "7       7    1024      4    balanced\n",
       "8       8    1024      5    balanced\n",
       "9       9    1024      6    balanced\n",
       "10     10    2048      2    balanced\n",
       "11     11    2048      3    balanced\n",
       "12     12    2048      4    balanced\n",
       "13     13    2048      5    balanced\n",
       "14     14    2048      6    balanced\n",
       "15     15    4096      2    balanced\n",
       "16     16    4096      3    balanced\n",
       "17     17    4096      4    balanced\n",
       "18     18    4096      5    balanced\n",
       "19     19    4096      6    balanced"
      ]
     },
     "execution_count": 5,
     "metadata": {},
     "output_type": "execute_result"
    }
   ],
   "source": [
    "model_path = \"../models/other_models/svm_hyperopt_pk_37k/\"\n",
    "cols = [\"number\", \"numbits\", \"radius\", \"classweight\"]\n",
    "df = pd.DataFrame(columns=cols)\n",
    "\n",
    "numbits = [512, 1024, 2048, 4096]\n",
    "radius = [2, 3, 4, 5, 6]\n",
    "classweight = [\"balanced\"]\n",
    "\n",
    "model_dir = 0\n",
    "for l in numbits:\n",
    "    for d in radius:\n",
    "        for h in classweight:\n",
    "            new_row = [model_dir, l, d, h]\n",
    "            new = pd.DataFrame(new_row).T\n",
    "            # new = new.transpose()\n",
    "            new.columns = cols\n",
    "            df = pd.concat([df, new], ignore_index=True)\n",
    "            model_dir = model_dir + 1\n",
    "df"
   ]
  },
  {
   "cell_type": "code",
   "execution_count": 6,
   "id": "e27af365",
   "metadata": {},
   "outputs": [
    {
     "name": "stdout",
     "output_type": "stream",
     "text": [
      "best auroc\n",
      "0.8596404990137635\n",
      "../models/svm_hyperopt/19/test_scores.csv\n",
      "best aupr\n",
      "0.4806139209119918\n",
      "../models/svm_hyperopt/15/test_scores.csv\n"
     ]
    }
   ],
   "source": [
    "df = add_results_to_df(df, model_path)"
   ]
  },
  {
   "cell_type": "markdown",
   "id": "7719cd52",
   "metadata": {},
   "source": [
    "### FFNs on fingerprints"
   ]
  },
  {
   "cell_type": "code",
   "execution_count": 8,
   "id": "53963687",
   "metadata": {},
   "outputs": [
    {
     "data": {
      "text/html": [
       "<div>\n",
       "<style scoped>\n",
       "    .dataframe tbody tr th:only-of-type {\n",
       "        vertical-align: middle;\n",
       "    }\n",
       "\n",
       "    .dataframe tbody tr th {\n",
       "        vertical-align: top;\n",
       "    }\n",
       "\n",
       "    .dataframe thead th {\n",
       "        text-align: right;\n",
       "    }\n",
       "</style>\n",
       "<table border=\"1\" class=\"dataframe\">\n",
       "  <thead>\n",
       "    <tr style=\"text-align: right;\">\n",
       "      <th></th>\n",
       "      <th>number</th>\n",
       "      <th>hidden_size</th>\n",
       "      <th>ffn_num_layers</th>\n",
       "      <th>dropout</th>\n",
       "    </tr>\n",
       "  </thead>\n",
       "  <tbody>\n",
       "    <tr>\n",
       "      <th>0</th>\n",
       "      <td>0.0</td>\n",
       "      <td>500.0</td>\n",
       "      <td>1.0</td>\n",
       "      <td>0.10</td>\n",
       "    </tr>\n",
       "    <tr>\n",
       "      <th>1</th>\n",
       "      <td>1.0</td>\n",
       "      <td>500.0</td>\n",
       "      <td>1.0</td>\n",
       "      <td>0.15</td>\n",
       "    </tr>\n",
       "    <tr>\n",
       "      <th>2</th>\n",
       "      <td>2.0</td>\n",
       "      <td>500.0</td>\n",
       "      <td>1.0</td>\n",
       "      <td>0.20</td>\n",
       "    </tr>\n",
       "    <tr>\n",
       "      <th>3</th>\n",
       "      <td>3.0</td>\n",
       "      <td>500.0</td>\n",
       "      <td>1.0</td>\n",
       "      <td>0.25</td>\n",
       "    </tr>\n",
       "    <tr>\n",
       "      <th>4</th>\n",
       "      <td>4.0</td>\n",
       "      <td>500.0</td>\n",
       "      <td>1.0</td>\n",
       "      <td>0.30</td>\n",
       "    </tr>\n",
       "    <tr>\n",
       "      <th>...</th>\n",
       "      <td>...</td>\n",
       "      <td>...</td>\n",
       "      <td>...</td>\n",
       "      <td>...</td>\n",
       "    </tr>\n",
       "    <tr>\n",
       "      <th>163</th>\n",
       "      <td>163.0</td>\n",
       "      <td>3000.0</td>\n",
       "      <td>4.0</td>\n",
       "      <td>0.20</td>\n",
       "    </tr>\n",
       "    <tr>\n",
       "      <th>164</th>\n",
       "      <td>164.0</td>\n",
       "      <td>3000.0</td>\n",
       "      <td>4.0</td>\n",
       "      <td>0.25</td>\n",
       "    </tr>\n",
       "    <tr>\n",
       "      <th>165</th>\n",
       "      <td>165.0</td>\n",
       "      <td>3000.0</td>\n",
       "      <td>4.0</td>\n",
       "      <td>0.30</td>\n",
       "    </tr>\n",
       "    <tr>\n",
       "      <th>166</th>\n",
       "      <td>166.0</td>\n",
       "      <td>3000.0</td>\n",
       "      <td>4.0</td>\n",
       "      <td>0.35</td>\n",
       "    </tr>\n",
       "    <tr>\n",
       "      <th>167</th>\n",
       "      <td>167.0</td>\n",
       "      <td>3000.0</td>\n",
       "      <td>4.0</td>\n",
       "      <td>0.40</td>\n",
       "    </tr>\n",
       "  </tbody>\n",
       "</table>\n",
       "<p>168 rows × 4 columns</p>\n",
       "</div>"
      ],
      "text/plain": [
       "     number  hidden_size  ffn_num_layers  dropout\n",
       "0       0.0        500.0             1.0     0.10\n",
       "1       1.0        500.0             1.0     0.15\n",
       "2       2.0        500.0             1.0     0.20\n",
       "3       3.0        500.0             1.0     0.25\n",
       "4       4.0        500.0             1.0     0.30\n",
       "..      ...          ...             ...      ...\n",
       "163   163.0       3000.0             4.0     0.20\n",
       "164   164.0       3000.0             4.0     0.25\n",
       "165   165.0       3000.0             4.0     0.30\n",
       "166   166.0       3000.0             4.0     0.35\n",
       "167   167.0       3000.0             4.0     0.40\n",
       "\n",
       "[168 rows x 4 columns]"
      ]
     },
     "execution_count": 8,
     "metadata": {},
     "output_type": "execute_result"
    }
   ],
   "source": [
    "model_path = \"../models/other_models/ffn_hyperopt_pk_37k/\"\n",
    "cols = [\"number\", \"hidden_size\", \"ffn_num_layers\", \"dropout\"]\n",
    "df = pd.DataFrame(columns=cols)\n",
    "\n",
    "hidden_size = [500, 1000, 1500, 2000, 2500, 3000]\n",
    "ffn_num_layers = [1, 2, 3, 4]\n",
    "dropout = [0.1, 0.15, 0.2, 0.25, 0.3, 0.35, 0.4]\n",
    "\n",
    "model_dir = 0\n",
    "for l in hidden_size:\n",
    "    for d in ffn_num_layers:\n",
    "        for h in dropout:\n",
    "            new_row = [model_dir, l, d, h]\n",
    "            new = pd.DataFrame(new_row).T\n",
    "            # new = new.transpose()\n",
    "            new.columns = cols\n",
    "            df = pd.concat([df, new], ignore_index=True)\n",
    "            model_dir = model_dir + 1\n",
    "df"
   ]
  },
  {
   "cell_type": "code",
   "execution_count": 9,
   "id": "7265cde8",
   "metadata": {},
   "outputs": [
    {
     "name": "stdout",
     "output_type": "stream",
     "text": [
      "best auroc\n",
      "0.890351108624749\n",
      "../models/ffn_hyperopt_orig/13/test_scores.csv\n",
      "best aupr\n",
      "0.4457030144986393\n",
      "../models/ffn_hyperopt_orig/20/test_scores.csv\n"
     ]
    }
   ],
   "source": [
    "df = add_results_to_df(df, model_path)"
   ]
  },
  {
   "cell_type": "markdown",
   "id": "be8e9437",
   "metadata": {},
   "source": [
    "### GNN on PK screen alone"
   ]
  },
  {
   "cell_type": "code",
   "execution_count": 10,
   "id": "70a605fe",
   "metadata": {},
   "outputs": [
    {
     "data": {
      "text/html": [
       "<div>\n",
       "<style scoped>\n",
       "    .dataframe tbody tr th:only-of-type {\n",
       "        vertical-align: middle;\n",
       "    }\n",
       "\n",
       "    .dataframe tbody tr th {\n",
       "        vertical-align: top;\n",
       "    }\n",
       "\n",
       "    .dataframe thead th {\n",
       "        text-align: right;\n",
       "    }\n",
       "</style>\n",
       "<table border=\"1\" class=\"dataframe\">\n",
       "  <thead>\n",
       "    <tr style=\"text-align: right;\">\n",
       "      <th></th>\n",
       "      <th>num</th>\n",
       "      <th>init_lr</th>\n",
       "      <th>dropout</th>\n",
       "      <th>hiddensize</th>\n",
       "      <th>ffn num layers</th>\n",
       "      <th>depth</th>\n",
       "    </tr>\n",
       "  </thead>\n",
       "  <tbody>\n",
       "    <tr>\n",
       "      <th>0</th>\n",
       "      <td>0.0</td>\n",
       "      <td>0.0010</td>\n",
       "      <td>0.1</td>\n",
       "      <td>300.0</td>\n",
       "      <td>1.0</td>\n",
       "      <td>3.0</td>\n",
       "    </tr>\n",
       "    <tr>\n",
       "      <th>1</th>\n",
       "      <td>1.0</td>\n",
       "      <td>0.0010</td>\n",
       "      <td>0.1</td>\n",
       "      <td>300.0</td>\n",
       "      <td>1.0</td>\n",
       "      <td>4.0</td>\n",
       "    </tr>\n",
       "    <tr>\n",
       "      <th>2</th>\n",
       "      <td>2.0</td>\n",
       "      <td>0.0010</td>\n",
       "      <td>0.1</td>\n",
       "      <td>300.0</td>\n",
       "      <td>1.0</td>\n",
       "      <td>5.0</td>\n",
       "    </tr>\n",
       "    <tr>\n",
       "      <th>3</th>\n",
       "      <td>3.0</td>\n",
       "      <td>0.0010</td>\n",
       "      <td>0.1</td>\n",
       "      <td>300.0</td>\n",
       "      <td>2.0</td>\n",
       "      <td>3.0</td>\n",
       "    </tr>\n",
       "    <tr>\n",
       "      <th>4</th>\n",
       "      <td>4.0</td>\n",
       "      <td>0.0010</td>\n",
       "      <td>0.1</td>\n",
       "      <td>300.0</td>\n",
       "      <td>2.0</td>\n",
       "      <td>4.0</td>\n",
       "    </tr>\n",
       "    <tr>\n",
       "      <th>...</th>\n",
       "      <td>...</td>\n",
       "      <td>...</td>\n",
       "      <td>...</td>\n",
       "      <td>...</td>\n",
       "      <td>...</td>\n",
       "      <td>...</td>\n",
       "    </tr>\n",
       "    <tr>\n",
       "      <th>427</th>\n",
       "      <td>427.0</td>\n",
       "      <td>0.0001</td>\n",
       "      <td>0.4</td>\n",
       "      <td>1500.0</td>\n",
       "      <td>2.0</td>\n",
       "      <td>4.0</td>\n",
       "    </tr>\n",
       "    <tr>\n",
       "      <th>428</th>\n",
       "      <td>428.0</td>\n",
       "      <td>0.0001</td>\n",
       "      <td>0.4</td>\n",
       "      <td>1500.0</td>\n",
       "      <td>2.0</td>\n",
       "      <td>5.0</td>\n",
       "    </tr>\n",
       "    <tr>\n",
       "      <th>429</th>\n",
       "      <td>429.0</td>\n",
       "      <td>0.0001</td>\n",
       "      <td>0.4</td>\n",
       "      <td>1500.0</td>\n",
       "      <td>3.0</td>\n",
       "      <td>3.0</td>\n",
       "    </tr>\n",
       "    <tr>\n",
       "      <th>430</th>\n",
       "      <td>430.0</td>\n",
       "      <td>0.0001</td>\n",
       "      <td>0.4</td>\n",
       "      <td>1500.0</td>\n",
       "      <td>3.0</td>\n",
       "      <td>4.0</td>\n",
       "    </tr>\n",
       "    <tr>\n",
       "      <th>431</th>\n",
       "      <td>431.0</td>\n",
       "      <td>0.0001</td>\n",
       "      <td>0.4</td>\n",
       "      <td>1500.0</td>\n",
       "      <td>3.0</td>\n",
       "      <td>5.0</td>\n",
       "    </tr>\n",
       "  </tbody>\n",
       "</table>\n",
       "<p>432 rows × 6 columns</p>\n",
       "</div>"
      ],
      "text/plain": [
       "       num  init_lr  dropout  hiddensize  ffn num layers  depth\n",
       "0      0.0   0.0010      0.1       300.0             1.0    3.0\n",
       "1      1.0   0.0010      0.1       300.0             1.0    4.0\n",
       "2      2.0   0.0010      0.1       300.0             1.0    5.0\n",
       "3      3.0   0.0010      0.1       300.0             2.0    3.0\n",
       "4      4.0   0.0010      0.1       300.0             2.0    4.0\n",
       "..     ...      ...      ...         ...             ...    ...\n",
       "427  427.0   0.0001      0.4      1500.0             2.0    4.0\n",
       "428  428.0   0.0001      0.4      1500.0             2.0    5.0\n",
       "429  429.0   0.0001      0.4      1500.0             3.0    3.0\n",
       "430  430.0   0.0001      0.4      1500.0             3.0    4.0\n",
       "431  431.0   0.0001      0.4      1500.0             3.0    5.0\n",
       "\n",
       "[432 rows x 6 columns]"
      ]
     },
     "execution_count": 10,
     "metadata": {},
     "output_type": "execute_result"
    }
   ],
   "source": [
    "cols = [\"num\", \"init_lr\", \"dropout\", \"hiddensize\", \"ffn num layers\", \"depth\"]\n",
    "df = pd.DataFrame(columns=cols)\n",
    "\n",
    "initlr = [1e-3, 1e-4]\n",
    "dropout = [0.1, 0.2, 0.3, 0.4]\n",
    "hiddensize = [300, 500, 700, 1000, 1200, 1500]\n",
    "ffnnumlayers = [1, 2, 3]\n",
    "depth = [3, 4, 5]\n",
    "\n",
    "model_dir = 0\n",
    "for l in initlr:\n",
    "    for d in dropout:\n",
    "        for h in hiddensize:\n",
    "            for f in ffnnumlayers:\n",
    "                for de in depth:\n",
    "                    new_row = [model_dir, l, d, h, f, de]\n",
    "                    new = pd.DataFrame(new_row).T\n",
    "                    # new = new.transpose()\n",
    "                    new.columns = cols\n",
    "                    df = pd.concat([df, new], ignore_index=True)\n",
    "                    model_dir = model_dir + 1\n",
    "df"
   ]
  },
  {
   "cell_type": "code",
   "execution_count": 11,
   "id": "79f9c759",
   "metadata": {},
   "outputs": [
    {
     "name": "stdout",
     "output_type": "stream",
     "text": [
      "0.6024041588487318\n",
      "models/151/test_scores.csv\n"
     ]
    }
   ],
   "source": [
    "df = add_results_to_df(df, model_path)  # print just auPR here"
   ]
  },
  {
   "cell_type": "code",
   "execution_count": 12,
   "id": "77d08f42",
   "metadata": {},
   "outputs": [
    {
     "data": {
      "text/plain": [
       "num                151.000000\n",
       "init_lr              0.001000\n",
       "dropout              0.300000\n",
       "hiddensize        1200.000000\n",
       "ffn num layers       3.000000\n",
       "depth                4.000000\n",
       "mean auc             0.801554\n",
       "mean prc-auc         0.602404\n",
       "Name: 151, dtype: float64"
      ]
     },
     "execution_count": 12,
     "metadata": {},
     "output_type": "execute_result"
    }
   ],
   "source": [
    "# print best\n",
    "df.to_csv(model_path + \"pk_gnn_hyperopt_results.csv\", index=False)\n",
    "df.iloc[151, :]"
   ]
  },
  {
   "cell_type": "markdown",
   "id": "1d612cba",
   "metadata": {},
   "source": [
    "### GNN on PK+37K screen"
   ]
  },
  {
   "cell_type": "code",
   "execution_count": 15,
   "id": "7418601e",
   "metadata": {
    "scrolled": true
   },
   "outputs": [
    {
     "data": {
      "text/html": [
       "<div>\n",
       "<style scoped>\n",
       "    .dataframe tbody tr th:only-of-type {\n",
       "        vertical-align: middle;\n",
       "    }\n",
       "\n",
       "    .dataframe tbody tr th {\n",
       "        vertical-align: top;\n",
       "    }\n",
       "\n",
       "    .dataframe thead th {\n",
       "        text-align: right;\n",
       "    }\n",
       "</style>\n",
       "<table border=\"1\" class=\"dataframe\">\n",
       "  <thead>\n",
       "    <tr style=\"text-align: right;\">\n",
       "      <th></th>\n",
       "      <th>Name</th>\n",
       "      <th>auPR</th>\n",
       "      <th>auROC</th>\n",
       "    </tr>\n",
       "  </thead>\n",
       "  <tbody>\n",
       "    <tr>\n",
       "      <th>0</th>\n",
       "      <td>depth_3_dropout_0.15000000000000002_ffn_num_la...</td>\n",
       "      <td>0.496595</td>\n",
       "      <td>0.904771</td>\n",
       "    </tr>\n",
       "    <tr>\n",
       "      <th>0</th>\n",
       "      <td>depth_5_dropout_0.25_ffn_num_layers_2_hidden_s...</td>\n",
       "      <td>0.493244</td>\n",
       "      <td>0.907362</td>\n",
       "    </tr>\n",
       "    <tr>\n",
       "      <th>0</th>\n",
       "      <td>depth_4_dropout_0.2_ffn_num_layers_3_hidden_si...</td>\n",
       "      <td>0.485611</td>\n",
       "      <td>0.904800</td>\n",
       "    </tr>\n",
       "    <tr>\n",
       "      <th>0</th>\n",
       "      <td>depth_6_dropout_0.30000000000000004_ffn_num_la...</td>\n",
       "      <td>0.483157</td>\n",
       "      <td>0.902562</td>\n",
       "    </tr>\n",
       "    <tr>\n",
       "      <th>0</th>\n",
       "      <td>depth_4_dropout_0.35000000000000003_ffn_num_la...</td>\n",
       "      <td>0.479004</td>\n",
       "      <td>0.900638</td>\n",
       "    </tr>\n",
       "    <tr>\n",
       "      <th>0</th>\n",
       "      <td>depth_4_dropout_0.30000000000000004_ffn_num_la...</td>\n",
       "      <td>0.474521</td>\n",
       "      <td>0.895864</td>\n",
       "    </tr>\n",
       "    <tr>\n",
       "      <th>0</th>\n",
       "      <td>depth_2_dropout_0.30000000000000004_ffn_num_la...</td>\n",
       "      <td>0.469082</td>\n",
       "      <td>0.899644</td>\n",
       "    </tr>\n",
       "    <tr>\n",
       "      <th>0</th>\n",
       "      <td>depth_3_dropout_0.4_ffn_num_layers_2_hidden_si...</td>\n",
       "      <td>0.465979</td>\n",
       "      <td>0.903821</td>\n",
       "    </tr>\n",
       "    <tr>\n",
       "      <th>0</th>\n",
       "      <td>depth_3_dropout_0.15000000000000002_ffn_num_la...</td>\n",
       "      <td>0.445869</td>\n",
       "      <td>0.893179</td>\n",
       "    </tr>\n",
       "    <tr>\n",
       "      <th>0</th>\n",
       "      <td>depth_3_dropout_0.30000000000000004_ffn_num_la...</td>\n",
       "      <td>0.435117</td>\n",
       "      <td>0.895844</td>\n",
       "    </tr>\n",
       "  </tbody>\n",
       "</table>\n",
       "</div>"
      ],
      "text/plain": [
       "                                                Name      auPR     auROC\n",
       "0  depth_3_dropout_0.15000000000000002_ffn_num_la...  0.496595  0.904771\n",
       "0  depth_5_dropout_0.25_ffn_num_layers_2_hidden_s...  0.493244  0.907362\n",
       "0  depth_4_dropout_0.2_ffn_num_layers_3_hidden_si...  0.485611  0.904800\n",
       "0  depth_6_dropout_0.30000000000000004_ffn_num_la...  0.483157  0.902562\n",
       "0  depth_4_dropout_0.35000000000000003_ffn_num_la...  0.479004  0.900638\n",
       "0  depth_4_dropout_0.30000000000000004_ffn_num_la...  0.474521  0.895864\n",
       "0  depth_2_dropout_0.30000000000000004_ffn_num_la...  0.469082  0.899644\n",
       "0  depth_3_dropout_0.4_ffn_num_layers_2_hidden_si...  0.465979  0.903821\n",
       "0  depth_3_dropout_0.15000000000000002_ffn_num_la...  0.445869  0.893179\n",
       "0  depth_3_dropout_0.30000000000000004_ffn_num_la...  0.435117  0.895844"
      ]
     },
     "execution_count": 15,
     "metadata": {},
     "output_type": "execute_result"
    }
   ],
   "source": [
    "folder = \"../models/pk_37k_screen_models_03192022/\"\n",
    "newdf = pd.DataFrame(columns=[\"Name\", \"auPR\", \"auROC\"])\n",
    "for name in glob.glob(folder + \"**/test_scores.csv\", recursive=True):\n",
    "    new = pd.read_csv(name)\n",
    "    cleannum = name.split(folder)[1].split(\"/test_scores\")[0]\n",
    "    mean1 = float(new.iloc[0, 1])\n",
    "    mean2 = float(new.iloc[0, 8])\n",
    "    currdf = pd.DataFrame()\n",
    "    currdf[\"Name\"] = [cleannum]\n",
    "    currdf[\"auPR\"] = [mean1]\n",
    "    currdf[\"auROC\"] = [mean2]\n",
    "    newdf = newdf.append(currdf)\n",
    "newdf = newdf.sort_values(\"auPR\", ascending=False)\n",
    "newdf.to_csv(folder + \"best_bayesian_models_04052022.csv\", index=False)\n",
    "# depth_3_dropout_0.15000000000000002_ffn_num_layers_3_hidden_size_2300 is the best\n",
    "\n",
    "newdf"
   ]
  },
  {
   "cell_type": "markdown",
   "id": "dc9f775b",
   "metadata": {},
   "source": [
    "### GNN on PK+37K screen + 1st round validation "
   ]
  },
  {
   "cell_type": "code",
   "execution_count": null,
   "id": "0cc828ee",
   "metadata": {},
   "outputs": [],
   "source": [
    "folder = \"../models/pk_37k_first_round_val_screen_models_10262022/\"\n",
    "\n",
    "newdf = pd.DataFrame(columns=[\"Name\", \"auPR\", \"auROC\"])\n",
    "for name in glob.glob(folder + \"**/test_scores.csv\", recursive=True):\n",
    "    new = pd.read_csv(name)\n",
    "    cleannum = name.split(folder)[1].split(\"/test_scores\")[0]\n",
    "    mean1 = float(new.iloc[0, 1])\n",
    "    mean2 = float(new.iloc[0, 8])\n",
    "    currdf = pd.DataFrame()\n",
    "    currdf[\"Name\"] = [cleannum]\n",
    "    currdf[\"auPR\"] = [mean1]\n",
    "    currdf[\"auROC\"] = [mean2]\n",
    "    newdf = newdf.append(currdf)\n",
    "newdf = newdf.sort_values(\"auPR\", ascending=False)\n",
    "newdf.to_csv(folder + \"best_bayesian_models_11152022.csv\", index=False)\n",
    "# the model is:\n",
    "# {'depth': 5, 'dropout': 0.25, 'ffn_num_layers': 2, 'hidden_size': 800}\n",
    "# num params: 2,306,401\n",
    "# 0.49268328715089965 +/- 0.03578022731657078 prc-auc"
   ]
  },
  {
   "cell_type": "markdown",
   "id": "6ea8eaa4",
   "metadata": {},
   "source": [
    "### GNN on PK+37K screen + 3 rounds validation "
   ]
  },
  {
   "cell_type": "code",
   "execution_count": null,
   "id": "a5694bc1",
   "metadata": {},
   "outputs": [],
   "source": [
    "folder = \"../models/pk_37k_three_rounds_val_models_03312023/\"\n",
    "newdf = pd.DataFrame(columns=[\"Name\", \"auPR\", \"auROC\"])\n",
    "for name in glob.glob(folder + \"**/test_scores.csv\", recursive=True):\n",
    "    new = pd.read_csv(name)\n",
    "    cleannum = name.split(folder)[1].split(\"/test_scores\")[0]\n",
    "    mean1 = float(new.iloc[0, 1])\n",
    "    mean2 = float(new.iloc[0, 8])\n",
    "    currdf = pd.DataFrame()\n",
    "    currdf[\"Name\"] = [cleannum]\n",
    "    currdf[\"auPR\"] = [mean1]\n",
    "    currdf[\"auROC\"] = [mean2]\n",
    "    newdf = newdf.append(currdf)\n",
    "newdf = newdf.sort_values(\"auPR\", ascending=False)\n",
    "newdf.to_csv(folder + \"best_bayesian_models_03312023.csv\", index=False)\n",
    "# the model is:\n",
    "# Best trial, with seed 17\n",
    "# {'depth': 6, 'dropout': 0.25, 'ffn_num_layers': 3, 'linked_hidden_size': 400}\n",
    "# num params: 833,601\n",
    "# 0.48560833452907726 +/- 0.05567827156867362 prc-auc"
   ]
  },
  {
   "cell_type": "markdown",
   "id": "61853366",
   "metadata": {},
   "source": [
    "# -----------------------------------------\n",
    "# Run best train set models on test set\n",
    "# -----------------------------------------"
   ]
  },
  {
   "cell_type": "code",
   "execution_count": 15,
   "id": "68af27d8",
   "metadata": {},
   "outputs": [],
   "source": [
    "# evaluate each prediction\n",
    "\n",
    "\n",
    "def modeleval(y_true, y_pred, plot=True):\n",
    "\n",
    "    new_ytrue = []\n",
    "    new_ypred = []\n",
    "    for x, y in zip(y_true, y_pred):\n",
    "        if y != \"Invalid SMILES\":\n",
    "            new_ytrue.append(x)\n",
    "            new_ypred.append(y)\n",
    "    y_true = new_ytrue\n",
    "    y_pred = new_ypred\n",
    "\n",
    "    auroc = float(roc_auc_score(y_true, y_pred))\n",
    "    print(\"auroc: \" + str(auroc))\n",
    "\n",
    "    # Compute Precision-Recall and plot curve\n",
    "    precision, recall, thresholds = precision_recall_curve(y_true, y_pred)\n",
    "    pr = float(auc(recall, precision))\n",
    "    print(\"precision recall: \" + str(pr))\n",
    "\n",
    "    if plot:\n",
    "        fig, ax = plt.subplots(figsize=(2, 2), dpi=300)\n",
    "        plt.clf()\n",
    "        plt.plot(recall, precision, label=\"Precision-recall curve\")\n",
    "        plt.xlabel(\"Recall\")\n",
    "        plt.ylabel(\"Precision\")\n",
    "        plt.ylim([0.0, 1.05])\n",
    "        plt.xlim([0.0, 1.05])\n",
    "        ax.spines[\"right\"].set_visible(False)\n",
    "        ax.spines[\"top\"].set_visible(False)\n",
    "        plt.tight_layout()\n",
    "        plt.show()\n",
    "\n",
    "        fpr, tpr, thresholds = metrics.roc_curve(y_true, y_pred)\n",
    "        fig, ax = plt.subplots(figsize=(2, 2), dpi=300)\n",
    "        plt.clf()\n",
    "        plt.plot(fpr, tpr, label=\"ROC curve\")\n",
    "        plt.xlabel(\"FPR\")\n",
    "        plt.ylabel(\"TPR\")\n",
    "        plt.ylim([0.0, 1.05])\n",
    "        plt.xlim([0.0, 1.05])\n",
    "        ax.spines[\"right\"].set_visible(False)\n",
    "        ax.spines[\"top\"].set_visible(False)\n",
    "        plt.tight_layout()\n",
    "        plt.show()\n",
    "\n",
    "    return (auroc, pr, y_true, y_pred)\n",
    "\n",
    "\n",
    "def test_vs_true(data_path, data_file, model_path, model_results):\n",
    "    true = pd.read_csv(data_path + data_file)\n",
    "    true = list(true[\"hit\"])\n",
    "\n",
    "    test = pd.read_csv(model_path + model_results)\n",
    "    test = [float(x) if x != \"Invalid SMILES\" else x for x in list(test[\"hit\"])]\n",
    "\n",
    "    # all stats\n",
    "    print(\"all stats\")\n",
    "    roc, pr, y_true, y_pred = modeleval(true, test)\n",
    "\n",
    "    # top-100 recall\n",
    "    print(\"top 100 predicted stats\")\n",
    "    top100pred = pd.DataFrame()\n",
    "    top100pred[\"true\"] = y_true\n",
    "    top100pred[\"test\"] = y_pred\n",
    "    top100pred = top100pred.sort_values(\"test\", ascending=False)\n",
    "    top100pred = top100pred.iloc[0:100, :]\n",
    "    top100pred_bin = [x > 0.5 for x in list(top100pred[\"test\"])]\n",
    "    print(\"recall: \")\n",
    "    print(metrics.recall_score(top100pred[\"true\"], top100pred_bin))\n",
    "    print(\"precision: \")\n",
    "    print(metrics.precision_score(top100pred[\"true\"], top100pred_bin))\n",
    "    _, _, _, _ = modeleval(top100pred[\"true\"], top100pred[\"test\"], plot=False)"
   ]
  },
  {
   "cell_type": "markdown",
   "id": "ee800479",
   "metadata": {},
   "source": [
    "### RFCs on fingerprints"
   ]
  },
  {
   "cell_type": "code",
   "execution_count": null,
   "id": "73d3a4d6",
   "metadata": {},
   "outputs": [],
   "source": [
    "# test just train set model on test set - could also do command line but it was convenient to keep in notebook\n",
    "data_path = \"../../ngonorrhoeae_abx_ml_discovery/data/data_prep_for_ml/data_prep_for_ml_pk_37k_screen/\"\n",
    "model_path = (\n",
    "    \"../../ngonorrhoeae_abx_ml_discovery/models/other_models/rfc_hyperopt_pk_37k/\"\n",
    ")\n",
    "actual_model_path = model_path + \"122/\"\n",
    "model_results = \"122_test_set_rfc_preds.csv\"\n",
    "activate_command = \"conda activate chemprop; \"\n",
    "run_command = (\n",
    "    \"python sklearn_predict.py --test_path \"\n",
    "    + data_path\n",
    "    + \"TEST_03_19_2022.csv --checkpoint_dir \"\n",
    "    + actual_model_path\n",
    "    + \" --preds_path \"\n",
    "    + model_path\n",
    "    + model_results\n",
    "    + \" --smiles_column SMILES\"\n",
    ")\n",
    "full_command = activate_command + run_command\n",
    "test = subprocess.run(\n",
    "    full_command, cwd=\"../../chemprop/\", shell=True, capture_output=True\n",
    ")"
   ]
  },
  {
   "cell_type": "code",
   "execution_count": 16,
   "id": "2a1c0ee8",
   "metadata": {},
   "outputs": [
    {
     "name": "stdout",
     "output_type": "stream",
     "text": [
      "all stats\n",
      "auroc: 0.9298151977585031\n",
      "precision recall: 0.4375764660273601\n"
     ]
    },
    {
     "data": {
      "image/png": "[encoded data removed]",
      "text/plain": [
       "<Figure size 600x600 with 1 Axes>"
      ]
     },
     "metadata": {
      "needs_background": "light"
     },
     "output_type": "display_data"
    },
    {
     "data": {
      "image/png": "[encoded data removed]",
      "text/plain": [
       "<Figure size 600x600 with 1 Axes>"
      ]
     },
     "metadata": {
      "needs_background": "light"
     },
     "output_type": "display_data"
    },
    {
     "name": "stdout",
     "output_type": "stream",
     "text": [
      "top 100 predicted stats\n",
      "recall: \n",
      "1.0\n",
      "precision: \n",
      "0.65\n",
      "auroc: 0.7147252747252747\n",
      "precision recall: 0.8149413711539484\n"
     ]
    }
   ],
   "source": [
    "test_vs_true(data_path, \"TEST_03_19_2022.csv\", model_path, model_results)"
   ]
  },
  {
   "cell_type": "markdown",
   "id": "39a32bc3",
   "metadata": {},
   "source": [
    "### SVMs on fingerprints"
   ]
  },
  {
   "cell_type": "code",
   "execution_count": null,
   "id": "5845b44d",
   "metadata": {},
   "outputs": [],
   "source": [
    "# test just train set model on test set - could also do command line but it was convenient to keep in notebook\n",
    "data_path = \"../../ngonorrhoeae_abx_ml_discovery/data/data_prep_for_ml/data_prep_for_ml_pk_37k_screen/\"\n",
    "model_path = (\n",
    "    \"../../ngonorrhoeae_abx_ml_discovery/models/other_models/svm_hyperopt_pk_37k/\"\n",
    ")\n",
    "actual_model_path = model_path + \"15/\"\n",
    "model_results = \"15_test_set_svm_preds.csv\"\n",
    "activate_command = \"conda activate chemprop; \"\n",
    "run_command = (\n",
    "    \"python sklearn_predict.py --test_path \"\n",
    "    + data_path\n",
    "    + \"TEST_03_19_2022.csv --checkpoint_dir \"\n",
    "    + actual_model_path\n",
    "    + \" --preds_path \"\n",
    "    + model_path\n",
    "    + model_results\n",
    "    + \" --smiles_column SMILES\"\n",
    ")\n",
    "full_command = activate_command + run_command\n",
    "test = subprocess.run(\n",
    "    full_command, cwd=\"../../chemprop/\", shell=True, capture_output=True\n",
    ")"
   ]
  },
  {
   "cell_type": "code",
   "execution_count": 18,
   "id": "83a06352",
   "metadata": {},
   "outputs": [
    {
     "name": "stdout",
     "output_type": "stream",
     "text": [
      "all stats\n",
      "auroc: 0.8610026103994741\n",
      "precision recall: 0.49767682936353247\n"
     ]
    },
    {
     "data": {
      "image/png": "[encoded data removed]",
      "text/plain": [
       "<Figure size 600x600 with 1 Axes>"
      ]
     },
     "metadata": {
      "needs_background": "light"
     },
     "output_type": "display_data"
    },
    {
     "data": {
      "image/png": "[encoded data removed]",
      "text/plain": [
       "<Figure size 600x600 with 1 Axes>"
      ]
     },
     "metadata": {
      "needs_background": "light"
     },
     "output_type": "display_data"
    },
    {
     "name": "stdout",
     "output_type": "stream",
     "text": [
      "top 100 predicted stats\n",
      "recall: \n",
      "0.4666666666666667\n",
      "precision: \n",
      "0.9210526315789473\n",
      "auroc: 0.7373333333333334\n",
      "precision recall: 0.8864241742241417\n"
     ]
    }
   ],
   "source": [
    "test_vs_true(data_path, \"TEST_03_19_2022.csv\", model_path, model_results)"
   ]
  },
  {
   "cell_type": "markdown",
   "id": "c33d5ec9",
   "metadata": {},
   "source": [
    "### FFN on fingerprints"
   ]
  },
  {
   "cell_type": "code",
   "execution_count": null,
   "id": "2536674e",
   "metadata": {},
   "outputs": [],
   "source": [
    "# test just train set model on test set - could also do command line but it was convenient to keep in notebook\n",
    "data_path = \"../../ngonorrhoeae_abx_ml_discovery/data/data_prep_for_ml/data_prep_for_ml_pk_37k_screen/\"\n",
    "model_path = (\n",
    "    \"../../ngonorrhoeae_abx_ml_discovery/models/other_models/ffn_hyperopt_pk_37k/\"\n",
    ")\n",
    "actual_model_path = model_path + \"20/\"\n",
    "model_results = \"20_test_set_ffn_preds.csv\"\n",
    "activate_command = \"conda activate chemprop; \"\n",
    "run_command = (\n",
    "    \"python sklearn_predict.py --test_path \"\n",
    "    + data_path\n",
    "    + \"TEST_03_19_2022.csv --checkpoint_dir \"\n",
    "    + actual_model_path\n",
    "    + \" --preds_path \"\n",
    "    + model_path\n",
    "    + model_results\n",
    "    + \" --smiles_column SMILES  --features_generator morgan --no_features_scaling\"\n",
    ")\n",
    "full_command = activate_command + run_command\n",
    "test = subprocess.run(\n",
    "    full_command, cwd=\"../../chemprop/\", shell=True, capture_output=True\n",
    ")"
   ]
  },
  {
   "cell_type": "code",
   "execution_count": 20,
   "id": "339d20bb",
   "metadata": {},
   "outputs": [
    {
     "name": "stdout",
     "output_type": "stream",
     "text": [
      "all stats\n",
      "auroc: 0.8993020319417584\n",
      "precision recall: 0.48793736729294873\n"
     ]
    },
    {
     "data": {
      "image/png": "[encoded data removed]",
      "text/plain": [
       "<Figure size 600x600 with 1 Axes>"
      ]
     },
     "metadata": {
      "needs_background": "light"
     },
     "output_type": "display_data"
    },
    {
     "data": {
      "image/png": "[encoded data removed]",
      "text/plain": [
       "<Figure size 600x600 with 1 Axes>"
      ]
     },
     "metadata": {
      "needs_background": "light"
     },
     "output_type": "display_data"
    },
    {
     "name": "stdout",
     "output_type": "stream",
     "text": [
      "top 100 predicted stats\n",
      "recall: \n",
      "1.0\n",
      "precision: \n",
      "0.77\n",
      "auroc: 0.6784302653867871\n",
      "precision recall: 0.8807854270840441\n"
     ]
    }
   ],
   "source": [
    "test_vs_true(data_path, \"TEST_03_19_2022.csv\", model_path, model_results)"
   ]
  },
  {
   "cell_type": "markdown",
   "id": "d48f9560",
   "metadata": {},
   "source": [
    "### GNN on PK screen alone"
   ]
  },
  {
   "cell_type": "code",
   "execution_count": null,
   "id": "de3cd72f",
   "metadata": {},
   "outputs": [],
   "source": [
    "# test just train set model on test set - could also do command line but it was convenient to keep in notebook\n",
    "data_path = \"../../ngonorrhoeae_abx_ml_discovery/data/data_prep_for_ml/data_prep_for_ml_pk_screen/\"\n",
    "model_path = \"../../ngonorrhoeae_abx_ml_discovery/models/pk_screen_models_11152021/\"\n",
    "actual_model_path = model_path + \"151/\"\n",
    "model_results = \"151_test_set_gnn_preds.csv\"\n",
    "run_command = (\n",
    "    \"python predict.py --test_path \"\n",
    "    + data_path\n",
    "    + \"TEST_11_15_2021.csv --checkpoint_dir \"\n",
    "    + actual_model_path\n",
    "    + \" --preds_path \"\n",
    "    + model_path\n",
    "    + model_results\n",
    "    + \" --features_path \"\n",
    "    + data_path\n",
    "    + \"TEST_11_15_2021.npz --no_features_scaling --smiles_column SMILES --ensemble_variance\"\n",
    ")\n",
    "full_command = activate_command + run_command\n",
    "test = subprocess.run(full_command, cwd=\"../chemprop/\", shell=True, capture_output=True)"
   ]
  },
  {
   "cell_type": "code",
   "execution_count": 23,
   "id": "21775233",
   "metadata": {},
   "outputs": [],
   "source": [
    "# instead of test_vs_true, performed slightly differently-coded model evaluation; results are in 151_test_set_performance.csv"
   ]
  },
  {
   "cell_type": "markdown",
   "id": "d2b7d696",
   "metadata": {},
   "source": [
    "### GNN on PK+37K screen"
   ]
  },
  {
   "cell_type": "code",
   "execution_count": null,
   "id": "a7200e73",
   "metadata": {},
   "outputs": [],
   "source": [
    "# test just train set model on test set - could also do command line but it was convenient to keep in notebook\n",
    "data_path = \"../../ngonorrhoeae_abx_ml_discovery/data/data_prep_for_ml/data_prep_for_ml_pk_37k_screen/\"\n",
    "model_path = \"../../ngonorrhoeae_abx_ml_discovery/models/pk_37k_screen_models_03192022/\"\n",
    "model_name = \"depth_3_dropout_0.15000000000000002_ffn_num_layers_3_hidden_size_2300\"\n",
    "actual_model_path = model_path + model_name\n",
    "model_results = model_name + \"_preds.csv\"\n",
    "activate_command = \"conda activate chemprop; \"\n",
    "run_command = (\n",
    "    \"python predict.py --test_path \"\n",
    "    + data_path\n",
    "    + \"TEST_03_19_2022.csv --checkpoint_dir \"\n",
    "    + actual_model_path\n",
    "    + \" --preds_path \"\n",
    "    + model_path\n",
    "    + model_results\n",
    "    + \" --features_path \"\n",
    "    + data_path\n",
    "    + \"TEST_03_19_2022.npz --no_features_scaling --smiles_column SMILES --ensemble_variance --gpu 0\"\n",
    ")\n",
    "full_command = activate_command + run_command\n",
    "test = subprocess.run(full_command, cwd=\"../chemprop/\", shell=True, capture_output=True)"
   ]
  },
  {
   "cell_type": "code",
   "execution_count": 25,
   "id": "93959477",
   "metadata": {},
   "outputs": [
    {
     "name": "stdout",
     "output_type": "stream",
     "text": [
      "all stats\n",
      "auroc: 0.9260503826245683\n",
      "precision recall: 0.5361002617930711\n"
     ]
    },
    {
     "data": {
      "image/png": "[encoded data removed]",
      "text/plain": [
       "<Figure size 600x600 with 1 Axes>"
      ]
     },
     "metadata": {
      "needs_background": "light"
     },
     "output_type": "display_data"
    },
    {
     "data": {
      "image/png": "[encoded data removed]",
      "text/plain": [
       "<Figure size 600x600 with 1 Axes>"
      ]
     },
     "metadata": {
      "needs_background": "light"
     },
     "output_type": "display_data"
    },
    {
     "name": "stdout",
     "output_type": "stream",
     "text": [
      "top 100 predicted stats\n",
      "recall: \n",
      "0.9873417721518988\n",
      "precision: \n",
      "0.7878787878787878\n",
      "auroc: 0.6962025316455696\n",
      "precision recall: 0.9124859529162718\n"
     ]
    }
   ],
   "source": [
    "test_vs_true(data_path, \"TEST_03_19_2022.csv\", model_path, model_results)"
   ]
  },
  {
   "cell_type": "markdown",
   "id": "ba8da932",
   "metadata": {},
   "source": [
    "### GNN on PK+37K screen + 1st round validation"
   ]
  },
  {
   "cell_type": "code",
   "execution_count": null,
   "id": "27cfe971",
   "metadata": {},
   "outputs": [],
   "source": [
    "# test just train set model on test set - could also do command line but it was convenient to keep in notebook\n",
    "data_path = \"../../ngonorrhoeae_abx_ml_discovery/data/data_prep_for_ml/data_prep_for_ml_pk_37k_first_round_val_screen/\"\n",
    "model_path = \"../../ngonorrhoeae_abx_ml_discovery/models/pk_37k_first_round_val_screen_models_10262022/\"\n",
    "model_name = \"depth_5_dropout_0.25_ffn_num_layers_2_hidden_size_800\"\n",
    "actual_model_path = model_path + model_name\n",
    "model_results = model_name + \"_preds.csv\"\n",
    "activate_command = \"conda activate chemprop; \"\n",
    "run_command = (\n",
    "    \"python predict.py --test_path \"\n",
    "    + data_path\n",
    "    + \"TEST_10_26_2022.csv --checkpoint_dir \"\n",
    "    + actual_model_path\n",
    "    + \" --preds_path \"\n",
    "    + model_path\n",
    "    + model_results\n",
    "    + \" --features_path \"\n",
    "    + data_path\n",
    "    + \"TEST_10_26_2022.npz --no_features_scaling --smiles_column SMILES --ensemble_variance --gpu 0\"\n",
    ")\n",
    "full_command = activate_command + run_command\n",
    "test = subprocess.run(full_command, cwd=\"../chemprop/\", shell=True, capture_output=True)"
   ]
  },
  {
   "cell_type": "code",
   "execution_count": 29,
   "id": "c5ee746d",
   "metadata": {
    "scrolled": true
   },
   "outputs": [
    {
     "name": "stdout",
     "output_type": "stream",
     "text": [
      "all stats\n",
      "auroc: 0.9362795570458112\n",
      "precision recall: 0.6150414351487526\n"
     ]
    },
    {
     "data": {
      "image/png": "[encoded data removed]",
      "text/plain": [
       "<Figure size 600x600 with 1 Axes>"
      ]
     },
     "metadata": {
      "needs_background": "light"
     },
     "output_type": "display_data"
    },
    {
     "data": {
      "image/png": "[encoded data removed]",
      "text/plain": [
       "<Figure size 600x600 with 1 Axes>"
      ]
     },
     "metadata": {
      "needs_background": "light"
     },
     "output_type": "display_data"
    },
    {
     "name": "stdout",
     "output_type": "stream",
     "text": [
      "top 100 predicted stats\n",
      "recall: \n",
      "1.0\n",
      "precision: \n",
      "0.85\n",
      "auroc: 0.7372549019607844\n",
      "precision recall: 0.9231888670753678\n"
     ]
    }
   ],
   "source": [
    "test_vs_true(data_path, \"TEST_10_26_2022.csv\", model_path, model_results)"
   ]
  },
  {
   "cell_type": "markdown",
   "id": "ca05b4d4",
   "metadata": {},
   "source": [
    "### GNN on PK+37K screen + 3 rounds validation"
   ]
  },
  {
   "cell_type": "code",
   "execution_count": null,
   "id": "0906f1ac",
   "metadata": {},
   "outputs": [],
   "source": [
    "# test just train set model on test set - could also do command line but it was convenient to keep in notebook\n",
    "data_path = \"../../ngonorrhoeae_abx_ml_discovery/data/data_prep_for_ml/data_prep_for_ml_pk_37k_three_rounds_val/\"\n",
    "model_path = \"../../ngonorrhoeae_abx_ml_discovery/models/pk_37k_three_rounds_val_models_03312023/\"\n",
    "model_name = \"trial_seed_17\"\n",
    "actual_model_path = model_path + model_name\n",
    "model_results = model_name + \"_preds.csv\"\n",
    "activate_command = \"conda activate chemprop; \"\n",
    "run_command = (\n",
    "    \"python predict.py --test_path \"\n",
    "    + data_path\n",
    "    + \"TEST_03_31_2023.csv --checkpoint_dir \"\n",
    "    + actual_model_path\n",
    "    + \" --preds_path \"\n",
    "    + model_path\n",
    "    + model_results\n",
    "    + \" --features_path \"\n",
    "    + data_path\n",
    "    + \"TEST_03_31_2023.npz --no_features_scaling --smiles_column SMILES --ensemble_variance --gpu 0\"\n",
    ")\n",
    "full_command = activate_command + run_command\n",
    "test = subprocess.run(full_command, cwd=\"../chemprop/\", shell=True, capture_output=True)"
   ]
  },
  {
   "cell_type": "code",
   "execution_count": 31,
   "id": "740cca4b",
   "metadata": {},
   "outputs": [
    {
     "name": "stdout",
     "output_type": "stream",
     "text": [
      "all stats\n",
      "auroc: 0.9231029958613145\n",
      "precision recall: 0.5276820216126904\n"
     ]
    },
    {
     "data": {
      "image/png": "[encoded data removed]",
      "text/plain": [
       "<Figure size 600x600 with 1 Axes>"
      ]
     },
     "metadata": {
      "needs_background": "light"
     },
     "output_type": "display_data"
    },
    {
     "data": {
      "image/png": "[encoded data removed]",
      "text/plain": [
       "<Figure size 600x600 with 1 Axes>"
      ]
     },
     "metadata": {
      "needs_background": "light"
     },
     "output_type": "display_data"
    },
    {
     "name": "stdout",
     "output_type": "stream",
     "text": [
      "top 100 predicted stats\n",
      "recall: \n",
      "1.0\n",
      "precision: \n",
      "0.81\n",
      "auroc: 0.6523716699155295\n",
      "precision recall: 0.8641566788896411\n"
     ]
    }
   ],
   "source": [
    "test_vs_true(data_path, \"TEST_03_31_2023.csv\", model_path, model_results)"
   ]
  },
  {
   "cell_type": "markdown",
   "id": "7355ddfc",
   "metadata": {},
   "source": [
    "After figuring out final hyperparameters, can train models with all data in the 04_train_final_models_all_data.sh script."
   ]
  },
  {
   "cell_type": "code",
   "execution_count": null,
   "id": "2b73eae7",
   "metadata": {},
   "outputs": [
    {
     "data": {
      "text/html": [
       "<div>\n",
       "<style scoped>\n",
       "    .dataframe tbody tr th:only-of-type {\n",
       "        vertical-align: middle;\n",
       "    }\n",
       "\n",
       "    .dataframe tbody tr th {\n",
       "        vertical-align: top;\n",
       "    }\n",
       "\n",
       "    .dataframe thead th {\n",
       "        text-align: right;\n",
       "    }\n",
       "</style>\n",
       "<table border=\"1\" class=\"dataframe\">\n",
       "  <thead>\n",
       "    <tr style=\"text-align: right;\">\n",
       "      <th></th>\n",
       "      <th>Name</th>\n",
       "      <th>auPR</th>\n",
       "      <th>auROC</th>\n",
       "    </tr>\n",
       "  </thead>\n",
       "  <tbody>\n",
       "    <tr>\n",
       "      <th>0</th>\n",
       "      <td>depth_3_dropout_0.15000000000000002_ffn_num_la...</td>\n",
       "      <td>0.496595</td>\n",
       "      <td>0.904771</td>\n",
       "    </tr>\n",
       "    <tr>\n",
       "      <th>1</th>\n",
       "      <td>depth_5_dropout_0.25_ffn_num_layers_2_hidden_s...</td>\n",
       "      <td>0.493244</td>\n",
       "      <td>0.907362</td>\n",
       "    </tr>\n",
       "    <tr>\n",
       "      <th>2</th>\n",
       "      <td>depth_4_dropout_0.2_ffn_num_layers_3_hidden_si...</td>\n",
       "      <td>0.485611</td>\n",
       "      <td>0.904800</td>\n",
       "    </tr>\n",
       "    <tr>\n",
       "      <th>3</th>\n",
       "      <td>depth_6_dropout_0.30000000000000004_ffn_num_la...</td>\n",
       "      <td>0.483157</td>\n",
       "      <td>0.902562</td>\n",
       "    </tr>\n",
       "    <tr>\n",
       "      <th>4</th>\n",
       "      <td>depth_4_dropout_0.35000000000000003_ffn_num_la...</td>\n",
       "      <td>0.479004</td>\n",
       "      <td>0.900638</td>\n",
       "    </tr>\n",
       "    <tr>\n",
       "      <th>5</th>\n",
       "      <td>depth_4_dropout_0.30000000000000004_ffn_num_la...</td>\n",
       "      <td>0.474521</td>\n",
       "      <td>0.895864</td>\n",
       "    </tr>\n",
       "    <tr>\n",
       "      <th>6</th>\n",
       "      <td>depth_2_dropout_0.30000000000000004_ffn_num_la...</td>\n",
       "      <td>0.469082</td>\n",
       "      <td>0.899644</td>\n",
       "    </tr>\n",
       "    <tr>\n",
       "      <th>7</th>\n",
       "      <td>depth_3_dropout_0.4_ffn_num_layers_2_hidden_si...</td>\n",
       "      <td>0.465979</td>\n",
       "      <td>0.903821</td>\n",
       "    </tr>\n",
       "    <tr>\n",
       "      <th>8</th>\n",
       "      <td>depth_3_dropout_0.15000000000000002_ffn_num_la...</td>\n",
       "      <td>0.445869</td>\n",
       "      <td>0.893179</td>\n",
       "    </tr>\n",
       "    <tr>\n",
       "      <th>9</th>\n",
       "      <td>depth_3_dropout_0.30000000000000004_ffn_num_la...</td>\n",
       "      <td>0.435117</td>\n",
       "      <td>0.895844</td>\n",
       "    </tr>\n",
       "  </tbody>\n",
       "</table>\n",
       "</div>"
      ],
      "text/plain": [
       "                                                Name      auPR     auROC\n",
       "0  depth_3_dropout_0.15000000000000002_ffn_num_la...  0.496595  0.904771\n",
       "1  depth_5_dropout_0.25_ffn_num_layers_2_hidden_s...  0.493244  0.907362\n",
       "2  depth_4_dropout_0.2_ffn_num_layers_3_hidden_si...  0.485611  0.904800\n",
       "3  depth_6_dropout_0.30000000000000004_ffn_num_la...  0.483157  0.902562\n",
       "4  depth_4_dropout_0.35000000000000003_ffn_num_la...  0.479004  0.900638\n",
       "5  depth_4_dropout_0.30000000000000004_ffn_num_la...  0.474521  0.895864\n",
       "6  depth_2_dropout_0.30000000000000004_ffn_num_la...  0.469082  0.899644\n",
       "7  depth_3_dropout_0.4_ffn_num_layers_2_hidden_si...  0.465979  0.903821\n",
       "8  depth_3_dropout_0.15000000000000002_ffn_num_la...  0.445869  0.893179\n",
       "9  depth_3_dropout_0.30000000000000004_ffn_num_la...  0.435117  0.895844"
      ]
     },
     "execution_count": 2,
     "metadata": {},
     "output_type": "execute_result"
    }
   ],
   "source": [
    "all_pk_37k_gnn_models = pd.read_csv(\n",
    "    \"../models/pk_37k_screen_models_03192022/best_bayesian_models_04052022.csv\"\n",
    ")\n",
    "all_pk_37k_gnn_models"
   ]
  },
  {
   "cell_type": "code",
   "execution_count": 3,
   "id": "d25b1a42",
   "metadata": {},
   "outputs": [
    {
     "name": "stdout",
     "output_type": "stream",
     "text": [
      "(0.8029879337835795, 0.005157079731233701)\n"
     ]
    }
   ],
   "source": [
    "print(sp.pearsonr(all_pk_37k_gnn_models[\"auPR\"], all_pk_37k_gnn_models[\"auROC\"]))"
   ]
  },
  {
   "cell_type": "code",
   "execution_count": null,
   "id": "2d1d8cf9",
   "metadata": {},
   "outputs": [],
   "source": []
  }
 ],
 "metadata": {
  "kernelspec": {
   "display_name": "chemprop",
   "language": "python",
   "name": "python3"
  },
  "language_info": {
   "codemirror_mode": {
    "name": "ipython",
    "version": 3
   },
   "file_extension": ".py",
   "mimetype": "text/x-python",
   "name": "python",
   "nbconvert_exporter": "python",
   "pygments_lexer": "ipython3",
   "version": "3.8.12"
  }
 },
 "nbformat": 4,
 "nbformat_minor": 5
}
