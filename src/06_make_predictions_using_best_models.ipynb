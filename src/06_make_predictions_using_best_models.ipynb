{
 "cells": [
  {
   "cell_type": "code",
   "execution_count": null,
   "id": "da0db27d",
   "metadata": {},
   "outputs": [
    {
     "name": "stderr",
     "output_type": "stream",
     "text": [
      "/Users/jackie16201/Desktop/Spring_2023/ngonorrhoeae_abx_ml_discovery/src/utils.py:5: DeprecationWarning: The rdkit.Chem.MCS module is deprecated; please use rdkit.Chem.rdFMCS instead.\n",
      "  from rdkit.Chem import MCS, Descriptors, PandasTools, AllChem\n",
      "<frozen importlib._bootstrap>:219: RuntimeWarning: to-Python converter for boost::shared_ptr<RDKit::FilterCatalogEntry const> already registered; second conversion method ignored.\n"
     ]
    }
   ],
   "source": [
    "import subprocess\n",
    "\n",
    "import numpy as np\n",
    "import pandas as pd\n",
    "\n",
    "%matplotlib inline\n",
    "from tqdm.auto import tqdm\n",
    "\n",
    "from utils import (check_pains_brenk, filter_for_mw_bounds,\n",
    "                   filter_for_nitrofuran, filter_for_quinolone,\n",
    "                   filter_for_sulfonamide, keep_valid_molecules)"
   ]
  },
  {
   "cell_type": "code",
   "execution_count": 2,
   "id": "99519bc7",
   "metadata": {},
   "outputs": [],
   "source": [
    "def chunk_up_and_run_predictions(\n",
    "    data_path, data_file, features_file, model_dir, chunksize=1000, smiles_col=\"SMILES\"\n",
    "):\n",
    "\n",
    "    # first chunk up data + features\n",
    "    data = pd.read_csv(data_path + data_file)\n",
    "    with np.load(data_path + features_file) as ftsdata:\n",
    "        ftsdata = ftsdata[\"features\"]\n",
    "\n",
    "    temp_dir_chunks = \"../out/predictions_from_models/chunks/\"\n",
    "    for i in range(0, len(data), chunksize):\n",
    "        smis = pd.DataFrame(data.iloc[i : i + chunksize, :])\n",
    "        smis.to_csv(temp_dir_chunks + str(i) + \".csv\", index=False)\n",
    "        nps = ftsdata[i : i + chunksize, :]\n",
    "        np.save(temp_dir_chunks + str(i) + \".npy\", nps)\n",
    "\n",
    "    # could do this command line - convenient to keep within notebook for now\n",
    "    # actually run predictions\n",
    "    for j in range(0, len(data), chunksize):\n",
    "        activate_command = \"conda activate chemprop; \"\n",
    "        run_command = (\n",
    "            \"chemprop_predict --test_path \"\n",
    "            + temp_dir_chunks\n",
    "            + str(j)\n",
    "            + \".csv\"\n",
    "            + \" --checkpoint_dir \"\n",
    "            + model_dir\n",
    "            + \" --preds_path \"\n",
    "            + temp_dir_chunks\n",
    "            + str(j)\n",
    "            + \"_preds.csv\"\n",
    "            + \" --features_path \"\n",
    "            + temp_dir_chunks\n",
    "            + str(j)\n",
    "            + \".npy --no_features_scaling --smiles_column \"\n",
    "            + smiles_col\n",
    "            + \" --ensemble_variance --gpu 0\"\n",
    "        )\n",
    "\n",
    "        full_command = activate_command + run_command\n",
    "        test = subprocess.run(full_command, shell=True, capture_output=True)\n",
    "\n",
    "    # now smush chunks back together\n",
    "    df = pd.read_csv(temp_dir_chunks + \"0_preds.csv\")\n",
    "    for i in range(chunksize, len(data), chunksize):\n",
    "        new = pd.read_csv(temp_dir_chunks + str(i) + \"_preds.csv\")\n",
    "        df = pd.concat([df, new])\n",
    "    return df"
   ]
  },
  {
   "cell_type": "markdown",
   "id": "fd2ea594",
   "metadata": {},
   "source": [
    "# PK GNN on 37K screen"
   ]
  },
  {
   "cell_type": "code",
   "execution_count": null,
   "id": "37062a1b",
   "metadata": {},
   "outputs": [],
   "source": [
    "data_path = \"../data/library_info/\"\n",
    "df = chunk_up_and_run_predictions(\n",
    "    data_path=\"../data/library_info/\",\n",
    "    data_file=\"37Kclean.csv\",\n",
    "    features_file=\"37Kclean.npz\",\n",
    "    model_dir=\"../models/pk_screen_models_11152021/FINAL151/\",\n",
    ")\n",
    "df.to_csv(\n",
    "    \"../out/predictions_from_models/pk_model/37k_screen/37K_chunks_with_151_model.csv\",\n",
    "    index=False,\n",
    ")"
   ]
  },
  {
   "cell_type": "markdown",
   "id": "a7ea0aa8",
   "metadata": {},
   "source": [
    "# PK+37K GNN on 800K"
   ]
  },
  {
   "cell_type": "code",
   "execution_count": null,
   "id": "62ead0cb",
   "metadata": {},
   "outputs": [],
   "source": [
    "data_path = \"../data/library_info/\"\n",
    "df = chunk_up_and_run_predictions(\n",
    "    data_path=\"../data/library_info/\",\n",
    "    data_file=\"broad800k.csv\",\n",
    "    features_file=\"broad800k.npz\",\n",
    "    model_dir=\"../models/pk_37k_screen_models_03192022/FINALbayHO04052022/\",\n",
    "    smiles_col=\"smiles\",\n",
    ")\n",
    "df.to_csv(\n",
    "    \"../out/predictions_from_models/pk_37k_model/800k/broad800K_melis_predictions_04_25_2022.csv\",\n",
    "    index=False,\n",
    ")"
   ]
  },
  {
   "cell_type": "markdown",
   "id": "ade2c7fd",
   "metadata": {},
   "source": [
    "# PK+37K GNN on 5M 'easy-to-order' set"
   ]
  },
  {
   "cell_type": "code",
   "execution_count": null,
   "id": "4c76102d",
   "metadata": {},
   "outputs": [],
   "source": [
    "data_path = \"../data/library_info/\"\n",
    "df = chunk_up_and_run_predictions(\n",
    "    data_path=\"../data/library_info/\",\n",
    "    data_file=\"cleaned_full_all_dbs_04_19_2022.csv\",\n",
    "    features_file=\"cleaned_full_all_dbs_04_19_2022.npz\",\n",
    "    model_dir=\"../models/pk_37k_screen_models_03192022/FINALbayHO04052022/\",\n",
    ")\n",
    "df.to_csv(\n",
    "    \"../out/predictions_from_models/pk_37k_model/5m/extended_screen_set_melis_predictions_05_01_2022.csv\",\n",
    "    index=False,\n",
    ")"
   ]
  },
  {
   "cell_type": "markdown",
   "id": "396226bf",
   "metadata": {},
   "source": [
    "# PK+37K+1st round screen GNN on 800K"
   ]
  },
  {
   "cell_type": "code",
   "execution_count": null,
   "id": "3d2b0394",
   "metadata": {},
   "outputs": [],
   "source": [
    "data_path = \"../data/library_info/\"\n",
    "df = chunk_up_and_run_predictions(\n",
    "    data_path=\"../data/library_info/\",\n",
    "    data_file=\"broad800k.csv\",\n",
    "    features_file=\"broad800k.npz\",\n",
    "    model_dir=\"../models/pk_37k_first_round_val_screen_models_10262022/FINALbayHO11152022/\",\n",
    "    smiles_col=\"smiles\",\n",
    ")\n",
    "df.to_csv(\n",
    "    \"../out/predictions_from_models/pk_37k_1round_model/800k/broad800K_melis_predictions_with_FINALbayHO11152022_11_16_2022.csv\",\n",
    "    index=False,\n",
    ")"
   ]
  },
  {
   "cell_type": "markdown",
   "id": "541a9b38",
   "metadata": {},
   "source": [
    "# PK+37K+1st round screen GNN on 5M 'easy-to-order' set"
   ]
  },
  {
   "cell_type": "code",
   "execution_count": null,
   "id": "2fbd0723",
   "metadata": {},
   "outputs": [],
   "source": [
    "data_path = \"../data/library_info/\"\n",
    "df = chunk_up_and_run_predictions(\n",
    "    data_path=\"../data/library_info/\",\n",
    "    data_file=\"cleaned_full_all_dbs_04_19_2022.csv\",\n",
    "    features_file=\"cleaned_full_all_dbs_04_19_2022.npz\",\n",
    "    model_dir=\"../models/pk_37k_first_round_val_screen_models_10262022/FINALbayHO11152022/\",\n",
    ")\n",
    "df.to_csv(\n",
    "    \"../out/predictions_from_models/pk_37k_1round_model/5m/extended_screen_set_with_FINALbayHO11152022_melis_predictions_11_22_2022.csv\",\n",
    "    index=False,\n",
    ")"
   ]
  },
  {
   "cell_type": "markdown",
   "id": "b218bbed",
   "metadata": {},
   "source": [
    "### REAL Diversity Set: \n",
    "\"Virtual screening of the ultra-large databases can be performed iteratively, starting with a small subset. Such a diverse subset can provide essential data to teach AI-based algorithms or already result in promising hits. REAL Diversity Set has 43.8 million compounds identified using the MaxMin algorithm in the entire REAL Database. The compounds have no analogs having a Tanimoto similarity of more than 0.65 (Morgan 2 fingerprint, 512 bit) within the set and within the entire Enamine stock screening compound collection. REAL Diversity Set compounds comply with the Ro5 and Veber criteria: MW≤500, SlogP≤5, HBA≤10, HBD≤5, rotatable bonds≤10, and TPSA≤140 and lack PAINS and toxicophores.\"\n",
    "\n",
    "REAL Diversity Set, 43.8M cpds, CXSMILES\n",
    "\n",
    "https://enamine.net/compound-collections/real-compounds/real-database-subsets"
   ]
  },
  {
   "cell_type": "code",
   "execution_count": null,
   "id": "f4800815",
   "metadata": {},
   "outputs": [],
   "source": [
    "enamine = pd.read_csv(\n",
    "    \"../data/library_info/Enamine_Diverse_REAL_drug-like_43.8M_cxsmiles.cxsmiles\",\n",
    "    sep=\"\\t\",\n",
    ")\n",
    "chunksize = 10000\n",
    "temp_dir = \"../data/enamine_REAL_diversity/temp_dir_enamine_cleaned_chunks/\"\n",
    "for index, i in tqdm(enumerate(range(0, len(enamine), chunksize))):\n",
    "    try:\n",
    "        test = pd.read_csv(temp_dir + str(index) + \".csv\")\n",
    "    except:  # this is good - we can do the prediction\n",
    "        print(i)\n",
    "        df = enamine.iloc[i : i + chunksize, :]\n",
    "\n",
    "        # keep only valid cpds\n",
    "        df, mols = keep_valid_molecules(df, \"smiles\")\n",
    "\n",
    "        # keep only cpds without pains or brenk\n",
    "        df, mols = check_pains_brenk(\n",
    "            df, mols\n",
    "        )  # already check for PAINS now also check Brenk\n",
    "\n",
    "        # remove common abx\n",
    "        df, mols = filter_for_nitrofuran(df, mols)\n",
    "        df, mols = filter_for_sulfonamide(df, mols)\n",
    "        df, mols = filter_for_quinolone(df, mols)\n",
    "\n",
    "        # no need to filter on logP since already slogP < 5\n",
    "\n",
    "        # MW > 100 and MW < 600\n",
    "        df, mols = filter_for_mw_bounds(\n",
    "            df, mols, lower_bound=100, upper_bound=500\n",
    "        )  # since they are already MW<500\n",
    "        df.to_csv(temp_dir + str(index) + \".csv\", index=False)"
   ]
  },
  {
   "cell_type": "markdown",
   "id": "22ec2ae0",
   "metadata": {},
   "source": [
    "Use 06_predict_with_model_on_preprocessed_chunks.sh to run predictions."
   ]
  }
 ],
 "metadata": {
  "kernelspec": {
   "display_name": "chemprop010821",
   "language": "python",
   "name": "python3"
  },
  "language_info": {
   "codemirror_mode": {
    "name": "ipython",
    "version": 3
   },
   "file_extension": ".py",
   "mimetype": "text/x-python",
   "name": "python",
   "nbconvert_exporter": "python",
   "pygments_lexer": "ipython3",
   "version": "3.8.6"
  }
 },
 "nbformat": 4,
 "nbformat_minor": 5
}
