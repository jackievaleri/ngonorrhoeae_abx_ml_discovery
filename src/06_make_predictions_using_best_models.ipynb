{
 "cells": [
  {
   "cell_type": "code",
   "execution_count": 1,
   "id": "da0db27d",
   "metadata": {},
   "outputs": [],
   "source": [
    "import pandas as pd\n",
    "import subprocess\n",
    "import glob\n",
    "import numpy as np\n",
    "\n",
    "%matplotlib inline\n",
    "from tqdm.auto import tqdm\n",
    "from rdkit import Chem\n",
    "from rdkit.Chem import MCS\n",
    "from rdkit.Chem import PandasTools\n",
    "from rdkit.Chem.FilterCatalog import FilterCatalog, FilterCatalogParams\n",
    "from rdkit import DataStructs\n",
    "from rdkit.Chem import Descriptors"
   ]
  },
  {
   "cell_type": "code",
   "execution_count": null,
   "id": "99519bc7",
   "metadata": {},
   "outputs": [],
   "source": [
    "def chunk_up_and_run_predictions(data_path, data_file, features_file, model_dir, chunksize = 1000, smiles_col = 'SMILES'):\n",
    "    \n",
    "    # first chunk up data + features\n",
    "    data = pd.read_csv(data_path + data_file)\n",
    "    with np.load(data_path + features_file) as ftsdata:\n",
    "        ftsdata = ftsdata['features']\n",
    "\n",
    "    temp_dir_chunks = '../out/predictions_from_models/chunks/'\n",
    "    for i in range(0, len(data), chunksize):\n",
    "        smis = pd.DataFrame(data.iloc[i:i+chunksize,:])\n",
    "        smis.to_csv(temp_dir_chunks + str(i) + '.csv', index = False)\n",
    "        nps = ftsdata[i:i+chunksize,:]\n",
    "        np.save(temp_dir_chunks + str(i) + '.npy', nps)\n",
    "        \n",
    "    # could do this command line - convenient to keep within notebook for now\n",
    "    # actually run predictions\n",
    "    for j in range(0, len(data), chunksize):\n",
    "        activate_command = 'conda activate chemprop; '\n",
    "        run_command = 'chemprop_predict --test_path ' + temp_dir_chunks + str(j) + '.csv' + ' --checkpoint_dir ' + model_dir + ' --preds_path ' + temp_dir_chunks + str(j) + '_preds.csv' + ' --features_path ' + temp_dir_chunks + str(j) + '.npy --no_features_scaling --smiles_column ' + smiles_col + ' --ensemble_variance --gpu 0'\n",
    "\n",
    "        full_command = activate_command + run_command\n",
    "        test = subprocess.run(full_command, shell=True, capture_output=True)\n",
    "        \n",
    "    # now smush chunks back together\n",
    "    df = pd.read_csv(temp_dir_chunks + '0_preds.csv')\n",
    "    for i in range(chunksize, len(data), chunksize):\n",
    "        new = pd.read_csv(temp_dir_chunks + str(i) + '_preds.csv')\n",
    "        df = pd.concat([df, new])\n",
    "    return(df)"
   ]
  },
  {
   "cell_type": "markdown",
   "id": "fd2ea594",
   "metadata": {},
   "source": [
    "# PK GNN on 37K screen"
   ]
  },
  {
   "cell_type": "code",
   "execution_count": null,
   "id": "37062a1b",
   "metadata": {},
   "outputs": [],
   "source": [
    "data_path = '../data/library_info/'\n",
    "df = chunk_up_and_run_predictions(data_path='../data/library_info/', data_file='37Kclean.csv', features_file='37Kclean.npz', model_dir = '../models/pk_screen_models_11152021/FINAL151/')\n",
    "df.to_csv('../out/predictions_from_models/pk_model/37k_screen/37K_chunks_with_151_model.csv', index = False)"
   ]
  },
  {
   "cell_type": "markdown",
   "id": "a7ea0aa8",
   "metadata": {},
   "source": [
    "# PK+37K GNN on 800K"
   ]
  },
  {
   "cell_type": "code",
   "execution_count": null,
   "id": "62ead0cb",
   "metadata": {},
   "outputs": [],
   "source": [
    "data_path = '../data/library_info/'\n",
    "df = chunk_up_and_run_predictions(data_path='../data/library_info/', data_file='broad800k.csv', features_file='broad800k.npz', model_dir = '../models/pk_37k_screen_models_03192022/FINALbayHO04052022/', smiles_col = 'smiles')\n",
    "df.to_csv('../out/predictions_from_models/pk_37k_model/800k/broad800K_melis_predictions_04_25_2022.csv', index = False)"
   ]
  },
  {
   "cell_type": "markdown",
   "id": "ade2c7fd",
   "metadata": {},
   "source": [
    "# PK+37K GNN on 5M 'easy-to-order' set"
   ]
  },
  {
   "cell_type": "code",
   "execution_count": null,
   "id": "4c76102d",
   "metadata": {},
   "outputs": [],
   "source": [
    "data_path = '../data/library_info/'\n",
    "df = chunk_up_and_run_predictions(data_path='../data/library_info/', data_file='cleaned_full_all_dbs_04_19_2022.csv', features_file='cleaned_full_all_dbs_04_19_2022.npz', model_dir = '../models/pk_37k_screen_models_03192022/FINALbayHO04052022/')\n",
    "df.to_csv('../out/predictions_from_models/pk_37k_model/5m/extended_screen_set_melis_predictions_05_01_2022.csv', index = False)"
   ]
  },
  {
   "cell_type": "markdown",
   "id": "396226bf",
   "metadata": {},
   "source": [
    "# PK+37K+1st round screen GNN on 800K"
   ]
  },
  {
   "cell_type": "code",
   "execution_count": null,
   "id": "3d2b0394",
   "metadata": {},
   "outputs": [],
   "source": [
    "data_path = '../data/library_info/'\n",
    "df = chunk_up_and_run_predictions(data_path='../data/library_info/', data_file='broad800k.csv', features_file='broad800k.npz', model_dir = '../models/pk_37k_first_round_val_screen_models_10262022/FINALbayHO11152022/', smiles_col = 'smiles')\n",
    "df.to_csv('../out/predictions_from_models/pk_37k_1round_model/800k/broad800K_melis_predictions_with_FINALbayHO11152022_11_16_2022.csv', index = False)"
   ]
  },
  {
   "cell_type": "markdown",
   "id": "541a9b38",
   "metadata": {},
   "source": [
    "# PK+37K+1st round screen GNN on 5M 'easy-to-order' set"
   ]
  },
  {
   "cell_type": "code",
   "execution_count": null,
   "id": "2fbd0723",
   "metadata": {},
   "outputs": [],
   "source": [
    "data_path = '../data/library_info/'\n",
    "df = chunk_up_and_run_predictions(data_path='../data/library_info/', data_file='cleaned_full_all_dbs_04_19_2022.csv', features_file='cleaned_full_all_dbs_04_19_2022.npz', model_dir = '../models/pk_37k_first_round_val_screen_models_10262022/FINALbayHO11152022/')\n",
    "df.to_csv('../out/predictions_from_models/pk_37k_1round_model/5m/extended_screen_set_with_FINALbayHO11152022_melis_predictions_11_22_2022.csv', index = False)"
   ]
  },
  {
   "cell_type": "markdown",
   "id": "4a8d43cc",
   "metadata": {},
   "source": [
    "# PK+37K+3 rounds screen GNN on Enamine REAL Diversity set\n",
    "\n",
    "### Add additional filters to this one"
   ]
  },
  {
   "cell_type": "code",
   "execution_count": null,
   "id": "0ee5fe34",
   "metadata": {},
   "outputs": [],
   "source": [
    "def filter_for_logp_less_than(df, mols, thresh = 5):\n",
    "    keep_indices = [Descriptors.MolLogP(mol) < thresh for mol in mols]\n",
    "    df = df[keep_indices]\n",
    "    print('length of df with logP < ' + str(thresh) + ': ', len(df))\n",
    "    mols = [m for i,m in enumerate(mols) if keep_indices[i]]\n",
    "    return(df, mols)\n",
    "\n",
    "def check_pains_brenk(df, mols):\n",
    "    # initialize filter\n",
    "    params = FilterCatalogParams()\n",
    "    params.AddCatalog(FilterCatalogParams.FilterCatalogs.PAINS)\n",
    "    params.AddCatalog(FilterCatalogParams.FilterCatalogs.BRENK)\n",
    "    catalog = FilterCatalog(params)\n",
    "\n",
    "    def search_for_pains_or_brenk(mol):\n",
    "        entry = catalog.GetFirstMatch(mol)  # Get the first matching PAINS or Brenk\n",
    "        if entry is not None:\n",
    "            return(False) # contains bad\n",
    "        else:\n",
    "            return(True) # clean\n",
    "\n",
    "    keep_indices = [search_for_pains_or_brenk(m) for m in tqdm(mols)]\n",
    "    df = df[keep_indices]\n",
    "    mols = [m for i,m in enumerate(mols) if keep_indices[i]]\n",
    "    print('length of all preds with clean (no PAINS or Brenk) mols: ', len(df))\n",
    "    return(df, mols)\n",
    "\n",
    "nitrofuran = 'O=[N+](O)c1ccco1'\n",
    "nitro_mol = Chem.MolFromSmiles(nitrofuran)\n",
    "\n",
    "sulfonamide = 'NS(=O)=O'\n",
    "sulfa_mol = Chem.MolFromSmiles(sulfonamide)\n",
    "\n",
    "quinolone = 'O=c1cc[nH]c2ccccc12'\n",
    "quino_mol = Chem.MolFromSmiles(quinolone)\n",
    "\n",
    "def is_pattern(mol, pattern_mol):\n",
    "    if mol is None:\n",
    "        return(False)\n",
    "    num_atoms_frag = pattern_mol.GetNumAtoms()\n",
    "    mcs = MCS.FindMCS([mol, pattern_mol], atomCompare='elements',completeRingsOnly = True)\n",
    "    if mcs.smarts is None:\n",
    "        return(False)\n",
    "    mcs_mol = Chem.MolFromSmarts(mcs.smarts)\n",
    "    num_atoms_mcs = mcs_mol.GetNumAtoms()\n",
    "    if num_atoms_frag == num_atoms_mcs:\n",
    "        return(True)\n",
    "    else:\n",
    "        return(False)\n",
    "\n",
    "def filter_for_nitrofuran(df, mols):\n",
    "    keep_indices = [not is_pattern(mol, nitro_mol) for mol in mols]\n",
    "    df = df[keep_indices]\n",
    "    print('length of df with no nitrofurans: ', len(df))\n",
    "    mols = [m for i,m in enumerate(mols) if keep_indices[i]]\n",
    "    return(df, mols)   \n",
    "    \n",
    "def filter_for_sulfonamide(df, mols):\n",
    "    keep_indices = [not is_pattern(mol, sulfa_mol) for mol in mols]\n",
    "    df = df[keep_indices]\n",
    "    print('length of df with no sulfonamides: ', len(df))\n",
    "    mols = [m for i,m in enumerate(mols) if keep_indices[i]]\n",
    "    return(df, mols)\n",
    "\n",
    "def filter_for_quinolone(df, mols):\n",
    "    keep_indices = [not is_pattern(mol, quino_mol) for mol in mols]\n",
    "    df = df[keep_indices]\n",
    "    print('length of df with no quinolones: ', len(df))\n",
    "    mols = [m for i,m in enumerate(mols) if keep_indices[i]]\n",
    "    return(df, mols)  \n",
    "\n",
    "def filter_for_mw_bounds(df, mols, lower_bound = 100, upper_bound = 600):\n",
    "    keep_indices = [Descriptors.MolWt(mol) <= upper_bound and Descriptors.MolWt(mol) >= lower_bound for mol in mols]\n",
    "    df = df[keep_indices]\n",
    "    print('length of df with ' + str(lower_bound) + ' < MW < ' + str(upper_bound) + ': ', len(df))\n",
    "    mols = [m for i,m in enumerate(mols) if keep_indices[i]]\n",
    "    return(df, mols)\n",
    "\n",
    "def keep_valid_molecules(df, smiles_column):\n",
    "    smis = list(df[smiles_column])\n",
    "    mols = [Chem.MolFromSmiles(smi) for smi in tqdm(smis)]\n",
    "    keep_indices = [m is not None for m in mols]\n",
    "    df = df[keep_indices]\n",
    "    print('length of df with valid mols: ', len(df))\n",
    "    mols = [m for i,m in enumerate(mols) if keep_indices[i]]\n",
    "    smis = list(df[smiles_column])\n",
    "    for m, smi in zip(mols, smis):\n",
    "        m.SetProp('SMILES', smi)\n",
    "    return(df, mols)"
   ]
  },
  {
   "cell_type": "markdown",
   "id": "b218bbed",
   "metadata": {},
   "source": [
    "### REAL Diversity Set: \n",
    "\"Virtual screening of the ultra-large databases can be performed iteratively, starting with a small subset. Such a diverse subset can provide essential data to teach AI-based algorithms or already result in promising hits. REAL Diversity Set has 43.8 million compounds identified using the MaxMin algorithm in the entire REAL Database. The compounds have no analogs having a Tanimoto similarity of more than 0.65 (Morgan 2 fingerprint, 512 bit) within the set and within the entire Enamine stock screening compound collection. REAL Diversity Set compounds comply with the Ro5 and Veber criteria: MW≤500, SlogP≤5, HBA≤10, HBD≤5, rotatable bonds≤10, and TPSA≤140 and lack PAINS and toxicophores.\"\n",
    "\n",
    "REAL Diversity Set, 43.8M cpds, CXSMILES\n",
    "\n",
    "https://enamine.net/compound-collections/real-compounds/real-database-subsets"
   ]
  },
  {
   "cell_type": "code",
   "execution_count": null,
   "id": "f4800815",
   "metadata": {},
   "outputs": [],
   "source": [
    "enamine = pd.read_csv('../data/library_info/Enamine_Diverse_REAL_drug-like_43.8M_cxsmiles.cxsmiles', sep = '\\t')\n",
    "chunksize = 10000\n",
    "temp_dir = '../data/enamine_REAL_diversity/temp_dir_enamine_cleaned_chunks/'\n",
    "for index, i in tqdm(enumerate(range(0, len(enamine), chunksize))):\n",
    "    try:\n",
    "        test = pd.read_csv(temp_dir + str(index) + '.csv')\n",
    "    except: # this is good - we can do the prediction\n",
    "        print(i)\n",
    "        df = enamine.iloc[i:i+chunksize,:]\n",
    "\n",
    "        # keep only valid cpds\n",
    "        df, mols = keep_valid_molecules(df, 'smiles')\n",
    "\n",
    "        # keep only cpds without pains or brenk\n",
    "        df, mols = check_pains_brenk(df, mols) # already check for PAINS now also check Brenk\n",
    "\n",
    "        # remove common abx\n",
    "        df, mols = filter_for_nitrofuran(df, mols)\n",
    "        df, mols = filter_for_sulfonamide(df, mols)\n",
    "        df, mols = filter_for_quinolone(df, mols)\n",
    "\n",
    "        # no need to filter on logP since already slogP < 5\n",
    "\n",
    "        # MW > 100 and MW < 600\n",
    "        df, mols = filter_for_mw_bounds(df, mols, lower_bound = 100, upper_bound = 500) # since they are already MW<500\n",
    "        df.to_csv(temp_dir + str(index) + '.csv', index = False)"
   ]
  },
  {
   "cell_type": "markdown",
   "id": "22ec2ae0",
   "metadata": {},
   "source": [
    "Use 06_predict_with_model_on_preprocessed_chunks.sh to run predictions."
   ]
  }
 ],
 "metadata": {
  "kernelspec": {
   "display_name": "chemprop",
   "language": "python",
   "name": "chemprop"
  },
  "language_info": {
   "codemirror_mode": {
    "name": "ipython",
    "version": 3
   },
   "file_extension": ".py",
   "mimetype": "text/x-python",
   "name": "python",
   "nbconvert_exporter": "python",
   "pygments_lexer": "ipython3",
   "version": "3.8.12"
  }
 },
 "nbformat": 4,
 "nbformat_minor": 5
}
