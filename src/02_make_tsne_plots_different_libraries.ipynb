{
 "cells": [
  {
   "cell_type": "code",
   "execution_count": null,
   "id": "6519ac9a",
   "metadata": {},
   "outputs": [],
   "source": [
    "import matplotlib.pyplot as plt\n",
    "import numpy as np\n",
    "import pandas as pd\n",
    "import seaborn as sns\n",
    "\n",
    "import os\n",
    "from sklearn.decomposition import PCA\n",
    "from sklearn.manifold import TSNE\n",
    "\n",
    "import rdkit\n",
    "from rdkit import Chem\n",
    "from rdkit.Chem import Draw\n",
    "from rdkit.Chem import rdmolops\n",
    "from rdkit import DataStructs\n",
    "from rdkit.Chem import AllChem\n",
    "from rdkit.ML.Cluster import Butina\n",
    "\n",
    "# shut off warnings\n",
    "from rdkit import RDLogger                                                                                                                                                               \n",
    "RDLogger.DisableLog('rdApp.*')  "
   ]
  },
  {
   "cell_type": "markdown",
   "id": "39ac931a",
   "metadata": {},
   "source": [
    "# Helper functions"
   ]
  },
  {
   "cell_type": "code",
   "execution_count": null,
   "id": "7e00ad24",
   "metadata": {},
   "outputs": [],
   "source": [
    "def convert_df_smis_to_fps(df, smi_column = 'SMILES'):\n",
    "    smiles = list(df[smi_column])\n",
    "    mols = [Chem.MolFromSmiles(x) for x in smiles if type(x) is not float]\n",
    "    fps = [Chem.RDKFingerprint(x) for x in mols if x is not None]\n",
    "    return(fps)\n",
    "\n",
    "def make_joined_list_of_fps_and_labels(list_of_lists, labels_in_order):\n",
    "    fp_list = []\n",
    "    lab_list = []\n",
    "    for lab, currlist in zip(labels_in_order, list_of_lists):\n",
    "        fp_list.extend(currlist) # could be slow for long lists or many long lists\n",
    "        lab_list.extend([lab] * len(currlist))\n",
    "    return(fp_list, lab_list)\n",
    "\n",
    "def tsne_from_pca_components(fp_list, fp_labels, fig_path, colors = None):\n",
    "    # use all PCs\n",
    "    pca = PCA(n_components=np.min([len(fp_list), len(fp_list[0])]))\n",
    "    crds = pca.fit_transform(fp_list)\n",
    "\n",
    "    # use PCs as input to tSNE\n",
    "    crds_embedded = TSNE(n_components=2).fit_transform(crds)\n",
    "\n",
    "    tsne_df = pd.DataFrame(crds_embedded,columns=[\"X\",\"Y\"])\n",
    "    tsne_df['label'] = fp_labels\n",
    "              \n",
    "    plt.figure(figsize=(5,5), dpi = 300)\n",
    "    if colors == None:\n",
    "        palette = sns.color_palette(\"hls\", len(set(fp_labels)))\n",
    "    else:\n",
    "        ordered_labs = tsne_df.drop_duplicates('label')\n",
    "        palette = dict(zip(list(ordered_labs['label']), colors))\n",
    "    ax = sns.scatterplot(data=tsne_df,x=\"X\",y=\"Y\",hue=\"label\", palette = palette, alpha = 0.7, s = 7)\n",
    "    plt.legend(bbox_to_anchor=(1.05, 1), loc='upper left')\n",
    "    plt.savefig(fig_path + '.png')\n",
    "    plt.savefig(fig_path + '.svg')  \n",
    "    plt.show()"
   ]
  },
  {
   "cell_type": "markdown",
   "id": "d3093be4",
   "metadata": {},
   "source": [
    "# Plot 37K, abx, PK-1760 t-SNE"
   ]
  },
  {
   "cell_type": "code",
   "execution_count": null,
   "id": "dcb14404",
   "metadata": {},
   "outputs": [],
   "source": [
    "data_path = '../data/'\n",
    "\n",
    "full37kpk = pd.read_csv(data_path + 'data_prep_for_ml_pk_37k_screen/FULL_03_19_2022.csv')\n",
    "print('num 37K + PK: ', len(full37kpk))\n",
    "\n",
    "pkonly = pd.read_csv(data_path + 'data_prep_for_ml_pk_screen/FULL_11_15_2021.csv')\n",
    "print('num PK only: ', len(pkonly))\n",
    "\n",
    "full37konly = full37kpk[[smi not in list(pkonly['SMILES']) for smi in list(full37kpk['SMILES'])]]\n",
    "print('num 37K only: ', len(full37konly))\n",
    "\n",
    "abx = pd.read_csv(data_path + '04052022_CLEANED_v5_antibiotics_across_many_classes.csv')\n",
    "print('num abx: ', len(abx))"
   ]
  },
  {
   "cell_type": "code",
   "execution_count": null,
   "id": "c3cd5959",
   "metadata": {},
   "outputs": [],
   "source": [
    "fp_37k = convert_df_smis_to_fps(full37konly, 'SMILES')\n",
    "fp_abx = convert_df_smis_to_fps(abx, 'Smiles')\n",
    "fp_pk = convert_df_smis_to_fps(pkonly, 'SMILES')\n",
    "\n",
    "fp_list, fp_labels = make_joined_list_of_fps_and_labels([fp_37k, fp_abx, fp_pk], \n",
    "                                                       ['Collins Lab 37K', 'Known Antibiotics', 'Pharmakon-1760'])\n",
    "\n",
    "tsne_from_pca_components(fp_list, fp_labels, '../figure_panels/tsne_37k_PK_abx')"
   ]
  },
  {
   "cell_type": "markdown",
   "id": "9942c954",
   "metadata": {},
   "source": [
    "# Plot 37K+PK hits and non-hits, abx t-SNE"
   ]
  },
  {
   "cell_type": "code",
   "execution_count": null,
   "id": "02bbd488",
   "metadata": {},
   "outputs": [],
   "source": [
    "full37kpkhits = full37kpk[full37kpk['hit'] == 1.0]\n",
    "full37kpknonhits = full37kpk[full37kpk['hit'] == 0.0]\n",
    "\n",
    "fp_37kpkhits = convert_df_smis_to_fps(full37kpkhits)\n",
    "fp_37kpknonhits = convert_df_smis_to_fps(full37kpknonhits)\n",
    "\n",
    "fp_list, fp_labels = make_joined_list_of_fps_and_labels([fp_37kpknonhits, fp_37kpkhits, fp_abx], \n",
    "                                                       ['Non-Hits', 'Hits', 'Known Antibiotics'])\n",
    "\n",
    "tsne_from_pca_components(fp_list, fp_labels, '../figure_panels/tsne_hits_nonhits_abx', colors = ['grey', 'green', 'yellow'])"
   ]
  },
  {
   "cell_type": "code",
   "execution_count": null,
   "id": "aae72440",
   "metadata": {},
   "outputs": [],
   "source": []
  }
 ],
 "metadata": {
  "kernelspec": {
   "display_name": "chemprop010821",
   "language": "python",
   "name": "chemprop010821"
  },
  "language_info": {
   "codemirror_mode": {
    "name": "ipython",
    "version": 3
   },
   "file_extension": ".py",
   "mimetype": "text/x-python",
   "name": "python",
   "nbconvert_exporter": "python",
   "pygments_lexer": "ipython3",
   "version": "3.8.6"
  }
 },
 "nbformat": 4,
 "nbformat_minor": 5
}
